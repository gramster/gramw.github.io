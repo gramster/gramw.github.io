{
 "cells": [
  {
   "cell_type": "markdown",
   "metadata": {},
   "source": [
    "I've been teaching a crash course in data science with Python, which starts off with learning Python itself. The target audience is Java programmers (generally senior level) so its assumed that things like classes and methods are well understood. The focus is mostly on what is different with Python. I teach it using Jupyter notebooks but the content is useful as a blog post too so here we go:\n",
    "\n",
    "## Introduction\n",
    "\n",
    "### Python's Origins\n",
    "\n",
    "Python was conceived in the late 1980s, and its implementation began in December 1989 by Guido van Rossum at Centrum Wiskunde & Informatica (CWI) in the Netherlands as a successor to the ABC language. It takes its name from Monty Python's Flying Circus.\n",
    "\n",
    "Python is a dynamic language but is strongly typed (i.e. variables are untyped but refer to objects of fixed type).\n",
    "\n",
    "> ### How Python Evolves\n",
    "> \n",
    "> Python evolves in a fairly straightforward way, more-or-less like this:\n",
    "> \n",
    "> - people propose changes by writing *Python Enhancement Proposals* (PEPs): https://www.python.org/dev/peps/\n",
    "> - the Python core committee will assign a 'dictator' who will decide whether the PEP is worthy of becoming part of the standard, and if so it does, after some amount of discussion and revision\n",
    "> - disagreements are finally settled by Guido van Rossum, Python's inventor and the 'Benevolent Dictator for Life' (BDFL)\n",
    "> \n",
    "> An important standard PEP is the Style Guide, PEP-8 (https://www.python.org/dev/peps/pep-0008/). By default, PyCharm will warn of any PEP-8 violations. There are external tools such as `flake8` (https://gitlab.com/pycqa/flake8) that can be used to check code for compliance in other environments.\n"
   ]
  },
  {
   "cell_type": "markdown",
   "metadata": {},
   "source": [
    "### StackOverflow is your friend!\n",
    "\n",
    "For Python questions and Python data science questions, make use of StackOverflow. Pay attention to comments on suggested answers; the \"accepted answer\" is often not the best. Look for comments about whether it is the \"most Pythonic\". Python has an idiomatic style different to many other languages and so a novice coming from another language will often accept an answer that is closer to idiomatic in that other language rather than Python.\n",
    "\n",
    "https://stackoverflow.com/questions/tagged/python\n",
    "\n",
    "Also, if you're struggling to understand some code in your early days with Python, you may find this 'execution visualizer' helpful:\n",
    "\n",
    "http://pythontutor.com/\n",
    "\n",
    "### \"Batteries Included\"\n",
    "\n",
    "Python is often described as having \"batteries included\". This is a reference to the rich set of libraries (packages)included in the standard distribution as well as the vast collection of freely available packages that can be used to bootstrap your development. Or, as Randall Munroe puts it:\n",
    "\n",
    "![](https://imgs.xkcd.com/comics/python.png)\n",
    "\n",
    "There are many thousands of Python packages available, often giving you many choices for similar purposes. One way to find quality packages is to look the curated lists at https://python.libhunt.com/ and https://awesome-python.com/\n",
    "\n",
    "### Python 2.7 or Python 3.x?\n",
    "\n",
    "You can use conda to create a Python 2.7 virtual environment for when you have to use 2.7, but all new projects should be Python 3.5 or later. Python 2.7 is the end of the 2.x line and will be end-of-lifed on Jan 1, 2020. Avoid it; the only reason to use it is if there is a package you really need that hasn't been ported yet.\n",
    "\n",
    "## Python docs\n",
    "\n",
    "https://docs.python.org/3/ has very detailed documentation.\n",
    "\n",
    "Most Python packages have good documentation at https://readthedocs.org/\n",
    "\n",
    "If you use Python a lot on a Mac you may find Dash useful; it is a utility that gives you fast access to context-sensitive help for many libraries: https://kapeli.com/dash\n",
    "\n",
    "That said, Python has a help() function that is very useful."
   ]
  },
  {
   "cell_type": "markdown",
   "metadata": {},
   "source": [
    "## Using the REPL\n",
    "\n",
    "To start the REPL (read-execute-print loop, or interactive interpreter), just type `python` at the command line.\n",
    "\n",
    "Use the `help()` function to read the documentation for a module/class/function. As a standalone invocation, you enter the help system and can explore various topics.\n",
    "\n",
    "Python scripts are stored in plain text files with `.py` extensions. You can run the script `foo.py` at the command line by invoking:\n",
    "\n",
    "    python foo.py\n",
    "    \n",
    "When you do so the Python interpreter will compile the script to an intermediate bytecode, and the result will be stored in a file with the same base name and a `.pyc` extension. As an optimisation, the interpreter will look to see if a `.pyc` file with a more recent file modification date exists when you invoke it to run a script and use that if it does. In Python 2.x these files were saved alongside the Python source files but in Python 3.x they are stored in a subdirectory named `__pycache__`.\n",
    "\n",
    "> ### A better REPL: bpython\n",
    "> \n",
    "> bpython is an alternative REPL that adds a number of useful features at the command line, like syntax highlighting and auto-completion. \n",
    "> \n",
    "> https://www.bpython-interpreter.org/\n",
    "> \n",
    "> You can install with `pip install bpython`.\n",
    "> \n",
    "> If you're going to use the command line repl I recommend it, although there are other options too that I haven't tried:\n",
    "> \n",
    "> - ptpython https://github.com/jonathanslenders/ptpython\n",
    "> - DreamPie http://dreampie.sourceforge.net/\n",
    "> \n",
    "> Yet another alternative to the REPL, of course, is Jupyter.\n",
    "> \n",
    "> For the hard-core Pythonista, you can replace your entire shell with one based on Python; see http://xon.sh/."
   ]
  },
  {
   "cell_type": "markdown",
   "metadata": {},
   "source": [
    "## Quickstart - A Simple Example\n",
    "\n",
    "Before diving into the details, let's look at a simple Python script to get a quick taste of what's to come. We're not going to go into details here but have annotated the code with some comments and if you are familiar with other object-oriented languages this should be quite easy to understand. Some things that may be unusual to you:\n",
    "\n",
    "- No braces; in Python whitespace is significant. This can take some getting used to but isn't as bad as it seems once you do.\n",
    "- Instance methods require an explicit \"this\" argument which in Python by convention is called `self` .\n",
    "- Static methods have a `@staticmethod` decorator.\n",
    "- The class constructor - of which there can only be one - is called `__init__`.\n",
    "- Docstrings are specified using actual string literals inline rather than in comments.\n",
    "- The method to convert to string is named `__str__` not `toString`.\n",
    "- String formatting is done using embedded code in {} and preceding the string with 'f' (this is new to Python 3.6)."
   ]
  },
  {
   "cell_type": "code",
   "execution_count": 1,
   "metadata": {},
   "outputs": [
    {
     "data": {
      "image/svg+xml": [
       "<svg height=\"500\" id=\"doc\" version=\"1.1\" width=\"500\" xmlns=\"http://www.w3.org/2000/svg\"><path d=\"M0,0 M20,30 l7,7 l-7,7 l7,7 l7,-7 l7,7 l-7,7 l-7,-7 l-7,7 l7,7 l-7,7 l7,7 l7,-7 l7,7 l7,-7 l-7,-7 l7,-7 l7,7 l-7,7 l7,7 l7,-7 l7,7 l-7,7 l-7,-7 l-7,7 l7,7 l-7,7 l-7,-7 l7,-7 l-7,-7 l-7,7 l-7,-7 l-7,7 l7,7 l-7,7 l7,7 l7,-7 l7,7 l-7,7 l-7,-7 l-7,7 l7,7 l-7,7 l7,7 l7,-7 l7,7 l7,-7 l-7,-7 l7,-7 l7,7 l-7,7 l7,7 l7,-7 l7,7 l7,-7 l-7,-7 l7,-7 l-7,-7 l-7,7 l-7,-7 l7,-7 l7,7 l7,-7 l-7,-7 l7,-7 l7,7 l-7,7 l7,7 l7,-7 l7,7 l-7,7 l-7,-7 l-7,7 l7,7 l-7,7 l7,7 l7,-7 l7,7 l7,-7 l-7,-7 l7,-7 l7,7 l-7,7 l7,7 l7,-7 l7,7 l-7,7 l-7,-7 l-7,7 l7,7 l-7,7 l-7,-7 l7,-7 l-7,-7 l-7,7 l-7,-7 l-7,7 l7,7 l-7,7 l7,7 l7,-7 l7,7 l-7,7 l-7,-7 l-7,7 l7,7 l-7,7 l-7,-7 l7,-7 l-7,-7 l-7,7 l-7,-7 l7,-7 l7,7 l7,-7 l-7,-7 l7,-7 l-7,-7 l-7,7 l-7,-7 l-7,7 l7,7 l-7,7 l-7,-7 l7,-7 l-7,-7 l-7,7 l-7,-7 l-7,7 l7,7 l-7,7 l7,7 l7,-7 l7,7 l-7,7 l-7,-7 l-7,7 l7,7 l-7,7 l7,7 l7,-7 l7,7 l7,-7 l-7,-7 l7,-7 l7,7 l-7,7 l7,7 l7,-7 l7,7 l-7,7 l-7,-7 l-7,7 l7,7 l-7,7 l-7,-7 l7,-7 l-7,-7 l-7,7 l-7,-7 l-7,7 l7,7 l-7,7 l7,7 l7,-7 l7,7 l-7,7 l-7,-7 l-7,7 l7,7 l-7,7 l7,7 l7,-7 l7,7 l7,-7 l-7,-7 l7,-7 l7,7 l-7,7 l7,7 l7,-7 l7,7 l7,-7 l-7,-7 l7,-7 l-7,-7 l-7,7 l-7,-7 l7,-7 l7,7 l7,-7 l-7,-7 l7,-7 l7,7 l-7,7 l7,7 l7,-7 l7,7 l-7,7 l-7,-7 l-7,7 l7,7 l-7,7 l7,7 l7,-7 l7,7 l7,-7 l-7,-7 l7,-7 l7,7 l-7,7 l7,7 l7,-7 l7,7 l7,-7 l-7,-7 l7,-7 l-7,-7 l-7,7 l-7,-7 l7,-7 l7,7 l7,-7 l-7,-7 l7,-7 l-7,-7 l-7,7 l-7,-7 l-7,7 l7,7 l-7,7 l-7,-7 l7,-7 l-7,-7 l-7,7 l-7,-7 l7,-7 l7,7 l7,-7 l-7,-7 l7,-7 l7,7 l-7,7 l7,7 l7,-7 l7,7 l7,-7 l-7,-7 l7,-7 l-7,-7 l-7,7 l-7,-7 l7,-7 l7,7 l7,-7 l-7,-7 l7,-7 l7,7 l-7,7 l7,7 l7,-7 l7,7 l-7,7 l-7,-7 l-7,7 l7,7 l-7,7 l7,7 l7,-7 l7,7 l7,-7 l-7,-7 l7,-7 l7,7 l-7,7 l7,7 l7,-7 l7,7 l-7,7 l-7,-7 l-7,7 l7,7 l-7,7 l-7,-7 l7,-7 l-7,-7 l-7,7 l-7,-7 l-7,7 l7,7 l-7,7 l7,7 l7,-7 l7,7 l-7,7 l-7,-7 l-7,7 l7,7 l-7,7 l7,7 l7,-7 l7,7 l7,-7 l-7,-7 l7,-7 l7,7 l-7,7 l7,7 l7,-7 l7,7 l7,-7 l-7,-7 l7,-7 l-7,-7 l-7,7 l-7,-7 l7,-7 l7,7 l7,-7 l-7,-7 l7,-7 l7,7 l-7,7 l7,7 l7,-7 l7,7 l-7,7 l-7,-7 l-7,7 l7,7 l-7,7 l7,7 l7,-7 l7,7 l7,-7 l-7,-7 l7,-7 l7,7 l-7,7 l7,7 l7,-7 l7,7 l-7,7 l-7,-7 l-7,7 l7,7 l-7,7 l-7,-7 l7,-7 l-7,-7 l-7,7 l-7,-7 l-7,7 l7,7 l-7,7 l7,7 l7,-7 l7,7 l-7,7 l-7,-7 l-7,7 l7,7 l-7,7 l-7,-7 l7,-7 l-7,-7 l-7,7 l-7,-7 l7,-7 l7,7 l7,-7 l-7,-7 l7,-7 l-7,-7 l-7,7 l-7,-7 l-7,7 l7,7 l-7,7 l-7,-7 l7,-7 l-7,-7 l-7,7 l-7,-7 l-7,7 l7,7 l-7,7 l7,7 l7,-7 l7,7 l-7,7 l-7,-7 l-7,7 l7,7 l-7,7 l7,7 l7,-7 l7,7 l7,-7 l-7,-7 l7,-7 l7,7 l-7,7 l7,7 l7,-7 l7,7 l-7,7 l-7,-7 l-7,7 l7,7 l-7,7 l-7,-7 l7,-7 l-7,-7 l-7,7 l-7,-7 l-7,7 l7,7 l-7,7 l7,7 l7,-7 l7,7 l-7,7 l-7,-7 l-7,7 l7,7 l-7,7 l-7,-7 l7,-7 l-7,-7 l-7,7 l-7,-7 l7,-7 l7,7 l7,-7 l-7,-7 l7,-7 l-7,-7 l-7,7 l-7,-7 l-7,7 l7,7 l-7,7 l-7,-7 l7,-7 l-7,-7 l-7,7 l-7,-7 l7,-7 l7,7 l7,-7 l-7,-7 l7,-7 l7,7 l-7,7 l7,7 l7,-7 l7,7 l7,-7 l-7,-7 l7,-7 l-7,-7 l-7,7 l-7,-7 l7,-7 l7,7 l7,-7 l-7,-7 l7,-7 l-7,-7 l-7,7 l-7,-7 l-7,7 l7,7 l-7,7 l-7,-7 l7,-7 l-7,-7 l-7,7 l-7,-7 l-7,7 l7,7 l-7,7 l7,7 l7,-7 l7,7 l-7,7 l-7,-7 l-7,7 l7,7 l-7,7 l-7,-7 l7,-7 l-7,-7 l-7,7 l-7,-7 l7,-7 l7,7 l7,-7 l-7,-7 l7,-7 l-7,-7 l-7,7 l-7,-7 l-7,7 l7,7 l-7,7 l-7,-7 l7,-7 l-7,-7 l-7,7 l-7,-7 l-7,7 l7,7 l-7,7 l7,7 l7,-7 l7,7 l-7,7 l-7,-7 l-7,7 l7,7 l-7,7 l7,7 l7,-7 l7,7 l7,-7 l-7,-7 l7,-7 l7,7 l-7,7 l7,7 l7,-7 l7,7 l-7,7 l-7,-7 l-7,7 l7,7 l-7,7 l-7,-7 l7,-7 l-7,-7 l-7,7 l-7,-7 l-7,7 l7,7 l-7,7 l7,7 l7,-7 l7,7 l-7,7 l-7,-7 l-7,7 l7,7 l-7,7 l7,7 l7,-7 l7,7 l7,-7 l-7,-7 l7,-7 l7,7 l-7,7 l7,7 l7,-7 l7,7 l7,-7 l-7,-7 l7,-7 l-7,-7 l-7,7 l-7,-7 l7,-7 l7,7 l7,-7 l-7,-7 l7,-7 l7,7 l-7,7 l7,7 l7,-7 l7,7 l-7,7 l-7,-7 l-7,7 l7,7 l-7,7 l7,7 l7,-7 l7,7 l7,-7 l-7,-7 l7,-7 l7,7 l-7,7 l7,7 l7,-7 l7,7 l-7,7 l-7,-7 l-7,7 l7,7 l-7,7 l-7,-7 l7,-7 l-7,-7 l-7,7 l-7,-7 l-7,7 l7,7 l-7,7 l7,7 l7,-7 l7,7 l-7,7 l-7,-7 l-7,7 l7,7 l-7,7 l-7,-7 l7,-7 l-7,-7 l-7,7 l-7,-7 l7,-7 l7,7 l7,-7 l-7,-7 l7,-7 l-7,-7 l-7,7 l-7,-7 l-7,7 l7,7 l-7,7 l-7,-7 l7,-7 l-7,-7 l-7,7 l-7,-7 l-7,7 l7,7 l-7,7 l7,7 l7,-7 l7,7 l-7,7 l-7,-7 l-7,7 l7,7 l-7,7 l7,7 l7,-7 l7,7 l7,-7 l-7,-7 l7,-7 l7,7 l-7,7 l7,7 l7,-7 l7,7 l-7,7 l-7,-7 l-7,7 l7,7 l-7,7 l-7,-7 l7,-7 l-7,-7 l-7,7 l-7,-7 l-7,7 l7,7 l-7,7 l7,7 l7,-7 l7,7 l-7,7 l-7,-7 l-7,7 l7,7 l-7,7 l7,7 l7,-7 l7,7 l7,-7 l-7,-7 l7,-7 l7,7 l-7,7 l7,7 l7,-7 l7,7 l7,-7 l-7,-7 l7,-7 l-7,-7 l-7,7 l-7,-7 l7,-7 l7,7 l7,-7 l-7,-7 l7,-7 l7,7 l-7,7 l7,7 l7,-7 l7,7 l-7,7 l-7,-7 l-7,7 l7,7 l-7,7 l7,7 l7,-7 l7,7 l7,-7 l-7,-7 l7,-7 l7,7 l-7,7 l7,7 l7,-7 l7,7 l7,-7 l-7,-7 l7,-7 l-7,-7 l-7,7 l-7,-7 l7,-7 l7,7 l7,-7 l-7,-7 l7,-7 l-7,-7 l-7,7 l-7,-7 l-7,7 l7,7 l-7,7 l-7,-7 l7,-7 l-7,-7 l-7,7 l-7,-7 l7,-7 l7,7 l7,-7 l-7,-7 l7,-7 l7,7 l-7,7 l7,7 l7,-7 l7,7 l7,-7 l-7,-7 l7,-7 l-7,-7 l-7,7 l-7,-7 l7,-7 l7,7 l7,-7 l-7,-7 l7,-7 l7,7 l-7,7 l7,7 l7,-7 l7,7 l-7,7 l-7,-7 l-7,7 l7,7 l-7,7 l7,7 l7,-7 l7,7 l7,-7 l-7,-7 l7,-7 l7,7 l-7,7 l7,7 l7,-7 l7,7 l-7,7 l-7,-7 l-7,7 l7,7 l-7,7 l-7,-7 l7,-7 l-7,-7 l-7,7 l-7,-7 l-7,7 l7,7 l-7,7 l7,7 l7,-7 l7,7 l-7,7 l-7,-7 l-7,7 l7,7 l-7,7 l7,7 l7,-7 l7,7 l7,-7 l-7,-7 l7,-7 l7,7 l-7,7 l7,7 l7,-7 l7,7 l7,-7 l-7,-7 l7,-7 l-7,-7 l-7,7 l-7,-7 l7,-7 l7,7 l7,-7 l-7,-7 l7,-7 l7,7 l-7,7 l7,7 l7,-7 l7,7 l-7,7 l-7,-7 l-7,7 l7,7 l-7,7 l7,7 l7,-7 l7,7 l7,-7 l-7,-7 l7,-7 l7,7 l-7,7 l7,7 l7,-7 l7,7 l7,-7 l-7,-7 l7,-7 l-7,-7 l-7,7 l-7,-7 l7,-7 l7,7 l7,-7 l-7,-7 l7,-7 l-7,-7 l-7,7 l-7,-7 l-7,7 l7,7 l-7,7 l-7,-7 l7,-7 l-7,-7 l-7,7 l-7,-7 l7,-7 l7,7 l7,-7 l-7,-7 l7,-7 l7,7 l-7,7 l7,7 l7,-7 l7,7 l7,-7 l-7,-7 l7,-7 l-7,-7 l-7,7 l-7,-7 l7,-7 l7,7 l7,-7 l-7,-7 l7,-7 l-7,-7 l-7,7 l-7,-7 l-7,7 l7,7 l-7,7 l-7,-7 l7,-7 l-7,-7 l-7,7 l-7,-7 l-7,7 l7,7 l-7,7 l7,7 l7,-7 l7,7 l-7,7 l-7,-7 l-7,7 l7,7 l-7,7 l-7,-7 l7,-7 l-7,-7 l-7,7 l-7,-7 l7,-7 l7,7 l7,-7 l-7,-7 l7,-7 l-7,-7 l-7,7 l-7,-7 l-7,7 l7,7 l-7,7 l-7,-7 l7,-7 l-7,-7 l-7,7 l-7,-7 l7,-7 l7,7 l7,-7 l-7,-7 l7,-7 l7,7 l-7,7 l7,7 l7,-7 l7,7 l7,-7 l-7,-7 l7,-7 l-7,-7 l-7,7 l-7,-7 l7,-7 l7,7 l7,-7 l-7,-7 l7,-7 l7,7 l-7,7 l7,7 l7,-7 l7,7 l-7,7 l-7,-7 l-7,7 l7,7 l-7,7 l7,7 l7,-7 l7,7 l7,-7 l-7,-7 l7,-7 l7,7 l-7,7 l7,7 l7,-7 l7,7 l7,-7 l-7,-7 l7,-7 l-7,-7 l-7,7 l-7,-7 l7,-7 l7,7 l7,-7 l-7,-7 l7,-7 l-7,-7 l-7,7 l-7,-7 l-7,7 l7,7 l-7,7 l-7,-7 l7,-7 l-7,-7 l-7,7 l-7,-7 l7,-7 l7,7 l7,-7 l-7,-7 l7,-7 l7,7 l-7,7 l7,7 l7,-7 l7,7 l7,-7 l-7,-7 l7,-7 l-7,-7 l-7,7 l-7,-7 l7,-7 l7,7 l7,-7 l-7,-7 l7,-7 l7,7 l-7,7 l7,7 l7,-7 l7,7 l-7,7 l-7,-7 l-7,7 l7,7 l-7,7 l7,7 l7,-7 l7,7 l7,-7 l-7,-7 l7,-7 l7,7 l-7,7 l7,7 l7,-7 l7,7 l-7,7 l-7,-7 l-7,7 l7,7 l-7,7 l-7,-7 l7,-7 l-7,-7 l-7,7 l-7,-7 l-7,7 l7,7 l-7,7 l7,7 l7,-7 l7,7 l-7,7 l-7,-7 l-7,7 l7,7 l-7,7 l7,7 l7,-7 l7,7 l7,-7 l-7,-7 l7,-7 l7,7 l-7,7 l7,7 l7,-7 l7,7 l7,-7 l-7,-7 l7,-7 l-7,-7 l-7,7 l-7,-7 l7,-7 l7,7 l7,-7 l-7,-7 l7,-7 l7,7 l-7,7 l7,7 l7,-7 l7,7 l-7,7 l-7,-7 l-7,7 l7,7 l-7,7 l7,7 l7,-7 l7,7 l7,-7 l-7,-7 l7,-7 l7,7 l-7,7 l7,7 l7,-7 l7,7 l-7,7 l-7,-7 l-7,7 l7,7 l-7,7 l-7,-7 l7,-7 l-7,-7 l-7,7 l-7,-7 l-7,7 l7,7 l-7,7 l7,7 l7,-7 l7,7 l-7,7 l-7,-7 l-7,7 l7,7 l-7,7 l-7,-7 l7,-7 l-7,-7 l-7,7 l-7,-7 l7,-7 l7,7 l7,-7 l-7,-7 l7,-7 l-7,-7 l-7,7 l-7,-7 l-7,7 l7,7 l-7,7 l-7,-7 l7,-7 l-7,-7 l-7,7 l-7,-7 l-7,7 l7,7 l-7,7 l7,7 l7,-7 l7,7 l-7,7 l-7,-7 l-7,7 l7,7 l-7,7 l7,7 l7,-7 l7,7 l7,-7 l-7,-7 l7,-7 l7,7 l-7,7 l7,7 l7,-7 l7,7 l-7,7 l-7,-7 l-7,7 l7,7 l-7,7 l-7,-7 l7,-7 l-7,-7 l-7,7 l-7,-7 l-7,7 l7,7 l-7,7 l7,7 l7,-7 l7,7 l-7,7 l-7,-7 l-7,7 l7,7 l-7,7 l7,7 l7,-7 l7,7 l7,-7 l-7,-7 l7,-7 l7,7 l-7,7 l7,7 l7,-7 l7,7 l7,-7 l-7,-7 l7,-7 l-7,-7 l-7,7 l-7,-7 l7,-7 l7,7 l7,-7 l-7,-7 l7,-7 l7,7 l-7,7 l7,7 l7,-7 l7,7 l-7,7 l-7,-7 l-7,7 l7,7 l-7,7 l7,7 l7,-7 l7,7 l7,-7 l-7,-7 l7,-7 l7,7 l-7,7 l7,7 l7,-7 l7,7 l7,-7 l-7,-7 l7,-7 l-7,-7 l-7,7 l-7,-7 l7,-7 l7,7 l7,-7 l-7,-7 l7,-7 l-7,-7 l-7,7 l-7,-7 l-7,7 l7,7 l-7,7 l-7,-7 l7,-7 l-7,-7 l-7,7 l-7,-7 l7,-7 l7,7 l7,-7 l-7,-7 l7,-7 l7,7 l-7,7 l7,7 l7,-7 l7,7 l7,-7 l-7,-7 l7,-7 l-7,-7 l-7,7 l-7,-7 l7,-7 l7,7 l7,-7 l-7,-7 l7,-7 l7,7 l-7,7 l7,7 l7,-7 l7,7 l-7,7 l-7,-7 l-7,7 l7,7 l-7,7 l7,7 l7,-7 l7,7 l7,-7 l-7,-7 l7,-7 l7,7 l-7,7 l7,7 l7,-7 l7,7 l-7,7 l-7,-7 l-7,7 l7,7 l-7,7 l-7,-7 l7,-7 l-7,-7 l-7,7 l-7,-7 l-7,7 l7,7 l-7,7 l7,7 l7,-7 l7,7 l-7,7 l-7,-7 l-7,7 l7,7 l-7,7 l7,7 l7,-7 l7,7 l7,-7 l-7,-7 l7,-7 l7,7 l-7,7 l7,7 l7,-7 l7,7 l7,-7 l-7,-7 l7,-7 l-7,-7 l-7,7 l-7,-7 l7,-7 l7,7 l7,-7 l-7,-7 l7,-7 l7,7 l-7,7 l7,7 l7,-7 l7,7 l-7,7 l-7,-7 l-7,7 l7,7 l-7,7 l7,7 l7,-7 l7,7 l7,-7 l-7,-7 l7,-7 l7,7 l-7,7 l7,7 l7,-7 l7,7 l7,-7 l-7,-7 l7,-7 l-7,-7 l-7,7 l-7,-7 l7,-7 l7,7 l7,-7 l-7,-7 l7,-7 l-7,-7 l-7,7 l-7,-7 l-7,7 l7,7 l-7,7 l-7,-7 l7,-7 l-7,-7 l-7,7 l-7,-7 l7,-7 l7,7 l7,-7 l-7,-7 l7,-7 l7,7 l-7,7 l7,7 l7,-7 l7,7 l7,-7 l-7,-7 l7,-7 l-7,-7 l-7,7 l-7,-7 l7,-7 l7,7 l7,-7 l-7,-7 l7,-7 l-7,-7 l-7,7 l-7,-7 l-7,7 l7,7 l-7,7 l-7,-7 l7,-7 l-7,-7 l-7,7 l-7,-7 l-7,7 l7,7 l-7,7 l7,7 l7,-7 l7,7 l-7,7 l-7,-7 l-7,7 l7,7 l-7,7 l-7,-7 l7,-7 l-7,-7 l-7,7 l-7,-7 l7,-7 l7,7 l7,-7 l-7,-7 l7,-7 l-7,-7 l-7,7 l-7,-7 l-7,7 l7,7 l-7,7 l-7,-7 l7,-7 l-7,-7 l-7,7 l-7,-7 l7,-7 l7,7 l7,-7 l-7,-7 l7,-7 l7,7 l-7,7 l7,7 l7,-7 l7,7 l7,-7 l-7,-7 l7,-7 l-7,-7 l-7,7 l-7,-7 l7,-7 l7,7 l7,-7 l-7,-7 l7,-7 l7,7 l-7,7 l7,7 l7,-7 l7,7 l-7,7 l-7,-7 l-7,7 l7,7 l-7,7 l7,7 l7,-7 l7,7 l7,-7 l-7,-7 l7,-7 l7,7 l-7,7 l7,7 l7,-7 l7,7 l7,-7 l-7,-7 l7,-7 l-7,-7 l-7,7 l-7,-7 l7,-7 l7,7 l7,-7 l-7,-7 l7,-7 l-7,-7 l-7,7 l-7,-7 l-7,7 l7,7 l-7,7 l-7,-7 l7,-7 l-7,-7 l-7,7 l-7,-7 l7,-7 l7,7 l7,-7 l-7,-7 l7,-7 l7,7 l-7,7 l7,7 l7,-7 l7,7 l7,-7 l-7,-7 l7,-7 l-7,-7 l-7,7 l-7,-7 l7,-7 l7,7 l7,-7 l-7,-7 l7,-7 l-7,-7 l-7,7 l-7,-7 l-7,7 l7,7 l-7,7 l-7,-7 l7,-7 l-7,-7 l-7,7 l-7,-7 l-7,7 l7,7 l-7,7 l7,7 l7,-7 l7,7 l-7,7 l-7,-7 l-7,7 l7,7 l-7,7 l-7,-7 l7,-7 l-7,-7 l-7,7 l-7,-7 l7,-7 l7,7 l7,-7 l-7,-7 l7,-7 l-7,-7 l-7,7 l-7,-7 l-7,7 l7,7 l-7,7 l-7,-7 l7,-7 l-7,-7 l-7,7 l-7,-7 l-7,7 l7,7 l-7,7 l7,7 l7,-7 l7,7 l-7,7 l-7,-7 l-7,7 l7,7 l-7,7 l7,7 l7,-7 l7,7 l7,-7 l-7,-7 l7,-7 l7,7 l-7,7 l7,7 l7,-7 l7,7 l-7,7 l-7,-7 l-7,7 l7,7 l-7,7 l-7,-7 l7,-7 l-7,-7 l-7,7 l-7,-7 l-7,7 l7,7 l-7,7 l7,7 l7,-7 l7,7 l-7,7 l-7,-7 l-7,7 l7,7 l-7,7 l-7,-7 l7,-7 l-7,-7 l-7,7 l-7,-7 l7,-7 l7,7 l7,-7 l-7,-7 l7,-7 l-7,-7 l-7,7 l-7,-7 l-7,7 l7,7 l-7,7 l-7,-7 l7,-7 l-7,-7 l-7,7 l-7,-7 l7,-7 l7,7 l7,-7 l-7,-7 l7,-7 l7,7 l-7,7 l7,7 l7,-7 l7,7 l7,-7 l-7,-7 l7,-7 l-7,-7 l-7,7 l-7,-7 l7,-7 l7,7 l7,-7 l-7,-7 l7,-7 l-7,-7 l-7,7 l-7,-7 l-7,7 l7,7 l-7,7 l-7,-7 l7,-7 l-7,-7 l-7,7 l-7,-7 l-7,7 l7,7 l-7,7 l7,7 l7,-7 l7,7 l-7,7 l-7,-7 l-7,7 l7,7 l-7,7 l-7,-7 l7,-7 l-7,-7 l-7,7 l-7,-7 l7,-7 l7,7 l7,-7 l-7,-7 l7,-7 l-7,-7 l-7,7 l-7,-7 l-7,7 l7,7 l-7,7 l-7,-7 l7,-7 l-7,-7 l-7,7 l-7,-7 l7,-7 l7,7 l7,-7 l-7,-7 l7,-7 l7,7 l-7,7 l7,7 l7,-7 l7,7 l7,-7 l-7,-7 l7,-7 l-7,-7 l-7,7 l-7,-7 l7,-7 l7,7 l7,-7 l-7,-7 l7,-7 l7,7 l-7,7 l7,7 l7,-7 l7,7 l-7,7 l-7,-7 l-7,7 l7,7 l-7,7 l7,7 l7,-7 l7,7 l7,-7 l-7,-7 l7,-7 l7,7 l-7,7 l7,7 l7,-7 l7,7 l7,-7 l-7,-7 l7,-7 l-7,-7 l-7,7 l-7,-7 l7,-7 l7,7 l7,-7 l-7,-7 l7,-7 l-7,-7 l-7,7 l-7,-7 l-7,7 l7,7 l-7,7 l-7,-7 l7,-7 l-7,-7 l-7,7 l-7,-7 l7,-7 l7,7 l7,-7 l-7,-7 l7,-7 l7,7 l-7,7 l7,7 l7,-7 l7,7 l7,-7 l-7,-7 l7,-7 l-7,-7 l-7,7 l-7,-7 l7,-7 l7,7 l7,-7 l-7,-7 l7,-7 l7,7 l-7,7 l7,7 l7,-7 l7,7 l-7,7 l-7,-7 l-7,7 l7,7 l-7,7 l7,7 l7,-7 l7,7 l7,-7 l-7,-7 l7,-7 l7,7 l-7,7 l7,7 l7,-7 l7,7 l-7,7 l-7,-7 l-7,7 l7,7 l-7,7 l-7,-7 l7,-7 l-7,-7 l-7,7 l-7,-7 l-7,7 l7,7 l-7,7 l7,7 l7,-7 l7,7 l-7,7 l-7,-7 l-7,7 l7,7 l-7,7 l7,7 l7,-7 l7,7 l7,-7 l-7,-7 l7,-7 l7,7 l-7,7 l7,7 l7,-7 l7,7 l7,-7 l-7,-7 l7,-7 l-7,-7 l-7,7 l-7,-7 l7,-7 l7,7 l7,-7 l-7,-7 l7,-7 l7,7 l-7,7 l7,7 l7,-7 l7,7 l-7,7 l-7,-7 l-7,7 l7,7 l-7,7 l7,7 l7,-7 l7,7 l7,-7 l-7,-7 l7,-7 l7,7 l-7,7 l7,7 l7,-7 l7,7 l7,-7 l-7,-7 l7,-7 l-7,-7 l-7,7 l-7,-7 l7,-7 l7,7 l7,-7 l-7,-7 l7,-7 l-7,-7 l-7,7 l-7,-7 l-7,7 l7,7 l-7,7 l-7,-7 l7,-7 l-7,-7 l-7,7 l-7,-7 l7,-7 l7,7 l7,-7 l-7,-7 l7,-7 l7,7 l-7,7 l7,7 l7,-7 l7,7 l7,-7 l-7,-7 l7,-7 l-7,-7 l-7,7 l-7,-7 l7,-7 l7,7 l7,-7 l-7,-7 l7,-7 l-7,-7 l-7,7 l-7,-7 l-7,7 l7,7 l-7,7 l-7,-7 l7,-7 l-7,-7 l-7,7 l-7,-7 l-7,7 l7,7 l-7,7 l7,7 l7,-7 l7,7 l-7,7 l-7,-7 l-7,7 l7,7 l-7,7 l-7,-7 l7,-7 l-7,-7 l-7,7 l-7,-7 l7,-7 l7,7 l7,-7 l-7,-7 l7,-7 l-7,-7 l-7,7 l-7,-7 l-7,7 l7,7 l-7,7 l-7,-7 l7,-7 l-7,-7 l-7,7 l-7,-7 l7,-7 l7,7 l7,-7 l-7,-7 l7,-7 l7,7 l-7,7 l7,7 l7,-7 l7,7 l7,-7 l-7,-7 l7,-7 l-7,-7 l-7,7 l-7,-7 l7,-7 l7,7 l7,-7 l-7,-7 l7,-7 l7,7 l-7,7 l7,7 l7,-7 l7,7 l-7,7 l-7,-7 l-7,7 l7,7 l-7,7 l7,7 l7,-7 l7,7 l7,-7 l-7,-7 l7,-7 l7,7 l-7,7 l7,7 l7,-7 l7,7 l7,-7 l-7,-7 l7,-7 l-7,-7 l-7,7 l-7,-7 l7,-7 l7,7 l7,-7 l-7,-7 l7,-7 l-7,-7 l-7,7 l-7,-7 l-7,7 l7,7 l-7,7 l-7,-7 l7,-7 l-7,-7 l-7,7 l-7,-7 l7,-7 l7,7 l7,-7 l-7,-7 l7,-7 l7,7 l-7,7 l7,7 l7,-7 l7,7 l7,-7 l-7,-7 l7,-7 l-7,-7 l-7,7 l-7,-7 l7,-7 l7,7 l7,-7 l-7,-7 l7,-7 l-7,-7 l-7,7 l-7,-7 l-7,7 l7,7 l-7,7 l-7,-7 l7,-7 l-7,-7 l-7,7 l-7,-7 l-7,7 l7,7 l-7,7 l7,7 l7,-7 l7,7 l-7,7 l-7,-7 l-7,7 l7,7 l-7,7 l-7,-7 l7,-7 l-7,-7 l-7,7 l-7,-7 l7,-7 l7,7 l7,-7 l-7,-7 l7,-7 l-7,-7 l-7,7 l-7,-7 l-7,7 l7,7 l-7,7 l-7,-7 l7,-7 l-7,-7 l-7,7 l-7,-7 l-7,7 l7,7 l-7,7 l7,7 l7,-7 l7,7 l-7,7 l-7,-7 l-7,7 l7,7 l-7,7 l7,7 l7,-7 l7,7 l7,-7 l-7,-7 l7,-7 l7,7 l-7,7 l7,7 l7,-7 l7,7 l-7,7 l-7,-7 l-7,7 l7,7 l-7,7 l-7,-7 l7,-7 l-7,-7 l-7,7 l-7,-7 l-7,7 l7,7 l-7,7 l7,7 l7,-7 l7,7 l-7,7 l-7,-7 l-7,7 l7,7 l-7,7 l-7,-7 l7,-7 l-7,-7 l-7,7 l-7,-7 l7,-7 l7,7 l7,-7 l-7,-7 l7,-7 l-7,-7 l-7,7 l-7,-7 l-7,7 l7,7 l-7,7 l-7,-7 l7,-7 l-7,-7 l-7,7 l-7,-7 l7,-7 l7,7 l7,-7 l-7,-7 l7,-7 l7,7 l-7,7 l7,7 l7,-7 l7,7 l7,-7 l-7,-7 l7,-7 l-7,-7 l-7,7 l-7,-7 l7,-7 l7,7 l7,-7 l-7,-7 l7,-7 l-7,-7 l-7,7 l-7,-7 l-7,7 l7,7 l-7,7 l-7,-7 l7,-7 l-7,-7 l-7,7 l-7,-7 l-7,7 l7,7 l-7,7 l7,7 l7,-7 l7,7 l-7,7 l-7,-7 l-7,7 l7,7 l-7,7 l-7,-7 l7,-7 l-7,-7 l-7,7 l-7,-7 l7,-7 l7,7 l7,-7 l-7,-7 l7,-7 l-7,-7 l-7,7 l-7,-7 l-7,7 l7,7 l-7,7 l-7,-7 l7,-7 l-7,-7 l-7,7 l-7,-7 l-7,7 l7,7 l-7,7 l7,7 l7,-7 l7,7 l-7,7 l-7,-7 l-7,7 l7,7 l-7,7 l7,7 l7,-7 l7,7 l7,-7 l-7,-7 l7,-7 l7,7 l-7,7 l7,7 l7,-7 l7,7 l-7,7 l-7,-7 l-7,7 l7,7 l-7,7 l-7,-7 l7,-7 l-7,-7 l-7,7 l-7,-7 l-7,7 l7,7 l-7,7 l7,7 l7,-7 l7,7 l-7,7 l-7,-7 l-7,7 l7,7 l-7,7 l7,7 l7,-7 l7,7 l7,-7 l-7,-7 l7,-7 l7,7 l-7,7 l7,7 l7,-7 l7,7 l7,-7 l-7,-7 l7,-7 l-7,-7 l-7,7 l-7,-7 l7,-7 l7,7 l7,-7 l-7,-7 l7,-7 l7,7 l-7,7 l7,7 l7,-7 l7,7 l-7,7 l-7,-7 l-7,7 l7,7 l-7,7 l7,7 l7,-7 l7,7 l7,-7 l-7,-7 l7,-7 l7,7 l-7,7 l7,7 l7,-7 l7,7 l-7,7 l-7,-7 l-7,7 l7,7 l-7,7 l-7,-7 l7,-7 l-7,-7 l-7,7 l-7,-7 l-7,7 l7,7 l-7,7 l7,7 l7,-7 l7,7 l-7,7 l-7,-7 l-7,7 l7,7 l-7,7 l-7,-7 l7,-7 l-7,-7 l-7,7 l-7,-7 l7,-7 l7,7 l7,-7 l-7,-7 l7,-7 l-7,-7 l-7,7 l-7,-7 l-7,7 l7,7 l-7,7 l-7,-7 l7,-7 l-7,-7 l-7,7 l-7,-7 l-7,7 l7,7 l-7,7 l7,7 l7,-7 l7,7 l-7,7 l-7,-7 l-7,7 l7,7 l-7,7 l7,7 l7,-7 l7,7 l7,-7 l-7,-7 l7,-7 l7,7 l-7,7 l7,7 l7,-7 l7,7 l-7,7 l-7,-7 l-7,7 l7,7 l-7,7 l-7,-7 l7,-7 l-7,-7 l-7,7 l-7,-7 l-7,7 l7,7 l-7,7 l7,7 l7,-7 l7,7 l-7,7 l-7,-7 l-7,7 l7,7 l-7,7 l-7,-7 l7,-7 l-7,-7 l-7,7 l-7,-7 l7,-7 l7,7 l7,-7 l-7,-7 l7,-7 l-7,-7 l-7,7 l-7,-7 l-7,7 l7,7 l-7,7 l-7,-7 l7,-7 l-7,-7 l-7,7 l-7,-7 l7,-7 l7,7 l7,-7 l-7,-7 l7,-7 l7,7 l-7,7 l7,7 l7,-7 l7,7 l7,-7 l-7,-7 l7,-7 l-7,-7 l-7,7 l-7,-7 l7,-7 l7,7 l7,-7 l-7,-7 l7,-7 l-7,-7 l-7,7 l-7,-7 l-7,7 l7,7 l-7,7 l-7,-7 l7,-7 l-7,-7 l-7,7 l-7,-7 l-7,7 l7,7 l-7,7 l7,7 l7,-7 l7,7 l-7,7 l-7,-7 l-7,7 l7,7 l-7,7 l-7,-7 l7,-7 l-7,-7 l-7,7 l-7,-7 l7,-7 l7,7 l7,-7 l-7,-7 l7,-7 l-7,-7 l-7,7 l-7,-7 l-7,7 l7,7 l-7,7 l-7,-7 l7,-7 l-7,-7 l-7,7 l-7,-7 l7,-7 l7,7 l7,-7 l-7,-7 l7,-7 l7,7 l-7,7 l7,7 l7,-7 l7,7 l7,-7 l-7,-7 l7,-7 l-7,-7 l-7,7 l-7,-7 l7,-7 l7,7 l7,-7 l-7,-7 l7,-7 l7,7 l-7,7 l7,7 l7,-7 l7,7 l-7,7 l-7,-7 l-7,7 l7,7 l-7,7 l7,7 l7,-7 l7,7 l7,-7 l-7,-7 l7,-7 l7,7 l-7,7 l7,7 l7,-7 l7,7 l7,-7 l-7,-7 l7,-7 l-7,-7 l-7,7 l-7,-7 l7,-7 l7,7 l7,-7 l-7,-7 l7,-7 l-7,-7 l-7,7 l-7,-7 l-7,7 l7,7 l-7,7 l-7,-7 l7,-7 l-7,-7 l-7,7 l-7,-7 l7,-7 l7,7 l7,-7 l-7,-7 l7,-7 l7,7 l-7,7 l7,7 l7,-7 l7,7 l7,-7 l-7,-7 l7,-7 l-7,-7 l-7,7 l-7,-7 l7,-7 l7,7 l7,-7 l-7,-7 l7,-7 l-7,-7 l-7,7 l-7,-7 l-7,7 l7,7 l-7,7 l-7,-7 l7,-7 l-7,-7 l-7,7 l-7,-7 l-7,7 l7,7 l-7,7 l7,7 l7,-7 l7,7 l-7,7 l-7,-7 l-7,7 l7,7 l-7,7 l-7,-7 l7,-7 l-7,-7 l-7,7 l-7,-7 l7,-7 l7,7 l7,-7 l-7,-7 l7,-7 l-7,-7 l-7,7 l-7,-7 l-7,7 l7,7 l-7,7 l-7,-7 l7,-7 l-7,-7 l-7,7 l-7,-7 l-7,7 l7,7 l-7,7 l7,7 l7,-7 l7,7 l-7,7 l-7,-7 l-7,7 l7,7 l-7,7 l7,7 l7,-7 l7,7 l7,-7 l-7,-7 l7,-7 l7,7 l-7,7 l7,7 l7,-7 l7,7 l-7,7 l-7,-7 l-7,7 l7,7 l-7,7 l-7,-7 l7,-7 l-7,-7 l-7,7 l-7,-7 l-7,7 l7,7 l-7,7 l7,7 l7,-7 l7,7 l-7,7 l-7,-7 l-7,7 l7,7 l-7,7 l-7,-7 l7,-7 l-7,-7 l-7,7 l-7,-7 l7,-7 l7,7 l7,-7 l-7,-7 l7,-7 l-7,-7 l-7,7 l-7,-7 l-7,7 l7,7 l-7,7 l-7,-7 l7,-7 l-7,-7 l-7,7 l-7,-7 l7,-7 l7,7 l7,-7 l-7,-7 l7,-7 l7,7 l-7,7 l7,7 l7,-7 l7,7 l7,-7 l-7,-7 l7,-7 l-7,-7 l-7,7 l-7,-7 l7,-7 l7,7 l7,-7 l-7,-7 l7,-7 l-7,-7 l-7,7 l-7,-7 l-7,7 l7,7 l-7,7 l-7,-7 l7,-7 l-7,-7 l-7,7 l-7,-7 l-7,7 l7,7 l-7,7 l7,7 l7,-7 l7,7 l-7,7 l-7,-7 l-7,7 l7,7 l-7,7 l-7,-7 l7,-7 l-7,-7 l-7,7 l-7,-7 l7,-7 l7,7 l7,-7 l-7,-7 l7,-7 l-7,-7 l-7,7 l-7,-7 l-7,7 l7,7 l-7,7 l-7,-7 l7,-7 l-7,-7 l-7,7 l-7,-7 \" fill=\"none\" stroke=\"green\" vector-effect=\"non-scaling-stroke\"/></svg>"
      ],
      "text/plain": [
       "<IPython.core.display.SVG object>"
      ]
     },
     "metadata": {},
     "output_type": "display_data"
    },
    {
     "name": "stdout",
     "output_type": "stream",
     "text": [
      "Turtle at -7,-7 facing 315.0\n"
     ]
    }
   ],
   "source": [
    "import math  # import math module\n",
    "from IPython.display import SVG, display\n",
    "\n",
    "\"\"\"\n",
    "A simple turtle graphics example that produces SVG output that can\n",
    "be displayed in Jupyter.\n",
    "\"\"\"\n",
    "\n",
    "class Turtle:\n",
    "    \" Turtle graphics drawing to SVG path \"  # class docstring\n",
    "    \n",
    "    DEG2RAD = math.pi/180  # class level variable\n",
    "    \n",
    "    @staticmethod\n",
    "    def deg2rad(d):  # static method\n",
    "        \"\"\" Convert degrees to radians \"\"\"\n",
    "        return d * Turtle.DEG2RAD\n",
    "    \n",
    "    def __init__(self):  # class constructor; \"self\" is like \"this\"\n",
    "        # We don't declare instance variables explicitly in Python; we simply\n",
    "        # assign values to them during construction. In this case we will\n",
    "        # do all of that in the reset() method.\n",
    "        self.reset()\n",
    "        \n",
    "    def reset(self):\n",
    "        self.draw = True  # instance variable\n",
    "        self.path = \"M0,0 \"\n",
    "        self.x = self.y = 0\n",
    "        self.turnto(0.0)\n",
    "    \n",
    "    def turnto(self, angle):\n",
    "        \" Turn to absolute angle. \"\n",
    "        self.angle = angle % 360.0\n",
    "        self.dx = math.sin(Turtle.deg2rad(self.angle))\n",
    "        self.dy = math.cos(Turtle.deg2rad(self.angle))\n",
    "        \n",
    "    def right(self, angle):\n",
    "        \" Relative turn \"\n",
    "        self.turnto(self.angle + angle)\n",
    "\n",
    "    def left(self, angle):\n",
    "        self.right(angle)\n",
    "        \n",
    "    def up(self):\n",
    "        self.draw = False\n",
    "        \n",
    "    def down(self):\n",
    "        self.draw = True\n",
    "        \n",
    "    def move(self, distance):\n",
    "        \" Relative move by distance \"\n",
    "        self.x = int(distance * self.dx)\n",
    "        self.y = int(distance * self.dy)\n",
    "        self.path += f\"{'l' if self.draw else 'm'}{self.x},{self.y} \"\n",
    "\n",
    "    def moveto(self, x, y):\n",
    "        \" Absolute move to (x, y)\"\n",
    "        self.x = x\n",
    "        self.y = y\n",
    "        self.path += f\"{'L' if self.draw else 'M'}{self.x},{self.y} \"\n",
    "        \n",
    "    def svg(self):\n",
    "        return '<svg id=\"doc\" xmlns=\"http://www.w3.org/2000/svg\" ' +\\\n",
    "            'version=\"1.1\" width=\"500\" height=\"500\"><path d=\"' +\\\n",
    "            self.path +\\\n",
    "            '\" stroke=\"green\" fill=\"none\" vector-effect=\"non-scaling-stroke\" /></svg>'\n",
    "            \n",
    "    def __str__(self):\n",
    "        \" Convert to string representation. \"\n",
    "        return f\"Turtle at {self.x},{self.y} facing {self.angle}\"\n",
    "\n",
    "            \n",
    "def swisscross(turtle, level):  # top-level function\n",
    "    \" Swiss cross is a space filling curve. \"\n",
    "    if level >= 0:\n",
    "        swisscross(turtle, level - 1)\n",
    "        t.right(90)\n",
    "        swisscross(turtle, level - 1)\n",
    "        t.move(10)\n",
    "        swisscross(turtle, level - 1)\n",
    "        t.right(90)\n",
    "        swisscross(turtle, level - 1)\n",
    "        \n",
    "\n",
    "t = Turtle()  # create class instance; note no 'new' \n",
    "t.up()\n",
    "t.moveto(20, 30)\n",
    "t.turnto(315)\n",
    "t.down()\n",
    "swisscross(t, 5)\n",
    "t.move(10)\n",
    "swisscross(t, 5)\n",
    "\n",
    "# Display the result using SVG\n",
    "display(SVG(t.svg()))\n",
    "        \n",
    "# final state\n",
    "print(t)"
   ]
  },
  {
   "cell_type": "markdown",
   "metadata": {},
   "source": [
    "## Installing Third-Party Packages\n",
    "\n",
    "The standard way to install packages is with `pip install`. However, if you have installed `conda` you should use `conda install` first and only if that fails use `pip install`. Conda has a smaller set of packages which is why it doesn't always succeed, but the ones it does have have been built for Conda so installing that way is preferred.\n",
    "\n",
    "Use `conda uninstall` or `pip uninstall` to remove packages.\n",
    "\n",
    "To see what packages are installed use `pip freeze`.\n",
    "\n",
    "There's a lot more to package installation than this but this is enough for 90%+ of what you will do."
   ]
  },
  {
   "cell_type": "markdown",
   "metadata": {},
   "source": [
    "## Python is an OOPL\n",
    "\n",
    "Python is a pure object-oriented language. Operators like `+` are simply methods on a class. The Python interpreter will convert an infix operator to an instance method call.\n",
    "\n",
    "For example, there is an `int` class for integers. There is an `__add__` method defined on that class for addition. So:    "
   ]
  },
  {
   "cell_type": "code",
   "execution_count": 2,
   "metadata": {},
   "outputs": [
    {
     "data": {
      "text/plain": [
       "7"
      ]
     },
     "execution_count": 2,
     "metadata": {},
     "output_type": "execute_result"
    }
   ],
   "source": [
    "3 + 4"
   ]
  },
  {
   "cell_type": "markdown",
   "metadata": {},
   "source": [
    "is the same as:"
   ]
  },
  {
   "cell_type": "code",
   "execution_count": 3,
   "metadata": {},
   "outputs": [
    {
     "data": {
      "text/plain": [
       "7"
      ]
     },
     "execution_count": 3,
     "metadata": {},
     "output_type": "execute_result"
    }
   ],
   "source": [
    "(3).__add__(4)"
   ]
  },
  {
   "cell_type": "markdown",
   "metadata": {},
   "source": [
    "The double underscore in Python is called *dunder* and is used extensively internally; `__add__` is called a *dunder-method*. Dunder-methods are important to understand if you want to take full advantage of Python hence this early introduction.\n",
    "\n",
    "You can see the methods on a class by using the `dir` function, for example `dir(int)`.\n",
    "\n",
    "We will discuss how to define new classes later. A key takeaway here is that this use of dunder-methods allows us to override many operators simply by overriding the associated dunder-method. Two particularly useful ones are `__str__` (cast to string) and `__repr__` (cast to text representation); these are typically the same for a class but need not be. For example, notice the differences here:"
   ]
  },
  {
   "cell_type": "code",
   "execution_count": 4,
   "metadata": {},
   "outputs": [
    {
     "name": "stdout",
     "output_type": "stream",
     "text": [
      "abc\n",
      "'abc'\n"
     ]
    }
   ],
   "source": [
    "a = \"abc\"\n",
    "print(a.__str__())  # Equivalent to str(a)\n",
    "print(a.__repr__())"
   ]
  },
  {
   "cell_type": "markdown",
   "metadata": {},
   "source": [
    "## Indentation and Comments\n",
    "\n",
    "Python does not use {} for demarcating blocks of code; instead it uses indentation. This distinguishes it from most other programming languages and can take some getting used to. In particular, it requires care when pasting code in an editor (most Python editors are smart about this but other editors are not). The reason for this choice is that Guido originally designed Python as a teaching language and favored readability.\n",
    "\n",
    "The convention in Python is to indent with spaces, not tabs (this avoids tab settings causing misnterpretation of code). Indentation standard is 4 spaces at a time, although some companies have different conventions (usually 2, if not 4).\n",
    "\n",
    "Comments start with # and continue to the end of the line. By convention if # is used on the same line as code it should be preceded by at least two spaces."
   ]
  },
  {
   "cell_type": "markdown",
   "metadata": {},
   "source": [
    "## Simple Functions\n",
    "\n",
    "Python named functions are defined with `def`:"
   ]
  },
  {
   "cell_type": "code",
   "execution_count": 5,
   "metadata": {},
   "outputs": [
    {
     "data": {
      "text/plain": [
       "5"
      ]
     },
     "execution_count": 5,
     "metadata": {},
     "output_type": "execute_result"
    }
   ],
   "source": [
    "def add(a, b):\n",
    "    return a + b\n",
    "\n",
    "add(2, 3)"
   ]
  },
  {
   "cell_type": "code",
   "execution_count": 6,
   "metadata": {},
   "outputs": [
    {
     "data": {
      "text/plain": [
       "'cathat'"
      ]
     },
     "execution_count": 6,
     "metadata": {},
     "output_type": "execute_result"
    }
   ],
   "source": [
    "add(\"cat\", \"hat\")  # This is entirely legitimate; + concatenates strings"
   ]
  },
  {
   "cell_type": "code",
   "execution_count": 7,
   "metadata": {},
   "outputs": [
    {
     "ename": "TypeError",
     "evalue": "must be str, not int",
     "output_type": "error",
     "traceback": [
      "\u001b[0;31m---------------------------------------------------------------------------\u001b[0m",
      "\u001b[0;31mTypeError\u001b[0m                                 Traceback (most recent call last)",
      "\u001b[0;32m<ipython-input-7-94b2f852ae18>\u001b[0m in \u001b[0;36m<module>\u001b[0;34m()\u001b[0m\n\u001b[0;32m----> 1\u001b[0;31m \u001b[0madd\u001b[0m\u001b[0;34m(\u001b[0m\u001b[0;34m\"cat\"\u001b[0m\u001b[0;34m,\u001b[0m \u001b[0;36m3\u001b[0m\u001b[0;34m)\u001b[0m  \u001b[0;31m# This is not allowed; Python typecasting must almost always be explicit\u001b[0m\u001b[0;34m\u001b[0m\u001b[0m\n\u001b[0m",
      "\u001b[0;32m<ipython-input-5-1315785ad0b1>\u001b[0m in \u001b[0;36madd\u001b[0;34m(a, b)\u001b[0m\n\u001b[1;32m      1\u001b[0m \u001b[0;32mdef\u001b[0m \u001b[0madd\u001b[0m\u001b[0;34m(\u001b[0m\u001b[0ma\u001b[0m\u001b[0;34m,\u001b[0m \u001b[0mb\u001b[0m\u001b[0;34m)\u001b[0m\u001b[0;34m:\u001b[0m\u001b[0;34m\u001b[0m\u001b[0m\n\u001b[0;32m----> 2\u001b[0;31m     \u001b[0;32mreturn\u001b[0m \u001b[0ma\u001b[0m \u001b[0;34m+\u001b[0m \u001b[0mb\u001b[0m\u001b[0;34m\u001b[0m\u001b[0m\n\u001b[0m\u001b[1;32m      3\u001b[0m \u001b[0;34m\u001b[0m\u001b[0m\n\u001b[1;32m      4\u001b[0m \u001b[0madd\u001b[0m\u001b[0;34m(\u001b[0m\u001b[0;36m2\u001b[0m\u001b[0;34m,\u001b[0m \u001b[0;36m3\u001b[0m\u001b[0;34m)\u001b[0m\u001b[0;34m\u001b[0m\u001b[0m\n",
      "\u001b[0;31mTypeError\u001b[0m: must be str, not int"
     ]
    }
   ],
   "source": [
    "add(\"cat\", 3)  # This is not allowed; Python typecasting must almost always be explicit"
   ]
  },
  {
   "cell_type": "markdown",
   "metadata": {},
   "source": [
    "### import\n",
    "\n",
    "Python code is packaged in the form of _packages_ consisting of one of more _modules_. A module is a single Python file, while a package is a directory of Python modules containing an additional `__init__.py` file, to distinguish a package from a directory that just happens to contain a bunch of Python scripts.\n",
    "\n",
    "You install a package with `pip` or `conda`. Once installed, to use the package you must import it. You can also import modules although this is less common. \n",
    "\n",
    "There are several common ways of importing. Let's say we want to import a package `foo` that defines a class `Widget`:\n",
    "\n",
    "* `import foo` will import the `foo` package; any reference to modules/classes/functions will need to be prefixed with `foo.`; e.g. `foo.Widget`\n",
    "* `import foo as bar` will import the `foo` package with the alias `bar`; any reference to modules/classes/functions will need to be prefixed with `bar.`; e.g. `bar.Widget`\n",
    "* `from foo import Widget` can be used to import a specific module/class/function from `foo` and it will be available as `Widget`\n",
    "* `from foo import *` will import every item in `foo` into the current namespace; this is bad practice, don't do it."
   ]
  },
  {
   "cell_type": "markdown",
   "metadata": {},
   "source": [
    "### Writing a main function and handling command line arguments\n",
    "\n",
    "The `sys` module lets us access command line arguments as `sys.argv:\n",
    "\n",
    "```python\n",
    "    #!/usr/bin/python\n",
    "\n",
    "    import sys\n",
    "\n",
    "    def main():\n",
    "        # print command line arguments\n",
    "        for arg in sys.argv[1:]:\n",
    "            print arg\n",
    "\n",
    "    if __name__ == \"__main__\":\n",
    "        main()\n",
    "```\n",
    "\n",
    "The `__name__` variable is set to the name of the executing module, or `\"__main__\"` if this is the top-level module. The pattern shown, where we test `__name__` before executing any code, is a common one; it allows other Python scripts to safely import this one, improving reuse.\n",
    "\n",
    "If you want to parse command-line arguments like flags etc, there is an `argparse` library as part of the standard distribution but a much easier way IMO is to use `docopt`: just write the help string and `docopt` generates the parse for you: http://docopt.org/. Another option to look at is `click`; it seems to be gaining popularity but I have not used it: http://click.pocoo.org/5/"
   ]
  },
  {
   "cell_type": "markdown",
   "metadata": {},
   "source": [
    "## An Overview of Python Types\n",
    "\n",
    "See https://docs.python.org/3/library/stdtypes.html for detailed documentation.\n",
    "\n",
    "The main types are:\n",
    "\n",
    "| TYPE      | GROUP     | MUTABLE? |\n",
    "|-----------|-----------|----------|\n",
    "| int       | Numerics  | N        |\n",
    "| float     | Numerics  | N        |\n",
    "| complex   | Numerics  | N        |\n",
    "| str       | Sequences | N        |\n",
    "| bytes     | Sequences | N        |\n",
    "| bytearray | Sequences | Y        |\n",
    "| list      | Sequences | Y        |\n",
    "| tuple     | Sequences | N        |\n",
    "| range     | Sequences | N        |\n",
    "| set       | Sets      | Y        |\n",
    "| frozenset | Sets      | N        |\n",
    "| dict      | Mapping   | Y        |\n",
    "\n",
    "In addition, modules, classes, instances, methods, and functions are all types. The Boolean constants `True` and `False`, and the value `None`, are instances of their own special types, and there are several other special cases like this. See the link above for more. Note that there is a string type but not a character type; characters are not treated any differently from other strings.\n",
    "\n",
    "### The Boolean Truth Value of Types\n",
    "\n",
    "Any object can be tested for truth value, for use in an `if` or `while` condition or as operand in a Boolean expression.\n",
    "\n",
    "By default, an object is considered true unless its class defines either a `__bool__()` method that returns False or a `__len__()` method that returns zero, when called with the object. Zero numeric values are considered False, as are empty collections or sequences, and vice-versa.\n",
    "\n",
    "Operations and built-in functions that have a Boolean result always return `0` or `False` for false and `1` or `True` for true, unless otherwise stated.\n",
    "\n",
    "Important exception: the Boolean operations `or` and `and` always return one of their operands. This allows for useful defaults using Boolean expressions with `or`:"
   ]
  },
  {
   "cell_type": "code",
   "execution_count": 8,
   "metadata": {},
   "outputs": [
    {
     "name": "stdout",
     "output_type": "stream",
     "text": [
      "N/A\n"
     ]
    }
   ],
   "source": [
    "s = None\n",
    "\n",
    "name = s or \"N/A\"\n",
    "\n",
    "print(name)"
   ]
  },
  {
   "cell_type": "markdown",
   "metadata": {},
   "source": [
    "### None\n",
    "\n",
    "Python has no null object, but has a special object instance `None`.\n",
    "\n",
    "To test if an object is `None`, use `is` or `is not`, not `==` or `!=`."
   ]
  },
  {
   "cell_type": "code",
   "execution_count": 9,
   "metadata": {},
   "outputs": [
    {
     "name": "stdout",
     "output_type": "stream",
     "text": [
      "True\n",
      "False\n"
     ]
    }
   ],
   "source": [
    "a = None\n",
    "print(a is None)\n",
    "print(a is not None)"
   ]
  },
  {
   "cell_type": "markdown",
   "metadata": {},
   "source": [
    "`is` tests if the arguments refer to the same object, while `==` tests if they have the same value (in general; in reality it does whatever the `__eq__` dunder-method on the left-hand-side argument defines). Python keeps a pool of string literals and reuses them if it can, so in the example below `a` and `b` both refer to the same string literal while `c` does not:"
   ]
  },
  {
   "cell_type": "code",
   "execution_count": 10,
   "metadata": {},
   "outputs": [
    {
     "name": "stdout",
     "output_type": "stream",
     "text": [
      "True\n",
      "True\n",
      "True\n",
      "False\n"
     ]
    }
   ],
   "source": [
    "a = \"3\"\n",
    "b = \"3\"\n",
    "c = f\"{3}\"\n",
    "print(a == b)\n",
    "print(a is b)\n",
    "print(a == c)\n",
    "print(a is c)"
   ]
  },
  {
   "cell_type": "markdown",
   "metadata": {},
   "source": [
    "### Numbers\n",
    "\n",
    "Most of the typical operators you know from other languages are supported. Here are some more-specific to Python:"
   ]
  },
  {
   "cell_type": "code",
   "execution_count": 11,
   "metadata": {},
   "outputs": [
    {
     "name": "stdout",
     "output_type": "stream",
     "text": [
      "True\n",
      "3\n",
      "False\n"
     ]
    }
   ],
   "source": [
    "print(bool(3))  # Convert to Boolean\n",
    "print(str(3))  # Convert to string\n",
    "print(bool(0))"
   ]
  },
  {
   "cell_type": "code",
   "execution_count": 12,
   "metadata": {},
   "outputs": [
    {
     "name": "stdout",
     "output_type": "stream",
     "text": [
      "1\n",
      "1.5\n"
     ]
    }
   ],
   "source": [
    "print(3 // 2)  # Integer division with truncation\n",
    "print(3 / 2)  # Float division"
   ]
  },
  {
   "cell_type": "code",
   "execution_count": 13,
   "metadata": {},
   "outputs": [
    {
     "name": "stdout",
     "output_type": "stream",
     "text": [
      "2\n",
      "2\n",
      "3\n"
     ]
    }
   ],
   "source": [
    "print(int(2.5)) # Convert to int with truncation\n",
    "print(round(2.5))  # Convert to int with rounding (this one is odd; I'd expect it to round up)\n",
    "print(round(2.5001))  # Convert to int with rounding"
   ]
  },
  {
   "cell_type": "code",
   "execution_count": 14,
   "metadata": {},
   "outputs": [
    {
     "name": "stdout",
     "output_type": "stream",
     "text": [
      "8\n",
      "-4\n",
      "1329227995784915872903807060280344576\n"
     ]
    }
   ],
   "source": [
    "print(2 ** 3)  # Exponentiation\n",
    "print(~3)  # Bitwise inverse\n",
    "print(2**120)  # Python ints are arbitrary precision, not 64-bit"
   ]
  },
  {
   "cell_type": "code",
   "execution_count": 15,
   "metadata": {},
   "outputs": [
    {
     "name": "stdout",
     "output_type": "stream",
     "text": [
      "True\n",
      "(5, 2)\n"
     ]
    }
   ],
   "source": [
    "print(2.0.is_integer())\n",
    "print(2.5.as_integer_ratio())  # Convert to fraction tuple; we'll cover tuples later"
   ]
  },
  {
   "cell_type": "markdown",
   "metadata": {},
   "source": [
    "Note that `+=` and `-=` (and `*=`, etc) are supported but `++` and `--` are not. Use `+=1` and `-=1` instead."
   ]
  },
  {
   "cell_type": "markdown",
   "metadata": {},
   "source": [
    "Because even integer literals are objects with some overhead, Python has an optimization where it makes singleton instances of all small integers from -5 to 256. This can in rare situations trip you up. "
   ]
  },
  {
   "cell_type": "code",
   "execution_count": 16,
   "metadata": {},
   "outputs": [
    {
     "name": "stdout",
     "output_type": "stream",
     "text": [
      "True\n",
      "False\n",
      "True\n",
      "False\n"
     ]
    }
   ],
   "source": [
    "a = 256\n",
    "b = 257\n",
    "c = -5\n",
    "d = -6\n",
    "print(a is 256)\n",
    "print(b is 257)\n",
    "print(c is -5)\n",
    "print(d is -6)"
   ]
  },
  {
   "cell_type": "markdown",
   "metadata": {},
   "source": [
    "### Strings\n",
    "\n",
    "Python 3 strings are unicode. String literals can use single our double quotes (but must use same type to close as to open). Multi-line strings are most easily written using triple quotes."
   ]
  },
  {
   "cell_type": "code",
   "execution_count": 17,
   "metadata": {},
   "outputs": [
    {
     "name": "stdout",
     "output_type": "stream",
     "text": [
      "foo\n",
      "bar\n",
      "\"foo\"\n",
      "'bar'\n",
      "I am a \n",
      "multiline string\n"
     ]
    }
   ],
   "source": [
    "print('foo')\n",
    "print(\"bar\")\n",
    "print('\"foo\"')\n",
    "print(\"'bar'\")\n",
    "print(\"\"\"I am a \n",
    "multiline string\"\"\")"
   ]
  },
  {
   "cell_type": "markdown",
   "metadata": {},
   "source": [
    "You can use the usual suspects of `\\n`, `\\t`, etc in strings, and use `\\` to escape special characters like quotes and `\\` itself."
   ]
  },
  {
   "cell_type": "code",
   "execution_count": 18,
   "metadata": {},
   "outputs": [
    {
     "name": "stdout",
     "output_type": "stream",
     "text": [
      "22\n"
     ]
    }
   ],
   "source": [
    "a = \"the cat sat on the mat\"\n",
    "print(len(a))  # len gets the length of the string; implemented by __len__"
   ]
  },
  {
   "cell_type": "code",
   "execution_count": 19,
   "metadata": {},
   "outputs": [
    {
     "name": "stdout",
     "output_type": "stream",
     "text": [
      "True\n",
      "False\n"
     ]
    }
   ],
   "source": [
    "print(\"cat\" in a)  # 'in' is implemented by __contains__\n",
    "print(\"dog\" in a)"
   ]
  },
  {
   "cell_type": "code",
   "execution_count": 20,
   "metadata": {},
   "outputs": [
    {
     "name": "stdout",
     "output_type": "stream",
     "text": [
      "t\n"
     ]
    },
    {
     "ename": "TypeError",
     "evalue": "'str' object does not support item assignment",
     "output_type": "error",
     "traceback": [
      "\u001b[0;31m---------------------------------------------------------------------------\u001b[0m",
      "\u001b[0;31mTypeError\u001b[0m                                 Traceback (most recent call last)",
      "\u001b[0;32m<ipython-input-20-b63b8912561d>\u001b[0m in \u001b[0;36m<module>\u001b[0;34m()\u001b[0m\n\u001b[1;32m      1\u001b[0m \u001b[0mprint\u001b[0m\u001b[0;34m(\u001b[0m\u001b[0ma\u001b[0m\u001b[0;34m[\u001b[0m\u001b[0;36m0\u001b[0m\u001b[0;34m]\u001b[0m\u001b[0;34m)\u001b[0m  \u001b[0;31m# Implemented by __getitem__\u001b[0m\u001b[0;34m\u001b[0m\u001b[0m\n\u001b[0;32m----> 2\u001b[0;31m \u001b[0ma\u001b[0m\u001b[0;34m[\u001b[0m\u001b[0;36m0\u001b[0m\u001b[0;34m]\u001b[0m \u001b[0;34m=\u001b[0m \u001b[0;34m\"t\"\u001b[0m  \u001b[0;31m# No can do; strings are immutable.\u001b[0m\u001b[0;34m\u001b[0m\u001b[0m\n\u001b[0m",
      "\u001b[0;31mTypeError\u001b[0m: 'str' object does not support item assignment"
     ]
    }
   ],
   "source": [
    "print(a[0])  # Implemented by __getitem__\n",
    "a[0] = \"t\"  # No can do; strings are immutable."
   ]
  },
  {
   "cell_type": "code",
   "execution_count": 21,
   "metadata": {},
   "outputs": [
    {
     "name": "stdout",
     "output_type": "stream",
     "text": [
      "the cat sat on the mat\n",
      "THE CAT SAT ON THE MAT\n",
      "The cat sat on the mat\n"
     ]
    }
   ],
   "source": [
    "# Some useful functions. Note these all return copies of the string; strings are immutable!\n",
    "print(a.lower())\n",
    "print(a.upper())\n",
    "print(a.capitalize())  # Capitalize first letter"
   ]
  },
  {
   "cell_type": "code",
   "execution_count": 22,
   "metadata": {},
   "outputs": [
    {
     "name": "stdout",
     "output_type": "stream",
     "text": [
      "e cat sat on the mat\n",
      "the mat\n",
      "e ca\n",
      "tectsto h a\n"
     ]
    }
   ],
   "source": [
    "# Like any object that supports __len__ and __getitem__, strings are sliceable.\n",
    "# Slicing uses [start:end] or [start:end:increment] where any of these are optional\n",
    "# start defaults to 0, end to __len__(), and increment to 1. \n",
    "# start and end can be positive (from start of string) or negative (from end of string).\n",
    "\n",
    "print(a[2:])   # skip first two characters\n",
    "print(a[-7:])  # the last 7 characters\n",
    "print(a[2:6])  # 4 characters starting after 2nd character\n",
    "print(a[::2])  # Every second character"
   ]
  },
  {
   "cell_type": "code",
   "execution_count": 23,
   "metadata": {},
   "outputs": [
    {
     "name": "stdout",
     "output_type": "stream",
     "text": [
      "1\n",
      "16\n",
      "4\n",
      "-1\n"
     ]
    }
   ],
   "source": [
    "# Use find and rfind to find first/last occurence of a string; return offset or -1 if not found\n",
    "# You can also use index/rindex which are similar but raise ValueError exception if not found.\n",
    "\n",
    "print(a.find('he'))\n",
    "print(a.rfind('he'))\n",
    "print(a.find('cat'))\n",
    "print(a.find('dog'))"
   ]
  },
  {
   "cell_type": "code",
   "execution_count": 24,
   "metadata": {},
   "outputs": [
    {
     "name": "stdout",
     "output_type": "stream",
     "text": [
      "A\n",
      "65\n"
     ]
    }
   ],
   "source": [
    "# You can convert from character to ordinal or vice-versa with ord() and chr()\n",
    "print(chr(65))\n",
    "print(ord('A'))"
   ]
  },
  {
   "cell_type": "code",
   "execution_count": 25,
   "metadata": {},
   "outputs": [
    {
     "name": "stdout",
     "output_type": "stream",
     "text": [
      "True\n",
      "False\n",
      "False\n"
     ]
    }
   ],
   "source": [
    "# Python has no character type, just string. So functions that would apply to just \n",
    "# a character in other languages apply to entire string in Python.\n",
    "print(\"123\".isdigit())\n",
    "print(\"1X3\".isdigit())\n",
    "print(\"NOOOOooo\".isupper())"
   ]
  },
  {
   "cell_type": "markdown",
   "metadata": {},
   "source": [
    "There are many more string operations available; these are just the basics. You can encode and decode strings using other encodings; see https://docs.python.org/3/howto/unicode.html for details."
   ]
  },
  {
   "cell_type": "markdown",
   "metadata": {},
   "source": [
    "### Lists\n",
    "\n",
    "Lists are ordered, mutable sequences. They can be indexed, sliced (more on that below), appended to, have elements deleted, and sorted. They are heterogeneous. Examples:"
   ]
  },
  {
   "cell_type": "code",
   "execution_count": 26,
   "metadata": {},
   "outputs": [
    {
     "name": "stdout",
     "output_type": "stream",
     "text": [
      "[1, 2, 3, 'cat']\n",
      "4\n",
      "2\n",
      "cat\n"
     ]
    }
   ],
   "source": [
    "a = [1, 2, 3, \"cat\"]\n",
    "\n",
    "print(a)\n",
    "print(len(a))  # len() gives the length of the list\n",
    "print(a[1])  # [] can be used to index in to the list; implemented by list.__getitem__; assignment uses list.__setitem__\n",
    "print(a[-1])  # negative indices can be used to index from the end of the list (-1 for last element)"
   ]
  },
  {
   "cell_type": "code",
   "execution_count": 27,
   "metadata": {},
   "outputs": [
    {
     "name": "stdout",
     "output_type": "stream",
     "text": [
      "[1, 2, 3, 'cat']\n",
      "[1, 2, 3, 'cat', 1, 2, 3, 'cat']\n"
     ]
    }
   ],
   "source": [
    "# * can be used to create multiple concanenated copies of a list; implemented by list.__mul__\n",
    "    \n",
    "print(a)\n",
    "a = a * 2 \n",
    "print(a)"
   ]
  },
  {
   "cell_type": "code",
   "execution_count": 28,
   "metadata": {},
   "outputs": [
    {
     "name": "stdout",
     "output_type": "stream",
     "text": [
      "[1, 2, 3, 'cat', 1, 2, 3, 'cat']\n",
      "True\n",
      "False\n"
     ]
    }
   ],
   "source": [
    "# `in` can be used to check for membership; implemented by list.__contains__\n",
    "\n",
    "print(a)\n",
    "print('cat' in a)  \n",
    "print('dog' in a)"
   ]
  },
  {
   "cell_type": "code",
   "execution_count": 29,
   "metadata": {},
   "outputs": [
    {
     "name": "stdout",
     "output_type": "stream",
     "text": [
      "[1, 2, 3, 'cat', 1, 2, 3, 'cat']\n",
      "['dog', 1, 2, 3, 'cat', 1, 2, 3, 'cat']\n",
      "[1, 2, 3, 'cat', 1, 2, 3, 'cat', 'dog']\n"
     ]
    }
   ],
   "source": [
    "print(a)\n",
    "print(['dog'] + a)  # + can be used to concanetenate lists; implemented by list.__add__\n",
    "a.append('dog')  # append() can be used for concatenating elements\n",
    "print(a)"
   ]
  },
  {
   "cell_type": "code",
   "execution_count": 30,
   "metadata": {},
   "outputs": [
    {
     "name": "stdout",
     "output_type": "stream",
     "text": [
      "[1, 2, 3, 'cat', 1, 2, 3, 'cat', 'dog']\n",
      "8\n",
      "2\n"
     ]
    }
   ],
   "source": [
    "print(a)\n",
    "print(a.index('dog')) # Get index of first matching entry; throws exception if not found\n",
    "print(a.count('cat'))  # Count the number of instances of an element"
   ]
  },
  {
   "cell_type": "code",
   "execution_count": 31,
   "metadata": {},
   "outputs": [
    {
     "name": "stdout",
     "output_type": "stream",
     "text": [
      "[1, 2, 3, 'cat', 1, 2, 3, 'cat', 'dog']\n",
      "[1, 2, 3, 'cat', 1, 2, 3, 'cat']\n"
     ]
    }
   ],
   "source": [
    "print(a)\n",
    "a.remove('dog')  # Remove first matching instance of element\n",
    "print(a)\n",
    "del a[-1]  # Remove element at index; implementedby list.__del__"
   ]
  },
  {
   "cell_type": "code",
   "execution_count": 32,
   "metadata": {},
   "outputs": [
    {
     "name": "stdout",
     "output_type": "stream",
     "text": [
      "[1, 2, 3, 'cat', 1, 2, 3]\n",
      "[3, 2, 1, 'cat', 3, 2, 1]\n"
     ]
    }
   ],
   "source": [
    "# reverse() reverses the order of the list in place; implemented by list.__reversed__\n",
    "print(a)\n",
    "a.reverse()  \n",
    "print(a)"
   ]
  },
  {
   "cell_type": "code",
   "execution_count": 33,
   "metadata": {},
   "outputs": [
    {
     "name": "stdout",
     "output_type": "stream",
     "text": [
      "[3, 2, 1, 'cat', 3, 2, 1]\n",
      "3\n",
      "2\n",
      "1\n",
      "cat\n",
      "3\n",
      "2\n",
      "1\n"
     ]
    }
   ],
   "source": [
    "# for..in iterates over elements\n",
    "    \n",
    "print(a)\n",
    "for elt in a: \n",
    "    print(elt)"
   ]
  },
  {
   "cell_type": "code",
   "execution_count": 34,
   "metadata": {},
   "outputs": [
    {
     "name": "stdout",
     "output_type": "stream",
     "text": [
      "[3, 2, 1, 'cat', 3, 2, 1]\n",
      "Value at index 0 is 3\n",
      "Value at index 1 is 2\n",
      "Value at index 2 is 1\n",
      "Value at index 3 is cat\n",
      "Value at index 4 is 3\n",
      "Value at index 5 is 2\n",
      "Value at index 6 is 1\n"
     ]
    }
   ],
   "source": [
    "# enumerate() will return tuples of index, value\n",
    "print(a)\n",
    "for i, v in enumerate(a):\n",
    "    print(f'Value at index {i} is {v}')  # f'' is a format string that can contain code in {}"
   ]
  },
  {
   "cell_type": "code",
   "execution_count": 35,
   "metadata": {},
   "outputs": [
    {
     "name": "stdout",
     "output_type": "stream",
     "text": [
      "[3, 2, 1, 'cat', 3, 2, 1]\n",
      "True\n",
      "False\n",
      "False\n",
      "True\n"
     ]
    }
   ],
   "source": [
    "b = list(a)  # Makes a shallow copy; can also use b = a.copy()\n",
    "print(b)\n",
    "print(a == b)  # Elementwise comparison; implemented by list.__eq__\n",
    "b[-1] += 1  # Add 1 to last element\n",
    "print(a == b)\n",
    "print(a > b)  # Compares starting from first element; implemented by list.__gt__\n",
    "print(a < b)  # Compares starting from first element; implemented by list.__lt__"
   ]
  },
  {
   "cell_type": "code",
   "execution_count": 36,
   "metadata": {},
   "outputs": [
    {
     "name": "stdout",
     "output_type": "stream",
     "text": [
      "[3, 2, 1, 'cat', 3, 2, 1]\n",
      "[3, 2, 1, 'cat', 3, 2]\n",
      "[2, 1, 'cat', 3, 2]\n"
     ]
    }
   ],
   "source": [
    "print(a)\n",
    "a.pop()  # Removes last element\n",
    "print(a)\n",
    "a.pop(0)  # removes element at index 0\n",
    "print(a)"
   ]
  },
  {
   "cell_type": "code",
   "execution_count": 37,
   "metadata": {},
   "outputs": [
    {
     "data": {
      "text/plain": [
       "'cat,dog'"
      ]
     },
     "execution_count": 37,
     "metadata": {},
     "output_type": "execute_result"
    }
   ],
   "source": [
    "# You can join a list of words into a string\n",
    "','.join(['cat', 'dog'])"
   ]
  },
  {
   "cell_type": "code",
   "execution_count": 38,
   "metadata": {},
   "outputs": [
    {
     "name": "stdout",
     "output_type": "stream",
     "text": [
      "[3, 4, 5, 6]\n",
      "[2, 3]\n",
      "[4, 5, 6]\n",
      "[1, 3, 5]\n"
     ]
    }
   ],
   "source": [
    "# Like any object that supports __len__ and __getitem__, lists are sliceable.\n",
    "# Slicing uses [start:end] or [start:end:increment] where any of these are optional\n",
    "# start defaults to 0, end to __len__(), and increment to 1. \n",
    "# start and end can be positive (from start of string) or negative (from end of string).\n",
    "x = [1, 2, 3, 4, 5, 6]\n",
    "print(x[2:])\n",
    "print(x[1:3])\n",
    "print(x[-3:])\n",
    "print(x[::2])"
   ]
  },
  {
   "cell_type": "code",
   "execution_count": 39,
   "metadata": {},
   "outputs": [
    {
     "name": "stdout",
     "output_type": "stream",
     "text": [
      "[1, 2, 'A', 3, 4, 5, 6]\n",
      "[1, 2, 'A', [1, 2], 3, 4, 5, 6]\n"
     ]
    }
   ],
   "source": [
    "# Use insert() to insert at some position. This is done in-place.\n",
    "x.insert(2, 'A')\n",
    "print(x)\n",
    "x.insert(3, [1, 2])  # Note: insert() is for elements, so [1, 2] is a single element, not expanded\n",
    "print(x)"
   ]
  },
  {
   "cell_type": "code",
   "execution_count": 40,
   "metadata": {},
   "outputs": [
    {
     "name": "stdout",
     "output_type": "stream",
     "text": [
      "[]\n"
     ]
    }
   ],
   "source": [
    "a.clear()  # empty the list\n",
    "print(a)"
   ]
  },
  {
   "cell_type": "markdown",
   "metadata": {},
   "source": [
    "### Dicts\n",
    "\n",
    "Dictionaries are mutable mappings of keys to values. Keys must be hashable, but values can be any object. \n",
    "\n",
    "---\n",
    "_Under the hood_\n",
    "\n",
    "A hashable object is one that defines a `__hash__` dunder-method, and an `__eq__` dunder method; if two objects are equal their hashes must be the same or the results may be unpredictable. \n",
    "\n",
    "---\n"
   ]
  },
  {
   "cell_type": "code",
   "execution_count": 41,
   "metadata": {},
   "outputs": [
    {
     "data": {
      "text/plain": [
       "[{'name': 'Alice', 'phone': '555-123-4567'},\n",
       " {'name': 'Bob', 'phone': '555-987-6543'}]"
      ]
     },
     "execution_count": 41,
     "metadata": {},
     "output_type": "execute_result"
    }
   ],
   "source": [
    "# dict literals (actually a list of dicts in this example)\n",
    "\n",
    "contacts = [\n",
    "    {\n",
    "        'name': 'Alice',\n",
    "        'phone': '555-123-4567'\n",
    "    },\n",
    "    {\n",
    "        'name': 'Bob',\n",
    "        'phone': '555-987-6543'        \n",
    "    }\n",
    "]\n",
    "contacts"
   ]
  },
  {
   "cell_type": "code",
   "execution_count": 42,
   "metadata": {},
   "outputs": [
    {
     "data": {
      "text/plain": [
       "'Alice'"
      ]
     },
     "execution_count": 42,
     "metadata": {},
     "output_type": "execute_result"
    }
   ],
   "source": [
    "# Use [key] to get an item; this calls dict.__getitem__\n",
    "contacts[0]['name']"
   ]
  },
  {
   "cell_type": "code",
   "execution_count": 43,
   "metadata": {},
   "outputs": [
    {
     "data": {
      "text/plain": [
       "{'name': 'Carol', 'phone': '555-123-4567'}"
      ]
     },
     "execution_count": 43,
     "metadata": {},
     "output_type": "execute_result"
    }
   ],
   "source": [
    "# Use dict[key] = value to change an item; this calls dict.__setitem__\n",
    "contacts[0]['name'] = 'Carol'\n",
    "contacts[0]"
   ]
  },
  {
   "cell_type": "code",
   "execution_count": 44,
   "metadata": {},
   "outputs": [
    {
     "ename": "KeyError",
     "evalue": "'address'",
     "output_type": "error",
     "traceback": [
      "\u001b[0;31m---------------------------------------------------------------------------\u001b[0m",
      "\u001b[0;31mKeyError\u001b[0m                                  Traceback (most recent call last)",
      "\u001b[0;32m<ipython-input-44-0a84b14a0ce5>\u001b[0m in \u001b[0;36m<module>\u001b[0;34m()\u001b[0m\n\u001b[1;32m      1\u001b[0m \u001b[0;31m# Trying to use a non-existent key raises an exception\u001b[0m\u001b[0;34m\u001b[0m\u001b[0;34m\u001b[0m\u001b[0m\n\u001b[0;32m----> 2\u001b[0;31m \u001b[0mcontacts\u001b[0m\u001b[0;34m[\u001b[0m\u001b[0;36m0\u001b[0m\u001b[0;34m]\u001b[0m\u001b[0;34m[\u001b[0m\u001b[0;34m'address'\u001b[0m\u001b[0;34m]\u001b[0m\u001b[0;34m\u001b[0m\u001b[0m\n\u001b[0m",
      "\u001b[0;31mKeyError\u001b[0m: 'address'"
     ]
    }
   ],
   "source": [
    "# Trying to use a non-existent key raises an exception\n",
    "contacts[0]['address']"
   ]
  },
  {
   "cell_type": "code",
   "execution_count": 45,
   "metadata": {},
   "outputs": [
    {
     "name": "stdout",
     "output_type": "stream",
     "text": [
      "Carol\n",
      "No address\n"
     ]
    }
   ],
   "source": [
    "# You can avoid above and return a default value by using .get()\n",
    "print(contacts[0].get('name', 'No name'))\n",
    "print(contacts[0].get('address', 'No address'))"
   ]
  },
  {
   "cell_type": "code",
   "execution_count": 46,
   "metadata": {},
   "outputs": [
    {
     "name": "stdout",
     "output_type": "stream",
     "text": [
      "True\n",
      "False\n"
     ]
    }
   ],
   "source": [
    "# Use 'in' to see if a key exists in a dict; this calls dict.__contains__\n",
    "print('name' in contacts[0])\n",
    "print('address' in contacts[0])"
   ]
  },
  {
   "cell_type": "code",
   "execution_count": 47,
   "metadata": {},
   "outputs": [
    {
     "name": "stdout",
     "output_type": "stream",
     "text": [
      "False\n",
      "True\n"
     ]
    }
   ],
   "source": [
    "# Test for equality with '==' and !=; this calls dict.__eq__ and dict.__ne__\n",
    "print(contacts[0] == contacts[1])\n",
    "print(contacts[0] == { 'name': 'Carol', 'phone': '555-123-4567'})"
   ]
  },
  {
   "cell_type": "code",
   "execution_count": 48,
   "metadata": {},
   "outputs": [
    {
     "name": "stdout",
     "output_type": "stream",
     "text": [
      "name\n",
      "phone\n"
     ]
    }
   ],
   "source": [
    "# Use for-in to iterate over items; this calls dict.__iter__\n",
    "\n",
    "for x in contacts[0]:\n",
    "    print(x)"
   ]
  },
  {
   "cell_type": "code",
   "execution_count": 49,
   "metadata": {},
   "outputs": [
    {
     "name": "stdout",
     "output_type": "stream",
     "text": [
      "2\n"
     ]
    }
   ],
   "source": [
    "# Use len() to get number of items; this calls dict.__len__\n",
    "\n",
    "print(len(contacts[0]))"
   ]
  },
  {
   "cell_type": "code",
   "execution_count": 50,
   "metadata": {},
   "outputs": [],
   "source": [
    "# Use 'del' to delete a key from a dict; this calls dict.__delitem__"
   ]
  },
  {
   "cell_type": "code",
   "execution_count": 51,
   "metadata": {},
   "outputs": [
    {
     "data": {
      "text/plain": [
       "{}"
      ]
     },
     "execution_count": 51,
     "metadata": {},
     "output_type": "execute_result"
    }
   ],
   "source": [
    "# Use .clear() to empty dict (without changing references)\n",
    "\n",
    "a = {'name': 'me'}\n",
    "b = a\n",
    "a.clear()\n",
    "b"
   ]
  },
  {
   "cell_type": "code",
   "execution_count": 52,
   "metadata": {},
   "outputs": [
    {
     "data": {
      "text/plain": [
       "{'name': 'me'}"
      ]
     },
     "execution_count": 52,
     "metadata": {},
     "output_type": "execute_result"
    }
   ],
   "source": [
    "# Contrast above with assigning empty dict\n",
    "a = {'name': 'me'}\n",
    "b = a\n",
    "a = {}\n",
    "b"
   ]
  },
  {
   "cell_type": "code",
   "execution_count": 53,
   "metadata": {},
   "outputs": [],
   "source": [
    "# Use .keys(), .values() or .items() to get the keys, values, or both"
   ]
  },
  {
   "cell_type": "markdown",
   "metadata": {},
   "source": [
    "There are some alternative implementations in the `collections` module; you won't need these now but they may come in handy in the future, especially the first two:\n",
    "\n",
    "* `collections.OrderedDict`s remember the order of insertion so this is preserved when iterating over the entries or keys\n",
    "* `collections.defaultdict`s can specify a type in the constructor whose return vaslue will be used if an entry can't be found\n",
    "* `collections.ChainMap`s group multiple dictionaries into a single item for lookups; inserts go in the first dictionary"
   ]
  },
  {
   "cell_type": "markdown",
   "metadata": {},
   "source": [
    "### Sets\n",
    "\n",
    "A set is a mutable unordered collection that cannot contain duplicates. Sets are used to remove duplicates and test for membership. One use for sets is to quickly see differences. For example, if you have two dicts and want to see what keys are in one but not the other:"
   ]
  },
  {
   "cell_type": "code",
   "execution_count": 54,
   "metadata": {},
   "outputs": [
    {
     "data": {
      "text/plain": [
       "{'drink'}"
      ]
     },
     "execution_count": 54,
     "metadata": {},
     "output_type": "execute_result"
    }
   ],
   "source": [
    "a = {'food': 'ham', 'drink': 'soda', 'desert': 'ice cream'}\n",
    "b = {'food': 'tofu', 'desert': 'cake'}\n",
    "\n",
    "set(a) - set(b)"
   ]
  },
  {
   "cell_type": "markdown",
   "metadata": {},
   "source": [
    "Sets are less commonly used than lists and dicts and we will not discuss them further here. You can read more here: https://docs.python.org/3/library/stdtypes.html#set-types-set-frozenset"
   ]
  },
  {
   "cell_type": "markdown",
   "metadata": {},
   "source": [
    "### Tuples\n",
    "\n",
    "Tuples are immutable sequences. Typically they are used to store record type data, or to return multiple values from a function. Tuples behave a lot like lists and support many of the same operations with similar behavior, aside from their immutability. We'll consider them briefly here.\n",
    "\n",
    "The `collections` package defines a variant `namedtuple` which allows each field to be given a name; we won't go into that here other than to point out its existence. `collections` also defines a `deque` class; stacks are easy to implement just with the built-io list type."
   ]
  },
  {
   "cell_type": "code",
   "execution_count": 55,
   "metadata": {},
   "outputs": [
    {
     "data": {
      "text/plain": [
       "('dog', 'canine')"
      ]
     },
     "execution_count": 55,
     "metadata": {},
     "output_type": "execute_result"
    }
   ],
   "source": [
    "('dog', 'canine')  # tuple"
   ]
  },
  {
   "cell_type": "code",
   "execution_count": 56,
   "metadata": {},
   "outputs": [
    {
     "data": {
      "text/plain": [
       "'dog'"
      ]
     },
     "execution_count": 56,
     "metadata": {},
     "output_type": "execute_result"
    }
   ],
   "source": [
    "('dog')  # Not a tuple! This is just a string in parens"
   ]
  },
  {
   "cell_type": "code",
   "execution_count": 57,
   "metadata": {},
   "outputs": [
    {
     "data": {
      "text/plain": [
       "('dog',)"
      ]
     },
     "execution_count": 57,
     "metadata": {},
     "output_type": "execute_result"
    }
   ],
   "source": [
    "('dog',)  # For a single-valued tuple, use a trailing comma to avoid above issue"
   ]
  },
  {
   "cell_type": "code",
   "execution_count": 58,
   "metadata": {},
   "outputs": [
    {
     "data": {
      "text/plain": [
       "('dog',)"
      ]
     },
     "execution_count": 58,
     "metadata": {},
     "output_type": "execute_result"
    }
   ],
   "source": [
    "'dog',  # Parentheses are often optional"
   ]
  },
  {
   "cell_type": "code",
   "execution_count": 59,
   "metadata": {},
   "outputs": [
    {
     "name": "stdout",
     "output_type": "stream",
     "text": [
      "dog\n",
      "canine\n",
      "dog\n",
      "dog\n"
     ]
    },
    {
     "ename": "IndexError",
     "evalue": "tuple index out of range",
     "output_type": "error",
     "traceback": [
      "\u001b[0;31m---------------------------------------------------------------------------\u001b[0m",
      "\u001b[0;31mIndexError\u001b[0m                                Traceback (most recent call last)",
      "\u001b[0;32m<ipython-input-59-c2e4b522d95a>\u001b[0m in \u001b[0;36m<module>\u001b[0;34m()\u001b[0m\n\u001b[1;32m      4\u001b[0m \u001b[0mprint\u001b[0m\u001b[0;34m(\u001b[0m\u001b[0;34m(\u001b[0m\u001b[0;34m'dog'\u001b[0m\u001b[0;34m,\u001b[0m \u001b[0;34m'canine'\u001b[0m\u001b[0;34m)\u001b[0m\u001b[0;34m[\u001b[0m\u001b[0;34m-\u001b[0m\u001b[0;36m2\u001b[0m\u001b[0;34m]\u001b[0m\u001b[0;34m)\u001b[0m\u001b[0;34m\u001b[0m\u001b[0m\n\u001b[1;32m      5\u001b[0m \u001b[0mprint\u001b[0m\u001b[0;34m(\u001b[0m\u001b[0;34m(\u001b[0m\u001b[0;34m'dog'\u001b[0m\u001b[0;34m,\u001b[0m\u001b[0;34m)\u001b[0m\u001b[0;34m[\u001b[0m\u001b[0;36m0\u001b[0m\u001b[0;34m]\u001b[0m\u001b[0;34m)\u001b[0m\u001b[0;34m\u001b[0m\u001b[0m\n\u001b[0;32m----> 6\u001b[0;31m \u001b[0mprint\u001b[0m\u001b[0;34m(\u001b[0m\u001b[0;34m(\u001b[0m\u001b[0;34m'dog'\u001b[0m\u001b[0;34m,\u001b[0m\u001b[0;34m)\u001b[0m\u001b[0;34m[\u001b[0m\u001b[0;36m1\u001b[0m\u001b[0;34m]\u001b[0m\u001b[0;34m)\u001b[0m\u001b[0;34m\u001b[0m\u001b[0m\n\u001b[0m",
      "\u001b[0;31mIndexError\u001b[0m: tuple index out of range"
     ]
    }
   ],
   "source": [
    "# Indexing can be used to get at elements, much like lists\n",
    "print(('dog', 'canine')[0])\n",
    "print(('dog', 'canine')[1])\n",
    "print(('dog', 'canine')[-2])\n",
    "print(('dog',)[0])\n",
    "print(('dog',)[1])"
   ]
  },
  {
   "cell_type": "code",
   "execution_count": 60,
   "metadata": {},
   "outputs": [
    {
     "name": "stdout",
     "output_type": "stream",
     "text": [
      "dog\n",
      "bone\n"
     ]
    }
   ],
   "source": [
    "# We can unpack a tuple through assignment to multiple variables\n",
    "a = ('dog', 'bone')\n",
    "animal, toy = a\n",
    "print(animal)\n",
    "print(toy)"
   ]
  },
  {
   "cell_type": "code",
   "execution_count": 61,
   "metadata": {},
   "outputs": [
    {
     "ename": "ValueError",
     "evalue": "not enough values to unpack (expected 3, got 2)",
     "output_type": "error",
     "traceback": [
      "\u001b[0;31m---------------------------------------------------------------------------\u001b[0m",
      "\u001b[0;31mValueError\u001b[0m                                Traceback (most recent call last)",
      "\u001b[0;32m<ipython-input-61-fee6f9af1778>\u001b[0m in \u001b[0;36m<module>\u001b[0;34m()\u001b[0m\n\u001b[1;32m      1\u001b[0m \u001b[0;31m# But need to ensure we use the right number of variables\u001b[0m\u001b[0;34m\u001b[0m\u001b[0;34m\u001b[0m\u001b[0m\n\u001b[1;32m      2\u001b[0m \u001b[0ma\u001b[0m \u001b[0;34m=\u001b[0m \u001b[0;34m(\u001b[0m\u001b[0;34m'dog'\u001b[0m\u001b[0;34m,\u001b[0m \u001b[0;34m'bone'\u001b[0m\u001b[0;34m)\u001b[0m\u001b[0;34m\u001b[0m\u001b[0m\n\u001b[0;32m----> 3\u001b[0;31m \u001b[0manimal\u001b[0m\u001b[0;34m,\u001b[0m \u001b[0mtoy\u001b[0m\u001b[0;34m,\u001b[0m \u001b[0mplace\u001b[0m \u001b[0;34m=\u001b[0m \u001b[0ma\u001b[0m\u001b[0;34m\u001b[0m\u001b[0m\n\u001b[0m",
      "\u001b[0;31mValueError\u001b[0m: not enough values to unpack (expected 3, got 2)"
     ]
    }
   ],
   "source": [
    "# But need to ensure we use the right number of variables\n",
    "a = ('dog', 'bone')\n",
    "animal, toy, place = a"
   ]
  },
  {
   "cell_type": "code",
   "execution_count": 62,
   "metadata": {},
   "outputs": [
    {
     "ename": "ValueError",
     "evalue": "too many values to unpack (expected 2)",
     "output_type": "error",
     "traceback": [
      "\u001b[0;31m---------------------------------------------------------------------------\u001b[0m",
      "\u001b[0;31mValueError\u001b[0m                                Traceback (most recent call last)",
      "\u001b[0;32m<ipython-input-62-fff6c985f996>\u001b[0m in \u001b[0;36m<module>\u001b[0;34m()\u001b[0m\n\u001b[1;32m      1\u001b[0m \u001b[0ma\u001b[0m \u001b[0;34m=\u001b[0m \u001b[0;34m(\u001b[0m\u001b[0;34m'dog'\u001b[0m\u001b[0;34m,\u001b[0m \u001b[0;34m'bone'\u001b[0m\u001b[0;34m,\u001b[0m \u001b[0;34m'house'\u001b[0m\u001b[0;34m)\u001b[0m\u001b[0;34m\u001b[0m\u001b[0m\n\u001b[0;32m----> 2\u001b[0;31m \u001b[0manimal\u001b[0m\u001b[0;34m,\u001b[0m \u001b[0mtoy\u001b[0m \u001b[0;34m=\u001b[0m \u001b[0ma\u001b[0m\u001b[0;34m\u001b[0m\u001b[0m\n\u001b[0m",
      "\u001b[0;31mValueError\u001b[0m: too many values to unpack (expected 2)"
     ]
    }
   ],
   "source": [
    "a = ('dog', 'bone', 'house')\n",
    "animal, toy = a"
   ]
  },
  {
   "cell_type": "code",
   "execution_count": 63,
   "metadata": {},
   "outputs": [
    {
     "name": "stdout",
     "output_type": "stream",
     "text": [
      "1 2\n",
      "2 1\n"
     ]
    }
   ],
   "source": [
    "# Tuples allow us to do a neat trick in Python that is harder in many languages - swap two values without using a\n",
    "# temporary intermediate.\n",
    "# Note what is going on here: the RHS of the assignment is creating a tuple; the LHS is unpacking the tuple.\n",
    "\n",
    "a = 1\n",
    "b = 2\n",
    "print(a,b)\n",
    "a, b = b, a\n",
    "print(a,b)"
   ]
  },
  {
   "cell_type": "markdown",
   "metadata": {},
   "source": [
    "## Some built-in Functions\n",
    "\n",
    "See https://docs.python.org/3.6/library/functions.html for a full list and more details.\n",
    "\n",
    "`abs(num)` - Return absolute value"
   ]
  },
  {
   "cell_type": "code",
   "execution_count": 64,
   "metadata": {},
   "outputs": [
    {
     "name": "stdout",
     "output_type": "stream",
     "text": [
      "3\n",
      "3\n"
     ]
    }
   ],
   "source": [
    "print(abs(3))\n",
    "print(abs(-3))"
   ]
  },
  {
   "cell_type": "markdown",
   "metadata": {},
   "source": [
    "`all(iterable)` - returns True if all items in the iterable are True"
   ]
  },
  {
   "cell_type": "code",
   "execution_count": 65,
   "metadata": {},
   "outputs": [
    {
     "name": "stdout",
     "output_type": "stream",
     "text": [
      "True\n",
      "False\n"
     ]
    }
   ],
   "source": [
    "print(all([True, True, True]))\n",
    "print(all([True, False, True]))"
   ]
  },
  {
   "cell_type": "markdown",
   "metadata": {},
   "source": [
    "`any(iterable)` - returns True is any item in the iterable is True."
   ]
  },
  {
   "cell_type": "code",
   "execution_count": 66,
   "metadata": {},
   "outputs": [
    {
     "name": "stdout",
     "output_type": "stream",
     "text": [
      "False\n",
      "True\n"
     ]
    }
   ],
   "source": [
    "print(any([False, False]))\n",
    "print(any([False, True]))"
   ]
  },
  {
   "cell_type": "markdown",
   "metadata": {},
   "source": [
    "`filter(fn, iter)` - construct an iterator from the elements of iterable object `iter` for which a function `fn` returns true."
   ]
  },
  {
   "cell_type": "code",
   "execution_count": 67,
   "metadata": {},
   "outputs": [
    {
     "name": "stdout",
     "output_type": "stream",
     "text": [
      "Alan Alda\n"
     ]
    }
   ],
   "source": [
    "names = [\"John Smith\", \"Alan Alda\"]\n",
    "\n",
    "# Get the names that start and end with same letter\n",
    "for i in filter(lambda s: s[0].upper() == s[-1].upper(), names):\n",
    "    print(i)"
   ]
  },
  {
   "cell_type": "markdown",
   "metadata": {},
   "source": [
    "`input` - get input from the console"
   ]
  },
  {
   "cell_type": "code",
   "execution_count": 68,
   "metadata": {},
   "outputs": [
    {
     "name": "stdout",
     "output_type": "stream",
     "text": [
      "What is your name?Graham\n",
      "Hello Graham!\n"
     ]
    }
   ],
   "source": [
    "n = input(\"What is your name?\")\n",
    "print(f'Hello {n}!')"
   ]
  },
  {
   "cell_type": "markdown",
   "metadata": {},
   "source": [
    "`isinstance` - check if an object has a certain type"
   ]
  },
  {
   "cell_type": "code",
   "execution_count": 69,
   "metadata": {},
   "outputs": [
    {
     "name": "stdout",
     "output_type": "stream",
     "text": [
      "False\n",
      "True\n",
      "True\n",
      "False\n"
     ]
    }
   ],
   "source": [
    "s = 'abc'\n",
    "n = 123\n",
    "print(isinstance(s, int))\n",
    "print(isinstance(s, str))\n",
    "print(isinstance(n, int))\n",
    "print(isinstance(n, str))"
   ]
  },
  {
   "cell_type": "markdown",
   "metadata": {},
   "source": [
    "`iter` - create an sequential iterable from an object; we will discuss iterables later"
   ]
  },
  {
   "cell_type": "code",
   "execution_count": 70,
   "metadata": {},
   "outputs": [
    {
     "name": "stdout",
     "output_type": "stream",
     "text": [
      "<list_iterator object at 0x10ff53978>\n",
      "Before first next()\n",
      "1\n",
      "Before second next()\n",
      "2\n",
      "After second next()\n",
      "3\n",
      "4\n"
     ]
    }
   ],
   "source": [
    "x = iter([1, 2, 3, 4])\n",
    "print(x)\n",
    "print(\"Before first next()\")\n",
    "print(next(x))  # returns first item and advances\n",
    "print(\"Before second next()\")\n",
    "print(next(x))  # returns second item and advances\n",
    "print(\"After second next()\")\n",
    "for v in x:  # iterates through remaining items\n",
    "    print(v)"
   ]
  },
  {
   "cell_type": "markdown",
   "metadata": {},
   "source": [
    "`len` - calls the object's `__len__` method to get the length.\n",
    "\n",
    "`map` - similar to `filter` but returns an iterable with the results of applying the function"
   ]
  },
  {
   "cell_type": "code",
   "execution_count": 71,
   "metadata": {},
   "outputs": [
    {
     "name": "stdout",
     "output_type": "stream",
     "text": [
      "[False, True]\n"
     ]
    }
   ],
   "source": [
    "names = [\"John Smith\", \"Alan Alda\"]\n",
    "\n",
    "# Get a list of bools, one for each name, specifying if the name starts and ends with the same letter.\n",
    "print(list(map(lambda s: s[0].upper() == s[-1].upper(), names)))"
   ]
  },
  {
   "cell_type": "markdown",
   "metadata": {},
   "source": [
    "`max(arg1,...)` - returns the largest arg. If a single iterable arg is given it will iterate.\n",
    "\n",
    "`min(arg1, ...)` - returns the smallest arg"
   ]
  },
  {
   "cell_type": "code",
   "execution_count": 72,
   "metadata": {},
   "outputs": [
    {
     "name": "stdout",
     "output_type": "stream",
     "text": [
      "3\n",
      "3\n"
     ]
    },
    {
     "ename": "TypeError",
     "evalue": "'>' not supported between instances of 'int' and 'list'",
     "output_type": "error",
     "traceback": [
      "\u001b[0;31m---------------------------------------------------------------------------\u001b[0m",
      "\u001b[0;31mTypeError\u001b[0m                                 Traceback (most recent call last)",
      "\u001b[0;32m<ipython-input-72-5ebfda590ac7>\u001b[0m in \u001b[0;36m<module>\u001b[0;34m()\u001b[0m\n\u001b[1;32m      1\u001b[0m \u001b[0mprint\u001b[0m\u001b[0;34m(\u001b[0m\u001b[0mmax\u001b[0m\u001b[0;34m(\u001b[0m\u001b[0;36m2\u001b[0m\u001b[0;34m,\u001b[0m \u001b[0;36m3\u001b[0m\u001b[0;34m,\u001b[0m \u001b[0;36m1\u001b[0m\u001b[0;34m)\u001b[0m\u001b[0;34m)\u001b[0m  \u001b[0;31m# Multiple scalar args\u001b[0m\u001b[0;34m\u001b[0m\u001b[0m\n\u001b[1;32m      2\u001b[0m \u001b[0mprint\u001b[0m\u001b[0;34m(\u001b[0m\u001b[0mmax\u001b[0m\u001b[0;34m(\u001b[0m\u001b[0;34m[\u001b[0m\u001b[0;36m3\u001b[0m\u001b[0;34m,\u001b[0m \u001b[0;36m2\u001b[0m\u001b[0;34m,\u001b[0m \u001b[0;36m1\u001b[0m\u001b[0;34m]\u001b[0m\u001b[0;34m)\u001b[0m\u001b[0;34m)\u001b[0m \u001b[0;31m# Single list arg\u001b[0m\u001b[0;34m\u001b[0m\u001b[0m\n\u001b[0;32m----> 3\u001b[0;31m \u001b[0mprint\u001b[0m\u001b[0;34m(\u001b[0m\u001b[0mmax\u001b[0m\u001b[0;34m(\u001b[0m\u001b[0;34m[\u001b[0m\u001b[0;36m3\u001b[0m\u001b[0;34m,\u001b[0m \u001b[0;36m2\u001b[0m\u001b[0;34m,\u001b[0m \u001b[0;36m1\u001b[0m\u001b[0;34m]\u001b[0m\u001b[0;34m,\u001b[0m \u001b[0;36m4\u001b[0m\u001b[0;34m)\u001b[0m\u001b[0;34m)\u001b[0m  \u001b[0;31m# Not allowed\u001b[0m\u001b[0;34m\u001b[0m\u001b[0m\n\u001b[0m",
      "\u001b[0;31mTypeError\u001b[0m: '>' not supported between instances of 'int' and 'list'"
     ]
    }
   ],
   "source": [
    "print(max(2, 3, 1))  # Multiple scalar args\n",
    "print(max([3, 2, 1])) # Single list arg\n",
    "print(max([3, 2, 1], 4))  # Not allowed"
   ]
  },
  {
   "cell_type": "markdown",
   "metadata": {},
   "source": [
    "`next` - gets next item from an iterable; see the section on iterables and example for `iter` above.\n",
    "\n",
    "`repr` - calls the object `__repr__` method to get a string representation. This is the *formal* representation while `__str__` returns the *informal* representation. Another way of thinking about this is that `__str__` returns the value of the object when used as a string, while `__repr__` returns a printable representation of the object's state. In Jupyter, when displaying an object, `__repr__` will be used if possible, with `__str__` used as a fallback. \n",
    "\n",
    "`reversed` - makes a copy of the object with items in reversed order (object must support `__len__` and `__getitem__`)"
   ]
  },
  {
   "cell_type": "markdown",
   "metadata": {},
   "source": [
    "`round` - rounds number to some number of decimal places (default 0)"
   ]
  },
  {
   "cell_type": "code",
   "execution_count": 73,
   "metadata": {},
   "outputs": [
    {
     "name": "stdout",
     "output_type": "stream",
     "text": [
      "3\n",
      "3.142\n"
     ]
    }
   ],
   "source": [
    "pi = 3.1415927\n",
    "print(round(pi))\n",
    "print(round(pi, 3))"
   ]
  },
  {
   "cell_type": "markdown",
   "metadata": {},
   "source": [
    "`sorted(list)` - returns a sorted version of the list."
   ]
  },
  {
   "cell_type": "code",
   "execution_count": 74,
   "metadata": {},
   "outputs": [
    {
     "name": "stdout",
     "output_type": "stream",
     "text": [
      "[1, 3, 3]\n"
     ]
    }
   ],
   "source": [
    "print(sorted([3, 1, 3]))"
   ]
  },
  {
   "cell_type": "markdown",
   "metadata": {},
   "source": [
    "`sum(iterable)` - returns the sum of the iterable"
   ]
  },
  {
   "cell_type": "code",
   "execution_count": 75,
   "metadata": {},
   "outputs": [
    {
     "name": "stdout",
     "output_type": "stream",
     "text": [
      "6\n"
     ]
    }
   ],
   "source": [
    "print(sum([1, 2, 3]))"
   ]
  },
  {
   "cell_type": "markdown",
   "metadata": {},
   "source": [
    "`type(obj)` - return the type of an object"
   ]
  },
  {
   "cell_type": "code",
   "execution_count": 76,
   "metadata": {},
   "outputs": [
    {
     "name": "stdout",
     "output_type": "stream",
     "text": [
      "<class 'str'>\n"
     ]
    }
   ],
   "source": [
    "print(type('foo'))"
   ]
  },
  {
   "cell_type": "markdown",
   "metadata": {},
   "source": [
    "`zip(list, ...)` - combines multiple lists into a single list of tuples. Note this returns a lazy iterable, not a list"
   ]
  },
  {
   "cell_type": "code",
   "execution_count": 77,
   "metadata": {},
   "outputs": [
    {
     "name": "stdout",
     "output_type": "stream",
     "text": [
      "<zip object at 0x10fcdc408>\n",
      "[('a', 1), ('b', 2), ('c', 3)]\n"
     ]
    }
   ],
   "source": [
    "print(zip(['a', 'b', 'c'], [1, 2, 3]))\n",
    "print(list(zip(['a', 'b', 'c'], [1, 2, 3])))  # instantiates the iterable as a list"
   ]
  },
  {
   "cell_type": "markdown",
   "metadata": {},
   "source": [
    "## String Formatting\n",
    "\n",
    "String formatting has evolved over time with Python. Python 3.6 introduced \"format strings\" which allow code to be directly embedded in the string. This is an improvement over older approaches and we will use it extensively.\n",
    "Format strings have an `f` prefix and include code in `{}`. For example:"
   ]
  },
  {
   "cell_type": "code",
   "execution_count": 78,
   "metadata": {},
   "outputs": [
    {
     "name": "stdout",
     "output_type": "stream",
     "text": [
      "2 x 10 = 20\n"
     ]
    }
   ],
   "source": [
    "a = 10\n",
    "print(f\"2 x {a} = {2*a}\")"
   ]
  },
  {
   "cell_type": "markdown",
   "metadata": {},
   "source": [
    "If you need to use the old approaches, there are a lot of details here: https://pyformat.info/ (this doesn't seem to cover format strings yet though). That site covers things like padding, justification, truncation, leading zeroes, fixing number of decimal places, etc. We won't cover these here except the latter:"
   ]
  },
  {
   "cell_type": "code",
   "execution_count": 79,
   "metadata": {},
   "outputs": [
    {
     "name": "stdout",
     "output_type": "stream",
     "text": [
      "1.23456\n",
      "1.23\n",
      "001.23\n"
     ]
    }
   ],
   "source": [
    "a = 1.23456\n",
    "print(a)\n",
    "print(f'{a:.2f}')  # Float restricted to two decimal places\n",
    "print(f'{a:06.2f}')  # Float restricted to two decimal places and padded with leading zeroes if less than 6 chars"
   ]
  },
  {
   "cell_type": "markdown",
   "metadata": {},
   "source": [
    "When you use `f'{a}'`, Python will look in turn for a `__format__`, a `__repr__` or a `__str__` method to call to get the string representation of `a`. You can force it to use `__repr__` with `f'{a!r}'` or to use `__str__` with `f'{a!s}'`."
   ]
  },
  {
   "cell_type": "markdown",
   "metadata": {},
   "source": [
    "## Sorting\n",
    "\n",
    "We've already seen the `sorted` function, that can create a sorted list from any iterable:"
   ]
  },
  {
   "cell_type": "code",
   "execution_count": 80,
   "metadata": {},
   "outputs": [
    {
     "name": "stdout",
     "output_type": "stream",
     "text": [
      "1\n",
      "2\n",
      "3\n",
      "4\n",
      "5\n",
      "7\n"
     ]
    }
   ],
   "source": [
    "d = [3,5,2,4,1,7]\n",
    "for i in sorted(d):\n",
    "    print(i)"
   ]
  },
  {
   "cell_type": "markdown",
   "metadata": {},
   "source": [
    "You can do a descending sort by adding a `reverse=True` argument:"
   ]
  },
  {
   "cell_type": "code",
   "execution_count": 81,
   "metadata": {},
   "outputs": [
    {
     "name": "stdout",
     "output_type": "stream",
     "text": [
      "7\n",
      "5\n",
      "4\n",
      "3\n",
      "2\n",
      "1\n"
     ]
    }
   ],
   "source": [
    "for i in sorted(d, reverse=True):\n",
    "    print(i)"
   ]
  },
  {
   "cell_type": "markdown",
   "metadata": {},
   "source": [
    "You can sort a list in place with `sort`, but this only applies to lists:"
   ]
  },
  {
   "cell_type": "code",
   "execution_count": 82,
   "metadata": {},
   "outputs": [
    {
     "name": "stdout",
     "output_type": "stream",
     "text": [
      "[3, 5, 2, 4, 1, 7]\n",
      "[1, 2, 3, 4, 5, 7]\n"
     ]
    }
   ],
   "source": [
    "print(d)\n",
    "d.sort()\n",
    "print(d)"
   ]
  },
  {
   "cell_type": "markdown",
   "metadata": {},
   "source": [
    "You can read more about sorting here, including how to sort composite objects like dictionaries, tuples and nested lists, and by multiple keys: https://docs.python.org/3/howto/sorting.html"
   ]
  },
  {
   "cell_type": "markdown",
   "metadata": {},
   "source": [
    "## Statements\n",
    "\n",
    "Here we will consider statements. We'll leave some statements to when we get to exceptions, functions and classes.\n",
    "\n",
    "For more info on statements see https://docs.python.org/3/reference/simple_stmts.html"
   ]
  },
  {
   "cell_type": "markdown",
   "metadata": {},
   "source": [
    "### pass\n",
    "\n",
    "The `pass` statement is a no-op. This is needed in Python as the language doesn't use braces, so it is the equivalent of `{}` in Java- or C-like languages.\n",
    "\n",
    "### del\n",
    "\n",
    "`del` is used to delete an object; it isn't used much but can be useful if the object uses a lot of memory to allow it to be garbage-collected.\n",
    "\n",
    "### for, break and continue\n",
    "\n",
    "You can loop over any iterable with `for...in`. `break` and `continue` are supported, and behave in the expected fashion."
   ]
  },
  {
   "cell_type": "code",
   "execution_count": 83,
   "metadata": {},
   "outputs": [
    {
     "name": "stdout",
     "output_type": "stream",
     "text": [
      "green eggs\n",
      "ham\n"
     ]
    }
   ],
   "source": [
    "for i in ['green eggs', 'ham']:\n",
    "    print(i)"
   ]
  },
  {
   "cell_type": "code",
   "execution_count": 84,
   "metadata": {},
   "outputs": [
    {
     "name": "stdout",
     "output_type": "stream",
     "text": [
      "g\n",
      "r\n",
      "e\n",
      "e\n",
      "n\n",
      " \n",
      "e\n",
      "g\n",
      "g\n",
      "s\n"
     ]
    }
   ],
   "source": [
    "for i in 'green eggs':\n",
    "    print(i)"
   ]
  },
  {
   "cell_type": "code",
   "execution_count": 85,
   "metadata": {},
   "outputs": [
    {
     "name": "stdout",
     "output_type": "stream",
     "text": [
      "a\n",
      "b\n"
     ]
    }
   ],
   "source": [
    "for i in {'a': 1, 'b': 2}: # This will loop over keys\n",
    "    print(i)"
   ]
  },
  {
   "cell_type": "code",
   "execution_count": 86,
   "metadata": {},
   "outputs": [
    {
     "name": "stdout",
     "output_type": "stream",
     "text": [
      "1\n",
      "2\n"
     ]
    }
   ],
   "source": [
    "for i in {'a': 1, 'b': 2}.values(): # This will loop over values\n",
    "    print(i)"
   ]
  },
  {
   "cell_type": "code",
   "execution_count": 87,
   "metadata": {},
   "outputs": [
    {
     "name": "stdout",
     "output_type": "stream",
     "text": [
      "('a', 1)\n",
      "('b', 2)\n"
     ]
    }
   ],
   "source": [
    "for i in {'a': 1, 'b': 2}.items():  # This will loop over key-value pairs as tuples\n",
    "    print(i)"
   ]
  },
  {
   "cell_type": "code",
   "execution_count": 88,
   "metadata": {},
   "outputs": [
    {
     "name": "stdout",
     "output_type": "stream",
     "text": [
      "1\n",
      "2\n",
      "3\n"
     ]
    }
   ],
   "source": [
    "for i in [1, 2, 3]:\n",
    "    print(i)"
   ]
  },
  {
   "cell_type": "code",
   "execution_count": 89,
   "metadata": {},
   "outputs": [
    {
     "name": "stdout",
     "output_type": "stream",
     "text": [
      "(0, 1)\n",
      "(1, 2)\n",
      "(2, 3)\n"
     ]
    }
   ],
   "source": [
    "for i in enumerate([1, 2, 3]):  # Returns (index, value) tuples\n",
    "    print(i)"
   ]
  },
  {
   "cell_type": "code",
   "execution_count": 90,
   "metadata": {},
   "outputs": [
    {
     "name": "stdout",
     "output_type": "stream",
     "text": [
      "At position 0 we have value 1\n",
      "At position 1 we have value 2\n",
      "At position 2 we have value 3\n"
     ]
    }
   ],
   "source": [
    "for index, value in enumerate([1, 2, 3]):  # We can unpack the (index, value) tuples\n",
    "    print(f'At position {index} we have value {value}')"
   ]
  },
  {
   "cell_type": "code",
   "execution_count": 91,
   "metadata": {},
   "outputs": [
    {
     "name": "stdout",
     "output_type": "stream",
     "text": [
      "1\n",
      "2\n",
      "3\n",
      "4\n",
      "5\n",
      "6\n",
      "7\n",
      "8\n",
      "9\n"
     ]
    }
   ],
   "source": [
    "for i in range(1, 10):\n",
    "    print(i)"
   ]
  },
  {
   "cell_type": "code",
   "execution_count": 92,
   "metadata": {},
   "outputs": [
    {
     "name": "stdout",
     "output_type": "stream",
     "text": [
      "1\n",
      "3\n",
      "5\n",
      "7\n",
      "9\n"
     ]
    }
   ],
   "source": [
    "for i in range(1, 10, 2):\n",
    "    print(i)"
   ]
  },
  {
   "cell_type": "markdown",
   "metadata": {},
   "source": [
    "Python has an unusual construct: for..else. The else part is executed if there was no early break from the loop.\n",
    "\n",
    "This is a common construct in other languages:\n",
    "\n",
    "```python\n",
    "    # See if the list has an even number and then take an action.\n",
    "    has_even_number = False\n",
    "    for elt in [1, 2, 3]:\n",
    "        if elt % 2 == 0:\n",
    "            has_even_number = True\n",
    "            break\n",
    "    if not has_even_number:\n",
    "        print \"list has no even numbers\"\n",
    "```\n",
    "\n",
    "but in Python, we can just do:\n",
    "\n",
    "```python\n",
    "    for elt in [1, 2, 3]:\n",
    "        if elt % 2 == 0:\n",
    "            break\n",
    "    else:\n",
    "        print \"list has no even numbers\"\n",
    "```\n",
    "\n",
    "I.e. the `else` statement will be executed if the loop completes normally (does not exit through a `break`)."
   ]
  },
  {
   "cell_type": "markdown",
   "metadata": {},
   "source": [
    "### while\n",
    "\n",
    "`while` loops are very straighforward:"
   ]
  },
  {
   "cell_type": "code",
   "execution_count": 93,
   "metadata": {},
   "outputs": [
    {
     "name": "stdout",
     "output_type": "stream",
     "text": [
      "0\n",
      "2\n",
      "4\n",
      "6\n",
      "8\n"
     ]
    }
   ],
   "source": [
    "i = 0\n",
    "while i < 10:\n",
    "    print(i)\n",
    "    i += 2"
   ]
  },
  {
   "cell_type": "markdown",
   "metadata": {},
   "source": [
    "`while...else` is supported:"
   ]
  },
  {
   "cell_type": "code",
   "execution_count": 94,
   "metadata": {},
   "outputs": [
    {
     "name": "stdout",
     "output_type": "stream",
     "text": [
      "0\n",
      "2\n",
      "4\n",
      "6\n",
      "8\n",
      "Done\n"
     ]
    }
   ],
   "source": [
    "i = 0\n",
    "while i < 10:\n",
    "    print(i)\n",
    "    i += 2\n",
    "else:\n",
    "    print('Done')"
   ]
  },
  {
   "cell_type": "code",
   "execution_count": 95,
   "metadata": {},
   "outputs": [
    {
     "name": "stdout",
     "output_type": "stream",
     "text": [
      "0\n",
      "Found an even number!\n"
     ]
    }
   ],
   "source": [
    "i = 0\n",
    "while i < 10:\n",
    "    print(i)\n",
    "    if i % 2 == 0:\n",
    "        print('Found an even number!')\n",
    "        break\n",
    "    i += 2\n",
    "else:\n",
    "    print('No even numbers!')"
   ]
  },
  {
   "cell_type": "code",
   "execution_count": 96,
   "metadata": {},
   "outputs": [
    {
     "name": "stdout",
     "output_type": "stream",
     "text": [
      "1\n",
      "3\n",
      "5\n",
      "7\n",
      "9\n",
      "No even numbers!\n"
     ]
    }
   ],
   "source": [
    "i = 1\n",
    "while i < 10:\n",
    "    print(i)\n",
    "    if i % 2 == 0:\n",
    "        print('Found an even number!')\n",
    "        break\n",
    "    i += 2\n",
    "else:\n",
    "    print('No even numbers!')"
   ]
  },
  {
   "cell_type": "markdown",
   "metadata": {},
   "source": [
    "### if Statement and Boolean Expressions\n",
    "\n",
    "Python uses `if...elif...else` syntax:"
   ]
  },
  {
   "cell_type": "code",
   "execution_count": 97,
   "metadata": {},
   "outputs": [
    {
     "name": "stdout",
     "output_type": "stream",
     "text": [
      "C\n"
     ]
    }
   ],
   "source": [
    "grade = 75\n",
    "if grade > 90:\n",
    "    print('A')\n",
    "elif grade > 80:\n",
    "    print('B')\n",
    "elif grade > 70:\n",
    "    print('C')\n",
    "else:\n",
    "    print('D')"
   ]
  },
  {
   "cell_type": "markdown",
   "metadata": {},
   "source": [
    "`and`, `or` and `not` are Boolean operators, while `&`, `|` and `^` are bitwise-operators. Short-circuiting rules apply:"
   ]
  },
  {
   "cell_type": "code",
   "execution_count": 98,
   "metadata": {},
   "outputs": [
    {
     "ename": "ZeroDivisionError",
     "evalue": "division by zero",
     "output_type": "error",
     "traceback": [
      "\u001b[0;31m---------------------------------------------------------------------------\u001b[0m",
      "\u001b[0;31mZeroDivisionError\u001b[0m                         Traceback (most recent call last)",
      "\u001b[0;32m<ipython-input-98-d26a3ac7f29d>\u001b[0m in \u001b[0;36m<module>\u001b[0;34m()\u001b[0m\n\u001b[0;32m----> 1\u001b[0;31m \u001b[0;36m1\u001b[0m \u001b[0;32mand\u001b[0m \u001b[0;36m1\u001b[0m\u001b[0;34m/\u001b[0m\u001b[0;36m0\u001b[0m\u001b[0;34m\u001b[0m\u001b[0m\n\u001b[0m",
      "\u001b[0;31mZeroDivisionError\u001b[0m: division by zero"
     ]
    }
   ],
   "source": [
    "1 and 1/0"
   ]
  },
  {
   "cell_type": "code",
   "execution_count": 99,
   "metadata": {},
   "outputs": [
    {
     "data": {
      "text/plain": [
       "1"
      ]
     },
     "execution_count": 99,
     "metadata": {},
     "output_type": "execute_result"
    }
   ],
   "source": [
    "1 or 1/0"
   ]
  },
  {
   "cell_type": "code",
   "execution_count": 100,
   "metadata": {},
   "outputs": [
    {
     "data": {
      "text/plain": [
       "0"
      ]
     },
     "execution_count": 100,
     "metadata": {},
     "output_type": "execute_result"
    }
   ],
   "source": [
    "0 and 1/0"
   ]
  },
  {
   "cell_type": "code",
   "execution_count": 101,
   "metadata": {},
   "outputs": [
    {
     "ename": "ZeroDivisionError",
     "evalue": "division by zero",
     "output_type": "error",
     "traceback": [
      "\u001b[0;31m---------------------------------------------------------------------------\u001b[0m",
      "\u001b[0;31mZeroDivisionError\u001b[0m                         Traceback (most recent call last)",
      "\u001b[0;32m<ipython-input-101-a829942d3284>\u001b[0m in \u001b[0;36m<module>\u001b[0;34m()\u001b[0m\n\u001b[0;32m----> 1\u001b[0;31m \u001b[0;36m0\u001b[0m \u001b[0;32mor\u001b[0m \u001b[0;36m1\u001b[0m\u001b[0;34m/\u001b[0m\u001b[0;36m0\u001b[0m\u001b[0;34m\u001b[0m\u001b[0m\n\u001b[0m",
      "\u001b[0;31mZeroDivisionError\u001b[0m: division by zero"
     ]
    }
   ],
   "source": [
    "0 or 1/0"
   ]
  },
  {
   "cell_type": "markdown",
   "metadata": {},
   "source": [
    "You can combine multiple range comparisons into a single one:"
   ]
  },
  {
   "cell_type": "code",
   "execution_count": 102,
   "metadata": {},
   "outputs": [
    {
     "name": "stdout",
     "output_type": "stream",
     "text": [
      "True\n",
      "False\n"
     ]
    }
   ],
   "source": [
    "print(0 < 2 < 4)\n",
    "print(2 < 0 < 4)"
   ]
  },
  {
   "cell_type": "markdown",
   "metadata": {},
   "source": [
    "Note that the Boolean literals are `True` and `False`, with capitalized first letters."
   ]
  },
  {
   "cell_type": "code",
   "execution_count": 103,
   "metadata": {},
   "outputs": [
    {
     "name": "stdout",
     "output_type": "stream",
     "text": [
      "True\n"
     ]
    }
   ],
   "source": [
    "print(0 < 2 < 4 < 6)"
   ]
  },
  {
   "cell_type": "markdown",
   "metadata": {},
   "source": [
    "If an instance of a class is used in a Boolean expression, it is evaluated by calling its `__bool__` method if it has one, else its `__len__` method (where non-zero is `True`), else it is considered `True`.\n",
    "\n",
    "Python doesn't support conditional expressions like `:?` but does support ternary expressions with `if...else`:"
   ]
  },
  {
   "cell_type": "code",
   "execution_count": 104,
   "metadata": {},
   "outputs": [
    {
     "name": "stdout",
     "output_type": "stream",
     "text": [
      "0 Widgets\n",
      "1 Widget\n",
      "2 Widgets\n"
     ]
    }
   ],
   "source": [
    "for count in range(0, 3):\n",
    "    print(f'{count} {\"Widget\" if count == 1 else \"Widgets\"}')"
   ]
  },
  {
   "cell_type": "markdown",
   "metadata": {},
   "source": [
    "### with\n",
    "\n",
    "`with` is used for scoped use of classes that need to clean up when they are no longer used (e.g. file objects that need to release underlying file handles). \n",
    "\n",
    "The most common place you'll see this is with file reading and writing, which we conver in the next section.\n",
    "\n",
    "---\n",
    "> _Under the Hood_\n",
    ">\n",
    "> When the “with” statement is executed, Python evaluates the following expression, calls the `__enter__` method on the resulting value (a “context guard”), and assigns whatever `__enter__` returns to the variable given by as. Python will then execute the code body, and no matter what happens in that code, call the guard object’s `__exit__` method.\n",
    "> \n",
    "> As an extra bonus, the `__exit__` method can look at the exception, if any, and suppress it or act on it as necessary (to suppress it, it just needs to return `True`).\n",
    "> \n",
    "> We're getting ahead of ourselves here with classes, but here is an example:"
   ]
  },
  {
   "cell_type": "code",
   "execution_count": 105,
   "metadata": {},
   "outputs": [
    {
     "name": "stdout",
     "output_type": "stream",
     "text": [
      "green eggs\n",
      "ham\n"
     ]
    }
   ],
   "source": [
    "class Wither:\n",
    "    def __enter__(self):\n",
    "        return 'green eggs'\n",
    "    def __exit__(self,  type, value, traceback):\n",
    "        print('ham')\n",
    "    \n",
    "with Wither() as x:\n",
    "    print(x)"
   ]
  },
  {
   "cell_type": "markdown",
   "metadata": {},
   "source": [
    "## Reading and Writing Files\n",
    "\n",
    "Python has a built-in `open` function for opening files for reading and writing: https://docs.python.org/3.6/library/functions.html#open\n",
    "\n",
    "The simplest for of reading a file is just:\n",
    "\n",
    "```python\n",
    "with open('myfile.txt') as f:\n",
    "    for line in f:\n",
    "        print(line)\n",
    "```\n",
    "\n",
    "and writing a file, assuming we have a list of strings `data`:\n",
    "\n",
    "```python\n",
    "with open('myfile.txt', 'w') as f:\n",
    "    for line in data:\n",
    "        f.write(line)\n",
    "```\n",
    "\n",
    "You can see more detailed examples in the tutorial, section 7.2, here: https://docs.python.org/3/tutorial/inputoutput.html\n",
    "\n",
    "If you are doing more sophisticated operations with files you may want to look at the `pyfilesystem` package: https://www.pyfilesystem.org/. This provides a richer set of functionality over a variety of different \"virtual\" file systems, like zipfiles, tarfiles, FTP, SMB, DLNA and WebDAV servers, and services like DropBox."
   ]
  },
  {
   "cell_type": "markdown",
   "metadata": {},
   "source": [
    "## Functions and Lambdas\n",
    "\n",
    "Recall that Python named functions are defined with `def`:"
   ]
  },
  {
   "cell_type": "code",
   "execution_count": 106,
   "metadata": {},
   "outputs": [
    {
     "data": {
      "text/plain": [
       "5"
      ]
     },
     "execution_count": 106,
     "metadata": {},
     "output_type": "execute_result"
    }
   ],
   "source": [
    "def add(a, b):\n",
    "    return a + b\n",
    "\n",
    "add(2, 3)"
   ]
  },
  {
   "cell_type": "markdown",
   "metadata": {},
   "source": [
    "Default arguments are allowed. If a default argument is specified, then all following arguments must have defaults as well:"
   ]
  },
  {
   "cell_type": "code",
   "execution_count": 107,
   "metadata": {},
   "outputs": [
    {
     "name": "stdout",
     "output_type": "stream",
     "text": [
      "a=2, b=3\n",
      "5\n",
      "a=2, b=1\n",
      "3\n"
     ]
    },
    {
     "ename": "TypeError",
     "evalue": "add() missing 1 required positional argument: 'a'",
     "output_type": "error",
     "traceback": [
      "\u001b[0;31m---------------------------------------------------------------------------\u001b[0m",
      "\u001b[0;31mTypeError\u001b[0m                                 Traceback (most recent call last)",
      "\u001b[0;32m<ipython-input-107-ad63163207a7>\u001b[0m in \u001b[0;36m<module>\u001b[0;34m()\u001b[0m\n\u001b[1;32m      5\u001b[0m \u001b[0mprint\u001b[0m\u001b[0;34m(\u001b[0m\u001b[0madd\u001b[0m\u001b[0;34m(\u001b[0m\u001b[0;36m2\u001b[0m\u001b[0;34m,\u001b[0m \u001b[0;36m3\u001b[0m\u001b[0;34m)\u001b[0m\u001b[0;34m)\u001b[0m\u001b[0;34m\u001b[0m\u001b[0m\n\u001b[1;32m      6\u001b[0m \u001b[0mprint\u001b[0m\u001b[0;34m(\u001b[0m\u001b[0madd\u001b[0m\u001b[0;34m(\u001b[0m\u001b[0;36m2\u001b[0m\u001b[0;34m)\u001b[0m\u001b[0;34m)\u001b[0m\u001b[0;34m\u001b[0m\u001b[0m\n\u001b[0;32m----> 7\u001b[0;31m \u001b[0mprint\u001b[0m\u001b[0;34m(\u001b[0m\u001b[0madd\u001b[0m\u001b[0;34m(\u001b[0m\u001b[0;34m)\u001b[0m\u001b[0;34m)\u001b[0m\u001b[0;34m\u001b[0m\u001b[0m\n\u001b[0m",
      "\u001b[0;31mTypeError\u001b[0m: add() missing 1 required positional argument: 'a'"
     ]
    }
   ],
   "source": [
    "def add(a, b=1):\n",
    "    print(f'a={a}, b={b}')\n",
    "    return a + b\n",
    "\n",
    "print(add(2, 3))\n",
    "print(add(2))\n",
    "print(add())"
   ]
  },
  {
   "cell_type": "markdown",
   "metadata": {},
   "source": [
    "Arguments with no defaults are \"positional\" arguments and must be specified in order _except_ if they are named explicitly when calling the function:"
   ]
  },
  {
   "cell_type": "code",
   "execution_count": 108,
   "metadata": {},
   "outputs": [
    {
     "name": "stdout",
     "output_type": "stream",
     "text": [
      "a=1, b=2\n",
      "3\n"
     ]
    }
   ],
   "source": [
    "print(add(b=2, a=1))"
   ]
  },
  {
   "cell_type": "markdown",
   "metadata": {},
   "source": [
    "Variables referenced in a function are either local or arguments. To access a global variable you must explicitly declare it global (but it is better to avoid using globals):"
   ]
  },
  {
   "cell_type": "code",
   "execution_count": 109,
   "metadata": {},
   "outputs": [
    {
     "name": "stdout",
     "output_type": "stream",
     "text": [
      "2\n",
      "2\n"
     ]
    }
   ],
   "source": [
    "x = 2\n",
    "\n",
    "def foo():\n",
    "    x = 1  # This is local\n",
    "    \n",
    "print(x)  # This is the global\n",
    "foo()\n",
    "print(x)"
   ]
  },
  {
   "cell_type": "code",
   "execution_count": 110,
   "metadata": {},
   "outputs": [
    {
     "name": "stdout",
     "output_type": "stream",
     "text": [
      "2\n",
      "1\n"
     ]
    }
   ],
   "source": [
    "x = 2\n",
    "\n",
    "def foo():\n",
    "    global x\n",
    "    x = 1\n",
    "    \n",
    "print(x)\n",
    "foo()\n",
    "print(x)"
   ]
  },
  {
   "cell_type": "markdown",
   "metadata": {},
   "source": [
    "Functions can be nested. In Python 3 you can declare a variable as \"nonlocal\" to access an outer but non-global scope."
   ]
  },
  {
   "cell_type": "code",
   "execution_count": 111,
   "metadata": {},
   "outputs": [
    {
     "name": "stdout",
     "output_type": "stream",
     "text": [
      "Inside!\n",
      "Outside!\n"
     ]
    }
   ],
   "source": [
    "def outside():\n",
    "    msg = \"Outside!\"\n",
    "    def inside():\n",
    "        msg = \"Inside!\"  # This is different to the one in outside()\n",
    "        print(msg)\n",
    "    inside()\n",
    "    print(msg)\n",
    "    \n",
    "outside()"
   ]
  },
  {
   "cell_type": "code",
   "execution_count": 112,
   "metadata": {},
   "outputs": [
    {
     "name": "stdout",
     "output_type": "stream",
     "text": [
      "Inside!\n",
      "Inside!\n"
     ]
    }
   ],
   "source": [
    "def outside():\n",
    "    msg = \"Outside!\"\n",
    "    def inside():\n",
    "        nonlocal msg  # This is the same as the one in outside()\n",
    "        msg = \"Inside!\"\n",
    "        print(msg)\n",
    "    inside()\n",
    "    print(msg)\n",
    "    \n",
    "outside()"
   ]
  },
  {
   "cell_type": "markdown",
   "metadata": {},
   "source": [
    "It is good practice to follow the `def` line with a _docstring_ to document the function. There are different conventions for how this should be formatted; I like the Google style: http://sphinxcontrib-napoleon.readthedocs.io/en/latest/example_google.html"
   ]
  },
  {
   "cell_type": "code",
   "execution_count": 113,
   "metadata": {},
   "outputs": [
    {
     "name": "stdout",
     "output_type": "stream",
     "text": [
      "Help on function add in module __main__:\n",
      "\n",
      "add(a, b)\n",
      "    Adds two objects and returns the result.\n",
      "    \n",
      "    Args:\n",
      "        a: The first parameter.\n",
      "        b: The second parameter.\n",
      "    \n",
      "    Returns:\n",
      "        The result of adding a and b.\n",
      "\n"
     ]
    }
   ],
   "source": [
    "def add(a, b):\n",
    "    \"\"\"Adds two objects and returns the result.\n",
    "\n",
    "    Args:\n",
    "        a: The first parameter.\n",
    "        b: The second parameter.\n",
    "\n",
    "    Returns:\n",
    "        The result of adding a and b.\n",
    "    \"\"\"\n",
    "    return a + b\n",
    "\n",
    "# Now we can use help() to get the docstring.\n",
    "help(add)"
   ]
  },
  {
   "cell_type": "markdown",
   "metadata": {},
   "source": [
    "You can return multiple values from a function (really just a tuple):"
   ]
  },
  {
   "cell_type": "code",
   "execution_count": 114,
   "metadata": {},
   "outputs": [
    {
     "name": "stdout",
     "output_type": "stream",
     "text": [
      "(5, 1)\n",
      "9\n",
      "-1\n"
     ]
    }
   ],
   "source": [
    "def sum_diff(a, b):\n",
    "    return a+b, a-b\n",
    "\n",
    "print(sum_diff(3, 2))\n",
    "x, y = sum_diff(4, 5)\n",
    "print(x)\n",
    "print(y)"
   ]
  },
  {
   "cell_type": "markdown",
   "metadata": {},
   "source": [
    "Python supports continuations with yield (this returns a generator which we will dicuss later):"
   ]
  },
  {
   "cell_type": "code",
   "execution_count": 115,
   "metadata": {},
   "outputs": [
    {
     "name": "stdout",
     "output_type": "stream",
     "text": [
      "2\n",
      "4\n",
      "6\n"
     ]
    }
   ],
   "source": [
    "def get_next_even_number(l):\n",
    "    for v in l:\n",
    "        if v % 2 == 0:\n",
    "            yield v\n",
    "    \n",
    "x = [1, 2, 3, 4, 5, 6]\n",
    "for e in get_next_even_number(x):\n",
    "    print(e)"
   ]
  },
  {
   "cell_type": "markdown",
   "metadata": {},
   "source": [
    "You can use `*args` for a variable number of non-keyword arguments, which will be available internally as a list:"
   ]
  },
  {
   "cell_type": "code",
   "execution_count": 116,
   "metadata": {},
   "outputs": [
    {
     "name": "stdout",
     "output_type": "stream",
     "text": [
      "24\n"
     ]
    }
   ],
   "source": [
    "def multiply(*args):\n",
    "    z = 1\n",
    "    for num in args:\n",
    "        z *= num\n",
    "    return z\n",
    "    \n",
    "print(multiply(1, 2, 3, 4))"
   ]
  },
  {
   "cell_type": "code",
   "execution_count": 117,
   "metadata": {},
   "outputs": [
    {
     "name": "stdout",
     "output_type": "stream",
     "text": [
      "Argument 0 is 1\n",
      "Argument 1 is 2\n",
      "Argument 2 is cat\n"
     ]
    }
   ],
   "source": [
    "def foo(*args):\n",
    "    for i in range(0, len(args)):\n",
    "        print(f'Argument {i} is {args[i]}')\n",
    "\n",
    "        \n",
    "foo(1, 2, 'cat')"
   ]
  },
  {
   "cell_type": "markdown",
   "metadata": {},
   "source": [
    "For keyword arguments, you can use `**kwargs`, which will be available internally as a dictionary:"
   ]
  },
  {
   "cell_type": "code",
   "execution_count": 118,
   "metadata": {},
   "outputs": [
    {
     "name": "stdout",
     "output_type": "stream",
     "text": [
      "Positional argument 0 is cat\n",
      "Positional argument 1 is 1\n",
      "Keyword argument clothing is hat\n",
      "Keyword argument location is mat\n"
     ]
    }
   ],
   "source": [
    "def foo(*args, **kwargs):\n",
    "    for i in range(0, len(args)):\n",
    "        print(f'Positional argument {i} is {args[i]}')\n",
    "    for k, v in kwargs.items():\n",
    "        print(f'Keyword argument {k} is {v}')\n",
    "        \n",
    "foo('cat', 1, clothing='hat', location='mat')"
   ]
  },
  {
   "cell_type": "markdown",
   "metadata": {},
   "source": [
    "You can mix all types of arguments but the order is important:\n",
    "* Formal positional arguments\n",
    "* `*args`\n",
    "* Keyword arguments\n",
    "* `**kwargs`\n",
    "\n",
    "You can do the opposite as well - pass a list instead of several positional arguments, and a dictionary instead of several keyword arguments, by using `*` and `**`:"
   ]
  },
  {
   "cell_type": "code",
   "execution_count": 119,
   "metadata": {},
   "outputs": [
    {
     "name": "stdout",
     "output_type": "stream",
     "text": [
      "Positional 1 is 1\n",
      "Positional 2 is 2\n",
      "Named1 is cat\n",
      "Named1 is hat\n"
     ]
    }
   ],
   "source": [
    "def foo(pos1, pos2, named1='a', named2='b'):\n",
    "    print(f\"Positional 1 is {pos1}\")\n",
    "    print(f\"Positional 2 is {pos2}\")\n",
    "    print(f\"Named1 is {named1}\")\n",
    "    print(f\"Named1 is {named2}\")    \n",
    "    \n",
    "p = [1, 2]\n",
    "n = {'named1': 'cat', 'named2': 'hat'}\n",
    "foo(*p, **n)"
   ]
  },
  {
   "cell_type": "markdown",
   "metadata": {},
   "source": [
    "The above is actually a common pattern in Python when writing wrapper functions that need to support arbitrary arguments that they are just going to pass on to some other function. For example, say we wanted to write a wrapper that timed the execution of a function:"
   ]
  },
  {
   "cell_type": "code",
   "execution_count": 120,
   "metadata": {},
   "outputs": [
    {
     "name": "stdout",
     "output_type": "stream",
     "text": [
      "a=1, b=None, c=hello\n",
      "<function foo at 0x10ff6dae8> took 58 microseconds\n"
     ]
    }
   ],
   "source": [
    "import datetime as dt\n",
    "\n",
    "\n",
    "def foo(a, b=None, c=None):\n",
    "    print(f'a={a}, b={b}, c={c}')\n",
    "\n",
    "\n",
    "def log_time(fn, *args, **kwargs):\n",
    "    start = dt.datetime.now()\n",
    "    fn(*args, **kwargs)\n",
    "    end = dt.datetime.now()\n",
    "    print(f\"{fn} took {(end-start).microseconds} microseconds\")\n",
    "    \n",
    "log_time(foo, 1, c='hello')\n",
    "    "
   ]
  },
  {
   "cell_type": "markdown",
   "metadata": {},
   "source": [
    "Note that `def` statements are executed at their level of indentation, and they create function objects that can be called later, including evaluating the default argument values. This means you should be careful when specifying default values for arguments; stick to scalar variables. In particular avoid using things like empty lists! Look at how this can go wrong:"
   ]
  },
  {
   "cell_type": "code",
   "execution_count": 121,
   "metadata": {},
   "outputs": [
    {
     "name": "stdout",
     "output_type": "stream",
     "text": [
      "[]\n",
      "['gotcha!']\n"
     ]
    }
   ],
   "source": [
    "def beware(a=[]):\n",
    "    print(a)\n",
    "    a.append('gotcha!')\n",
    "    \n",
    "beware()\n",
    "beware() # No longer empty list!"
   ]
  },
  {
   "cell_type": "markdown",
   "metadata": {},
   "source": [
    "What heppened above is that the empty list argument was created at function definition time, and at function call time a is assigned a default value which is a reference to the previously created list object. If the list changes those changes will persist.\n",
    "\n",
    "Instead, use something like:"
   ]
  },
  {
   "cell_type": "code",
   "execution_count": 122,
   "metadata": {},
   "outputs": [
    {
     "name": "stdout",
     "output_type": "stream",
     "text": [
      "[]\n",
      "[]\n"
     ]
    }
   ],
   "source": [
    "def beware(a=None):\n",
    "    if a is None:\n",
    "        a=[]\n",
    "    print(a)\n",
    "    a.append('gotcha!')\n",
    "    \n",
    "beware()\n",
    "beware() # Now we are safe"
   ]
  },
  {
   "cell_type": "markdown",
   "metadata": {},
   "source": [
    "Finally, you can use `lambda` to define anonymous functions. These will be very useful when we get to using Pandas for data manipulation:"
   ]
  },
  {
   "cell_type": "code",
   "execution_count": 123,
   "metadata": {},
   "outputs": [
    {
     "data": {
      "text/plain": [
       "3"
      ]
     },
     "execution_count": 123,
     "metadata": {},
     "output_type": "execute_result"
    }
   ],
   "source": [
    "adder = lambda a, b: a + b\n",
    "\n",
    "adder(1, 2)"
   ]
  },
  {
   "cell_type": "markdown",
   "metadata": {},
   "source": [
    "## Classes"
   ]
  },
  {
   "cell_type": "code",
   "execution_count": 124,
   "metadata": {},
   "outputs": [
    {
     "data": {
      "text/plain": [
       "' This is a Widget class. '"
      ]
     },
     "execution_count": 124,
     "metadata": {},
     "output_type": "execute_result"
    }
   ],
   "source": [
    "class Widget:  # same as \"class Widget(object):\"\n",
    "    \"\"\" This is a Widget class. \"\"\"  # Classes have docstrings too.\n",
    "    \n",
    "    def print_my_class(self):  # Instance method as it has a 'self' parameter\n",
    "        \"\"\" Print the instance class. \"\"\"\n",
    "        print(self.__class__)  # __class__ is the easy way to get at an object's class\n",
    "    \n",
    "    @staticmethod\n",
    "    def print_class():  # Static method as it has no 'self' parameter\n",
    "        \"\"\" Print the class class. \"\"\"\n",
    "        print(Widget)\n",
    "        \n",
    "        \n",
    "x = Widget()  # We don't use 'new' in Python\n",
    "x.__doc__  # __doc__ has the docstring"
   ]
  },
  {
   "cell_type": "markdown",
   "metadata": {},
   "source": [
    "In Python, we can declare a class with `class(base)`. If the base class is omitted then `object` is assumed.\n",
    "\n",
    "As mentioned earlier, instance methods take an explicit `self` first parameter which references the instance. So if `widget` is an instance of a `Widget` class and we call:\n",
    "\n",
    "```python\n",
    "widget.foo()\n",
    "```\n",
    "\n",
    "internally that gets converted to the equivalent of:\n",
    "\n",
    "```python\n",
    "Widget.foo(widget)\n",
    "```\n",
    "\n",
    "To declare an instance method, we omit the `self` argument and use a `staticmethod` decorator. The latter prevents the instance being passed as a parameter when we call the method from that instance."
   ]
  },
  {
   "cell_type": "code",
   "execution_count": 125,
   "metadata": {},
   "outputs": [
    {
     "name": "stdout",
     "output_type": "stream",
     "text": [
      "Help on Widget in module __main__ object:\n",
      "\n",
      "class Widget(builtins.object)\n",
      " |  This is a Widget class.\n",
      " |  \n",
      " |  Methods defined here:\n",
      " |  \n",
      " |  print_my_class(self)\n",
      " |      Print the instance class.\n",
      " |  \n",
      " |  ----------------------------------------------------------------------\n",
      " |  Static methods defined here:\n",
      " |  \n",
      " |  print_class()\n",
      " |      Print the class class.\n",
      " |  \n",
      " |  ----------------------------------------------------------------------\n",
      " |  Data descriptors defined here:\n",
      " |  \n",
      " |  __dict__\n",
      " |      dictionary for instance variables (if defined)\n",
      " |  \n",
      " |  __weakref__\n",
      " |      list of weak references to the object (if defined)\n",
      "\n"
     ]
    }
   ],
   "source": [
    "help(x)"
   ]
  },
  {
   "cell_type": "code",
   "execution_count": 126,
   "metadata": {},
   "outputs": [
    {
     "name": "stdout",
     "output_type": "stream",
     "text": [
      "<class '__main__.Widget'>\n"
     ]
    }
   ],
   "source": [
    "x.print_my_class()"
   ]
  },
  {
   "cell_type": "code",
   "execution_count": 127,
   "metadata": {},
   "outputs": [
    {
     "name": "stdout",
     "output_type": "stream",
     "text": [
      "<class '__main__.Widget'>\n"
     ]
    }
   ],
   "source": [
    "x.print_class()"
   ]
  },
  {
   "cell_type": "code",
   "execution_count": 128,
   "metadata": {},
   "outputs": [
    {
     "name": "stdout",
     "output_type": "stream",
     "text": [
      "<class '__main__.Widget'>\n"
     ]
    }
   ],
   "source": [
    "Widget.print_class()"
   ]
  },
  {
   "cell_type": "code",
   "execution_count": 129,
   "metadata": {},
   "outputs": [
    {
     "ename": "TypeError",
     "evalue": "print_my_class() missing 1 required positional argument: 'self'",
     "output_type": "error",
     "traceback": [
      "\u001b[0;31m---------------------------------------------------------------------------\u001b[0m",
      "\u001b[0;31mTypeError\u001b[0m                                 Traceback (most recent call last)",
      "\u001b[0;32m<ipython-input-129-70eb78ad9fde>\u001b[0m in \u001b[0;36m<module>\u001b[0;34m()\u001b[0m\n\u001b[0;32m----> 1\u001b[0;31m \u001b[0mWidget\u001b[0m\u001b[0;34m.\u001b[0m\u001b[0mprint_my_class\u001b[0m\u001b[0;34m(\u001b[0m\u001b[0;34m)\u001b[0m\u001b[0;34m\u001b[0m\u001b[0m\n\u001b[0m",
      "\u001b[0;31mTypeError\u001b[0m: print_my_class() missing 1 required positional argument: 'self'"
     ]
    }
   ],
   "source": [
    "Widget.print_my_class()"
   ]
  },
  {
   "cell_type": "markdown",
   "metadata": {},
   "source": [
    "Note that if we had:\n",
    "\n",
    "```python\n",
    "class Foo():\n",
    "     def s1():\n",
    "         print('s1')\n",
    "\n",
    "     @staticmethod\n",
    "     def s2():\n",
    "         print('s2')\n",
    "```\n",
    "\n",
    "then we could call `Foo.s1()` or `Foo.s2()` with no issues, but if `foo` was an instance of `Foo`, while we could call `foo.s2()` without a problem, if we called `foo.s1()` we would get an error:\n",
    "\n",
    "```\n",
    "TypeError: s1() takes 0 positional arguments but 1 was given\n",
    "```\n",
    "\n",
    "because Python would try to pass the instance as a parameter as it is missing @staticdecorator.\n",
    "\n",
    "We can get the docstring of the class and more with `help`:"
   ]
  },
  {
   "cell_type": "code",
   "execution_count": 130,
   "metadata": {},
   "outputs": [
    {
     "name": "stdout",
     "output_type": "stream",
     "text": [
      "Help on class Widget in module __main__:\n",
      "\n",
      "class Widget(builtins.object)\n",
      " |  This is a Widget class.\n",
      " |  \n",
      " |  Methods defined here:\n",
      " |  \n",
      " |  print_my_class(self)\n",
      " |      Print the instance class.\n",
      " |  \n",
      " |  ----------------------------------------------------------------------\n",
      " |  Static methods defined here:\n",
      " |  \n",
      " |  print_class()\n",
      " |      Print the class class.\n",
      " |  \n",
      " |  ----------------------------------------------------------------------\n",
      " |  Data descriptors defined here:\n",
      " |  \n",
      " |  __dict__\n",
      " |      dictionary for instance variables (if defined)\n",
      " |  \n",
      " |  __weakref__\n",
      " |      list of weak references to the object (if defined)\n",
      "\n"
     ]
    }
   ],
   "source": [
    "help(Widget)"
   ]
  },
  {
   "cell_type": "markdown",
   "metadata": {},
   "source": [
    "### Constructors and visibility\n",
    "\n",
    "A class does not require a constructor, but can have (at most) one. The constructor is an instance method named `__init__`. It can take additional parameters other than `self`.\n",
    "\n",
    "Python does not support private or protected members. By convention, private members should be named starting with an underscore, but this is an 'honor system'; everything is public. Also by convention, you should avoid double underscores; that should be reerved for dunder-methods."
   ]
  },
  {
   "cell_type": "code",
   "execution_count": 131,
   "metadata": {},
   "outputs": [
    {
     "name": "stdout",
     "output_type": "stream",
     "text": [
      "Help on class Bug in module __main__:\n",
      "\n",
      "class Bug(builtins.object)\n",
      " |  A class for creepy crawly things.\n",
      " |  \n",
      " |  Methods defined here:\n",
      " |  \n",
      " |  __init__(self, legs=6, name='bug')\n",
      " |      Initialize self.  See help(type(self)) for accurate signature.\n",
      " |  \n",
      " |  __repr__(self)\n",
      " |      Return repr(self).\n",
      " |  \n",
      " |  article(self)\n",
      " |      Return the English article for the given name.\n",
      " |  \n",
      " |  ----------------------------------------------------------------------\n",
      " |  Data descriptors defined here:\n",
      " |  \n",
      " |  __dict__\n",
      " |      dictionary for instance variables (if defined)\n",
      " |  \n",
      " |  __weakref__\n",
      " |      list of weak references to the object (if defined)\n",
      " |  \n",
      " |  ----------------------------------------------------------------------\n",
      " |  Data and other attributes defined here:\n",
      " |  \n",
      " |  heads = 1\n",
      "\n"
     ]
    }
   ],
   "source": [
    "class Bug:\n",
    "    \"\"\" A class for creepy crawly things. \"\"\"\n",
    "    \n",
    "    heads = 1  # This is a class variable\n",
    "    \n",
    "    def __init__(self, legs=6, name='bug'):\n",
    "        self.legs = legs  # Any variable assigned to with self.var = ... in constructor is an instance variable\n",
    "        self.name = name\n",
    "    \n",
    "    @staticmethod\n",
    "    def _article(name):  # 'private' class method\n",
    "        \"\"\" Return the English article for the given name. \"\"\"\n",
    "        return 'an'if 'aeiouAEIOU'.find(name[0]) >= 0 else 'a'\n",
    "\n",
    "    def article(self):  # 'public' instance method\n",
    "        \"\"\" Return the English article for the given name. \"\"\"\n",
    "        return Bug._article(self.name)\n",
    "    \n",
    "    def __repr__(self):  # __repr__ is called to get a printable representation of an object\n",
    "        return f\"I'm {Bug._article(self.name)} {self.name} with {self.legs} legs\"\n",
    "\n",
    "# Notice how help() will show help for article() but not _article().\n",
    "# It respects the '_' convention for 'privacy'.\n",
    "help(Bug)"
   ]
  },
  {
   "cell_type": "code",
   "execution_count": 132,
   "metadata": {},
   "outputs": [
    {
     "data": {
      "text/plain": [
       "I'm a bug with 6 legs"
      ]
     },
     "execution_count": 132,
     "metadata": {},
     "output_type": "execute_result"
    }
   ],
   "source": [
    "Bug()"
   ]
  },
  {
   "cell_type": "code",
   "execution_count": 133,
   "metadata": {},
   "outputs": [
    {
     "data": {
      "text/plain": [
       "I'm a bug with 8 legs"
      ]
     },
     "execution_count": 133,
     "metadata": {},
     "output_type": "execute_result"
    }
   ],
   "source": [
    "Bug(legs=8)"
   ]
  },
  {
   "cell_type": "markdown",
   "metadata": {},
   "source": [
    "It is recommended to always define a `__repr__` method on your classes."
   ]
  },
  {
   "cell_type": "markdown",
   "metadata": {},
   "source": [
    "### Inheritance\n",
    "\n",
    "Python supports both single and multiple inheritance (which we won't discuss). To up-call to a base method with single-inheritance we use `super()`:"
   ]
  },
  {
   "cell_type": "code",
   "execution_count": 134,
   "metadata": {},
   "outputs": [
    {
     "data": {
      "text/plain": [
       "I'm an insect with 6 legs"
      ]
     },
     "execution_count": 134,
     "metadata": {},
     "output_type": "execute_result"
    }
   ],
   "source": [
    "class Insect(Bug):\n",
    "    \n",
    "    def __init__(self):\n",
    "        super().__init__(name='insect')\n",
    "        \n",
    "Insect()"
   ]
  },
  {
   "cell_type": "code",
   "execution_count": 135,
   "metadata": {},
   "outputs": [
    {
     "data": {
      "text/plain": [
       "I'm a spider with 8 legs"
      ]
     },
     "execution_count": 135,
     "metadata": {},
     "output_type": "execute_result"
    }
   ],
   "source": [
    "class Spider(Bug):\n",
    "    \n",
    "    def __init__(self):\n",
    "        super().__init__(legs=8, name='spider')\n",
    "        \n",
    "Spider()"
   ]
  },
  {
   "cell_type": "markdown",
   "metadata": {},
   "source": [
    "### Under the Hood\n",
    "\n",
    "You can skip this section if you're not interested, but it can be useful to have some understanding of how classes work in Python.\n",
    "\n",
    "Classes and class instances both have a `.__dict__` attribute that holds their methods and variables/attributes. For example:"
   ]
  },
  {
   "cell_type": "code",
   "execution_count": 136,
   "metadata": {},
   "outputs": [
    {
     "data": {
      "text/plain": [
       "mappingproxy({'__dict__': <attribute '__dict__' of 'Example' objects>,\n",
       "              '__doc__': ' this is a class docopt string. ',\n",
       "              '__init__': <function __main__.Example.__init__>,\n",
       "              '__module__': '__main__',\n",
       "              '__weakref__': <attribute '__weakref__' of 'Example' objects>,\n",
       "              'class_method': <function __main__.Example.class_method>,\n",
       "              'class_var': 'this is a class variable',\n",
       "              'instance_method': <function __main__.Example.instance_method>})"
      ]
     },
     "execution_count": 136,
     "metadata": {},
     "output_type": "execute_result"
    }
   ],
   "source": [
    "class Example:\n",
    "    \"\"\" this is a class docopt string. \"\"\"\n",
    "    \n",
    "    class_var = 'this is a class variable'\n",
    "    \n",
    "    def __init__(self):\n",
    "        \"\"\" This is an instance docopt string. \"\"\"\n",
    "        self.instance_var = 'this is an instance var'\n",
    "        \n",
    "    def class_method():\n",
    "        \"\"\" This is a class method docopt string. \"\"\"\n",
    "        pass\n",
    "    \n",
    "    def instance_method(self):\n",
    "        return self.instance_var\n",
    "    \n",
    "Example.__dict__"
   ]
  },
  {
   "cell_type": "markdown",
   "metadata": {},
   "source": [
    "In the case of classes we really have a special object, a `mappingproxy`; this is a wrapper around a dictionary that makes it read-only and enforces that all keys are strings."
   ]
  },
  {
   "cell_type": "code",
   "execution_count": 137,
   "metadata": {},
   "outputs": [
    {
     "name": "stdout",
     "output_type": "stream",
     "text": [
      "{'instance_var': 'this is an instance var'}\n",
      "<class 'dict'>\n"
     ]
    }
   ],
   "source": [
    "# Similarly for an instance, although this really is a dict, not a mappingproxy.\n",
    "e = Example()\n",
    "print(e.__dict__)\n",
    "print(e.__dict__.__class__)"
   ]
  },
  {
   "cell_type": "code",
   "execution_count": 138,
   "metadata": {},
   "outputs": [
    {
     "data": {
      "text/plain": [
       "__main__.Example"
      ]
     },
     "execution_count": 138,
     "metadata": {},
     "output_type": "execute_result"
    }
   ],
   "source": [
    "# Instances have a .__class__ attribute that points to their class.\n",
    "e.__class__"
   ]
  },
  {
   "cell_type": "code",
   "execution_count": 139,
   "metadata": {},
   "outputs": [
    {
     "name": "stdout",
     "output_type": "stream",
     "text": [
      "this is a class variable\n",
      "this is a class variable\n",
      "Changed class var\n",
      "Changed class var\n"
     ]
    }
   ],
   "source": [
    "# To change a class variable, qualify with the class name:\n",
    "\n",
    "e2 = Example()\n",
    "print(e.class_var)\n",
    "print(e2.class_var)\n",
    "\n",
    "Example.class_var = 'Changed class var'\n",
    "\n",
    "# Note how it is changed for all instances\n",
    "print(e.class_var)\n",
    "print(e2.class_var)"
   ]
  },
  {
   "cell_type": "code",
   "execution_count": 140,
   "metadata": {},
   "outputs": [
    {
     "name": "stdout",
     "output_type": "stream",
     "text": [
      "Changed class var\n",
      "e2 class var is actually an instance var\n",
      "{'instance_var': 'this is an instance var'}\n",
      "{'instance_var': 'this is an instance var', 'class_var': 'e2 class var is actually an instance var'}\n"
     ]
    }
   ],
   "source": [
    "# If you qualify with an instance instead, you'll end up creating an instance variable instead!\n",
    "e2.class_var = 'e2 class var is actually an instance var'\n",
    "print(e.class_var)\n",
    "print(e2.class_var)\n",
    "print(e.__dict__)\n",
    "print(e2.__dict__)"
   ]
  },
  {
   "cell_type": "code",
   "execution_count": 141,
   "metadata": {},
   "outputs": [
    {
     "data": {
      "text/plain": [
       "<bound method Example.instance_method of <__main__.Example object at 0x10fe224e0>>"
      ]
     },
     "execution_count": 141,
     "metadata": {},
     "output_type": "execute_result"
    }
   ],
   "source": [
    "# When we dereference an instance method, we get a *bound method*; the instance method bound to the instance:\n",
    "e.instance_method"
   ]
  },
  {
   "cell_type": "code",
   "execution_count": 142,
   "metadata": {},
   "outputs": [
    {
     "data": {
      "text/plain": [
       "\"e's instance var\""
      ]
     },
     "execution_count": 142,
     "metadata": {},
     "output_type": "execute_result"
    }
   ],
   "source": [
    "# We can save a reference to the bound method and call it later and it will use the right instance\n",
    "\n",
    "f = e.instance_method\n",
    "e.instance_var = 'e\\'s instance var'\n",
    "f()"
   ]
  },
  {
   "cell_type": "markdown",
   "metadata": {},
   "source": [
    "There's a lot more to it than this, but this should give you some idea of how Python can support monkey-patching at run-time and other flexibility."
   ]
  },
  {
   "cell_type": "markdown",
   "metadata": {},
   "source": [
    "## Exceptions\n",
    "\n",
    "You can raise an exception with the `raise` statememt. You can give an instance of any class that derives from the `BaseException` class. You can catch exceptions using `try: except:`. If you want to get a reference to the exception, use `catch..as..`:"
   ]
  },
  {
   "cell_type": "code",
   "execution_count": 143,
   "metadata": {},
   "outputs": [
    {
     "name": "stdout",
     "output_type": "stream",
     "text": [
      "The dude minds, man!\n",
      "None\n"
     ]
    },
    {
     "ename": "TypeError",
     "evalue": "unsupported operand type(s) for +: 'int' and 'str'",
     "output_type": "error",
     "traceback": [
      "\u001b[0;31m---------------------------------------------------------------------------\u001b[0m",
      "\u001b[0;31mTypeError\u001b[0m                                 Traceback (most recent call last)",
      "\u001b[0;32m<ipython-input-143-d2931b582ed8>\u001b[0m in \u001b[0;36m<module>\u001b[0;34m()\u001b[0m\n\u001b[1;32m     18\u001b[0m \u001b[0;34m\u001b[0m\u001b[0m\n\u001b[1;32m     19\u001b[0m \u001b[0mprint\u001b[0m\u001b[0;34m(\u001b[0m\u001b[0maverage\u001b[0m\u001b[0;34m(\u001b[0m\u001b[0;34m[\u001b[0m\u001b[0;34m]\u001b[0m\u001b[0;34m)\u001b[0m\u001b[0;34m)\u001b[0m\u001b[0;34m\u001b[0m\u001b[0m\n\u001b[0;32m---> 20\u001b[0;31m \u001b[0mprint\u001b[0m\u001b[0;34m(\u001b[0m\u001b[0maverage\u001b[0m\u001b[0;34m(\u001b[0m\u001b[0;34m[\u001b[0m\u001b[0;34m'cat'\u001b[0m\u001b[0;34m]\u001b[0m\u001b[0;34m)\u001b[0m\u001b[0;34m)\u001b[0m\u001b[0;34m\u001b[0m\u001b[0m\n\u001b[0m",
      "\u001b[0;32m<ipython-input-143-d2931b582ed8>\u001b[0m in \u001b[0;36maverage\u001b[0;34m(seq)\u001b[0m\n\u001b[1;32m     10\u001b[0m     \u001b[0;34m\"Compute the average of an iterable. \"\u001b[0m\u001b[0;34m\u001b[0m\u001b[0m\n\u001b[1;32m     11\u001b[0m     \u001b[0;32mtry\u001b[0m\u001b[0;34m:\u001b[0m\u001b[0;34m\u001b[0m\u001b[0m\n\u001b[0;32m---> 12\u001b[0;31m         \u001b[0mresult\u001b[0m \u001b[0;34m=\u001b[0m \u001b[0msum\u001b[0m\u001b[0;34m(\u001b[0m\u001b[0mseq\u001b[0m\u001b[0;34m)\u001b[0m \u001b[0;34m/\u001b[0m \u001b[0mlen\u001b[0m\u001b[0;34m(\u001b[0m\u001b[0mseq\u001b[0m\u001b[0;34m)\u001b[0m\u001b[0;34m\u001b[0m\u001b[0m\n\u001b[0m\u001b[1;32m     13\u001b[0m     \u001b[0;32mexcept\u001b[0m \u001b[0mZeroDivisionError\u001b[0m \u001b[0;32mas\u001b[0m \u001b[0me\u001b[0m\u001b[0;34m:\u001b[0m\u001b[0;34m\u001b[0m\u001b[0m\n\u001b[1;32m     14\u001b[0m         \u001b[0;32mreturn\u001b[0m \u001b[0;32mNone\u001b[0m\u001b[0;34m\u001b[0m\u001b[0m\n",
      "\u001b[0;31mTypeError\u001b[0m: unsupported operand type(s) for +: 'int' and 'str'"
     ]
    }
   ],
   "source": [
    "try:\n",
    "    raise Exception('The dude minds, man!')\n",
    "except Exception as x:  # Exception is the type of exception to catch, x is the variable to catch it with.\n",
    "    print(x)\n",
    "    \n",
    "# You can catch different types of exceptions, and you can use 'raise' on its own in the exception handling\n",
    "# block to rethrow the exception.\n",
    "\n",
    "def average(seq):\n",
    "    \"Compute the average of an iterable. \"\n",
    "    try:\n",
    "        result = sum(seq) / len(seq)\n",
    "    except ZeroDivisionError as e:\n",
    "        return None\n",
    "    except Exception:\n",
    "        raise\n",
    "    return result\n",
    "\n",
    "print(average([]))\n",
    "print(average(['cat']))"
   ]
  },
  {
   "cell_type": "markdown",
   "metadata": {},
   "source": [
    "## Comprehensions\n",
    "\n",
    "Comprehensions are a powerful feature in Python, allowing lists, dictionaries and tuples to be constructed from iterative computations with minimal code. These are best illustrated by examples:"
   ]
  },
  {
   "cell_type": "code",
   "execution_count": 144,
   "metadata": {},
   "outputs": [
    {
     "data": {
      "text/plain": [
       "[1, 4, 9, 16, 25]"
      ]
     },
     "execution_count": 144,
     "metadata": {},
     "output_type": "execute_result"
    }
   ],
   "source": [
    "# A list of all squares from 1 to 25\n",
    "[x*x for x in range(1, 6)]"
   ]
  },
  {
   "cell_type": "code",
   "execution_count": 145,
   "metadata": {},
   "outputs": [
    {
     "data": {
      "text/plain": [
       "[1,\n",
       " 4,\n",
       " 9,\n",
       " 16,\n",
       " 36,\n",
       " 49,\n",
       " 64,\n",
       " 81,\n",
       " 121,\n",
       " 144,\n",
       " 169,\n",
       " 196,\n",
       " 256,\n",
       " 289,\n",
       " 324,\n",
       " 361,\n",
       " 441,\n",
       " 484,\n",
       " 529,\n",
       " 576,\n",
       " 676,\n",
       " 729,\n",
       " 784,\n",
       " 841,\n",
       " 961,\n",
       " 1024]"
      ]
     },
     "execution_count": 145,
     "metadata": {},
     "output_type": "execute_result"
    }
   ],
   "source": [
    "# A list of all squares from 1 to 1024 except those divisble by 5\n",
    "[x*x for x in range(1, 33) if (x*x) % 5 != 0]"
   ]
  },
  {
   "cell_type": "code",
   "execution_count": 146,
   "metadata": {},
   "outputs": [
    {
     "data": {
      "text/plain": [
       "[[1.0, 2.0], [3.0, 4.0]]"
      ]
     },
     "execution_count": 146,
     "metadata": {},
     "output_type": "execute_result"
    }
   ],
   "source": [
    "# Comprehensions can be nested\n",
    "t = [\n",
    "    ['1', '2'],\n",
    "    ['3', '4']\n",
    "]\n",
    "\n",
    "# Make a list of lists from t where we convert the strings to floats\n",
    "[[float(y) for y in x] for x in t]"
   ]
  },
  {
   "cell_type": "code",
   "execution_count": 147,
   "metadata": {
    "scrolled": true
   },
   "outputs": [
    {
     "data": {
      "text/plain": [
       "{'Square of 1': 1,\n",
       " 'Square of 2': 4,\n",
       " 'Square of 3': 9,\n",
       " 'Square of 4': 16,\n",
       " 'Square of 5': 25}"
      ]
     },
     "execution_count": 147,
     "metadata": {},
     "output_type": "execute_result"
    }
   ],
   "source": [
    "# Dictionary comprehension\n",
    "{ f'Square of {x}': x*x for x in range(1, 6)}"
   ]
  },
  {
   "cell_type": "markdown",
   "metadata": {},
   "source": [
    "## Iterators and Generators\n",
    "\n",
    "A Python iterator is an object with a `__next__` method for sequential access, that raises a StopIteration when done.\n",
    "\n",
    "A Python iterable is an object that defines a `__getitem__` method that can take sequential integer indices starting from 0 (so not necessarily random access) and raises an IndexError when done, or that has an `__iter__` method which returns an iterator.\n",
    "\n",
    "See https://docs.python.org/3/tutorial/classes.html#iterators for more; here's an example from that link:"
   ]
  },
  {
   "cell_type": "code",
   "execution_count": 148,
   "metadata": {},
   "outputs": [
    {
     "name": "stdout",
     "output_type": "stream",
     "text": [
      "m\n",
      "a\n",
      "p\n",
      "s\n"
     ]
    }
   ],
   "source": [
    "class Reverse:\n",
    "    \"\"\"Iterator for looping over a sequence backwards.\"\"\"\n",
    "    def __init__(self, data):\n",
    "        self.data = data\n",
    "        self.index = len(data)\n",
    "\n",
    "    def __iter__(self):\n",
    "        return self\n",
    "\n",
    "    def __next__(self):\n",
    "        if self.index == 0:\n",
    "            raise StopIteration\n",
    "        self.index = self.index - 1\n",
    "        return self.data[self.index]\n",
    "    \n",
    "for char in Reverse(\"spam\"):\n",
    "    print(char)"
   ]
  },
  {
   "cell_type": "markdown",
   "metadata": {},
   "source": [
    "A generator is an easier way of creating an iterable, by simply writing a function that uses `yield` instead of `return`. For example, we can write a generator for Fibonacci numbers like this:"
   ]
  },
  {
   "cell_type": "code",
   "execution_count": 149,
   "metadata": {},
   "outputs": [
    {
     "name": "stdout",
     "output_type": "stream",
     "text": [
      "1\n",
      "1\n",
      "2\n",
      "3\n",
      "5\n",
      "8\n",
      "13\n",
      "21\n",
      "34\n",
      "55\n",
      "89\n",
      "144\n"
     ]
    }
   ],
   "source": [
    "def fibonacci():\n",
    "    x = 1\n",
    "    y = 0\n",
    "    while True:\n",
    "        lasty = y\n",
    "        y += x\n",
    "        x = lasty\n",
    "        yield y\n",
    "        \n",
    "#f = fibonacci()\n",
    "for i in fibonacci():\n",
    "    print(i)\n",
    "    if i > 100:\n",
    "        break"
   ]
  },
  {
   "cell_type": "markdown",
   "metadata": {},
   "source": [
    "It is worth noting that using these is very idiomatic to Python normally (see the *Fluent Python* book for example), but in the data science domain, this idiom is more commonly replaced by vectorising. This web-based book goes deep into this different way of thinking: http://www.labri.fr/perso/nrougier/from-python-to-numpy/"
   ]
  },
  {
   "cell_type": "markdown",
   "metadata": {},
   "source": [
    "## async/await\n",
    "\n",
    "Python runs as a single-threaded process. That means things like I/O can slow things down a lot. It is possible to use multiple threads - there are several libaries for that - but even with a single thread big improvements are possible with async code. The details are beyond the scope of the bootcamp, but more info is available here: https://docs.python.org/3/library/asyncio-task.html. Recent changes in Python have made this much more powerful, flexible and easy to use."
   ]
  },
  {
   "cell_type": "markdown",
   "metadata": {},
   "source": [
    "## Type Annotations\n",
    "\n",
    "Python has some mechanisms for doing optional type annotations. These can improve execution speed and there are some packages that can enforce type checking at run-time. It's not a bad idea to start using these but they're out of scope of this bootcamp. \n",
    "\n",
    "See https://docs.python.org/3/library/typing.html and http://mypy-lang.org/ for more.\n"
   ]
  },
  {
   "cell_type": "markdown",
   "metadata": {},
   "source": [
    "## Logging\n",
    "\n",
    "See https://opensource.com/article/17/9/python-logging for detals on Python logging.\n",
    "\n",
    "I recommend looking at Daiquiri, which biulds on top of the standard logging library and make things easy:\n",
    "\n",
    "https://julien.danjou.info/blog/python-logging-easy-with-daiquiri"
   ]
  },
  {
   "cell_type": "code",
   "execution_count": 150,
   "metadata": {},
   "outputs": [
    {
     "name": "stdout",
     "output_type": "stream",
     "text": [
      "Collecting daiquiri\n",
      "  Downloading daiquiri-1.3.0-py2.py3-none-any.whl\n",
      "Installing collected packages: daiquiri\n",
      "Successfully installed daiquiri-1.3.0\n",
      "\u001b[33mYou are using pip version 9.0.1, however version 9.0.3 is available.\n",
      "You should consider upgrading via the 'pip install --upgrade pip' command.\u001b[0m\n"
     ]
    }
   ],
   "source": [
    "import sys\n",
    "!{sys.executable} -m pip install daiquiri"
   ]
  },
  {
   "cell_type": "code",
   "execution_count": 151,
   "metadata": {},
   "outputs": [
    {
     "name": "stderr",
     "output_type": "stream",
     "text": [
      "2018-04-12 19:58:17,065 [13060] INFO     bootcamp: It works and logs to stderr by default with color!\n"
     ]
    }
   ],
   "source": [
    "import logging\n",
    "import daiquiri\n",
    "\n",
    "daiquiri.setup(level=logging.INFO)\n",
    "\n",
    "logger = daiquiri.getLogger(\"bootcamp\")\n",
    "logger.info(\"It works and logs to stderr by default with color!\")"
   ]
  },
  {
   "cell_type": "markdown",
   "metadata": {},
   "source": [
    "## Debugging in the Notebook\n",
    "\n",
    "You can use the Python debugger pdf within a notebook. Just add this code at the point you want to break execution and enter the debugger:\n",
    "    \n",
    "```python\n",
    "import pdb; pdb.set_trace()\n",
    "```\n",
    "\n",
    "Once you're in the debugger, use the command `h` for help to see the commands available."
   ]
  },
  {
   "cell_type": "markdown",
   "metadata": {},
   "source": [
    "## Converting between Lists/Dictionaries and JSON\n",
    "\n",
    "Non-tabular data can be stored in dictionaries, which may be nested and contain lists. This is similar to JSON data on the web and in Javascript, and Python provides a `json` package for converting between these formats."
   ]
  },
  {
   "cell_type": "code",
   "execution_count": 152,
   "metadata": {},
   "outputs": [
    {
     "name": "stdout",
     "output_type": "stream",
     "text": [
      "<class 'str'>\n"
     ]
    },
    {
     "data": {
      "text/plain": [
       "'[{\"title\": \"Tales of the Inexpressible\", \"artist\": \"Shpongle\", \"year\": 2001, \"tracks\": [{\"title\": \"Dorset Perception\", \"time\": \"8:12\"}, {\"title\": \"Star Shpongled Banner\", \"time\": \"8:23\"}, {\"title\": \"A New Way to Say Hooray!\", \"time\": \"8:32\"}, {\"title\": \"Room 2\\\\u0950\", \"time\": \"5:05\"}, {\"title\": \"My Head Feels Like a Frisbee\", \"time\": \"8:52\"}, {\"title\": \"Shpongleyes\", \"time\": \"8:56\"}, {\"title\": \"Once Upon the Sea of Blissful Awareness\", \"time\": \"7:30\"}, {\"title\": \"Around the World in a Tea Daze\", \"time\": \"11:21\"}, {\"title\": \"Flute Fruit\", \"time\": \"2:09\"}]}]'"
      ]
     },
     "execution_count": 152,
     "metadata": {},
     "output_type": "execute_result"
    }
   ],
   "source": [
    "import json\n",
    "\n",
    "my_albums = [\n",
    "    {\n",
    "        'title': 'Tales of the Inexpressible',\n",
    "        'artist': 'Shpongle',\n",
    "        'year': 2001,\n",
    "        'tracks': [\n",
    "            { 'title': 'Dorset Perception', 'time': '8:12' },\n",
    "            { 'title': 'Star Shpongled Banner', 'time': '8:23' },\n",
    "            { 'title': 'A New Way to Say Hooray!', 'time': '8:32' },\n",
    "            { 'title': 'Room 2ॐ', 'time': '5:05' },\n",
    "            { 'title': 'My Head Feels Like a Frisbee', 'time': '8:52' },\n",
    "            { 'title': 'Shpongleyes', 'time': '8:56' },\n",
    "            { 'title': 'Once Upon the Sea of Blissful Awareness', 'time': '7:30' },\n",
    "            { 'title': 'Around the World in a Tea Daze', 'time': '11:21' },\n",
    "            { 'title': 'Flute Fruit', 'time': '2:09' },\n",
    "        ],\n",
    "    }\n",
    "]\n",
    "\n",
    "j = json.dumps(my_albums)  # Convert to JSON string\n",
    "print(type(j))\n",
    "j"
   ]
  },
  {
   "cell_type": "code",
   "execution_count": 153,
   "metadata": {},
   "outputs": [
    {
     "name": "stdout",
     "output_type": "stream",
     "text": [
      "<class 'list'>\n"
     ]
    },
    {
     "data": {
      "text/plain": [
       "[{'artist': 'Shpongle',\n",
       "  'title': 'Tales of the Inexpressible',\n",
       "  'tracks': [{'time': '8:12', 'title': 'Dorset Perception'},\n",
       "   {'time': '8:23', 'title': 'Star Shpongled Banner'},\n",
       "   {'time': '8:32', 'title': 'A New Way to Say Hooray!'},\n",
       "   {'time': '5:05', 'title': 'Room 2ॐ'},\n",
       "   {'time': '8:52', 'title': 'My Head Feels Like a Frisbee'},\n",
       "   {'time': '8:56', 'title': 'Shpongleyes'},\n",
       "   {'time': '7:30', 'title': 'Once Upon the Sea of Blissful Awareness'},\n",
       "   {'time': '11:21', 'title': 'Around the World in a Tea Daze'},\n",
       "   {'time': '2:09', 'title': 'Flute Fruit'}],\n",
       "  'year': 2001}]"
      ]
     },
     "execution_count": 153,
     "metadata": {},
     "output_type": "execute_result"
    }
   ],
   "source": [
    "p = json.loads(j)  # Convert from JSON string to Python object\n",
    "print(type(p))\n",
    "p"
   ]
  },
  {
   "cell_type": "markdown",
   "metadata": {},
   "source": [
    "## Dates and Times\n",
    "\n",
    "It's worth briefly discussing Python's support for date and time operations as these are relevant to the exploratory data analysis we will be doing.\n",
    "\n",
    "The standard library has two modules related to this area:\n",
    "\n",
    "- `time`, which includes many low-level wrappers around platform C APIs. In particular, routines that convert between epoch time (from Jan 1, 1970) to the various time components found in a C `tm` struct. The most useful functions here are related to getting the system time zone and the `time.sleep()` function which pauses execution;\n",
    "- `datetime` which provides a more high-level set of functions for dealing with dates, times, and time intervals; this is the module we will focus on here.\n",
    "\n",
    "In addition to this, there are some good third-party libraries to be aware of, that, amongst other things, provide flexible date parsing operations from different formats. The most commonly used one, that extends the functionality of `datetime`, is `dateutil` (https://dateutil.readthedocs.io/en/stable/) but another that is growing in popularity is `arrow` (http://arrow.readthedocs.io/en/latest/) which provides a completely different approach with a very natural API. \n",
    "\n",
    "The `datetime` module (https://docs.python.org/3.6/library/datetime.html) defines five classes:\n",
    "\n",
    "- `datetime`, combining a date and time\n",
    "- `date`, a date only with no time component\n",
    "- `time`, a time of day only, with no date component\n",
    "- `timedelta`, an interval between two points in time\n",
    "- `tzinfo`, a class that contains information about a time zone\n",
    "\n",
    "\n",
    "## Cool Stuff\n",
    "\n",
    "See https://github.com/tukkek/notablepython\n",
    "\n",
    "Concise reference: https://github.com/mattharrison/Tiny-Python-3.6-Notebook\n",
    "\n",
    "The Hitchhikers Guide to Python documents many best practices: http://docs.python-guide.org/en/latest/\n",
    "\n",
    "Easily progress bars to outer loops (works in Jupyter and console): https://pypi.python.org/pypi/tqdm\n",
    "\n",
    "For anyone who wants to get really serious about Python, Mark Lutz's and David Beazley's books are good but some are dated, but the best book on the language itself is IMO \"Fluent Python\" by Luciano Ramalho. There are also many excellent talks at http://pyvideo.org/. \n",
    "\n",
    "Blog aggregator for Python: http://planetpython.org/\n",
    "\n",
    "\n",
    "If you're interested in what the underlying Python byte code looks like for a function or class you can use the `dis` module:"
   ]
  },
  {
   "cell_type": "code",
   "execution_count": 154,
   "metadata": {},
   "outputs": [
    {
     "name": "stdout",
     "output_type": "stream",
     "text": [
      "Disassembly of print_class:\n",
      " 11           0 LOAD_GLOBAL              0 (print)\n",
      "              2 LOAD_GLOBAL              1 (Widget)\n",
      "              4 CALL_FUNCTION            1\n",
      "              6 POP_TOP\n",
      "              8 LOAD_CONST               1 (None)\n",
      "             10 RETURN_VALUE\n",
      "\n",
      "Disassembly of print_my_class:\n",
      "  6           0 LOAD_GLOBAL              0 (print)\n",
      "              2 LOAD_FAST                0 (self)\n",
      "              4 LOAD_ATTR                1 (__class__)\n",
      "              6 CALL_FUNCTION            1\n",
      "              8 POP_TOP\n",
      "             10 LOAD_CONST               1 (None)\n",
      "             12 RETURN_VALUE\n",
      "\n"
     ]
    }
   ],
   "source": [
    "import dis\n",
    "\n",
    "dis.dis(Widget)"
   ]
  },
  {
   "cell_type": "markdown",
   "metadata": {},
   "source": [
    "## Going Deeper\n",
    "\n",
    "### The sys module\n",
    "\n",
    "`sys.modules` is a dictionary of the currently imported modules:"
   ]
  },
  {
   "cell_type": "code",
   "execution_count": 155,
   "metadata": {},
   "outputs": [
    {
     "data": {
      "text/plain": [
       "{'builtins': <module 'builtins' (built-in)>,\n",
       " 'sys': <module 'sys' (built-in)>,\n",
       " '_frozen_importlib': <module 'importlib._bootstrap' (frozen)>,\n",
       " '_imp': <module '_imp' (built-in)>,\n",
       " '_warnings': <module '_warnings' (built-in)>,\n",
       " '_thread': <module '_thread' (built-in)>,\n",
       " '_weakref': <module '_weakref' (built-in)>,\n",
       " '_frozen_importlib_external': <module 'importlib._bootstrap_external' (frozen)>,\n",
       " '_io': <module 'io' (built-in)>,\n",
       " 'marshal': <module 'marshal' (built-in)>,\n",
       " 'posix': <module 'posix' (built-in)>,\n",
       " 'zipimport': <module 'zipimport' (built-in)>,\n",
       " 'encodings': <module 'encodings' from '/Users/gram/anaconda/lib/python3.6/encodings/__init__.py'>,\n",
       " 'codecs': <module 'codecs' from '/Users/gram/anaconda/lib/python3.6/codecs.py'>,\n",
       " '_codecs': <module '_codecs' (built-in)>,\n",
       " 'encodings.aliases': <module 'encodings.aliases' from '/Users/gram/anaconda/lib/python3.6/encodings/aliases.py'>,\n",
       " 'encodings.utf_8': <module 'encodings.utf_8' from '/Users/gram/anaconda/lib/python3.6/encodings/utf_8.py'>,\n",
       " '_signal': <module '_signal' (built-in)>,\n",
       " '__main__': <module '__main__'>,\n",
       " 'encodings.latin_1': <module 'encodings.latin_1' from '/Users/gram/anaconda/lib/python3.6/encodings/latin_1.py'>,\n",
       " 'io': <module 'io' from '/Users/gram/anaconda/lib/python3.6/io.py'>,\n",
       " 'abc': <module 'abc' from '/Users/gram/anaconda/lib/python3.6/abc.py'>,\n",
       " '_weakrefset': <module '_weakrefset' from '/Users/gram/anaconda/lib/python3.6/_weakrefset.py'>,\n",
       " '_bootlocale': <module '_bootlocale' from '/Users/gram/anaconda/lib/python3.6/_bootlocale.py'>,\n",
       " '_locale': <module '_locale' (built-in)>,\n",
       " 'site': <module 'site' from '/Users/gram/anaconda/lib/python3.6/site.py'>,\n",
       " 'os': <module 'os' from '/Users/gram/anaconda/lib/python3.6/os.py'>,\n",
       " 'errno': <module 'errno' (built-in)>,\n",
       " 'stat': <module 'stat' from '/Users/gram/anaconda/lib/python3.6/stat.py'>,\n",
       " '_stat': <module '_stat' (built-in)>,\n",
       " 'posixpath': <module 'posixpath' from '/Users/gram/anaconda/lib/python3.6/posixpath.py'>,\n",
       " 'genericpath': <module 'genericpath' from '/Users/gram/anaconda/lib/python3.6/genericpath.py'>,\n",
       " 'os.path': <module 'posixpath' from '/Users/gram/anaconda/lib/python3.6/posixpath.py'>,\n",
       " '_collections_abc': <module '_collections_abc' from '/Users/gram/anaconda/lib/python3.6/_collections_abc.py'>,\n",
       " '_sitebuiltins': <module '_sitebuiltins' from '/Users/gram/anaconda/lib/python3.6/_sitebuiltins.py'>,\n",
       " 'sysconfig': <module 'sysconfig' from '/Users/gram/anaconda/lib/python3.6/sysconfig.py'>,\n",
       " '_sysconfigdata_m_darwin_darwin': <module '_sysconfigdata_m_darwin_darwin' from '/Users/gram/anaconda/lib/python3.6/_sysconfigdata_m_darwin_darwin.py'>,\n",
       " '_osx_support': <module '_osx_support' from '/Users/gram/anaconda/lib/python3.6/_osx_support.py'>,\n",
       " 're': <module 're' from '/Users/gram/anaconda/lib/python3.6/re.py'>,\n",
       " 'enum': <module 'enum' from '/Users/gram/anaconda/lib/python3.6/enum.py'>,\n",
       " 'types': <module 'types' from '/Users/gram/anaconda/lib/python3.6/types.py'>,\n",
       " 'functools': <module 'functools' from '/Users/gram/anaconda/lib/python3.6/functools.py'>,\n",
       " '_functools': <module '_functools' (built-in)>,\n",
       " 'collections': <module 'collections' from '/Users/gram/anaconda/lib/python3.6/collections/__init__.py'>,\n",
       " 'operator': <module 'operator' from '/Users/gram/anaconda/lib/python3.6/operator.py'>,\n",
       " '_operator': <module '_operator' (built-in)>,\n",
       " 'keyword': <module 'keyword' from '/Users/gram/anaconda/lib/python3.6/keyword.py'>,\n",
       " 'heapq': <module 'heapq' from '/Users/gram/anaconda/lib/python3.6/heapq.py'>,\n",
       " '_heapq': <module '_heapq' from '/Users/gram/anaconda/lib/python3.6/lib-dynload/_heapq.cpython-36m-darwin.so'>,\n",
       " 'itertools': <module 'itertools' (built-in)>,\n",
       " 'reprlib': <module 'reprlib' from '/Users/gram/anaconda/lib/python3.6/reprlib.py'>,\n",
       " '_collections': <module '_collections' (built-in)>,\n",
       " 'weakref': <module 'weakref' from '/Users/gram/anaconda/lib/python3.6/weakref.py'>,\n",
       " 'collections.abc': <module 'collections.abc' from '/Users/gram/anaconda/lib/python3.6/collections/abc.py'>,\n",
       " 'sre_compile': <module 'sre_compile' from '/Users/gram/anaconda/lib/python3.6/sre_compile.py'>,\n",
       " '_sre': <module '_sre' (built-in)>,\n",
       " 'sre_parse': <module 'sre_parse' from '/Users/gram/anaconda/lib/python3.6/sre_parse.py'>,\n",
       " 'sre_constants': <module 'sre_constants' from '/Users/gram/anaconda/lib/python3.6/sre_constants.py'>,\n",
       " 'copyreg': <module 'copyreg' from '/Users/gram/anaconda/lib/python3.6/copyreg.py'>,\n",
       " 'importlib': <module 'importlib' from '/Users/gram/anaconda/lib/python3.6/importlib/__init__.py'>,\n",
       " 'importlib._bootstrap': <module 'importlib._bootstrap' (frozen)>,\n",
       " 'importlib._bootstrap_external': <module 'importlib._bootstrap_external' (frozen)>,\n",
       " 'warnings': <module 'warnings' from '/Users/gram/anaconda/lib/python3.6/warnings.py'>,\n",
       " 'importlib.util': <module 'importlib.util' from '/Users/gram/anaconda/lib/python3.6/importlib/util.py'>,\n",
       " 'importlib.abc': <module 'importlib.abc' from '/Users/gram/anaconda/lib/python3.6/importlib/abc.py'>,\n",
       " 'importlib.machinery': <module 'importlib.machinery' from '/Users/gram/anaconda/lib/python3.6/importlib/machinery.py'>,\n",
       " 'contextlib': <module 'contextlib' from '/Users/gram/anaconda/lib/python3.6/contextlib.py'>,\n",
       " 'mpl_toolkits': <module 'mpl_toolkits' (namespace)>,\n",
       " 'sphinxcontrib': <module 'sphinxcontrib' from '/Users/gram/anaconda/lib/python3.6/site-packages/sphinxcontrib/__init__.py'>,\n",
       " 'zope': <module 'zope' from '/Users/gram/anaconda/lib/python3.6/site-packages/zope/__init__.py'>,\n",
       " 'runpy': <module 'runpy' from '/Users/gram/anaconda/lib/python3.6/runpy.py'>,\n",
       " 'pkgutil': <module 'pkgutil' from '/Users/gram/anaconda/lib/python3.6/pkgutil.py'>,\n",
       " 'ipykernel': <module 'ipykernel' from '/Users/gram/anaconda/lib/python3.6/site-packages/ipykernel/__init__.py'>,\n",
       " 'ipykernel._version': <module 'ipykernel._version' from '/Users/gram/anaconda/lib/python3.6/site-packages/ipykernel/_version.py'>,\n",
       " 'ipykernel.connect': <module 'ipykernel.connect' from '/Users/gram/anaconda/lib/python3.6/site-packages/ipykernel/connect.py'>,\n",
       " '__future__': <module '__future__' from '/Users/gram/anaconda/lib/python3.6/__future__.py'>,\n",
       " 'json': <module 'json' from '/Users/gram/anaconda/lib/python3.6/json/__init__.py'>,\n",
       " 'json.decoder': <module 'json.decoder' from '/Users/gram/anaconda/lib/python3.6/json/decoder.py'>,\n",
       " 'json.scanner': <module 'json.scanner' from '/Users/gram/anaconda/lib/python3.6/json/scanner.py'>,\n",
       " '_json': <module '_json' from '/Users/gram/anaconda/lib/python3.6/lib-dynload/_json.cpython-36m-darwin.so'>,\n",
       " 'json.encoder': <module 'json.encoder' from '/Users/gram/anaconda/lib/python3.6/json/encoder.py'>,\n",
       " 'subprocess': <module 'subprocess' from '/Users/gram/anaconda/lib/python3.6/subprocess.py'>,\n",
       " 'time': <module 'time' (built-in)>,\n",
       " 'signal': <module 'signal' from '/Users/gram/anaconda/lib/python3.6/signal.py'>,\n",
       " '_posixsubprocess': <module '_posixsubprocess' from '/Users/gram/anaconda/lib/python3.6/lib-dynload/_posixsubprocess.cpython-36m-darwin.so'>,\n",
       " 'select': <module 'select' from '/Users/gram/anaconda/lib/python3.6/lib-dynload/select.cpython-36m-darwin.so'>,\n",
       " 'selectors': <module 'selectors' from '/Users/gram/anaconda/lib/python3.6/selectors.py'>,\n",
       " 'math': <module 'math' from '/Users/gram/anaconda/lib/python3.6/lib-dynload/math.cpython-36m-darwin.so'>,\n",
       " 'threading': <module 'threading' from '/Users/gram/anaconda/lib/python3.6/threading.py'>,\n",
       " 'traceback': <module 'traceback' from '/Users/gram/anaconda/lib/python3.6/traceback.py'>,\n",
       " 'linecache': <module 'linecache' from '/Users/gram/anaconda/lib/python3.6/linecache.py'>,\n",
       " 'tokenize': <module 'tokenize' from '/Users/gram/anaconda/lib/python3.6/tokenize.py'>,\n",
       " 'token': <module 'token' from '/Users/gram/anaconda/lib/python3.6/token.py'>,\n",
       " 'IPython': <module 'IPython' from '/Users/gram/anaconda/lib/python3.6/site-packages/IPython/__init__.py'>,\n",
       " 'IPython.core': <module 'IPython.core' from '/Users/gram/anaconda/lib/python3.6/site-packages/IPython/core/__init__.py'>,\n",
       " 'IPython.core.getipython': <module 'IPython.core.getipython' from '/Users/gram/anaconda/lib/python3.6/site-packages/IPython/core/getipython.py'>,\n",
       " 'IPython.core.release': <module 'IPython.core.release' from '/Users/gram/anaconda/lib/python3.6/site-packages/IPython/core/release.py'>,\n",
       " 'IPython.core.application': <module 'IPython.core.application' from '/Users/gram/anaconda/lib/python3.6/site-packages/IPython/core/application.py'>,\n",
       " 'atexit': <module 'atexit' (built-in)>,\n",
       " 'copy': <module 'copy' from '/Users/gram/anaconda/lib/python3.6/copy.py'>,\n",
       " 'glob': <module 'glob' from '/Users/gram/anaconda/lib/python3.6/glob.py'>,\n",
       " 'fnmatch': <module 'fnmatch' from '/Users/gram/anaconda/lib/python3.6/fnmatch.py'>,\n",
       " 'logging': <module 'logging' from '/Users/gram/anaconda/lib/python3.6/logging/__init__.py'>,\n",
       " 'string': <module 'string' from '/Users/gram/anaconda/lib/python3.6/string.py'>,\n",
       " '_string': <module '_string' (built-in)>,\n",
       " 'shutil': <module 'shutil' from '/Users/gram/anaconda/lib/python3.6/shutil.py'>,\n",
       " 'zlib': <module 'zlib' from '/Users/gram/anaconda/lib/python3.6/lib-dynload/zlib.cpython-36m-darwin.so'>,\n",
       " 'bz2': <module 'bz2' from '/Users/gram/anaconda/lib/python3.6/bz2.py'>,\n",
       " '_compression': <module '_compression' from '/Users/gram/anaconda/lib/python3.6/_compression.py'>,\n",
       " '_bz2': <module '_bz2' from '/Users/gram/anaconda/lib/python3.6/lib-dynload/_bz2.cpython-36m-darwin.so'>,\n",
       " 'lzma': <module 'lzma' from '/Users/gram/anaconda/lib/python3.6/lzma.py'>,\n",
       " '_lzma': <module '_lzma' from '/Users/gram/anaconda/lib/python3.6/lib-dynload/_lzma.cpython-36m-darwin.so'>,\n",
       " 'pwd': <module 'pwd' (built-in)>,\n",
       " 'grp': <module 'grp' from '/Users/gram/anaconda/lib/python3.6/lib-dynload/grp.cpython-36m-darwin.so'>,\n",
       " 'traitlets': <module 'traitlets' from '/Users/gram/anaconda/lib/python3.6/site-packages/traitlets/__init__.py'>,\n",
       " 'traitlets.traitlets': <module 'traitlets.traitlets' from '/Users/gram/anaconda/lib/python3.6/site-packages/traitlets/traitlets.py'>,\n",
       " 'inspect': <module 'inspect' from '/Users/gram/anaconda/lib/python3.6/inspect.py'>,\n",
       " 'ast': <module 'ast' from '/Users/gram/anaconda/lib/python3.6/ast.py'>,\n",
       " '_ast': <module '_ast' (built-in)>,\n",
       " 'dis': <module 'dis' from '/Users/gram/anaconda/lib/python3.6/dis.py'>,\n",
       " 'opcode': <module 'opcode' from '/Users/gram/anaconda/lib/python3.6/opcode.py'>,\n",
       " '_opcode': <module '_opcode' from '/Users/gram/anaconda/lib/python3.6/lib-dynload/_opcode.cpython-36m-darwin.so'>,\n",
       " 'six': <module 'six' from '/Users/gram/anaconda/lib/python3.6/site-packages/six.py'>,\n",
       " 'struct': <module 'struct' from '/Users/gram/anaconda/lib/python3.6/struct.py'>,\n",
       " '_struct': <module '_struct' from '/Users/gram/anaconda/lib/python3.6/lib-dynload/_struct.cpython-36m-darwin.so'>,\n",
       " 'traitlets.utils': <module 'traitlets.utils' from '/Users/gram/anaconda/lib/python3.6/site-packages/traitlets/utils/__init__.py'>,\n",
       " 'traitlets.utils.getargspec': <module 'traitlets.utils.getargspec' from '/Users/gram/anaconda/lib/python3.6/site-packages/traitlets/utils/getargspec.py'>,\n",
       " 'traitlets.utils.importstring': <module 'traitlets.utils.importstring' from '/Users/gram/anaconda/lib/python3.6/site-packages/traitlets/utils/importstring.py'>,\n",
       " 'ipython_genutils': <module 'ipython_genutils' from '/Users/gram/anaconda/lib/python3.6/site-packages/ipython_genutils/__init__.py'>,\n",
       " 'ipython_genutils._version': <module 'ipython_genutils._version' from '/Users/gram/anaconda/lib/python3.6/site-packages/ipython_genutils/_version.py'>,\n",
       " 'ipython_genutils.py3compat': <module 'ipython_genutils.py3compat' from '/Users/gram/anaconda/lib/python3.6/site-packages/ipython_genutils/py3compat.py'>,\n",
       " 'ipython_genutils.encoding': <module 'ipython_genutils.encoding' from '/Users/gram/anaconda/lib/python3.6/site-packages/ipython_genutils/encoding.py'>,\n",
       " 'locale': <module 'locale' from '/Users/gram/anaconda/lib/python3.6/locale.py'>,\n",
       " 'platform': <module 'platform' from '/Users/gram/anaconda/lib/python3.6/platform.py'>,\n",
       " 'traitlets.utils.sentinel': <module 'traitlets.utils.sentinel' from '/Users/gram/anaconda/lib/python3.6/site-packages/traitlets/utils/sentinel.py'>,\n",
       " 'traitlets.utils.bunch': <module 'traitlets.utils.bunch' from '/Users/gram/anaconda/lib/python3.6/site-packages/traitlets/utils/bunch.py'>,\n",
       " 'traitlets._version': <module 'traitlets._version' from '/Users/gram/anaconda/lib/python3.6/site-packages/traitlets/_version.py'>,\n",
       " 'traitlets.config': <module 'traitlets.config' from '/Users/gram/anaconda/lib/python3.6/site-packages/traitlets/config/__init__.py'>,\n",
       " 'traitlets.config.application': <module 'traitlets.config.application' from '/Users/gram/anaconda/lib/python3.6/site-packages/traitlets/config/application.py'>,\n",
       " 'decorator': <module 'decorator' from '/Users/gram/anaconda/lib/python3.6/site-packages/decorator.py'>,\n",
       " 'traitlets.config.configurable': <module 'traitlets.config.configurable' from '/Users/gram/anaconda/lib/python3.6/site-packages/traitlets/config/configurable.py'>,\n",
       " 'traitlets.config.loader': <module 'traitlets.config.loader' from '/Users/gram/anaconda/lib/python3.6/site-packages/traitlets/config/loader.py'>,\n",
       " 'argparse': <module 'argparse' from '/Users/gram/anaconda/lib/python3.6/argparse.py'>,\n",
       " 'textwrap': <module 'textwrap' from '/Users/gram/anaconda/lib/python3.6/textwrap.py'>,\n",
       " 'gettext': <module 'gettext' from '/Users/gram/anaconda/lib/python3.6/gettext.py'>,\n",
       " 'ipython_genutils.path': <module 'ipython_genutils.path' from '/Users/gram/anaconda/lib/python3.6/site-packages/ipython_genutils/path.py'>,\n",
       " 'random': <module 'random' from '/Users/gram/anaconda/lib/python3.6/random.py'>,\n",
       " 'hashlib': <module 'hashlib' from '/Users/gram/anaconda/lib/python3.6/hashlib.py'>,\n",
       " '_hashlib': <module '_hashlib' from '/Users/gram/anaconda/lib/python3.6/lib-dynload/_hashlib.cpython-36m-darwin.so'>,\n",
       " '_blake2': <module '_blake2' from '/Users/gram/anaconda/lib/python3.6/lib-dynload/_blake2.cpython-36m-darwin.so'>,\n",
       " '_sha3': <module '_sha3' from '/Users/gram/anaconda/lib/python3.6/lib-dynload/_sha3.cpython-36m-darwin.so'>,\n",
       " 'bisect': <module 'bisect' from '/Users/gram/anaconda/lib/python3.6/bisect.py'>,\n",
       " '_bisect': <module '_bisect' from '/Users/gram/anaconda/lib/python3.6/lib-dynload/_bisect.cpython-36m-darwin.so'>,\n",
       " '_random': <module '_random' from '/Users/gram/anaconda/lib/python3.6/lib-dynload/_random.cpython-36m-darwin.so'>,\n",
       " 'ipython_genutils.text': <module 'ipython_genutils.text' from '/Users/gram/anaconda/lib/python3.6/site-packages/ipython_genutils/text.py'>,\n",
       " 'ipython_genutils.importstring': <module 'ipython_genutils.importstring' from '/Users/gram/anaconda/lib/python3.6/site-packages/ipython_genutils/importstring.py'>,\n",
       " 'IPython.core.crashhandler': <module 'IPython.core.crashhandler' from '/Users/gram/anaconda/lib/python3.6/site-packages/IPython/core/crashhandler.py'>,\n",
       " 'pprint': <module 'pprint' from '/Users/gram/anaconda/lib/python3.6/pprint.py'>,\n",
       " 'IPython.core.ultratb': <module 'IPython.core.ultratb' from '/Users/gram/anaconda/lib/python3.6/site-packages/IPython/core/ultratb.py'>,\n",
       " 'pydoc': <module 'pydoc' from '/Users/gram/anaconda/lib/python3.6/pydoc.py'>,\n",
       " 'urllib': <module 'urllib' from '/Users/gram/anaconda/lib/python3.6/urllib/__init__.py'>,\n",
       " 'urllib.parse': <module 'urllib.parse' from '/Users/gram/anaconda/lib/python3.6/urllib/parse.py'>,\n",
       " 'IPython.core.debugger': <module 'IPython.core.debugger' from '/Users/gram/anaconda/lib/python3.6/site-packages/IPython/core/debugger.py'>,\n",
       " 'bdb': <module 'bdb' from '/Users/gram/anaconda/lib/python3.6/bdb.py'>,\n",
       " 'IPython.utils': <module 'IPython.utils' from '/Users/gram/anaconda/lib/python3.6/site-packages/IPython/utils/__init__.py'>,\n",
       " 'IPython.utils.PyColorize': <module 'IPython.utils.PyColorize' from '/Users/gram/anaconda/lib/python3.6/site-packages/IPython/utils/PyColorize.py'>,\n",
       " 'IPython.utils.coloransi': <module 'IPython.utils.coloransi' from '/Users/gram/anaconda/lib/python3.6/site-packages/IPython/utils/coloransi.py'>,\n",
       " 'IPython.utils.ipstruct': <module 'IPython.utils.ipstruct' from '/Users/gram/anaconda/lib/python3.6/site-packages/IPython/utils/ipstruct.py'>,\n",
       " 'IPython.utils.colorable': <module 'IPython.utils.colorable' from '/Users/gram/anaconda/lib/python3.6/site-packages/IPython/utils/colorable.py'>,\n",
       " 'pygments': <module 'pygments' from '/Users/gram/anaconda/lib/python3.6/site-packages/pygments/__init__.py'>,\n",
       " 'pygments.util': <module 'pygments.util' from '/Users/gram/anaconda/lib/python3.6/site-packages/pygments/util.py'>,\n",
       " 'IPython.utils.py3compat': <module 'IPython.utils.py3compat' from '/Users/gram/anaconda/lib/python3.6/site-packages/IPython/utils/py3compat.py'>,\n",
       " 'IPython.utils.encoding': <module 'IPython.utils.encoding' from '/Users/gram/anaconda/lib/python3.6/site-packages/IPython/utils/encoding.py'>,\n",
       " 'IPython.core.excolors': <module 'IPython.core.excolors' from '/Users/gram/anaconda/lib/python3.6/site-packages/IPython/core/excolors.py'>,\n",
       " 'IPython.testing': <module 'IPython.testing' from '/Users/gram/anaconda/lib/python3.6/site-packages/IPython/testing/__init__.py'>,\n",
       " 'IPython.testing.skipdoctest': <module 'IPython.testing.skipdoctest' from '/Users/gram/anaconda/lib/python3.6/site-packages/IPython/testing/skipdoctest.py'>,\n",
       " 'pdb': <module 'pdb' from '/Users/gram/anaconda/lib/python3.6/pdb.py'>,\n",
       " 'cmd': <module 'cmd' from '/Users/gram/anaconda/lib/python3.6/cmd.py'>,\n",
       " 'code': <module 'code' from '/Users/gram/anaconda/lib/python3.6/code.py'>,\n",
       " 'codeop': <module 'codeop' from '/Users/gram/anaconda/lib/python3.6/codeop.py'>,\n",
       " 'IPython.core.display_trap': <module 'IPython.core.display_trap' from '/Users/gram/anaconda/lib/python3.6/site-packages/IPython/core/display_trap.py'>,\n",
       " 'IPython.utils.openpy': <module 'IPython.utils.openpy' from '/Users/gram/anaconda/lib/python3.6/site-packages/IPython/utils/openpy.py'>,\n",
       " 'IPython.utils.path': <module 'IPython.utils.path' from '/Users/gram/anaconda/lib/python3.6/site-packages/IPython/utils/path.py'>,\n",
       " 'IPython.utils.process': <module 'IPython.utils.process' from '/Users/gram/anaconda/lib/python3.6/site-packages/IPython/utils/process.py'>,\n",
       " 'IPython.utils._process_posix': <module 'IPython.utils._process_posix' from '/Users/gram/anaconda/lib/python3.6/site-packages/IPython/utils/_process_posix.py'>,\n",
       " 'pexpect': <module 'pexpect' from '/Users/gram/anaconda/lib/python3.6/site-packages/pexpect/__init__.py'>,\n",
       " 'pexpect.exceptions': <module 'pexpect.exceptions' from '/Users/gram/anaconda/lib/python3.6/site-packages/pexpect/exceptions.py'>,\n",
       " 'pexpect.utils': <module 'pexpect.utils' from '/Users/gram/anaconda/lib/python3.6/site-packages/pexpect/utils.py'>,\n",
       " 'pexpect.expect': <module 'pexpect.expect' from '/Users/gram/anaconda/lib/python3.6/site-packages/pexpect/expect.py'>,\n",
       " 'pexpect.pty_spawn': <module 'pexpect.pty_spawn' from '/Users/gram/anaconda/lib/python3.6/site-packages/pexpect/pty_spawn.py'>,\n",
       " 'pty': <module 'pty' from '/Users/gram/anaconda/lib/python3.6/pty.py'>,\n",
       " 'tty': <module 'tty' from '/Users/gram/anaconda/lib/python3.6/tty.py'>,\n",
       " 'termios': <module 'termios' from '/Users/gram/anaconda/lib/python3.6/lib-dynload/termios.cpython-36m-darwin.so'>,\n",
       " 'ptyprocess': <module 'ptyprocess' from '/Users/gram/anaconda/lib/python3.6/site-packages/ptyprocess/__init__.py'>,\n",
       " 'ptyprocess.ptyprocess': <module 'ptyprocess.ptyprocess' from '/Users/gram/anaconda/lib/python3.6/site-packages/ptyprocess/ptyprocess.py'>,\n",
       " 'fcntl': <module 'fcntl' from '/Users/gram/anaconda/lib/python3.6/lib-dynload/fcntl.cpython-36m-darwin.so'>,\n",
       " 'resource': <module 'resource' from '/Users/gram/anaconda/lib/python3.6/lib-dynload/resource.cpython-36m-darwin.so'>,\n",
       " 'ptyprocess.util': <module 'ptyprocess.util' from '/Users/gram/anaconda/lib/python3.6/site-packages/ptyprocess/util.py'>,\n",
       " 'pexpect.spawnbase': <module 'pexpect.spawnbase' from '/Users/gram/anaconda/lib/python3.6/site-packages/pexpect/spawnbase.py'>,\n",
       " 'pexpect.run': <module 'pexpect.run' from '/Users/gram/anaconda/lib/python3.6/site-packages/pexpect/run.py'>,\n",
       " 'IPython.utils._process_common': <module 'IPython.utils._process_common' from '/Users/gram/anaconda/lib/python3.6/site-packages/IPython/utils/_process_common.py'>,\n",
       " 'shlex': <module 'shlex' from '/Users/gram/anaconda/lib/python3.6/shlex.py'>,\n",
       " 'IPython.utils.decorators': <module 'IPython.utils.decorators' from '/Users/gram/anaconda/lib/python3.6/site-packages/IPython/utils/decorators.py'>,\n",
       " 'IPython.utils.data': <module 'IPython.utils.data' from '/Users/gram/anaconda/lib/python3.6/site-packages/IPython/utils/data.py'>,\n",
       " 'IPython.utils.terminal': <module 'IPython.utils.terminal' from '/Users/gram/anaconda/lib/python3.6/site-packages/IPython/utils/terminal.py'>,\n",
       " 'IPython.utils.sysinfo': <module 'IPython.utils.sysinfo' from '/Users/gram/anaconda/lib/python3.6/site-packages/IPython/utils/sysinfo.py'>,\n",
       " 'IPython.utils._sysinfo': <module 'IPython.utils._sysinfo' from '/Users/gram/anaconda/lib/python3.6/site-packages/IPython/utils/_sysinfo.py'>,\n",
       " 'IPython.core.profiledir': <module 'IPython.core.profiledir' from '/Users/gram/anaconda/lib/python3.6/site-packages/IPython/core/profiledir.py'>,\n",
       " 'IPython.paths': <module 'IPython.paths' from '/Users/gram/anaconda/lib/python3.6/site-packages/IPython/paths.py'>,\n",
       " 'tempfile': <module 'tempfile' from '/Users/gram/anaconda/lib/python3.6/tempfile.py'>,\n",
       " 'IPython.utils.importstring': <module 'IPython.utils.importstring' from '/Users/gram/anaconda/lib/python3.6/site-packages/IPython/utils/importstring.py'>,\n",
       " 'IPython.terminal': <module 'IPython.terminal' from '/Users/gram/anaconda/lib/python3.6/site-packages/IPython/terminal/__init__.py'>,\n",
       " 'IPython.terminal.embed': <module 'IPython.terminal.embed' from '/Users/gram/anaconda/lib/python3.6/site-packages/IPython/terminal/embed.py'>,\n",
       " 'IPython.core.compilerop': <module 'IPython.core.compilerop' from '/Users/gram/anaconda/lib/python3.6/site-packages/IPython/core/compilerop.py'>,\n",
       " 'IPython.core.magic_arguments': <module 'IPython.core.magic_arguments' from '/Users/gram/anaconda/lib/python3.6/site-packages/IPython/core/magic_arguments.py'>,\n",
       " 'IPython.core.error': <module 'IPython.core.error' from '/Users/gram/anaconda/lib/python3.6/site-packages/IPython/core/error.py'>,\n",
       " 'IPython.utils.text': <module 'IPython.utils.text' from '/Users/gram/anaconda/lib/python3.6/site-packages/IPython/utils/text.py'>,\n",
       " 'pathlib': <module 'pathlib' from '/Users/gram/anaconda/lib/python3.6/pathlib.py'>,\n",
       " 'ntpath': <module 'ntpath' from '/Users/gram/anaconda/lib/python3.6/ntpath.py'>,\n",
       " 'IPython.core.magic': <module 'IPython.core.magic' from '/Users/gram/anaconda/lib/python3.6/site-packages/IPython/core/magic.py'>,\n",
       " 'getopt': <module 'getopt' from '/Users/gram/anaconda/lib/python3.6/getopt.py'>,\n",
       " 'IPython.core.oinspect': <module 'IPython.core.oinspect' from '/Users/gram/anaconda/lib/python3.6/site-packages/IPython/core/oinspect.py'>,\n",
       " 'IPython.core.page': <module 'IPython.core.page' from '/Users/gram/anaconda/lib/python3.6/site-packages/IPython/core/page.py'>,\n",
       " 'IPython.core.display': <module 'IPython.core.display' from '/Users/gram/anaconda/lib/python3.6/site-packages/IPython/core/display.py'>,\n",
       " 'binascii': <module 'binascii' from '/Users/gram/anaconda/lib/python3.6/lib-dynload/binascii.cpython-36m-darwin.so'>,\n",
       " 'mimetypes': <module 'mimetypes' from '/Users/gram/anaconda/lib/python3.6/mimetypes.py'>,\n",
       " 'IPython.lib': <module 'IPython.lib' from '/Users/gram/anaconda/lib/python3.6/site-packages/IPython/lib/__init__.py'>,\n",
       " 'IPython.lib.security': <module 'IPython.lib.security' from '/Users/gram/anaconda/lib/python3.6/site-packages/IPython/lib/security.py'>,\n",
       " 'getpass': <module 'getpass' from '/Users/gram/anaconda/lib/python3.6/getpass.py'>,\n",
       " 'IPython.lib.pretty': <module 'IPython.lib.pretty' from '/Users/gram/anaconda/lib/python3.6/site-packages/IPython/lib/pretty.py'>,\n",
       " 'datetime': <module 'datetime' from '/Users/gram/anaconda/lib/python3.6/datetime.py'>,\n",
       " '_datetime': <module '_datetime' from '/Users/gram/anaconda/lib/python3.6/lib-dynload/_datetime.cpython-36m-darwin.so'>,\n",
       " 'IPython.utils.dir2': <module 'IPython.utils.dir2' from '/Users/gram/anaconda/lib/python3.6/site-packages/IPython/utils/dir2.py'>,\n",
       " 'IPython.utils.wildcard': <module 'IPython.utils.wildcard' from '/Users/gram/anaconda/lib/python3.6/site-packages/IPython/utils/wildcard.py'>,\n",
       " 'pygments.lexers': <module 'pygments.lexers' from '/Users/gram/anaconda/lib/python3.6/site-packages/pygments/lexers/__init__.py'>,\n",
       " 'pygments.lexers._mapping': <module 'pygments.lexers._mapping' from '/Users/gram/anaconda/lib/python3.6/site-packages/pygments/lexers/_mapping.py'>,\n",
       " 'pygments.modeline': <module 'pygments.modeline' from '/Users/gram/anaconda/lib/python3.6/site-packages/pygments/modeline.py'>,\n",
       " 'pygments.plugin': <module 'pygments.plugin' from '/Users/gram/anaconda/lib/python3.6/site-packages/pygments/plugin.py'>,\n",
       " 'pygments.lexers.python': <module 'pygments.lexers.python' from '/Users/gram/anaconda/lib/python3.6/site-packages/pygments/lexers/python.py'>,\n",
       " 'pygments.lexer': <module 'pygments.lexer' from '/Users/gram/anaconda/lib/python3.6/site-packages/pygments/lexer.py'>,\n",
       " 'pygments.filter': <module 'pygments.filter' from '/Users/gram/anaconda/lib/python3.6/site-packages/pygments/filter.py'>,\n",
       " 'pygments.filters': <module 'pygments.filters' from '/Users/gram/anaconda/lib/python3.6/site-packages/pygments/filters/__init__.py'>,\n",
       " 'pygments.token': <module 'pygments.token' from '/Users/gram/anaconda/lib/python3.6/site-packages/pygments/token.py'>,\n",
       " 'pygments.regexopt': <module 'pygments.regexopt' from '/Users/gram/anaconda/lib/python3.6/site-packages/pygments/regexopt.py'>,\n",
       " 'pygments.unistring': <module 'pygments.unistring' from '/Users/gram/anaconda/lib/python3.6/site-packages/pygments/unistring.py'>,\n",
       " 'pygments.formatters': <module 'pygments.formatters' from '/Users/gram/anaconda/lib/python3.6/site-packages/pygments/formatters/__init__.py'>,\n",
       " 'pygments.formatters._mapping': <module 'pygments.formatters._mapping' from '/Users/gram/anaconda/lib/python3.6/site-packages/pygments/formatters/_mapping.py'>,\n",
       " 'pygments.formatters.html': <module 'pygments.formatters.html' from '/Users/gram/anaconda/lib/python3.6/site-packages/pygments/formatters/html.py'>,\n",
       " 'pygments.formatter': <module 'pygments.formatter' from '/Users/gram/anaconda/lib/python3.6/site-packages/pygments/formatter.py'>,\n",
       " 'pygments.styles': <module 'pygments.styles' from '/Users/gram/anaconda/lib/python3.6/site-packages/pygments/styles/__init__.py'>,\n",
       " 'IPython.core.inputsplitter': <module 'IPython.core.inputsplitter' from '/Users/gram/anaconda/lib/python3.6/site-packages/IPython/core/inputsplitter.py'>,\n",
       " 'IPython.core.inputtransformer': <module 'IPython.core.inputtransformer' from '/Users/gram/anaconda/lib/python3.6/site-packages/IPython/core/inputtransformer.py'>,\n",
       " 'IPython.core.splitinput': <module 'IPython.core.splitinput' from '/Users/gram/anaconda/lib/python3.6/site-packages/IPython/core/splitinput.py'>,\n",
       " 'IPython.utils.tokenize2': <module 'IPython.utils.tokenize2' from '/Users/gram/anaconda/lib/python3.6/site-packages/IPython/utils/tokenize2.py'>,\n",
       " 'IPython.core.interactiveshell': <module 'IPython.core.interactiveshell' from '/Users/gram/anaconda/lib/python3.6/site-packages/IPython/core/interactiveshell.py'>,\n",
       " 'pickleshare': <module 'pickleshare' from '/Users/gram/anaconda/lib/python3.6/site-packages/pickleshare.py'>,\n",
       " 'pickle': <module 'pickle' from '/Users/gram/anaconda/lib/python3.6/pickle.py'>,\n",
       " '_compat_pickle': <module '_compat_pickle' from '/Users/gram/anaconda/lib/python3.6/_compat_pickle.py'>,\n",
       " '_pickle': <module '_pickle' from '/Users/gram/anaconda/lib/python3.6/lib-dynload/_pickle.cpython-36m-darwin.so'>,\n",
       " 'IPython.core.prefilter': <module 'IPython.core.prefilter' from '/Users/gram/anaconda/lib/python3.6/site-packages/IPython/core/prefilter.py'>,\n",
       " 'IPython.core.autocall': <module 'IPython.core.autocall' from '/Users/gram/anaconda/lib/python3.6/site-packages/IPython/core/autocall.py'>,\n",
       " 'IPython.core.macro': <module 'IPython.core.macro' from '/Users/gram/anaconda/lib/python3.6/site-packages/IPython/core/macro.py'>,\n",
       " 'IPython.core.alias': <module 'IPython.core.alias' from '/Users/gram/anaconda/lib/python3.6/site-packages/IPython/core/alias.py'>,\n",
       " 'IPython.core.builtin_trap': <module 'IPython.core.builtin_trap' from '/Users/gram/anaconda/lib/python3.6/site-packages/IPython/core/builtin_trap.py'>,\n",
       " 'IPython.core.events': <module 'IPython.core.events' from '/Users/gram/anaconda/lib/python3.6/site-packages/IPython/core/events.py'>,\n",
       " 'IPython.core.displayhook': <module 'IPython.core.displayhook' from '/Users/gram/anaconda/lib/python3.6/site-packages/IPython/core/displayhook.py'>,\n",
       " 'IPython.core.displaypub': <module 'IPython.core.displaypub' from '/Users/gram/anaconda/lib/python3.6/site-packages/IPython/core/displaypub.py'>,\n",
       " 'IPython.core.extensions': <module 'IPython.core.extensions' from '/Users/gram/anaconda/lib/python3.6/site-packages/IPython/core/extensions.py'>,\n",
       " 'IPython.core.formatters': <module 'IPython.core.formatters' from '/Users/gram/anaconda/lib/python3.6/site-packages/IPython/core/formatters.py'>,\n",
       " 'IPython.utils.sentinel': <module 'IPython.utils.sentinel' from '/Users/gram/anaconda/lib/python3.6/site-packages/IPython/utils/sentinel.py'>,\n",
       " 'IPython.core.history': <module 'IPython.core.history' from '/Users/gram/anaconda/lib/python3.6/site-packages/IPython/core/history.py'>,\n",
       " 'sqlite3': <module 'sqlite3' from '/Users/gram/anaconda/lib/python3.6/sqlite3/__init__.py'>,\n",
       " 'sqlite3.dbapi2': <module 'sqlite3.dbapi2' from '/Users/gram/anaconda/lib/python3.6/sqlite3/dbapi2.py'>,\n",
       " '_sqlite3': <module '_sqlite3' from '/Users/gram/anaconda/lib/python3.6/lib-dynload/_sqlite3.cpython-36m-darwin.so'>,\n",
       " 'IPython.core.logger': <module 'IPython.core.logger' from '/Users/gram/anaconda/lib/python3.6/site-packages/IPython/core/logger.py'>,\n",
       " 'IPython.core.payload': <module 'IPython.core.payload' from '/Users/gram/anaconda/lib/python3.6/site-packages/IPython/core/payload.py'>,\n",
       " 'IPython.core.usage': <module 'IPython.core.usage' from '/Users/gram/anaconda/lib/python3.6/site-packages/IPython/core/usage.py'>,\n",
       " 'IPython.display': <module 'IPython.display' from '/Users/gram/anaconda/lib/python3.6/site-packages/IPython/display.py'>,\n",
       " 'IPython.lib.display': <module 'IPython.lib.display' from '/Users/gram/anaconda/lib/python3.6/site-packages/IPython/lib/display.py'>,\n",
       " 'IPython.utils.io': <module 'IPython.utils.io' from '/Users/gram/anaconda/lib/python3.6/site-packages/IPython/utils/io.py'>,\n",
       " 'IPython.utils.capture': <module 'IPython.utils.capture' from '/Users/gram/anaconda/lib/python3.6/site-packages/IPython/utils/capture.py'>,\n",
       " 'IPython.utils.strdispatch': <module 'IPython.utils.strdispatch' from '/Users/gram/anaconda/lib/python3.6/site-packages/IPython/utils/strdispatch.py'>,\n",
       " 'IPython.core.hooks': <module 'IPython.core.hooks' from '/Users/gram/anaconda/lib/python3.6/site-packages/IPython/core/hooks.py'>,\n",
       " 'IPython.utils.syspathcontext': <module 'IPython.utils.syspathcontext' from '/Users/gram/anaconda/lib/python3.6/site-packages/IPython/utils/syspathcontext.py'>,\n",
       " 'IPython.utils.tempdir': <module 'IPython.utils.tempdir' from '/Users/gram/anaconda/lib/python3.6/site-packages/IPython/utils/tempdir.py'>,\n",
       " 'typing': <module 'typing' from '/Users/gram/anaconda/lib/python3.6/typing.py'>,\n",
       " 'typing.io': typing.io,\n",
       " 'typing.re': typing.re,\n",
       " 'IPython.utils.contexts': <module 'IPython.utils.contexts' from '/Users/gram/anaconda/lib/python3.6/site-packages/IPython/utils/contexts.py'>,\n",
       " 'docrepr': <module 'docrepr' from '/Users/gram/anaconda/lib/python3.6/site-packages/docrepr/__init__.py'>,\n",
       " 'docrepr._version': <module 'docrepr._version' from '/Users/gram/anaconda/lib/python3.6/site-packages/docrepr/_version.py'>,\n",
       " 'docrepr.sphinxify': <module 'docrepr.sphinxify' from '/Users/gram/anaconda/lib/python3.6/site-packages/docrepr/sphinxify.py'>,\n",
       " 'xml': <module 'xml' from '/Users/gram/anaconda/lib/python3.6/xml/__init__.py'>,\n",
       " 'xml.sax': <module 'xml.sax' from '/Users/gram/anaconda/lib/python3.6/xml/sax/__init__.py'>,\n",
       " 'xml.sax.xmlreader': <module 'xml.sax.xmlreader' from '/Users/gram/anaconda/lib/python3.6/xml/sax/xmlreader.py'>,\n",
       " 'xml.sax.handler': <module 'xml.sax.handler' from '/Users/gram/anaconda/lib/python3.6/xml/sax/handler.py'>,\n",
       " 'xml.sax._exceptions': <module 'xml.sax._exceptions' from '/Users/gram/anaconda/lib/python3.6/xml/sax/_exceptions.py'>,\n",
       " 'xml.sax.saxutils': <module 'xml.sax.saxutils' from '/Users/gram/anaconda/lib/python3.6/xml/sax/saxutils.py'>,\n",
       " 'urllib.request': <module 'urllib.request' from '/Users/gram/anaconda/lib/python3.6/urllib/request.py'>,\n",
       " 'base64': <module 'base64' from '/Users/gram/anaconda/lib/python3.6/base64.py'>,\n",
       " 'email': <module 'email' from '/Users/gram/anaconda/lib/python3.6/email/__init__.py'>,\n",
       " 'http': <module 'http' from '/Users/gram/anaconda/lib/python3.6/http/__init__.py'>,\n",
       " 'http.client': <module 'http.client' from '/Users/gram/anaconda/lib/python3.6/http/client.py'>,\n",
       " 'email.parser': <module 'email.parser' from '/Users/gram/anaconda/lib/python3.6/email/parser.py'>,\n",
       " 'email.feedparser': <module 'email.feedparser' from '/Users/gram/anaconda/lib/python3.6/email/feedparser.py'>,\n",
       " 'email.errors': <module 'email.errors' from '/Users/gram/anaconda/lib/python3.6/email/errors.py'>,\n",
       " 'email._policybase': <module 'email._policybase' from '/Users/gram/anaconda/lib/python3.6/email/_policybase.py'>,\n",
       " 'email.header': <module 'email.header' from '/Users/gram/anaconda/lib/python3.6/email/header.py'>,\n",
       " 'email.quoprimime': <module 'email.quoprimime' from '/Users/gram/anaconda/lib/python3.6/email/quoprimime.py'>,\n",
       " 'email.base64mime': <module 'email.base64mime' from '/Users/gram/anaconda/lib/python3.6/email/base64mime.py'>,\n",
       " 'email.charset': <module 'email.charset' from '/Users/gram/anaconda/lib/python3.6/email/charset.py'>,\n",
       " 'email.encoders': <module 'email.encoders' from '/Users/gram/anaconda/lib/python3.6/email/encoders.py'>,\n",
       " 'quopri': <module 'quopri' from '/Users/gram/anaconda/lib/python3.6/quopri.py'>,\n",
       " 'email.utils': <module 'email.utils' from '/Users/gram/anaconda/lib/python3.6/email/utils.py'>,\n",
       " 'socket': <module 'socket' from '/Users/gram/anaconda/lib/python3.6/socket.py'>,\n",
       " '_socket': <module '_socket' from '/Users/gram/anaconda/lib/python3.6/lib-dynload/_socket.cpython-36m-darwin.so'>,\n",
       " 'email._parseaddr': <module 'email._parseaddr' from '/Users/gram/anaconda/lib/python3.6/email/_parseaddr.py'>,\n",
       " 'calendar': <module 'calendar' from '/Users/gram/anaconda/lib/python3.6/calendar.py'>,\n",
       " 'email.message': <module 'email.message' from '/Users/gram/anaconda/lib/python3.6/email/message.py'>,\n",
       " 'uu': <module 'uu' from '/Users/gram/anaconda/lib/python3.6/uu.py'>,\n",
       " 'email._encoded_words': <module 'email._encoded_words' from '/Users/gram/anaconda/lib/python3.6/email/_encoded_words.py'>,\n",
       " 'email.iterators': <module 'email.iterators' from '/Users/gram/anaconda/lib/python3.6/email/iterators.py'>,\n",
       " 'ssl': <module 'ssl' from '/Users/gram/anaconda/lib/python3.6/ssl.py'>,\n",
       " 'ipaddress': <module 'ipaddress' from '/Users/gram/anaconda/lib/python3.6/ipaddress.py'>,\n",
       " '_ssl': <module '_ssl' from '/Users/gram/anaconda/lib/python3.6/lib-dynload/_ssl.cpython-36m-darwin.so'>,\n",
       " 'urllib.error': <module 'urllib.error' from '/Users/gram/anaconda/lib/python3.6/urllib/error.py'>,\n",
       " 'urllib.response': <module 'urllib.response' from '/Users/gram/anaconda/lib/python3.6/urllib/response.py'>,\n",
       " '_scproxy': <module '_scproxy' from '/Users/gram/anaconda/lib/python3.6/lib-dynload/_scproxy.cpython-36m-darwin.so'>,\n",
       " 'docutils': <module 'docutils' from '/Users/gram/anaconda/lib/python3.6/site-packages/docutils/__init__.py'>,\n",
       " 'docutils.utils': <module 'docutils.utils' from '/Users/gram/anaconda/lib/python3.6/site-packages/docutils/utils/__init__.py'>,\n",
       " 'unicodedata': <module 'unicodedata' from '/Users/gram/anaconda/lib/python3.6/lib-dynload/unicodedata.cpython-36m-darwin.so'>,\n",
       " 'docutils.nodes': <module 'docutils.nodes' from '/Users/gram/anaconda/lib/python3.6/site-packages/docutils/nodes.py'>,\n",
       " 'docutils.io': <module 'docutils.io' from '/Users/gram/anaconda/lib/python3.6/site-packages/docutils/io.py'>,\n",
       " 'docutils._compat': <module 'docutils._compat' from '/Users/gram/anaconda/lib/python3.6/site-packages/docutils/_compat.py'>,\n",
       " 'docutils.utils.error_reporting': <module 'docutils.utils.error_reporting' from '/Users/gram/anaconda/lib/python3.6/site-packages/docutils/utils/error_reporting.py'>,\n",
       " 'jinja2': <module 'jinja2' from '/Users/gram/anaconda/lib/python3.6/site-packages/jinja2/__init__.py'>,\n",
       " 'jinja2.environment': <module 'jinja2.environment' from '/Users/gram/anaconda/lib/python3.6/site-packages/jinja2/environment.py'>,\n",
       " 'jinja2.nodes': <module 'jinja2.nodes' from '/Users/gram/anaconda/lib/python3.6/site-packages/jinja2/nodes.py'>,\n",
       " 'jinja2.utils': <module 'jinja2.utils' from '/Users/gram/anaconda/lib/python3.6/site-packages/jinja2/utils.py'>,\n",
       " 'jinja2._compat': <module 'jinja2._compat' from '/Users/gram/anaconda/lib/python3.6/site-packages/jinja2/_compat.py'>,\n",
       " 'markupsafe': <module 'markupsafe' from '/Users/gram/anaconda/lib/python3.6/site-packages/markupsafe/__init__.py'>,\n",
       " 'markupsafe._compat': <module 'markupsafe._compat' from '/Users/gram/anaconda/lib/python3.6/site-packages/markupsafe/_compat.py'>,\n",
       " 'markupsafe._speedups': <module 'markupsafe._speedups' from '/Users/gram/anaconda/lib/python3.6/site-packages/markupsafe/_speedups.cpython-36m-darwin.so'>,\n",
       " 'jinja2.defaults': <module 'jinja2.defaults' from '/Users/gram/anaconda/lib/python3.6/site-packages/jinja2/defaults.py'>,\n",
       " 'jinja2.filters': <module 'jinja2.filters' from '/Users/gram/anaconda/lib/python3.6/site-packages/jinja2/filters.py'>,\n",
       " 'jinja2.runtime': <module 'jinja2.runtime' from '/Users/gram/anaconda/lib/python3.6/site-packages/jinja2/runtime.py'>,\n",
       " 'jinja2.exceptions': <module 'jinja2.exceptions' from '/Users/gram/anaconda/lib/python3.6/site-packages/jinja2/exceptions.py'>,\n",
       " 'jinja2.tests': <module 'jinja2.tests' from '/Users/gram/anaconda/lib/python3.6/site-packages/jinja2/tests.py'>,\n",
       " 'decimal': <module 'decimal' from '/Users/gram/anaconda/lib/python3.6/decimal.py'>,\n",
       " 'numbers': <module 'numbers' from '/Users/gram/anaconda/lib/python3.6/numbers.py'>,\n",
       " '_decimal': <module '_decimal' from '/Users/gram/anaconda/lib/python3.6/lib-dynload/_decimal.cpython-36m-darwin.so'>,\n",
       " 'jinja2.lexer': <module 'jinja2.lexer' from '/Users/gram/anaconda/lib/python3.6/site-packages/jinja2/lexer.py'>,\n",
       " 'jinja2.parser': <module 'jinja2.parser' from '/Users/gram/anaconda/lib/python3.6/site-packages/jinja2/parser.py'>,\n",
       " 'jinja2.compiler': <module 'jinja2.compiler' from '/Users/gram/anaconda/lib/python3.6/site-packages/jinja2/compiler.py'>,\n",
       " 'jinja2.visitor': <module 'jinja2.visitor' from '/Users/gram/anaconda/lib/python3.6/site-packages/jinja2/visitor.py'>,\n",
       " 'jinja2.optimizer': <module 'jinja2.optimizer' from '/Users/gram/anaconda/lib/python3.6/site-packages/jinja2/optimizer.py'>,\n",
       " 'jinja2.idtracking': <module 'jinja2.idtracking' from '/Users/gram/anaconda/lib/python3.6/site-packages/jinja2/idtracking.py'>,\n",
       " 'jinja2.loaders': <module 'jinja2.loaders' from '/Users/gram/anaconda/lib/python3.6/site-packages/jinja2/loaders.py'>,\n",
       " 'jinja2.bccache': <module 'jinja2.bccache' from '/Users/gram/anaconda/lib/python3.6/site-packages/jinja2/bccache.py'>,\n",
       " 'jinja2.asyncsupport': <module 'jinja2.asyncsupport' from '/Users/gram/anaconda/lib/python3.6/site-packages/jinja2/asyncsupport.py'>,\n",
       " 'asyncio': <module 'asyncio' from '/Users/gram/anaconda/lib/python3.6/asyncio/__init__.py'>,\n",
       " 'asyncio.base_events': <module 'asyncio.base_events' from '/Users/gram/anaconda/lib/python3.6/asyncio/base_events.py'>,\n",
       " 'concurrent': <module 'concurrent' from '/Users/gram/anaconda/lib/python3.6/concurrent/__init__.py'>,\n",
       " 'concurrent.futures': <module 'concurrent.futures' from '/Users/gram/anaconda/lib/python3.6/concurrent/futures/__init__.py'>,\n",
       " 'concurrent.futures._base': <module 'concurrent.futures._base' from '/Users/gram/anaconda/lib/python3.6/concurrent/futures/_base.py'>,\n",
       " 'concurrent.futures.process': <module 'concurrent.futures.process' from '/Users/gram/anaconda/lib/python3.6/concurrent/futures/process.py'>,\n",
       " 'queue': <module 'queue' from '/Users/gram/anaconda/lib/python3.6/queue.py'>,\n",
       " 'multiprocessing': <module 'multiprocessing' from '/Users/gram/anaconda/lib/python3.6/multiprocessing/__init__.py'>,\n",
       " 'multiprocessing.context': <module 'multiprocessing.context' from '/Users/gram/anaconda/lib/python3.6/multiprocessing/context.py'>,\n",
       " 'multiprocessing.process': <module 'multiprocessing.process' from '/Users/gram/anaconda/lib/python3.6/multiprocessing/process.py'>,\n",
       " 'multiprocessing.reduction': <module 'multiprocessing.reduction' from '/Users/gram/anaconda/lib/python3.6/multiprocessing/reduction.py'>,\n",
       " 'array': <module 'array' from '/Users/gram/anaconda/lib/python3.6/lib-dynload/array.cpython-36m-darwin.so'>,\n",
       " '__mp_main__': <module 'ipykernel_launcher' from '/Users/gram/anaconda/lib/python3.6/site-packages/ipykernel_launcher.py'>,\n",
       " 'multiprocessing.connection': <module 'multiprocessing.connection' from '/Users/gram/anaconda/lib/python3.6/multiprocessing/connection.py'>,\n",
       " '_multiprocessing': <module '_multiprocessing' from '/Users/gram/anaconda/lib/python3.6/lib-dynload/_multiprocessing.cpython-36m-darwin.so'>,\n",
       " 'multiprocessing.util': <module 'multiprocessing.util' from '/Users/gram/anaconda/lib/python3.6/multiprocessing/util.py'>,\n",
       " 'concurrent.futures.thread': <module 'concurrent.futures.thread' from '/Users/gram/anaconda/lib/python3.6/concurrent/futures/thread.py'>,\n",
       " 'asyncio.compat': <module 'asyncio.compat' from '/Users/gram/anaconda/lib/python3.6/asyncio/compat.py'>,\n",
       " 'asyncio.coroutines': <module 'asyncio.coroutines' from '/Users/gram/anaconda/lib/python3.6/asyncio/coroutines.py'>,\n",
       " 'asyncio.events': <module 'asyncio.events' from '/Users/gram/anaconda/lib/python3.6/asyncio/events.py'>,\n",
       " 'asyncio.base_futures': <module 'asyncio.base_futures' from '/Users/gram/anaconda/lib/python3.6/asyncio/base_futures.py'>,\n",
       " 'asyncio.log': <module 'asyncio.log' from '/Users/gram/anaconda/lib/python3.6/asyncio/log.py'>,\n",
       " 'asyncio.futures': <module 'asyncio.futures' from '/Users/gram/anaconda/lib/python3.6/asyncio/futures.py'>,\n",
       " 'asyncio.base_tasks': <module 'asyncio.base_tasks' from '/Users/gram/anaconda/lib/python3.6/asyncio/base_tasks.py'>,\n",
       " '_asyncio': <module '_asyncio' from '/Users/gram/anaconda/lib/python3.6/lib-dynload/_asyncio.cpython-36m-darwin.so'>,\n",
       " 'asyncio.tasks': <module 'asyncio.tasks' from '/Users/gram/anaconda/lib/python3.6/asyncio/tasks.py'>,\n",
       " 'asyncio.locks': <module 'asyncio.locks' from '/Users/gram/anaconda/lib/python3.6/asyncio/locks.py'>,\n",
       " 'asyncio.protocols': <module 'asyncio.protocols' from '/Users/gram/anaconda/lib/python3.6/asyncio/protocols.py'>,\n",
       " 'asyncio.queues': <module 'asyncio.queues' from '/Users/gram/anaconda/lib/python3.6/asyncio/queues.py'>,\n",
       " 'asyncio.streams': <module 'asyncio.streams' from '/Users/gram/anaconda/lib/python3.6/asyncio/streams.py'>,\n",
       " 'asyncio.subprocess': <module 'asyncio.subprocess' from '/Users/gram/anaconda/lib/python3.6/asyncio/subprocess.py'>,\n",
       " 'asyncio.transports': <module 'asyncio.transports' from '/Users/gram/anaconda/lib/python3.6/asyncio/transports.py'>,\n",
       " 'asyncio.unix_events': <module 'asyncio.unix_events' from '/Users/gram/anaconda/lib/python3.6/asyncio/unix_events.py'>,\n",
       " 'asyncio.base_subprocess': <module 'asyncio.base_subprocess' from '/Users/gram/anaconda/lib/python3.6/asyncio/base_subprocess.py'>,\n",
       " 'asyncio.constants': <module 'asyncio.constants' from '/Users/gram/anaconda/lib/python3.6/asyncio/constants.py'>,\n",
       " 'asyncio.selector_events': <module 'asyncio.selector_events' from '/Users/gram/anaconda/lib/python3.6/asyncio/selector_events.py'>,\n",
       " 'asyncio.sslproto': <module 'asyncio.sslproto' from '/Users/gram/anaconda/lib/python3.6/asyncio/sslproto.py'>,\n",
       " 'jinja2.asyncfilters': <module 'jinja2.asyncfilters' from '/Users/gram/anaconda/lib/python3.6/site-packages/jinja2/asyncfilters.py'>,\n",
       " 'sphinx': <module 'sphinx' from '/Users/gram/anaconda/lib/python3.6/site-packages/sphinx/__init__.py'>,\n",
       " 'sphinx.deprecation': <module 'sphinx.deprecation' from '/Users/gram/anaconda/lib/python3.6/site-packages/sphinx/deprecation.py'>,\n",
       " 'sphinx.application': <module 'sphinx.application' from '/Users/gram/anaconda/lib/python3.6/site-packages/sphinx/application.py'>,\n",
       " 'six.moves': <module 'six.moves' (<six._SixMetaPathImporter object at 0x10b8d1630>)>,\n",
       " 'docutils.parsers': <module 'docutils.parsers' from '/Users/gram/anaconda/lib/python3.6/site-packages/docutils/parsers/__init__.py'>,\n",
       " 'docutils.parsers.rst': <module 'docutils.parsers.rst' from '/Users/gram/anaconda/lib/python3.6/site-packages/docutils/parsers/rst/__init__.py'>,\n",
       " 'docutils.statemachine': <module 'docutils.statemachine' from '/Users/gram/anaconda/lib/python3.6/site-packages/docutils/statemachine.py'>,\n",
       " 'docutils.parsers.rst.states': <module 'docutils.parsers.rst.states' from '/Users/gram/anaconda/lib/python3.6/site-packages/docutils/parsers/rst/states.py'>,\n",
       " 'docutils.parsers.rst.directives': <module 'docutils.parsers.rst.directives' from '/Users/gram/anaconda/lib/python3.6/site-packages/docutils/parsers/rst/directives/__init__.py'>,\n",
       " 'docutils.parsers.rst.languages': <module 'docutils.parsers.rst.languages' from '/Users/gram/anaconda/lib/python3.6/site-packages/docutils/parsers/rst/languages/__init__.py'>,\n",
       " 'docutils.parsers.rst.languages.en': <module 'docutils.parsers.rst.languages.en' from '/Users/gram/anaconda/lib/python3.6/site-packages/docutils/parsers/rst/languages/en.py'>,\n",
       " 'docutils.parsers.rst.tableparser': <module 'docutils.parsers.rst.tableparser' from '/Users/gram/anaconda/lib/python3.6/site-packages/docutils/parsers/rst/tableparser.py'>,\n",
       " 'docutils.parsers.rst.roles': <module 'docutils.parsers.rst.roles' from '/Users/gram/anaconda/lib/python3.6/site-packages/docutils/parsers/rst/roles.py'>,\n",
       " 'docutils.utils.code_analyzer': <module 'docutils.utils.code_analyzer' from '/Users/gram/anaconda/lib/python3.6/site-packages/docutils/utils/code_analyzer.py'>,\n",
       " 'docutils.utils.punctuation_chars': <module 'docutils.utils.punctuation_chars' from '/Users/gram/anaconda/lib/python3.6/site-packages/docutils/utils/punctuation_chars.py'>,\n",
       " 'docutils.utils.roman': <module 'docutils.utils.roman' from '/Users/gram/anaconda/lib/python3.6/site-packages/docutils/utils/roman.py'>,\n",
       " 'docutils.utils.urischemes': <module 'docutils.utils.urischemes' from '/Users/gram/anaconda/lib/python3.6/site-packages/docutils/utils/urischemes.py'>,\n",
       " 'docutils.frontend': <module 'docutils.frontend' from '/Users/gram/anaconda/lib/python3.6/site-packages/docutils/frontend.py'>,\n",
       " 'configparser': <module 'configparser' from '/Users/gram/anaconda/lib/python3.6/configparser.py'>,\n",
       " 'optparse': <module 'optparse' from '/Users/gram/anaconda/lib/python3.6/optparse.py'>,\n",
       " 'docutils.transforms': <module 'docutils.transforms' from '/Users/gram/anaconda/lib/python3.6/site-packages/docutils/transforms/__init__.py'>,\n",
       " 'docutils.languages': <module 'docutils.languages' from '/Users/gram/anaconda/lib/python3.6/site-packages/docutils/languages/__init__.py'>,\n",
       " 'docutils.transforms.universal': <module 'docutils.transforms.universal' from '/Users/gram/anaconda/lib/python3.6/site-packages/docutils/transforms/universal.py'>,\n",
       " 'docutils.utils.smartquotes': <module 'docutils.utils.smartquotes' from '/Users/gram/anaconda/lib/python3.6/site-packages/docutils/utils/smartquotes.py'>,\n",
       " 'sphinx.locale': <module 'sphinx.locale' from '/Users/gram/anaconda/lib/python3.6/site-packages/sphinx/locale/__init__.py'>,\n",
       " 'sphinx.config': <module 'sphinx.config' from '/Users/gram/anaconda/lib/python3.6/site-packages/sphinx/config.py'>,\n",
       " 'sphinx.errors': <module 'sphinx.errors' from '/Users/gram/anaconda/lib/python3.6/site-packages/sphinx/errors.py'>,\n",
       " 'sphinx.util': <module 'sphinx.util' from '/Users/gram/anaconda/lib/python3.6/site-packages/sphinx/util/__init__.py'>,\n",
       " 'six.moves.urllib': <module 'six.moves.urllib' (<six._SixMetaPathImporter object at 0x10b8d1630>)>,\n",
       " 'six.moves.urllib.parse': <module 'six.moves.urllib.parse' (<six._SixMetaPathImporter object at 0x10b8d1630>)>,\n",
       " 'sphinx.util.logging': <module 'sphinx.util.logging' from '/Users/gram/anaconda/lib/python3.6/site-packages/sphinx/util/logging.py'>,\n",
       " 'logging.handlers': <module 'logging.handlers' from '/Users/gram/anaconda/lib/python3.6/logging/handlers.py'>,\n",
       " 'sphinx.util.console': <module 'sphinx.util.console' from '/Users/gram/anaconda/lib/python3.6/site-packages/sphinx/util/console.py'>,\n",
       " 'colorama': <module 'colorama' from '/Users/gram/anaconda/lib/python3.6/site-packages/colorama/__init__.py'>,\n",
       " 'colorama.initialise': <module 'colorama.initialise' from '/Users/gram/anaconda/lib/python3.6/site-packages/colorama/initialise.py'>,\n",
       " 'colorama.ansitowin32': <module 'colorama.ansitowin32' from '/Users/gram/anaconda/lib/python3.6/site-packages/colorama/ansitowin32.py'>,\n",
       " 'colorama.ansi': <module 'colorama.ansi' from '/Users/gram/anaconda/lib/python3.6/site-packages/colorama/ansi.py'>,\n",
       " 'colorama.winterm': <module 'colorama.winterm' from '/Users/gram/anaconda/lib/python3.6/site-packages/colorama/winterm.py'>,\n",
       " 'colorama.win32': <module 'colorama.win32' from '/Users/gram/anaconda/lib/python3.6/site-packages/colorama/win32.py'>,\n",
       " 'ctypes': <module 'ctypes' from '/Users/gram/anaconda/lib/python3.6/ctypes/__init__.py'>,\n",
       " '_ctypes': <module '_ctypes' from '/Users/gram/anaconda/lib/python3.6/lib-dynload/_ctypes.cpython-36m-darwin.so'>,\n",
       " 'ctypes._endian': <module 'ctypes._endian' from '/Users/gram/anaconda/lib/python3.6/ctypes/_endian.py'>,\n",
       " 'sphinx.util.fileutil': <module 'sphinx.util.fileutil' from '/Users/gram/anaconda/lib/python3.6/site-packages/sphinx/util/fileutil.py'>,\n",
       " 'sphinx.util.osutil': <module 'sphinx.util.osutil' from '/Users/gram/anaconda/lib/python3.6/site-packages/sphinx/util/osutil.py'>,\n",
       " 'filecmp': <module 'filecmp' from '/Users/gram/anaconda/lib/python3.6/filecmp.py'>,\n",
       " 'sphinx.util.smartypants': <module 'sphinx.util.smartypants' from '/Users/gram/anaconda/lib/python3.6/site-packages/sphinx/util/smartypants.py'>,\n",
       " 'sphinx.util.docutils': <module 'sphinx.util.docutils' from '/Users/gram/anaconda/lib/python3.6/site-packages/sphinx/util/docutils.py'>,\n",
       " 'distutils': <module 'distutils' from '/Users/gram/anaconda/lib/python3.6/distutils/__init__.py'>,\n",
       " 'distutils.version': <module 'distutils.version' from '/Users/gram/anaconda/lib/python3.6/distutils/version.py'>,\n",
       " 'sphinx.util.nodes': <module 'sphinx.util.nodes' from '/Users/gram/anaconda/lib/python3.6/site-packages/sphinx/util/nodes.py'>,\n",
       " 'sphinx.addnodes': <module 'sphinx.addnodes' from '/Users/gram/anaconda/lib/python3.6/site-packages/sphinx/addnodes.py'>,\n",
       " 'sphinx.util.matching': <module 'sphinx.util.matching' from '/Users/gram/anaconda/lib/python3.6/site-packages/sphinx/util/matching.py'>,\n",
       " 'sphinx.util.i18n': <module 'sphinx.util.i18n' from '/Users/gram/anaconda/lib/python3.6/site-packages/sphinx/util/i18n.py'>,\n",
       " 'babel': <module 'babel' from '/Users/gram/anaconda/lib/python3.6/site-packages/babel/__init__.py'>,\n",
       " 'babel.core': <module 'babel.core' from '/Users/gram/anaconda/lib/python3.6/site-packages/babel/core.py'>,\n",
       " 'babel.localedata': <module 'babel.localedata' from '/Users/gram/anaconda/lib/python3.6/site-packages/babel/localedata.py'>,\n",
       " 'babel._compat': <module 'babel._compat' from '/Users/gram/anaconda/lib/python3.6/site-packages/babel/_compat.py'>,\n",
       " 'babel.plural': <module 'babel.plural' from '/Users/gram/anaconda/lib/python3.6/site-packages/babel/plural.py'>,\n",
       " 'babel.dates': <module 'babel.dates' from '/Users/gram/anaconda/lib/python3.6/site-packages/babel/dates.py'>,\n",
       " 'pytz': <module 'pytz' from '/Users/gram/anaconda/lib/python3.6/site-packages/pytz/__init__.py'>,\n",
       " 'pytz.exceptions': <module 'pytz.exceptions' from '/Users/gram/anaconda/lib/python3.6/site-packages/pytz/exceptions.py'>,\n",
       " 'pytz.lazy': <module 'pytz.lazy' from '/Users/gram/anaconda/lib/python3.6/site-packages/pytz/lazy.py'>,\n",
       " 'pytz.tzinfo': <module 'pytz.tzinfo' from '/Users/gram/anaconda/lib/python3.6/site-packages/pytz/tzinfo.py'>,\n",
       " 'pytz.tzfile': <module 'pytz.tzfile' from '/Users/gram/anaconda/lib/python3.6/site-packages/pytz/tzfile.py'>,\n",
       " 'babel.util': <module 'babel.util' from '/Users/gram/anaconda/lib/python3.6/site-packages/babel/util.py'>,\n",
       " 'babel.localtime': <module 'babel.localtime' from '/Users/gram/anaconda/lib/python3.6/site-packages/babel/localtime/__init__.py'>,\n",
       " 'babel.localtime._unix': <module 'babel.localtime._unix' from '/Users/gram/anaconda/lib/python3.6/site-packages/babel/localtime/_unix.py'>,\n",
       " 'babel.messages': <module 'babel.messages' from '/Users/gram/anaconda/lib/python3.6/site-packages/babel/messages/__init__.py'>,\n",
       " 'babel.messages.catalog': <module 'babel.messages.catalog' from '/Users/gram/anaconda/lib/python3.6/site-packages/babel/messages/catalog.py'>,\n",
       " 'cgi': <module 'cgi' from '/Users/gram/anaconda/lib/python3.6/cgi.py'>,\n",
       " 'html': <module 'html' from '/Users/gram/anaconda/lib/python3.6/html/__init__.py'>,\n",
       " 'html.entities': <module 'html.entities' from '/Users/gram/anaconda/lib/python3.6/html/entities.py'>,\n",
       " 'difflib': <module 'difflib' from '/Users/gram/anaconda/lib/python3.6/difflib.py'>,\n",
       " 'babel.messages.plurals': <module 'babel.messages.plurals' from '/Users/gram/anaconda/lib/python3.6/site-packages/babel/messages/plurals.py'>,\n",
       " 'babel.messages.pofile': <module 'babel.messages.pofile' from '/Users/gram/anaconda/lib/python3.6/site-packages/babel/messages/pofile.py'>,\n",
       " 'babel.messages.mofile': <module 'babel.messages.mofile' from '/Users/gram/anaconda/lib/python3.6/site-packages/babel/messages/mofile.py'>,\n",
       " 'sphinx.util.pycompat': <module 'sphinx.util.pycompat' from '/Users/gram/anaconda/lib/python3.6/site-packages/sphinx/util/pycompat.py'>,\n",
       " 'sphinx.environment': <module 'sphinx.environment' from '/Users/gram/anaconda/lib/python3.6/site-packages/sphinx/environment/__init__.py'>,\n",
       " 'docutils.core': <module 'docutils.core' from '/Users/gram/anaconda/lib/python3.6/site-packages/docutils/core.py'>,\n",
       " 'docutils.readers': <module 'docutils.readers' from '/Users/gram/anaconda/lib/python3.6/site-packages/docutils/readers/__init__.py'>,\n",
       " 'docutils.writers': <module 'docutils.writers' from '/Users/gram/anaconda/lib/python3.6/site-packages/docutils/writers/__init__.py'>,\n",
       " 'docutils.readers.doctree': <module 'docutils.readers.doctree' from '/Users/gram/anaconda/lib/python3.6/site-packages/docutils/readers/doctree.py'>,\n",
       " 'sphinx.io': <module 'sphinx.io' from '/Users/gram/anaconda/lib/python3.6/site-packages/sphinx/io.py'>,\n",
       " 'docutils.readers.standalone': <module 'docutils.readers.standalone' from '/Users/gram/anaconda/lib/python3.6/site-packages/docutils/readers/standalone.py'>,\n",
       " 'docutils.transforms.frontmatter': <module 'docutils.transforms.frontmatter' from '/Users/gram/anaconda/lib/python3.6/site-packages/docutils/transforms/frontmatter.py'>,\n",
       " 'docutils.transforms.references': <module 'docutils.transforms.references' from '/Users/gram/anaconda/lib/python3.6/site-packages/docutils/transforms/references.py'>,\n",
       " 'docutils.transforms.misc': <module 'docutils.transforms.misc' from '/Users/gram/anaconda/lib/python3.6/site-packages/docutils/transforms/misc.py'>,\n",
       " 'sphinx.transforms': <module 'sphinx.transforms' from '/Users/gram/anaconda/lib/python3.6/site-packages/sphinx/transforms/__init__.py'>,\n",
       " 'docutils.transforms.parts': <module 'docutils.transforms.parts' from '/Users/gram/anaconda/lib/python3.6/site-packages/docutils/transforms/parts.py'>,\n",
       " 'sphinx.transforms.compact_bullet_list': <module 'sphinx.transforms.compact_bullet_list' from '/Users/gram/anaconda/lib/python3.6/site-packages/sphinx/transforms/compact_bullet_list.py'>,\n",
       " 'sphinx.transforms.i18n': <module 'sphinx.transforms.i18n' from '/Users/gram/anaconda/lib/python3.6/site-packages/sphinx/transforms/i18n.py'>,\n",
       " 'sphinx.domains': <module 'sphinx.domains' from '/Users/gram/anaconda/lib/python3.6/site-packages/sphinx/domains/__init__.py'>,\n",
       " 'sphinx.domains.std': <module 'sphinx.domains.std' from '/Users/gram/anaconda/lib/python3.6/site-packages/sphinx/domains/std.py'>,\n",
       " 'sphinx.roles': <module 'sphinx.roles' from '/Users/gram/anaconda/lib/python3.6/site-packages/sphinx/roles.py'>,\n",
       " 'sphinx.directives': <module 'sphinx.directives' from '/Users/gram/anaconda/lib/python3.6/site-packages/sphinx/directives/__init__.py'>,\n",
       " 'sphinx.util.docfields': <module 'sphinx.util.docfields' from '/Users/gram/anaconda/lib/python3.6/site-packages/sphinx/util/docfields.py'>,\n",
       " 'sphinx.directives.code': <module 'sphinx.directives.code' from '/Users/gram/anaconda/lib/python3.6/site-packages/sphinx/directives/code.py'>,\n",
       " 'sphinx.directives.other': <module 'sphinx.directives.other' from '/Users/gram/anaconda/lib/python3.6/site-packages/sphinx/directives/other.py'>,\n",
       " 'docutils.parsers.rst.directives.admonitions': <module 'docutils.parsers.rst.directives.admonitions' from '/Users/gram/anaconda/lib/python3.6/site-packages/docutils/parsers/rst/directives/admonitions.py'>,\n",
       " 'docutils.parsers.rst.directives.misc': <module 'docutils.parsers.rst.directives.misc' from '/Users/gram/anaconda/lib/python3.6/site-packages/docutils/parsers/rst/directives/misc.py'>,\n",
       " 'docutils.parsers.rst.directives.body': <module 'docutils.parsers.rst.directives.body' from '/Users/gram/anaconda/lib/python3.6/site-packages/docutils/parsers/rst/directives/body.py'>,\n",
       " 'sphinx.directives.patches': <module 'sphinx.directives.patches' from '/Users/gram/anaconda/lib/python3.6/site-packages/sphinx/directives/patches.py'>,\n",
       " 'docutils.parsers.rst.directives.images': <module 'docutils.parsers.rst.directives.images' from '/Users/gram/anaconda/lib/python3.6/site-packages/docutils/parsers/rst/directives/images.py'>,\n",
       " 'PIL': <module 'PIL' from '/Users/gram/anaconda/lib/python3.6/site-packages/PIL/__init__.py'>,\n",
       " 'PIL.version': <module 'PIL.version' from '/Users/gram/anaconda/lib/python3.6/site-packages/PIL/version.py'>,\n",
       " 'PIL.Image': <module 'PIL.Image' from '/Users/gram/anaconda/lib/python3.6/site-packages/PIL/Image.py'>,\n",
       " 'PIL._imaging': <module 'PIL._imaging' from '/Users/gram/anaconda/lib/python3.6/site-packages/PIL/_imaging.cpython-36m-darwin.so'>,\n",
       " 'PIL.ImageMode': <module 'PIL.ImageMode' from '/Users/gram/anaconda/lib/python3.6/site-packages/PIL/ImageMode.py'>,\n",
       " 'PIL._binary': <module 'PIL._binary' from '/Users/gram/anaconda/lib/python3.6/site-packages/PIL/_binary.py'>,\n",
       " 'PIL._util': <module 'PIL._util' from '/Users/gram/anaconda/lib/python3.6/site-packages/PIL/_util.py'>,\n",
       " 'cffi': <module 'cffi' from '/Users/gram/anaconda/lib/python3.6/site-packages/cffi/__init__.py'>,\n",
       " 'cffi.api': <module 'cffi.api' from '/Users/gram/anaconda/lib/python3.6/site-packages/cffi/api.py'>,\n",
       " 'cffi.lock': <module 'cffi.lock' from '/Users/gram/anaconda/lib/python3.6/site-packages/cffi/lock.py'>,\n",
       " 'cffi.error': <module 'cffi.error' from '/Users/gram/anaconda/lib/python3.6/site-packages/cffi/error.py'>,\n",
       " 'cffi.model': <module 'cffi.model' from '/Users/gram/anaconda/lib/python3.6/site-packages/cffi/model.py'>,\n",
       " 'docutils.parsers.rst.directives.html': <module 'docutils.parsers.rst.directives.html' from '/Users/gram/anaconda/lib/python3.6/site-packages/docutils/parsers/rst/directives/html.py'>,\n",
       " 'docutils.transforms.components': <module 'docutils.transforms.components' from '/Users/gram/anaconda/lib/python3.6/site-packages/docutils/transforms/components.py'>,\n",
       " 'docutils.parsers.rst.directives.tables': <module 'docutils.parsers.rst.directives.tables' from '/Users/gram/anaconda/lib/python3.6/site-packages/docutils/parsers/rst/directives/tables.py'>,\n",
       " 'csv': <module 'csv' from '/Users/gram/anaconda/lib/python3.6/csv.py'>,\n",
       " '_csv': <module '_csv' from '/Users/gram/anaconda/lib/python3.6/lib-dynload/_csv.cpython-36m-darwin.so'>,\n",
       " 'sphinx.util.parallel': <module 'sphinx.util.parallel' from '/Users/gram/anaconda/lib/python3.6/site-packages/sphinx/util/parallel.py'>,\n",
       " 'sphinx.util.websupport': <module 'sphinx.util.websupport' from '/Users/gram/anaconda/lib/python3.6/site-packages/sphinx/util/websupport.py'>,\n",
       " 'sphinxcontrib.websupport': <module 'sphinxcontrib.websupport' from '/Users/gram/anaconda/lib/python3.6/site-packages/sphinxcontrib/websupport/__init__.py'>,\n",
       " 'pkg_resources': <module 'pkg_resources' from '/Users/gram/anaconda/lib/python3.6/site-packages/pkg_resources/__init__.py'>,\n",
       " 'zipfile': <module 'zipfile' from '/Users/gram/anaconda/lib/python3.6/zipfile.py'>,\n",
       " 'plistlib': <module 'plistlib' from '/Users/gram/anaconda/lib/python3.6/plistlib.py'>,\n",
       " 'xml.parsers': <module 'xml.parsers' from '/Users/gram/anaconda/lib/python3.6/xml/parsers/__init__.py'>,\n",
       " 'xml.parsers.expat': <module 'xml.parsers.expat' from '/Users/gram/anaconda/lib/python3.6/xml/parsers/expat.py'>,\n",
       " 'pyexpat.errors': <module 'pyexpat.errors'>,\n",
       " 'pyexpat.model': <module 'pyexpat.model'>,\n",
       " 'pyexpat': <module 'pyexpat' from '/Users/gram/anaconda/lib/python3.6/lib-dynload/pyexpat.cpython-36m-darwin.so'>,\n",
       " 'xml.parsers.expat.model': <module 'pyexpat.model'>,\n",
       " 'xml.parsers.expat.errors': <module 'pyexpat.errors'>,\n",
       " 'pkg_resources.extern': <module 'pkg_resources.extern' from '/Users/gram/anaconda/lib/python3.6/site-packages/pkg_resources/extern/__init__.py'>,\n",
       " 'pkg_resources._vendor': <module 'pkg_resources._vendor' from '/Users/gram/anaconda/lib/python3.6/site-packages/pkg_resources/_vendor/__init__.py'>,\n",
       " 'pkg_resources.extern.six': <module 'pkg_resources._vendor.six' from '/Users/gram/anaconda/lib/python3.6/site-packages/pkg_resources/_vendor/six.py'>,\n",
       " 'pkg_resources._vendor.six': <module 'pkg_resources._vendor.six' from '/Users/gram/anaconda/lib/python3.6/site-packages/pkg_resources/_vendor/six.py'>,\n",
       " 'pkg_resources.extern.six.moves': <module 'pkg_resources._vendor.six.moves' (<pkg_resources._vendor.six._SixMetaPathImporter object at 0x10cf14a90>)>,\n",
       " 'pkg_resources._vendor.six.moves': <module 'pkg_resources._vendor.six.moves' (<pkg_resources._vendor.six._SixMetaPathImporter object at 0x10cf14a90>)>,\n",
       " 'pkg_resources.py31compat': <module 'pkg_resources.py31compat' from '/Users/gram/anaconda/lib/python3.6/site-packages/pkg_resources/py31compat.py'>,\n",
       " 'pkg_resources.extern.appdirs': <module 'pkg_resources._vendor.appdirs' from '/Users/gram/anaconda/lib/python3.6/site-packages/pkg_resources/_vendor/appdirs.py'>,\n",
       " 'pkg_resources._vendor.packaging.__about__': <module 'pkg_resources._vendor.packaging.__about__' from '/Users/gram/anaconda/lib/python3.6/site-packages/pkg_resources/_vendor/packaging/__about__.py'>,\n",
       " 'pkg_resources.extern.packaging': <module 'pkg_resources._vendor.packaging' from '/Users/gram/anaconda/lib/python3.6/site-packages/pkg_resources/_vendor/packaging/__init__.py'>,\n",
       " 'pkg_resources.extern.packaging.version': <module 'pkg_resources.extern.packaging.version' from '/Users/gram/anaconda/lib/python3.6/site-packages/pkg_resources/_vendor/packaging/version.py'>,\n",
       " 'pkg_resources.extern.packaging._structures': <module 'pkg_resources.extern.packaging._structures' from '/Users/gram/anaconda/lib/python3.6/site-packages/pkg_resources/_vendor/packaging/_structures.py'>,\n",
       " 'pkg_resources.extern.packaging.specifiers': <module 'pkg_resources.extern.packaging.specifiers' from '/Users/gram/anaconda/lib/python3.6/site-packages/pkg_resources/_vendor/packaging/specifiers.py'>,\n",
       " 'pkg_resources.extern.packaging._compat': <module 'pkg_resources.extern.packaging._compat' from '/Users/gram/anaconda/lib/python3.6/site-packages/pkg_resources/_vendor/packaging/_compat.py'>,\n",
       " 'pkg_resources.extern.packaging.requirements': <module 'pkg_resources.extern.packaging.requirements' from '/Users/gram/anaconda/lib/python3.6/site-packages/pkg_resources/_vendor/packaging/requirements.py'>,\n",
       " 'pkg_resources.extern.pyparsing': <module 'pkg_resources._vendor.pyparsing' from '/Users/gram/anaconda/lib/python3.6/site-packages/pkg_resources/_vendor/pyparsing.py'>,\n",
       " 'pkg_resources.extern.six.moves.urllib': <module 'pkg_resources._vendor.six.moves.urllib' (<pkg_resources._vendor.six._SixMetaPathImporter object at 0x10cf14a90>)>,\n",
       " 'pkg_resources.extern.packaging.markers': <module 'pkg_resources.extern.packaging.markers' from '/Users/gram/anaconda/lib/python3.6/site-packages/pkg_resources/_vendor/packaging/markers.py'>,\n",
       " 'sphinxcontrib.websupport.core': <module 'sphinxcontrib.websupport.core' from '/Users/gram/anaconda/lib/python3.6/site-packages/sphinxcontrib/websupport/core.py'>,\n",
       " 'sphinx.util.jsonimpl': <module 'sphinx.util.jsonimpl' from '/Users/gram/anaconda/lib/python3.6/site-packages/sphinx/util/jsonimpl.py'>,\n",
       " 'sphinxcontrib.websupport.errors': <module 'sphinxcontrib.websupport.errors' from '/Users/gram/anaconda/lib/python3.6/site-packages/sphinxcontrib/websupport/errors.py'>,\n",
       " 'sphinxcontrib.websupport.search': <module 'sphinxcontrib.websupport.search' from '/Users/gram/anaconda/lib/python3.6/site-packages/sphinxcontrib/websupport/search/__init__.py'>,\n",
       " 'sphinxcontrib.websupport.storage': <module 'sphinxcontrib.websupport.storage' from '/Users/gram/anaconda/lib/python3.6/site-packages/sphinxcontrib/websupport/storage/__init__.py'>,\n",
       " 'sphinxcontrib.websupport.version': <module 'sphinxcontrib.websupport.version' from '/Users/gram/anaconda/lib/python3.6/site-packages/sphinxcontrib/websupport/version.py'>,\n",
       " 'sphinxcontrib.websupport.utils': <module 'sphinxcontrib.websupport.utils' from '/Users/gram/anaconda/lib/python3.6/site-packages/sphinxcontrib/websupport/utils.py'>,\n",
       " 'sphinx.versioning': <module 'sphinx.versioning' from '/Users/gram/anaconda/lib/python3.6/site-packages/sphinx/versioning.py'>,\n",
       " 'uuid': <module 'uuid' from '/Users/gram/anaconda/lib/python3.6/uuid.py'>,\n",
       " 'ctypes.util': <module 'ctypes.util' from '/Users/gram/anaconda/lib/python3.6/ctypes/util.py'>,\n",
       " 'ctypes.macholib': <module 'ctypes.macholib' from '/Users/gram/anaconda/lib/python3.6/ctypes/macholib/__init__.py'>,\n",
       " 'ctypes.macholib.dyld': <module 'ctypes.macholib.dyld' from '/Users/gram/anaconda/lib/python3.6/ctypes/macholib/dyld.py'>,\n",
       " 'ctypes.macholib.framework': <module 'ctypes.macholib.framework' from '/Users/gram/anaconda/lib/python3.6/ctypes/macholib/framework.py'>,\n",
       " 'ctypes.macholib.dylib': <module 'ctypes.macholib.dylib' from '/Users/gram/anaconda/lib/python3.6/ctypes/macholib/dylib.py'>,\n",
       " 'sphinx.environment.adapters': <module 'sphinx.environment.adapters' from '/Users/gram/anaconda/lib/python3.6/site-packages/sphinx/environment/adapters/__init__.py'>,\n",
       " 'sphinx.environment.adapters.indexentries': <module 'sphinx.environment.adapters.indexentries' from '/Users/gram/anaconda/lib/python3.6/site-packages/sphinx/environment/adapters/indexentries.py'>,\n",
       " 'sphinx.environment.adapters.toctree': <module 'sphinx.environment.adapters.toctree' from '/Users/gram/anaconda/lib/python3.6/site-packages/sphinx/environment/adapters/toctree.py'>,\n",
       " 'sphinx.events': <module 'sphinx.events' from '/Users/gram/anaconda/lib/python3.6/site-packages/sphinx/events.py'>,\n",
       " 'sphinx.extension': <module 'sphinx.extension' from '/Users/gram/anaconda/lib/python3.6/site-packages/sphinx/extension.py'>,\n",
       " 'sphinx.registry': <module 'sphinx.registry' from '/Users/gram/anaconda/lib/python3.6/site-packages/sphinx/registry.py'>,\n",
       " 'sphinx.util.tags': <module 'sphinx.util.tags' from '/Users/gram/anaconda/lib/python3.6/site-packages/sphinx/util/tags.py'>,\n",
       " 'docrepr.utils': <module 'docrepr.utils' from '/Users/gram/anaconda/lib/python3.6/site-packages/docrepr/utils.py'>,\n",
       " 'IPython.terminal.interactiveshell': <module 'IPython.terminal.interactiveshell' from '/Users/gram/anaconda/lib/python3.6/site-packages/IPython/terminal/interactiveshell.py'>,\n",
       " 'prompt_toolkit': <module 'prompt_toolkit' from '/Users/gram/anaconda/lib/python3.6/site-packages/prompt_toolkit/__init__.py'>,\n",
       " 'prompt_toolkit.interface': <module 'prompt_toolkit.interface' from '/Users/gram/anaconda/lib/python3.6/site-packages/prompt_toolkit/interface.py'>,\n",
       " 'prompt_toolkit.application': <module 'prompt_toolkit.application' from '/Users/gram/anaconda/lib/python3.6/site-packages/prompt_toolkit/application.py'>,\n",
       " 'prompt_toolkit.buffer': <module 'prompt_toolkit.buffer' from '/Users/gram/anaconda/lib/python3.6/site-packages/prompt_toolkit/buffer.py'>,\n",
       " 'prompt_toolkit.auto_suggest': <module 'prompt_toolkit.auto_suggest' from '/Users/gram/anaconda/lib/python3.6/site-packages/prompt_toolkit/auto_suggest.py'>,\n",
       " 'prompt_toolkit.filters': <module 'prompt_toolkit.filters' from '/Users/gram/anaconda/lib/python3.6/site-packages/prompt_toolkit/filters/__init__.py'>,\n",
       " 'prompt_toolkit.filters.base': <module 'prompt_toolkit.filters.base' from '/Users/gram/anaconda/lib/python3.6/site-packages/prompt_toolkit/filters/base.py'>,\n",
       " 'prompt_toolkit.utils': <module 'prompt_toolkit.utils' from '/Users/gram/anaconda/lib/python3.6/site-packages/prompt_toolkit/utils.py'>,\n",
       " 'wcwidth': <module 'wcwidth' from '/Users/gram/anaconda/lib/python3.6/site-packages/wcwidth/__init__.py'>,\n",
       " 'wcwidth.wcwidth': <module 'wcwidth.wcwidth' from '/Users/gram/anaconda/lib/python3.6/site-packages/wcwidth/wcwidth.py'>,\n",
       " 'wcwidth.table_wide': <module 'wcwidth.table_wide' from '/Users/gram/anaconda/lib/python3.6/site-packages/wcwidth/table_wide.py'>,\n",
       " 'wcwidth.table_zero': <module 'wcwidth.table_zero' from '/Users/gram/anaconda/lib/python3.6/site-packages/wcwidth/table_zero.py'>,\n",
       " 'prompt_toolkit.filters.cli': <module 'prompt_toolkit.filters.cli' from '/Users/gram/anaconda/lib/python3.6/site-packages/prompt_toolkit/filters/cli.py'>,\n",
       " 'prompt_toolkit.enums': <module 'prompt_toolkit.enums' from '/Users/gram/anaconda/lib/python3.6/site-packages/prompt_toolkit/enums.py'>,\n",
       " 'prompt_toolkit.key_binding': <module 'prompt_toolkit.key_binding' from '/Users/gram/anaconda/lib/python3.6/site-packages/prompt_toolkit/key_binding/__init__.py'>,\n",
       " 'prompt_toolkit.key_binding.vi_state': <module 'prompt_toolkit.key_binding.vi_state' from '/Users/gram/anaconda/lib/python3.6/site-packages/prompt_toolkit/key_binding/vi_state.py'>,\n",
       " 'prompt_toolkit.cache': <module 'prompt_toolkit.cache' from '/Users/gram/anaconda/lib/python3.6/site-packages/prompt_toolkit/cache.py'>,\n",
       " 'prompt_toolkit.filters.types': <module 'prompt_toolkit.filters.types' from '/Users/gram/anaconda/lib/python3.6/site-packages/prompt_toolkit/filters/types.py'>,\n",
       " 'prompt_toolkit.filters.utils': <module 'prompt_toolkit.filters.utils' from '/Users/gram/anaconda/lib/python3.6/site-packages/prompt_toolkit/filters/utils.py'>,\n",
       " 'prompt_toolkit.clipboard': <module 'prompt_toolkit.clipboard' from '/Users/gram/anaconda/lib/python3.6/site-packages/prompt_toolkit/clipboard/__init__.py'>,\n",
       " 'prompt_toolkit.clipboard.base': <module 'prompt_toolkit.clipboard.base' from '/Users/gram/anaconda/lib/python3.6/site-packages/prompt_toolkit/clipboard/base.py'>,\n",
       " 'prompt_toolkit.selection': <module 'prompt_toolkit.selection' from '/Users/gram/anaconda/lib/python3.6/site-packages/prompt_toolkit/selection.py'>,\n",
       " 'prompt_toolkit.clipboard.in_memory': <module 'prompt_toolkit.clipboard.in_memory' from '/Users/gram/anaconda/lib/python3.6/site-packages/prompt_toolkit/clipboard/in_memory.py'>,\n",
       " 'prompt_toolkit.completion': <module 'prompt_toolkit.completion' from '/Users/gram/anaconda/lib/python3.6/site-packages/prompt_toolkit/completion.py'>,\n",
       " 'prompt_toolkit.document': <module 'prompt_toolkit.document' from '/Users/gram/anaconda/lib/python3.6/site-packages/prompt_toolkit/document.py'>,\n",
       " 'prompt_toolkit.history': <module 'prompt_toolkit.history' from '/Users/gram/anaconda/lib/python3.6/site-packages/prompt_toolkit/history.py'>,\n",
       " 'prompt_toolkit.search_state': <module 'prompt_toolkit.search_state' from '/Users/gram/anaconda/lib/python3.6/site-packages/prompt_toolkit/search_state.py'>,\n",
       " 'prompt_toolkit.validation': <module 'prompt_toolkit.validation' from '/Users/gram/anaconda/lib/python3.6/site-packages/prompt_toolkit/validation.py'>,\n",
       " 'prompt_toolkit.buffer_mapping': <module 'prompt_toolkit.buffer_mapping' from '/Users/gram/anaconda/lib/python3.6/site-packages/prompt_toolkit/buffer_mapping.py'>,\n",
       " 'prompt_toolkit.key_binding.bindings': <module 'prompt_toolkit.key_binding.bindings' from '/Users/gram/anaconda/lib/python3.6/site-packages/prompt_toolkit/key_binding/bindings/__init__.py'>,\n",
       " 'prompt_toolkit.key_binding.bindings.basic': <module 'prompt_toolkit.key_binding.bindings.basic' from '/Users/gram/anaconda/lib/python3.6/site-packages/prompt_toolkit/key_binding/bindings/basic.py'>,\n",
       " 'prompt_toolkit.keys': <module 'prompt_toolkit.keys' from '/Users/gram/anaconda/lib/python3.6/site-packages/prompt_toolkit/keys.py'>,\n",
       " 'prompt_toolkit.layout': <module 'prompt_toolkit.layout' from '/Users/gram/anaconda/lib/python3.6/site-packages/prompt_toolkit/layout/__init__.py'>,\n",
       " 'prompt_toolkit.layout.containers': <module 'prompt_toolkit.layout.containers' from '/Users/gram/anaconda/lib/python3.6/site-packages/prompt_toolkit/layout/containers.py'>,\n",
       " 'prompt_toolkit.layout.controls': <module 'prompt_toolkit.layout.controls' from '/Users/gram/anaconda/lib/python3.6/site-packages/prompt_toolkit/layout/controls.py'>,\n",
       " 'prompt_toolkit.mouse_events': <module 'prompt_toolkit.mouse_events' from '/Users/gram/anaconda/lib/python3.6/site-packages/prompt_toolkit/mouse_events.py'>,\n",
       " 'prompt_toolkit.token': <module 'prompt_toolkit.token' from '/Users/gram/anaconda/lib/python3.6/site-packages/prompt_toolkit/token.py'>,\n",
       " 'prompt_toolkit.layout.lexers': <module 'prompt_toolkit.layout.lexers' from '/Users/gram/anaconda/lib/python3.6/site-packages/prompt_toolkit/layout/lexers.py'>,\n",
       " 'prompt_toolkit.layout.utils': <module 'prompt_toolkit.layout.utils' from '/Users/gram/anaconda/lib/python3.6/site-packages/prompt_toolkit/layout/utils.py'>,\n",
       " 'prompt_toolkit.layout.processors': <module 'prompt_toolkit.layout.processors' from '/Users/gram/anaconda/lib/python3.6/site-packages/prompt_toolkit/layout/processors.py'>,\n",
       " 'prompt_toolkit.reactive': <module 'prompt_toolkit.reactive' from '/Users/gram/anaconda/lib/python3.6/site-packages/prompt_toolkit/reactive.py'>,\n",
       " 'prompt_toolkit.layout.screen': <module 'prompt_toolkit.layout.screen' from '/Users/gram/anaconda/lib/python3.6/site-packages/prompt_toolkit/layout/screen.py'>,\n",
       " 'prompt_toolkit.layout.dimension': <module 'prompt_toolkit.layout.dimension' from '/Users/gram/anaconda/lib/python3.6/site-packages/prompt_toolkit/layout/dimension.py'>,\n",
       " 'prompt_toolkit.layout.margins': <module 'prompt_toolkit.layout.margins' from '/Users/gram/anaconda/lib/python3.6/site-packages/prompt_toolkit/layout/margins.py'>,\n",
       " 'prompt_toolkit.renderer': <module 'prompt_toolkit.renderer' from '/Users/gram/anaconda/lib/python3.6/site-packages/prompt_toolkit/renderer.py'>,\n",
       " 'prompt_toolkit.layout.mouse_handlers': <module 'prompt_toolkit.layout.mouse_handlers' from '/Users/gram/anaconda/lib/python3.6/site-packages/prompt_toolkit/layout/mouse_handlers.py'>,\n",
       " 'prompt_toolkit.output': <module 'prompt_toolkit.output' from '/Users/gram/anaconda/lib/python3.6/site-packages/prompt_toolkit/output.py'>,\n",
       " 'prompt_toolkit.styles': <module 'prompt_toolkit.styles' from '/Users/gram/anaconda/lib/python3.6/site-packages/prompt_toolkit/styles/__init__.py'>,\n",
       " 'prompt_toolkit.styles.base': <module 'prompt_toolkit.styles.base' from '/Users/gram/anaconda/lib/python3.6/site-packages/prompt_toolkit/styles/base.py'>,\n",
       " 'prompt_toolkit.styles.defaults': <module 'prompt_toolkit.styles.defaults' from '/Users/gram/anaconda/lib/python3.6/site-packages/prompt_toolkit/styles/defaults.py'>,\n",
       " 'prompt_toolkit.styles.from_dict': <module 'prompt_toolkit.styles.from_dict' from '/Users/gram/anaconda/lib/python3.6/site-packages/prompt_toolkit/styles/from_dict.py'>,\n",
       " 'prompt_toolkit.styles.utils': <module 'prompt_toolkit.styles.utils' from '/Users/gram/anaconda/lib/python3.6/site-packages/prompt_toolkit/styles/utils.py'>,\n",
       " 'prompt_toolkit.styles.from_pygments': <module 'prompt_toolkit.styles.from_pygments' from '/Users/gram/anaconda/lib/python3.6/site-packages/prompt_toolkit/styles/from_pygments.py'>,\n",
       " 'pygments.style': <module 'pygments.style' from '/Users/gram/anaconda/lib/python3.6/site-packages/pygments/style.py'>,\n",
       " 'pygments.styles.default': <module 'pygments.styles.default' from '/Users/gram/anaconda/lib/python3.6/site-packages/pygments/styles/default.py'>,\n",
       " 'prompt_toolkit.key_binding.bindings.named_commands': <module 'prompt_toolkit.key_binding.bindings.named_commands' from '/Users/gram/anaconda/lib/python3.6/site-packages/prompt_toolkit/key_binding/bindings/named_commands.py'>,\n",
       " 'prompt_toolkit.key_binding.bindings.completion': <module 'prompt_toolkit.key_binding.bindings.completion' from '/Users/gram/anaconda/lib/python3.6/site-packages/prompt_toolkit/key_binding/bindings/completion.py'>,\n",
       " 'prompt_toolkit.key_binding.registry': <module 'prompt_toolkit.key_binding.registry' from '/Users/gram/anaconda/lib/python3.6/site-packages/prompt_toolkit/key_binding/registry.py'>,\n",
       " 'prompt_toolkit.key_binding.input_processor': <module 'prompt_toolkit.key_binding.input_processor' from '/Users/gram/anaconda/lib/python3.6/site-packages/prompt_toolkit/key_binding/input_processor.py'>,\n",
       " 'prompt_toolkit.key_binding.bindings.emacs': <module 'prompt_toolkit.key_binding.bindings.emacs' from '/Users/gram/anaconda/lib/python3.6/site-packages/prompt_toolkit/key_binding/bindings/emacs.py'>,\n",
       " 'prompt_toolkit.key_binding.bindings.scroll': <module 'prompt_toolkit.key_binding.bindings.scroll' from '/Users/gram/anaconda/lib/python3.6/site-packages/prompt_toolkit/key_binding/bindings/scroll.py'>,\n",
       " 'prompt_toolkit.key_binding.bindings.vi': <module 'prompt_toolkit.key_binding.bindings.vi' from '/Users/gram/anaconda/lib/python3.6/site-packages/prompt_toolkit/key_binding/bindings/vi.py'>,\n",
       " 'prompt_toolkit.key_binding.digraphs': <module 'prompt_toolkit.key_binding.digraphs' from '/Users/gram/anaconda/lib/python3.6/site-packages/prompt_toolkit/key_binding/digraphs.py'>,\n",
       " 'prompt_toolkit.key_binding.defaults': <module 'prompt_toolkit.key_binding.defaults' from '/Users/gram/anaconda/lib/python3.6/site-packages/prompt_toolkit/key_binding/defaults.py'>,\n",
       " 'prompt_toolkit.eventloop': <module 'prompt_toolkit.eventloop' from '/Users/gram/anaconda/lib/python3.6/site-packages/prompt_toolkit/eventloop/__init__.py'>,\n",
       " 'prompt_toolkit.eventloop.base': <module 'prompt_toolkit.eventloop.base' from '/Users/gram/anaconda/lib/python3.6/site-packages/prompt_toolkit/eventloop/base.py'>,\n",
       " 'prompt_toolkit.eventloop.callbacks': <module 'prompt_toolkit.eventloop.callbacks' from '/Users/gram/anaconda/lib/python3.6/site-packages/prompt_toolkit/eventloop/callbacks.py'>,\n",
       " 'prompt_toolkit.input': <module 'prompt_toolkit.input' from '/Users/gram/anaconda/lib/python3.6/site-packages/prompt_toolkit/input.py'>,\n",
       " 'prompt_toolkit.terminal': <module 'prompt_toolkit.terminal' from '/Users/gram/anaconda/lib/python3.6/site-packages/prompt_toolkit/terminal/__init__.py'>,\n",
       " 'prompt_toolkit.terminal.vt100_input': <module 'prompt_toolkit.terminal.vt100_input' from '/Users/gram/anaconda/lib/python3.6/site-packages/prompt_toolkit/terminal/vt100_input.py'>,\n",
       " 'prompt_toolkit.shortcuts': <module 'prompt_toolkit.shortcuts' from '/Users/gram/anaconda/lib/python3.6/site-packages/prompt_toolkit/shortcuts.py'>,\n",
       " 'prompt_toolkit.layout.menus': <module 'prompt_toolkit.layout.menus' from '/Users/gram/anaconda/lib/python3.6/site-packages/prompt_toolkit/layout/menus.py'>,\n",
       " 'prompt_toolkit.layout.prompt': <module 'prompt_toolkit.layout.prompt' from '/Users/gram/anaconda/lib/python3.6/site-packages/prompt_toolkit/layout/prompt.py'>,\n",
       " 'prompt_toolkit.layout.toolbars': <module 'prompt_toolkit.layout.toolbars' from '/Users/gram/anaconda/lib/python3.6/site-packages/prompt_toolkit/layout/toolbars.py'>,\n",
       " 'prompt_toolkit.terminal.vt100_output': <module 'prompt_toolkit.terminal.vt100_output' from '/Users/gram/anaconda/lib/python3.6/site-packages/prompt_toolkit/terminal/vt100_output.py'>,\n",
       " 'prompt_toolkit.key_binding.manager': <module 'prompt_toolkit.key_binding.manager' from '/Users/gram/anaconda/lib/python3.6/site-packages/prompt_toolkit/key_binding/manager.py'>,\n",
       " 'IPython.terminal.debugger': <module 'IPython.terminal.debugger' from '/Users/gram/anaconda/lib/python3.6/site-packages/IPython/terminal/debugger.py'>,\n",
       " 'IPython.core.completer': <module 'IPython.core.completer' from '/Users/gram/anaconda/lib/python3.6/site-packages/IPython/core/completer.py'>,\n",
       " 'IPython.core.latex_symbols': <module 'IPython.core.latex_symbols' from '/Users/gram/anaconda/lib/python3.6/site-packages/IPython/core/latex_symbols.py'>,\n",
       " 'IPython.utils.generics': <module 'IPython.utils.generics' from '/Users/gram/anaconda/lib/python3.6/site-packages/IPython/utils/generics.py'>,\n",
       " 'simplegeneric': <module 'simplegeneric' from '/Users/gram/anaconda/lib/python3.6/site-packages/simplegeneric.py'>,\n",
       " 'jedi': <module 'jedi' from '/Users/gram/anaconda/lib/python3.6/site-packages/jedi/__init__.py'>,\n",
       " 'jedi.api': <module 'jedi.api' from '/Users/gram/anaconda/lib/python3.6/site-packages/jedi/api/__init__.py'>,\n",
       " 'parso': <module 'parso' from '/Users/gram/anaconda/lib/python3.6/site-packages/parso/__init__.py'>,\n",
       " 'parso.parser': <module 'parso.parser' from '/Users/gram/anaconda/lib/python3.6/site-packages/parso/parser.py'>,\n",
       " 'parso.tree': <module 'parso.tree' from '/Users/gram/anaconda/lib/python3.6/site-packages/parso/tree.py'>,\n",
       " 'parso._compatibility': <module 'parso._compatibility' from '/Users/gram/anaconda/lib/python3.6/site-packages/parso/_compatibility.py'>,\n",
       " 'parso.pgen2': <module 'parso.pgen2' from '/Users/gram/anaconda/lib/python3.6/site-packages/parso/pgen2/__init__.py'>,\n",
       " 'parso.pgen2.parse': <module 'parso.pgen2.parse' from '/Users/gram/anaconda/lib/python3.6/site-packages/parso/pgen2/parse.py'>,\n",
       " 'parso.python': <module 'parso.python' from '/Users/gram/anaconda/lib/python3.6/site-packages/parso/python/__init__.py'>,\n",
       " 'parso.python.tokenize': <module 'parso.python.tokenize' from '/Users/gram/anaconda/lib/python3.6/site-packages/parso/python/tokenize.py'>,\n",
       " 'parso.python.token': <module 'parso.python.token' from '/Users/gram/anaconda/lib/python3.6/site-packages/parso/python/token.py'>,\n",
       " 'parso.utils': <module 'parso.utils' from '/Users/gram/anaconda/lib/python3.6/site-packages/parso/utils.py'>,\n",
       " 'parso.grammar': <module 'parso.grammar' from '/Users/gram/anaconda/lib/python3.6/site-packages/parso/grammar.py'>,\n",
       " 'parso.pgen2.pgen': <module 'parso.pgen2.pgen' from '/Users/gram/anaconda/lib/python3.6/site-packages/parso/pgen2/pgen.py'>,\n",
       " 'parso.pgen2.grammar': <module 'parso.pgen2.grammar' from '/Users/gram/anaconda/lib/python3.6/site-packages/parso/pgen2/grammar.py'>,\n",
       " 'parso.python.diff': <module 'parso.python.diff' from '/Users/gram/anaconda/lib/python3.6/site-packages/parso/python/diff.py'>,\n",
       " 'parso.python.parser': <module 'parso.python.parser' from '/Users/gram/anaconda/lib/python3.6/site-packages/parso/python/parser.py'>,\n",
       " 'parso.python.tree': <module 'parso.python.tree' from '/Users/gram/anaconda/lib/python3.6/site-packages/parso/python/tree.py'>,\n",
       " 'parso.python.prefix': <module 'parso.python.prefix' from '/Users/gram/anaconda/lib/python3.6/site-packages/parso/python/prefix.py'>,\n",
       " 'parso.cache': <module 'parso.cache' from '/Users/gram/anaconda/lib/python3.6/site-packages/parso/cache.py'>,\n",
       " 'gc': <module 'gc' (built-in)>,\n",
       " 'parso.python.errors': <module 'parso.python.errors' from '/Users/gram/anaconda/lib/python3.6/site-packages/parso/python/errors.py'>,\n",
       " 'parso.normalizer': <module 'parso.normalizer' from '/Users/gram/anaconda/lib/python3.6/site-packages/parso/normalizer.py'>,\n",
       " 'parso.python.pep8': <module 'parso.python.pep8' from '/Users/gram/anaconda/lib/python3.6/site-packages/parso/python/pep8.py'>,\n",
       " 'parso.python.fstring': <module 'parso.python.fstring' from '/Users/gram/anaconda/lib/python3.6/site-packages/parso/python/fstring.py'>,\n",
       " 'jedi.parser_utils': <module 'jedi.parser_utils' from '/Users/gram/anaconda/lib/python3.6/site-packages/jedi/parser_utils.py'>,\n",
       " 'jedi._compatibility': <module 'jedi._compatibility' from '/Users/gram/anaconda/lib/python3.6/site-packages/jedi/_compatibility.py'>,\n",
       " 'imp': <module 'imp' from '/Users/gram/anaconda/lib/python3.6/imp.py'>,\n",
       " 'jedi.debug': <module 'jedi.debug' from '/Users/gram/anaconda/lib/python3.6/site-packages/jedi/debug.py'>,\n",
       " 'jedi.settings': <module 'jedi.settings' from '/Users/gram/anaconda/lib/python3.6/site-packages/jedi/settings.py'>,\n",
       " 'jedi.cache': <module 'jedi.cache' from '/Users/gram/anaconda/lib/python3.6/site-packages/jedi/cache.py'>,\n",
       " 'jedi.api.classes': <module 'jedi.api.classes' from '/Users/gram/anaconda/lib/python3.6/site-packages/jedi/api/classes.py'>,\n",
       " 'jedi.common': <module 'jedi.common' from '/Users/gram/anaconda/lib/python3.6/site-packages/jedi/common.py'>,\n",
       " 'jedi.evaluate': <module 'jedi.evaluate' from '/Users/gram/anaconda/lib/python3.6/site-packages/jedi/evaluate/__init__.py'>,\n",
       " 'jedi.evaluate.representation': <module 'jedi.evaluate.representation' from '/Users/gram/anaconda/lib/python3.6/site-packages/jedi/evaluate/representation.py'>,\n",
       " 'jedi.evaluate.cache': <module 'jedi.evaluate.cache' from '/Users/gram/anaconda/lib/python3.6/site-packages/jedi/evaluate/cache.py'>,\n",
       " 'jedi.evaluate.compiled': <module 'jedi.evaluate.compiled' from '/Users/gram/anaconda/lib/python3.6/site-packages/jedi/evaluate/compiled/__init__.py'>,\n",
       " 'jedi.evaluate.filters': <module 'jedi.evaluate.filters' from '/Users/gram/anaconda/lib/python3.6/site-packages/jedi/evaluate/filters.py'>,\n",
       " 'jedi.evaluate.flow_analysis': <module 'jedi.evaluate.flow_analysis' from '/Users/gram/anaconda/lib/python3.6/site-packages/jedi/evaluate/flow_analysis.py'>,\n",
       " 'jedi.evaluate.context': <module 'jedi.evaluate.context' from '/Users/gram/anaconda/lib/python3.6/site-packages/jedi/evaluate/context.py'>,\n",
       " 'jedi.evaluate.compiled.getattr_static': <module 'jedi.evaluate.compiled.getattr_static' from '/Users/gram/anaconda/lib/python3.6/site-packages/jedi/evaluate/compiled/getattr_static.py'>,\n",
       " 'jedi.evaluate.compiled.fake': <module 'jedi.evaluate.compiled.fake' from '/Users/gram/anaconda/lib/python3.6/site-packages/jedi/evaluate/compiled/fake.py'>,\n",
       " 'jedi.evaluate.recursion': <module 'jedi.evaluate.recursion' from '/Users/gram/anaconda/lib/python3.6/site-packages/jedi/evaluate/recursion.py'>,\n",
       " 'jedi.evaluate.iterable': <module 'jedi.evaluate.iterable' from '/Users/gram/anaconda/lib/python3.6/site-packages/jedi/evaluate/iterable.py'>,\n",
       " 'jedi.evaluate.helpers': <module 'jedi.evaluate.helpers' from '/Users/gram/anaconda/lib/python3.6/site-packages/jedi/evaluate/helpers.py'>,\n",
       " 'jedi.evaluate.analysis': <module 'jedi.evaluate.analysis' from '/Users/gram/anaconda/lib/python3.6/site-packages/jedi/evaluate/analysis.py'>,\n",
       " 'jedi.evaluate.pep0484': <module 'jedi.evaluate.pep0484' from '/Users/gram/anaconda/lib/python3.6/site-packages/jedi/evaluate/pep0484.py'>,\n",
       " 'jedi.evaluate.precedence': <module 'jedi.evaluate.precedence' from '/Users/gram/anaconda/lib/python3.6/site-packages/jedi/evaluate/precedence.py'>,\n",
       " 'jedi.evaluate.docstrings': <module 'jedi.evaluate.docstrings' from '/Users/gram/anaconda/lib/python3.6/site-packages/jedi/evaluate/docstrings.py'>,\n",
       " 'numpydoc': <module 'numpydoc' from '/Users/gram/anaconda/lib/python3.6/site-packages/numpydoc/__init__.py'>,\n",
       " 'numpydoc.numpydoc': <module 'numpydoc.numpydoc' from '/Users/gram/anaconda/lib/python3.6/site-packages/numpydoc/numpydoc.py'>,\n",
       " 'numpydoc.docscrape_sphinx': <module 'numpydoc.docscrape_sphinx' from '/Users/gram/anaconda/lib/python3.6/site-packages/numpydoc/docscrape_sphinx.py'>,\n",
       " 'jinja2.sandbox': <module 'jinja2.sandbox' from '/Users/gram/anaconda/lib/python3.6/site-packages/jinja2/sandbox.py'>,\n",
       " 'sphinx.jinja2glue': <module 'sphinx.jinja2glue' from '/Users/gram/anaconda/lib/python3.6/site-packages/sphinx/jinja2glue.py'>,\n",
       " 'numpydoc.docscrape': <module 'numpydoc.docscrape' from '/Users/gram/anaconda/lib/python3.6/site-packages/numpydoc/docscrape.py'>,\n",
       " 'sphinx.domains.c': <module 'sphinx.domains.c' from '/Users/gram/anaconda/lib/python3.6/site-packages/sphinx/domains/c.py'>,\n",
       " 'sphinx.domains.python': <module 'sphinx.domains.python' from '/Users/gram/anaconda/lib/python3.6/site-packages/sphinx/domains/python.py'>,\n",
       " 'jedi.evaluate.param': <module 'jedi.evaluate.param' from '/Users/gram/anaconda/lib/python3.6/site-packages/jedi/evaluate/param.py'>,\n",
       " 'jedi.evaluate.imports': <module 'jedi.evaluate.imports' from '/Users/gram/anaconda/lib/python3.6/site-packages/jedi/evaluate/imports.py'>,\n",
       " 'jedi.evaluate.sys_path': <module 'jedi.evaluate.sys_path' from '/Users/gram/anaconda/lib/python3.6/site-packages/jedi/evaluate/sys_path.py'>,\n",
       " 'jedi.evaluate.site': <module 'jedi.evaluate.site' from '/Users/gram/anaconda/lib/python3.6/site-packages/jedi/evaluate/site.py'>,\n",
       " 'jedi.evaluate.parser_cache': <module 'jedi.evaluate.parser_cache' from '/Users/gram/anaconda/lib/python3.6/site-packages/jedi/evaluate/parser_cache.py'>,\n",
       " 'jedi.evaluate.stdlib': <module 'jedi.evaluate.stdlib' from '/Users/gram/anaconda/lib/python3.6/site-packages/jedi/evaluate/stdlib.py'>,\n",
       " 'jedi.evaluate.instance': <module 'jedi.evaluate.instance' from '/Users/gram/anaconda/lib/python3.6/site-packages/jedi/evaluate/instance.py'>,\n",
       " 'jedi.evaluate.finder': <module 'jedi.evaluate.finder' from '/Users/gram/anaconda/lib/python3.6/site-packages/jedi/evaluate/finder.py'>,\n",
       " 'jedi.api.keywords': <module 'jedi.api.keywords' from '/Users/gram/anaconda/lib/python3.6/site-packages/jedi/api/keywords.py'>,\n",
       " 'pydoc_data': <module 'pydoc_data' from '/Users/gram/anaconda/lib/python3.6/pydoc_data/__init__.py'>,\n",
       " 'pydoc_data.topics': <module 'pydoc_data.topics' from '/Users/gram/anaconda/lib/python3.6/pydoc_data/topics.py'>,\n",
       " 'jedi.api.interpreter': <module 'jedi.api.interpreter' from '/Users/gram/anaconda/lib/python3.6/site-packages/jedi/api/interpreter.py'>,\n",
       " 'jedi.evaluate.compiled.mixed': <module 'jedi.evaluate.compiled.mixed' from '/Users/gram/anaconda/lib/python3.6/site-packages/jedi/evaluate/compiled/mixed.py'>,\n",
       " 'jedi.api.usages': <module 'jedi.api.usages' from '/Users/gram/anaconda/lib/python3.6/site-packages/jedi/api/usages.py'>,\n",
       " 'jedi.api.helpers': <module 'jedi.api.helpers' from '/Users/gram/anaconda/lib/python3.6/site-packages/jedi/api/helpers.py'>,\n",
       " 'jedi.api.completion': <module 'jedi.api.completion' from '/Users/gram/anaconda/lib/python3.6/site-packages/jedi/api/completion.py'>,\n",
       " 'IPython.terminal.ptutils': <module 'IPython.terminal.ptutils' from '/Users/gram/anaconda/lib/python3.6/site-packages/IPython/terminal/ptutils.py'>,\n",
       " 'IPython.terminal.shortcuts': <module 'IPython.terminal.shortcuts' from '/Users/gram/anaconda/lib/python3.6/site-packages/IPython/terminal/shortcuts.py'>,\n",
       " 'IPython.terminal.magics': <module 'IPython.terminal.magics' from '/Users/gram/anaconda/lib/python3.6/site-packages/IPython/terminal/magics.py'>,\n",
       " 'IPython.lib.clipboard': <module 'IPython.lib.clipboard' from '/Users/gram/anaconda/lib/python3.6/site-packages/IPython/lib/clipboard.py'>,\n",
       " 'IPython.terminal.pt_inputhooks': <module 'IPython.terminal.pt_inputhooks' from '/Users/gram/anaconda/lib/python3.6/site-packages/IPython/terminal/pt_inputhooks/__init__.py'>,\n",
       " 'IPython.terminal.prompts': <module 'IPython.terminal.prompts' from '/Users/gram/anaconda/lib/python3.6/site-packages/IPython/terminal/prompts.py'>,\n",
       " 'IPython.terminal.ipapp': <module 'IPython.terminal.ipapp' from '/Users/gram/anaconda/lib/python3.6/site-packages/IPython/terminal/ipapp.py'>,\n",
       " 'IPython.core.magics': <module 'IPython.core.magics' from '/Users/gram/anaconda/lib/python3.6/site-packages/IPython/core/magics/__init__.py'>,\n",
       " 'IPython.core.magics.auto': <module 'IPython.core.magics.auto' from '/Users/gram/anaconda/lib/python3.6/site-packages/IPython/core/magics/auto.py'>,\n",
       " 'IPython.core.magics.basic': <module 'IPython.core.magics.basic' from '/Users/gram/anaconda/lib/python3.6/site-packages/IPython/core/magics/basic.py'>,\n",
       " 'IPython.core.magics.code': <module 'IPython.core.magics.code' from '/Users/gram/anaconda/lib/python3.6/site-packages/IPython/core/magics/code.py'>,\n",
       " 'IPython.core.magics.config': <module 'IPython.core.magics.config' from '/Users/gram/anaconda/lib/python3.6/site-packages/IPython/core/magics/config.py'>,\n",
       " 'IPython.core.magics.display': <module 'IPython.core.magics.display' from '/Users/gram/anaconda/lib/python3.6/site-packages/IPython/core/magics/display.py'>,\n",
       " 'IPython.core.magics.execution': <module 'IPython.core.magics.execution' from '/Users/gram/anaconda/lib/python3.6/site-packages/IPython/core/magics/execution.py'>,\n",
       " 'timeit': <module 'timeit' from '/Users/gram/anaconda/lib/python3.6/timeit.py'>,\n",
       " 'cProfile': <module 'cProfile' from '/Users/gram/anaconda/lib/python3.6/cProfile.py'>,\n",
       " '_lsprof': <module '_lsprof' from '/Users/gram/anaconda/lib/python3.6/lib-dynload/_lsprof.cpython-36m-darwin.so'>,\n",
       " 'profile': <module 'profile' from '/Users/gram/anaconda/lib/python3.6/profile.py'>,\n",
       " 'pstats': <module 'pstats' from '/Users/gram/anaconda/lib/python3.6/pstats.py'>,\n",
       " 'IPython.utils.module_paths': <module 'IPython.utils.module_paths' from '/Users/gram/anaconda/lib/python3.6/site-packages/IPython/utils/module_paths.py'>,\n",
       " 'IPython.utils.timing': <module 'IPython.utils.timing' from '/Users/gram/anaconda/lib/python3.6/site-packages/IPython/utils/timing.py'>,\n",
       " 'IPython.core.magics.extension': <module 'IPython.core.magics.extension' from '/Users/gram/anaconda/lib/python3.6/site-packages/IPython/core/magics/extension.py'>,\n",
       " 'IPython.core.magics.history': <module 'IPython.core.magics.history' from '/Users/gram/anaconda/lib/python3.6/site-packages/IPython/core/magics/history.py'>,\n",
       " 'IPython.core.magics.logging': <module 'IPython.core.magics.logging' from '/Users/gram/anaconda/lib/python3.6/site-packages/IPython/core/magics/logging.py'>,\n",
       " 'IPython.core.magics.namespace': <module 'IPython.core.magics.namespace' from '/Users/gram/anaconda/lib/python3.6/site-packages/IPython/core/magics/namespace.py'>,\n",
       " 'IPython.core.magics.osm': <module 'IPython.core.magics.osm' from '/Users/gram/anaconda/lib/python3.6/site-packages/IPython/core/magics/osm.py'>,\n",
       " 'IPython.core.magics.pylab': <module 'IPython.core.magics.pylab' from '/Users/gram/anaconda/lib/python3.6/site-packages/IPython/core/magics/pylab.py'>,\n",
       " 'IPython.core.pylabtools': <module 'IPython.core.pylabtools' from '/Users/gram/anaconda/lib/python3.6/site-packages/IPython/core/pylabtools.py'>,\n",
       " 'IPython.core.magics.script': <module 'IPython.core.magics.script' from '/Users/gram/anaconda/lib/python3.6/site-packages/IPython/core/magics/script.py'>,\n",
       " 'IPython.lib.backgroundjobs': <module 'IPython.lib.backgroundjobs' from '/Users/gram/anaconda/lib/python3.6/site-packages/IPython/lib/backgroundjobs.py'>,\n",
       " 'IPython.core.shellapp': <module 'IPython.core.shellapp' from '/Users/gram/anaconda/lib/python3.6/site-packages/IPython/core/shellapp.py'>,\n",
       " 'IPython.extensions': <module 'IPython.extensions' from '/Users/gram/anaconda/lib/python3.6/site-packages/IPython/extensions/__init__.py'>,\n",
       " 'IPython.extensions.storemagic': <module 'IPython.extensions.storemagic' from '/Users/gram/anaconda/lib/python3.6/site-packages/IPython/extensions/storemagic.py'>,\n",
       " 'IPython.utils.frame': <module 'IPython.utils.frame' from '/Users/gram/anaconda/lib/python3.6/site-packages/IPython/utils/frame.py'>,\n",
       " 'jupyter_client': <module 'jupyter_client' from '/Users/gram/anaconda/lib/python3.6/site-packages/jupyter_client/__init__.py'>,\n",
       " 'jupyter_client._version': <module 'jupyter_client._version' from '/Users/gram/anaconda/lib/python3.6/site-packages/jupyter_client/_version.py'>,\n",
       " 'jupyter_client.connect': <module 'jupyter_client.connect' from '/Users/gram/anaconda/lib/python3.6/site-packages/jupyter_client/connect.py'>,\n",
       " 'zmq': <module 'zmq' from '/Users/gram/anaconda/lib/python3.6/site-packages/zmq/__init__.py'>,\n",
       " 'zmq.backend': <module 'zmq.backend' from '/Users/gram/anaconda/lib/python3.6/site-packages/zmq/backend/__init__.py'>,\n",
       " 'zmq.backend.select': <module 'zmq.backend.select' from '/Users/gram/anaconda/lib/python3.6/site-packages/zmq/backend/select.py'>,\n",
       " 'zmq.backend.cython': <module 'zmq.backend.cython' from '/Users/gram/anaconda/lib/python3.6/site-packages/zmq/backend/cython/__init__.py'>,\n",
       " 'cython_runtime': <module 'cython_runtime'>,\n",
       " 'zmq.backend.cython.constants': <module 'zmq.backend.cython.constants' from '/Users/gram/anaconda/lib/python3.6/site-packages/zmq/backend/cython/constants.cpython-36m-darwin.so'>,\n",
       " '_cython_0_27_2': <module '_cython_0_27_2'>,\n",
       " 'zmq.backend.cython.error': <module 'zmq.backend.cython.error' from '/Users/gram/anaconda/lib/python3.6/site-packages/zmq/backend/cython/error.cpython-36m-darwin.so'>,\n",
       " 'zmq.utils': <module 'zmq.utils' from '/Users/gram/anaconda/lib/python3.6/site-packages/zmq/utils/__init__.py'>,\n",
       " 'zmq.utils.strtypes': <module 'zmq.utils.strtypes' from '/Users/gram/anaconda/lib/python3.6/site-packages/zmq/utils/strtypes.py'>,\n",
       " 'zmq.backend.cython.message': <module 'zmq.backend.cython.message' from '/Users/gram/anaconda/lib/python3.6/site-packages/zmq/backend/cython/message.cpython-36m-darwin.so'>,\n",
       " 'zmq.error': <module 'zmq.error' from '/Users/gram/anaconda/lib/python3.6/site-packages/zmq/error.py'>,\n",
       " 'zmq.backend.cython.context': <module 'zmq.backend.cython.context' from '/Users/gram/anaconda/lib/python3.6/site-packages/zmq/backend/cython/context.cpython-36m-darwin.so'>,\n",
       " 'zmq.backend.cython.socket': <module 'zmq.backend.cython.socket' from '/Users/gram/anaconda/lib/python3.6/site-packages/zmq/backend/cython/socket.cpython-36m-darwin.so'>,\n",
       " 'zmq.backend.cython.utils': <module 'zmq.backend.cython.utils' from '/Users/gram/anaconda/lib/python3.6/site-packages/zmq/backend/cython/utils.cpython-36m-darwin.so'>,\n",
       " 'zmq.backend.cython._poll': <module 'zmq.backend.cython._poll' from '/Users/gram/anaconda/lib/python3.6/site-packages/zmq/backend/cython/_poll.cpython-36m-darwin.so'>,\n",
       " 'zmq.backend.cython._version': <module 'zmq.backend.cython._version' from '/Users/gram/anaconda/lib/python3.6/site-packages/zmq/backend/cython/_version.cpython-36m-darwin.so'>,\n",
       " 'zmq.backend.cython._device': <module 'zmq.backend.cython._device' from '/Users/gram/anaconda/lib/python3.6/site-packages/zmq/backend/cython/_device.cpython-36m-darwin.so'>,\n",
       " 'zmq.sugar': <module 'zmq.sugar' from '/Users/gram/anaconda/lib/python3.6/site-packages/zmq/sugar/__init__.py'>,\n",
       " 'zmq.sugar.constants': <module 'zmq.sugar.constants' from '/Users/gram/anaconda/lib/python3.6/site-packages/zmq/sugar/constants.py'>,\n",
       " 'zmq.utils.constant_names': <module 'zmq.utils.constant_names' from '/Users/gram/anaconda/lib/python3.6/site-packages/zmq/utils/constant_names.py'>,\n",
       " 'zmq.sugar.context': <module 'zmq.sugar.context' from '/Users/gram/anaconda/lib/python3.6/site-packages/zmq/sugar/context.py'>,\n",
       " 'zmq.sugar.attrsettr': <module 'zmq.sugar.attrsettr' from '/Users/gram/anaconda/lib/python3.6/site-packages/zmq/sugar/attrsettr.py'>,\n",
       " 'zmq.sugar.socket': <module 'zmq.sugar.socket' from '/Users/gram/anaconda/lib/python3.6/site-packages/zmq/sugar/socket.py'>,\n",
       " 'zmq.sugar.poll': <module 'zmq.sugar.poll' from '/Users/gram/anaconda/lib/python3.6/site-packages/zmq/sugar/poll.py'>,\n",
       " 'zmq.sugar.frame': <module 'zmq.sugar.frame' from '/Users/gram/anaconda/lib/python3.6/site-packages/zmq/sugar/frame.py'>,\n",
       " 'zmq.sugar.tracker': <module 'zmq.sugar.tracker' from '/Users/gram/anaconda/lib/python3.6/site-packages/zmq/sugar/tracker.py'>,\n",
       " 'zmq.sugar.version': <module 'zmq.sugar.version' from '/Users/gram/anaconda/lib/python3.6/site-packages/zmq/sugar/version.py'>,\n",
       " 'zmq.sugar.stopwatch': <module 'zmq.sugar.stopwatch' from '/Users/gram/anaconda/lib/python3.6/site-packages/zmq/sugar/stopwatch.py'>,\n",
       " 'jupyter_client.localinterfaces': <module 'jupyter_client.localinterfaces' from '/Users/gram/anaconda/lib/python3.6/site-packages/jupyter_client/localinterfaces.py'>,\n",
       " 'jupyter_core': <module 'jupyter_core' from '/Users/gram/anaconda/lib/python3.6/site-packages/jupyter_core/__init__.py'>,\n",
       " 'jupyter_core.version': <module 'jupyter_core.version' from '/Users/gram/anaconda/lib/python3.6/site-packages/jupyter_core/version.py'>,\n",
       " 'jupyter_core.paths': <module 'jupyter_core.paths' from '/Users/gram/anaconda/lib/python3.6/site-packages/jupyter_core/paths.py'>,\n",
       " 'jupyter_client.launcher': <module 'jupyter_client.launcher' from '/Users/gram/anaconda/lib/python3.6/site-packages/jupyter_client/launcher.py'>,\n",
       " 'traitlets.log': <module 'traitlets.log' from '/Users/gram/anaconda/lib/python3.6/site-packages/traitlets/log.py'>,\n",
       " 'jupyter_client.client': <module 'jupyter_client.client' from '/Users/gram/anaconda/lib/python3.6/site-packages/jupyter_client/client.py'>,\n",
       " 'jupyter_client.channels': <module 'jupyter_client.channels' from '/Users/gram/anaconda/lib/python3.6/site-packages/jupyter_client/channels.py'>,\n",
       " 'jupyter_client.channelsabc': <module 'jupyter_client.channelsabc' from '/Users/gram/anaconda/lib/python3.6/site-packages/jupyter_client/channelsabc.py'>,\n",
       " 'jupyter_client.clientabc': <module 'jupyter_client.clientabc' from '/Users/gram/anaconda/lib/python3.6/site-packages/jupyter_client/clientabc.py'>,\n",
       " 'jupyter_client.manager': <module 'jupyter_client.manager' from '/Users/gram/anaconda/lib/python3.6/site-packages/jupyter_client/manager.py'>,\n",
       " 'jupyter_client.kernelspec': <module 'jupyter_client.kernelspec' from '/Users/gram/anaconda/lib/python3.6/site-packages/jupyter_client/kernelspec.py'>,\n",
       " 'jupyter_client.session': <module 'jupyter_client.session' from '/Users/gram/anaconda/lib/python3.6/site-packages/jupyter_client/session.py'>,\n",
       " 'hmac': <module 'hmac' from '/Users/gram/anaconda/lib/python3.6/hmac.py'>,\n",
       " 'zmq.utils.jsonapi': <module 'zmq.utils.jsonapi' from '/Users/gram/anaconda/lib/python3.6/site-packages/zmq/utils/jsonapi.py'>,\n",
       " 'zmq.eventloop': <module 'zmq.eventloop' from '/Users/gram/anaconda/lib/python3.6/site-packages/zmq/eventloop/__init__.py'>,\n",
       " 'zmq.eventloop.ioloop': <module 'zmq.eventloop.ioloop' from '/Users/gram/anaconda/lib/python3.6/site-packages/zmq/eventloop/ioloop.py'>,\n",
       " 'tornado': <module 'tornado' from '/Users/gram/anaconda/lib/python3.6/site-packages/tornado/__init__.py'>,\n",
       " 'tornado.ioloop': <module 'tornado.ioloop' from '/Users/gram/anaconda/lib/python3.6/site-packages/tornado/ioloop.py'>,\n",
       " 'tornado.concurrent': <module 'tornado.concurrent' from '/Users/gram/anaconda/lib/python3.6/site-packages/tornado/concurrent.py'>,\n",
       " 'tornado.log': <module 'tornado.log' from '/Users/gram/anaconda/lib/python3.6/site-packages/tornado/log.py'>,\n",
       " 'tornado.escape': <module 'tornado.escape' from '/Users/gram/anaconda/lib/python3.6/site-packages/tornado/escape.py'>,\n",
       " 'tornado.util': <module 'tornado.util' from '/Users/gram/anaconda/lib/python3.6/site-packages/tornado/util.py'>,\n",
       " 'curses': <module 'curses' from '/Users/gram/anaconda/lib/python3.6/curses/__init__.py'>,\n",
       " '_curses': <module '_curses' from '/Users/gram/anaconda/lib/python3.6/lib-dynload/_curses.cpython-36m-darwin.so'>,\n",
       " 'tornado.stack_context': <module 'tornado.stack_context' from '/Users/gram/anaconda/lib/python3.6/site-packages/tornado/stack_context.py'>,\n",
       " 'tornado.platform': <module 'tornado.platform' from '/Users/gram/anaconda/lib/python3.6/site-packages/tornado/platform/__init__.py'>,\n",
       " 'tornado.platform.auto': <module 'tornado.platform.auto' from '/Users/gram/anaconda/lib/python3.6/site-packages/tornado/platform/auto.py'>,\n",
       " 'tornado.platform.posix': <module 'tornado.platform.posix' from '/Users/gram/anaconda/lib/python3.6/site-packages/tornado/platform/posix.py'>,\n",
       " 'tornado.platform.common': <module 'tornado.platform.common' from '/Users/gram/anaconda/lib/python3.6/site-packages/tornado/platform/common.py'>,\n",
       " 'tornado.platform.interface': <module 'tornado.platform.interface' from '/Users/gram/anaconda/lib/python3.6/site-packages/tornado/platform/interface.py'>,\n",
       " 'zmq.eventloop.zmqstream': <module 'zmq.eventloop.zmqstream' from '/Users/gram/anaconda/lib/python3.6/site-packages/zmq/eventloop/zmqstream.py'>,\n",
       " 'jupyter_client.jsonutil': <module 'jupyter_client.jsonutil' from '/Users/gram/anaconda/lib/python3.6/site-packages/jupyter_client/jsonutil.py'>,\n",
       " 'dateutil': <module 'dateutil' from '/Users/gram/anaconda/lib/python3.6/site-packages/dateutil/__init__.py'>,\n",
       " 'dateutil._version': <module 'dateutil._version' from '/Users/gram/anaconda/lib/python3.6/site-packages/dateutil/_version.py'>,\n",
       " 'dateutil.parser': <module 'dateutil.parser' from '/Users/gram/anaconda/lib/python3.6/site-packages/dateutil/parser.py'>,\n",
       " 'dateutil.relativedelta': <module 'dateutil.relativedelta' from '/Users/gram/anaconda/lib/python3.6/site-packages/dateutil/relativedelta.py'>,\n",
       " 'dateutil._common': <module 'dateutil._common' from '/Users/gram/anaconda/lib/python3.6/site-packages/dateutil/_common.py'>,\n",
       " 'dateutil.tz': <module 'dateutil.tz' from '/Users/gram/anaconda/lib/python3.6/site-packages/dateutil/tz/__init__.py'>,\n",
       " 'dateutil.tz.tz': <module 'dateutil.tz.tz' from '/Users/gram/anaconda/lib/python3.6/site-packages/dateutil/tz/tz.py'>,\n",
       " 'dateutil.tz._common': <module 'dateutil.tz._common' from '/Users/gram/anaconda/lib/python3.6/site-packages/dateutil/tz/_common.py'>,\n",
       " '_strptime': <module '_strptime' from '/Users/gram/anaconda/lib/python3.6/_strptime.py'>,\n",
       " 'jupyter_client.adapter': <module 'jupyter_client.adapter' from '/Users/gram/anaconda/lib/python3.6/site-packages/jupyter_client/adapter.py'>,\n",
       " 'jupyter_client.managerabc': <module 'jupyter_client.managerabc' from '/Users/gram/anaconda/lib/python3.6/site-packages/jupyter_client/managerabc.py'>,\n",
       " 'jupyter_client.blocking': <module 'jupyter_client.blocking' from '/Users/gram/anaconda/lib/python3.6/site-packages/jupyter_client/blocking/__init__.py'>,\n",
       " 'jupyter_client.blocking.client': <module 'jupyter_client.blocking.client' from '/Users/gram/anaconda/lib/python3.6/site-packages/jupyter_client/blocking/client.py'>,\n",
       " 'jupyter_client.blocking.channels': <module 'jupyter_client.blocking.channels' from '/Users/gram/anaconda/lib/python3.6/site-packages/jupyter_client/blocking/channels.py'>,\n",
       " 'jupyter_client.multikernelmanager': <module 'jupyter_client.multikernelmanager' from '/Users/gram/anaconda/lib/python3.6/site-packages/jupyter_client/multikernelmanager.py'>,\n",
       " 'ipykernel.kernelapp': <module 'ipykernel.kernelapp' from '/Users/gram/anaconda/lib/python3.6/site-packages/ipykernel/kernelapp.py'>,\n",
       " 'ipykernel.iostream': <module 'ipykernel.iostream' from '/Users/gram/anaconda/lib/python3.6/site-packages/ipykernel/iostream.py'>,\n",
       " 'ipykernel.heartbeat': <module 'ipykernel.heartbeat' from '/Users/gram/anaconda/lib/python3.6/site-packages/ipykernel/heartbeat.py'>,\n",
       " 'ipykernel.ipkernel': <module 'ipykernel.ipkernel' from '/Users/gram/anaconda/lib/python3.6/site-packages/ipykernel/ipkernel.py'>,\n",
       " 'IPython.utils.tokenutil': <module 'IPython.utils.tokenutil' from '/Users/gram/anaconda/lib/python3.6/site-packages/IPython/utils/tokenutil.py'>,\n",
       " 'ipykernel.comm': <module 'ipykernel.comm' from '/Users/gram/anaconda/lib/python3.6/site-packages/ipykernel/comm/__init__.py'>,\n",
       " 'ipykernel.comm.manager': <module 'ipykernel.comm.manager' from '/Users/gram/anaconda/lib/python3.6/site-packages/ipykernel/comm/manager.py'>,\n",
       " 'ipykernel.comm.comm': <module 'ipykernel.comm.comm' from '/Users/gram/anaconda/lib/python3.6/site-packages/ipykernel/comm/comm.py'>,\n",
       " 'ipykernel.kernelbase': <module 'ipykernel.kernelbase' from '/Users/gram/anaconda/lib/python3.6/site-packages/ipykernel/kernelbase.py'>,\n",
       " 'ipykernel.jsonutil': <module 'ipykernel.jsonutil' from '/Users/gram/anaconda/lib/python3.6/site-packages/ipykernel/jsonutil.py'>,\n",
       " 'ipykernel.zmqshell': <module 'ipykernel.zmqshell' from '/Users/gram/anaconda/lib/python3.6/site-packages/ipykernel/zmqshell.py'>,\n",
       " 'IPython.core.payloadpage': <module 'IPython.core.payloadpage' from '/Users/gram/anaconda/lib/python3.6/site-packages/IPython/core/payloadpage.py'>,\n",
       " 'ipykernel.displayhook': <module 'ipykernel.displayhook' from '/Users/gram/anaconda/lib/python3.6/site-packages/ipykernel/displayhook.py'>,\n",
       " 'ipykernel.parentpoller': <module 'ipykernel.parentpoller' from '/Users/gram/anaconda/lib/python3.6/site-packages/ipykernel/parentpoller.py'>,\n",
       " 'faulthandler': <module 'faulthandler' (built-in)>,\n",
       " 'ipykernel.datapub': <module 'ipykernel.datapub' from '/Users/gram/anaconda/lib/python3.6/site-packages/ipykernel/datapub.py'>,\n",
       " 'ipykernel.serialize': <module 'ipykernel.serialize' from '/Users/gram/anaconda/lib/python3.6/site-packages/ipykernel/serialize.py'>,\n",
       " 'ipykernel.pickleutil': <module 'ipykernel.pickleutil' from '/Users/gram/anaconda/lib/python3.6/site-packages/ipykernel/pickleutil.py'>,\n",
       " 'ipykernel.codeutil': <module 'ipykernel.codeutil' from '/Users/gram/anaconda/lib/python3.6/site-packages/ipykernel/codeutil.py'>,\n",
       " 'IPython.core.completerlib': <module 'IPython.core.completerlib' from '/Users/gram/anaconda/lib/python3.6/site-packages/IPython/core/completerlib.py'>,\n",
       " 'matplotlib': <module 'matplotlib' from '/Users/gram/anaconda/lib/python3.6/site-packages/matplotlib/__init__.py'>,\n",
       " 'distutils.sysconfig': <module 'distutils.sysconfig' from '/Users/gram/anaconda/lib/python3.6/distutils/sysconfig.py'>,\n",
       " 'distutils.errors': <module 'distutils.errors' from '/Users/gram/anaconda/lib/python3.6/distutils/errors.py'>,\n",
       " 'matplotlib.cbook': <module 'matplotlib.cbook' from '/Users/gram/anaconda/lib/python3.6/site-packages/matplotlib/cbook/__init__.py'>,\n",
       " 'gzip': <module 'gzip' from '/Users/gram/anaconda/lib/python3.6/gzip.py'>,\n",
       " 'matplotlib.cbook.deprecation': <module 'matplotlib.cbook.deprecation' from '/Users/gram/anaconda/lib/python3.6/site-packages/matplotlib/cbook/deprecation.py'>,\n",
       " 'numpy': <module 'numpy' from '/Users/gram/anaconda/lib/python3.6/site-packages/numpy/__init__.py'>,\n",
       " 'numpy._globals': <module 'numpy._globals' from '/Users/gram/anaconda/lib/python3.6/site-packages/numpy/_globals.py'>,\n",
       " 'numpy.__config__': <module 'numpy.__config__' from '/Users/gram/anaconda/lib/python3.6/site-packages/numpy/__config__.py'>,\n",
       " 'numpy.version': <module 'numpy.version' from '/Users/gram/anaconda/lib/python3.6/site-packages/numpy/version.py'>,\n",
       " 'numpy._import_tools': <module 'numpy._import_tools' from '/Users/gram/anaconda/lib/python3.6/site-packages/numpy/_import_tools.py'>,\n",
       " 'numpy.add_newdocs': <module 'numpy.add_newdocs' from '/Users/gram/anaconda/lib/python3.6/site-packages/numpy/add_newdocs.py'>,\n",
       " 'numpy.lib': <module 'numpy.lib' from '/Users/gram/anaconda/lib/python3.6/site-packages/numpy/lib/__init__.py'>,\n",
       " 'numpy.lib.info': <module 'numpy.lib.info' from '/Users/gram/anaconda/lib/python3.6/site-packages/numpy/lib/info.py'>,\n",
       " 'numpy.lib.type_check': <module 'numpy.lib.type_check' from '/Users/gram/anaconda/lib/python3.6/site-packages/numpy/lib/type_check.py'>,\n",
       " 'numpy.core': <module 'numpy.core' from '/Users/gram/anaconda/lib/python3.6/site-packages/numpy/core/__init__.py'>,\n",
       " 'numpy.core.info': <module 'numpy.core.info' from '/Users/gram/anaconda/lib/python3.6/site-packages/numpy/core/info.py'>,\n",
       " 'numpy.core.multiarray': <module 'numpy.core.multiarray' from '/Users/gram/anaconda/lib/python3.6/site-packages/numpy/core/multiarray.cpython-36m-darwin.so'>,\n",
       " 'numpy.core.umath': <module 'numpy.core.umath' from '/Users/gram/anaconda/lib/python3.6/site-packages/numpy/core/umath.cpython-36m-darwin.so'>,\n",
       " 'numpy.core._internal': <module 'numpy.core._internal' from '/Users/gram/anaconda/lib/python3.6/site-packages/numpy/core/_internal.py'>,\n",
       " 'numpy.compat': <module 'numpy.compat' from '/Users/gram/anaconda/lib/python3.6/site-packages/numpy/compat/__init__.py'>,\n",
       " 'numpy.compat._inspect': <module 'numpy.compat._inspect' from '/Users/gram/anaconda/lib/python3.6/site-packages/numpy/compat/_inspect.py'>,\n",
       " 'numpy.compat.py3k': <module 'numpy.compat.py3k' from '/Users/gram/anaconda/lib/python3.6/site-packages/numpy/compat/py3k.py'>,\n",
       " 'numpy.core.numerictypes': <module 'numpy.core.numerictypes' from '/Users/gram/anaconda/lib/python3.6/site-packages/numpy/core/numerictypes.py'>,\n",
       " 'numpy.core.numeric': <module 'numpy.core.numeric' from '/Users/gram/anaconda/lib/python3.6/site-packages/numpy/core/numeric.py'>,\n",
       " 'numpy.core.arrayprint': <module 'numpy.core.arrayprint' from '/Users/gram/anaconda/lib/python3.6/site-packages/numpy/core/arrayprint.py'>,\n",
       " 'numpy.core.fromnumeric': <module 'numpy.core.fromnumeric' from '/Users/gram/anaconda/lib/python3.6/site-packages/numpy/core/fromnumeric.py'>,\n",
       " 'numpy.core._methods': <module 'numpy.core._methods' from '/Users/gram/anaconda/lib/python3.6/site-packages/numpy/core/_methods.py'>,\n",
       " 'numpy.core.defchararray': <module 'numpy.core.defchararray' from '/Users/gram/anaconda/lib/python3.6/site-packages/numpy/core/defchararray.py'>,\n",
       " 'numpy.core.records': <module 'numpy.core.records' from '/Users/gram/anaconda/lib/python3.6/site-packages/numpy/core/records.py'>,\n",
       " 'numpy.core.memmap': <module 'numpy.core.memmap' from '/Users/gram/anaconda/lib/python3.6/site-packages/numpy/core/memmap.py'>,\n",
       " 'numpy.core.function_base': <module 'numpy.core.function_base' from '/Users/gram/anaconda/lib/python3.6/site-packages/numpy/core/function_base.py'>,\n",
       " 'numpy.core.machar': <module 'numpy.core.machar' from '/Users/gram/anaconda/lib/python3.6/site-packages/numpy/core/machar.py'>,\n",
       " 'numpy.core.getlimits': <module 'numpy.core.getlimits' from '/Users/gram/anaconda/lib/python3.6/site-packages/numpy/core/getlimits.py'>,\n",
       " 'numpy.core.shape_base': <module 'numpy.core.shape_base' from '/Users/gram/anaconda/lib/python3.6/site-packages/numpy/core/shape_base.py'>,\n",
       " 'numpy.core.einsumfunc': <module 'numpy.core.einsumfunc' from '/Users/gram/anaconda/lib/python3.6/site-packages/numpy/core/einsumfunc.py'>,\n",
       " 'numpy.testing': <module 'numpy.testing' from '/Users/gram/anaconda/lib/python3.6/site-packages/numpy/testing/__init__.py'>,\n",
       " 'unittest': <module 'unittest' from '/Users/gram/anaconda/lib/python3.6/unittest/__init__.py'>,\n",
       " 'unittest.result': <module 'unittest.result' from '/Users/gram/anaconda/lib/python3.6/unittest/result.py'>,\n",
       " 'unittest.util': <module 'unittest.util' from '/Users/gram/anaconda/lib/python3.6/unittest/util.py'>,\n",
       " 'unittest.case': <module 'unittest.case' from '/Users/gram/anaconda/lib/python3.6/unittest/case.py'>,\n",
       " 'unittest.suite': <module 'unittest.suite' from '/Users/gram/anaconda/lib/python3.6/unittest/suite.py'>,\n",
       " 'unittest.loader': <module 'unittest.loader' from '/Users/gram/anaconda/lib/python3.6/unittest/loader.py'>,\n",
       " 'unittest.main': <module 'unittest.main' from '/Users/gram/anaconda/lib/python3.6/unittest/main.py'>,\n",
       " 'unittest.runner': <module 'unittest.runner' from '/Users/gram/anaconda/lib/python3.6/unittest/runner.py'>,\n",
       " 'unittest.signals': <module 'unittest.signals' from '/Users/gram/anaconda/lib/python3.6/unittest/signals.py'>,\n",
       " 'numpy.testing.decorators': <module 'numpy.testing.decorators' from '/Users/gram/anaconda/lib/python3.6/site-packages/numpy/testing/decorators.py'>,\n",
       " 'numpy.testing.utils': <module 'numpy.testing.utils' from '/Users/gram/anaconda/lib/python3.6/site-packages/numpy/testing/utils.py'>,\n",
       " 'numpy.lib.utils': <module 'numpy.lib.utils' from '/Users/gram/anaconda/lib/python3.6/site-packages/numpy/lib/utils.py'>,\n",
       " 'numpy.testing.nosetester': <module 'numpy.testing.nosetester' from '/Users/gram/anaconda/lib/python3.6/site-packages/numpy/testing/nosetester.py'>,\n",
       " 'numpy.lib.ufunclike': <module 'numpy.lib.ufunclike' from '/Users/gram/anaconda/lib/python3.6/site-packages/numpy/lib/ufunclike.py'>,\n",
       " 'numpy.lib.index_tricks': <module 'numpy.lib.index_tricks' from '/Users/gram/anaconda/lib/python3.6/site-packages/numpy/lib/index_tricks.py'>,\n",
       " 'numpy.lib.function_base': <module 'numpy.lib.function_base' from '/Users/gram/anaconda/lib/python3.6/site-packages/numpy/lib/function_base.py'>,\n",
       " 'numpy.lib.twodim_base': <module 'numpy.lib.twodim_base' from '/Users/gram/anaconda/lib/python3.6/site-packages/numpy/lib/twodim_base.py'>,\n",
       " 'numpy.matrixlib': <module 'numpy.matrixlib' from '/Users/gram/anaconda/lib/python3.6/site-packages/numpy/matrixlib/__init__.py'>,\n",
       " 'numpy.matrixlib.defmatrix': <module 'numpy.matrixlib.defmatrix' from '/Users/gram/anaconda/lib/python3.6/site-packages/numpy/matrixlib/defmatrix.py'>,\n",
       " 'numpy.lib.stride_tricks': <module 'numpy.lib.stride_tricks' from '/Users/gram/anaconda/lib/python3.6/site-packages/numpy/lib/stride_tricks.py'>,\n",
       " 'numpy.lib.mixins': <module 'numpy.lib.mixins' from '/Users/gram/anaconda/lib/python3.6/site-packages/numpy/lib/mixins.py'>,\n",
       " 'numpy.lib.nanfunctions': <module 'numpy.lib.nanfunctions' from '/Users/gram/anaconda/lib/python3.6/site-packages/numpy/lib/nanfunctions.py'>,\n",
       " 'numpy.lib.shape_base': <module 'numpy.lib.shape_base' from '/Users/gram/anaconda/lib/python3.6/site-packages/numpy/lib/shape_base.py'>,\n",
       " 'numpy.lib.scimath': <module 'numpy.lib.scimath' from '/Users/gram/anaconda/lib/python3.6/site-packages/numpy/lib/scimath.py'>,\n",
       " 'numpy.lib.polynomial': <module 'numpy.lib.polynomial' from '/Users/gram/anaconda/lib/python3.6/site-packages/numpy/lib/polynomial.py'>,\n",
       " 'numpy.linalg': <module 'numpy.linalg' from '/Users/gram/anaconda/lib/python3.6/site-packages/numpy/linalg/__init__.py'>,\n",
       " 'numpy.linalg.info': <module 'numpy.linalg.info' from '/Users/gram/anaconda/lib/python3.6/site-packages/numpy/linalg/info.py'>,\n",
       " 'numpy.linalg.linalg': <module 'numpy.linalg.linalg' from '/Users/gram/anaconda/lib/python3.6/site-packages/numpy/linalg/linalg.py'>,\n",
       " 'numpy.linalg.lapack_lite': <module 'numpy.linalg.lapack_lite' from '/Users/gram/anaconda/lib/python3.6/site-packages/numpy/linalg/lapack_lite.cpython-36m-darwin.so'>,\n",
       " 'numpy.linalg._umath_linalg': <module 'numpy.linalg._umath_linalg' from '/Users/gram/anaconda/lib/python3.6/site-packages/numpy/linalg/_umath_linalg.cpython-36m-darwin.so'>,\n",
       " 'numpy.lib.arraysetops': <module 'numpy.lib.arraysetops' from '/Users/gram/anaconda/lib/python3.6/site-packages/numpy/lib/arraysetops.py'>,\n",
       " 'numpy.lib.npyio': <module 'numpy.lib.npyio' from '/Users/gram/anaconda/lib/python3.6/site-packages/numpy/lib/npyio.py'>,\n",
       " 'numpy.lib.format': <module 'numpy.lib.format' from '/Users/gram/anaconda/lib/python3.6/site-packages/numpy/lib/format.py'>,\n",
       " 'numpy.lib._datasource': <module 'numpy.lib._datasource' from '/Users/gram/anaconda/lib/python3.6/site-packages/numpy/lib/_datasource.py'>,\n",
       " 'numpy.lib._iotools': <module 'numpy.lib._iotools' from '/Users/gram/anaconda/lib/python3.6/site-packages/numpy/lib/_iotools.py'>,\n",
       " 'numpy.lib.financial': <module 'numpy.lib.financial' from '/Users/gram/anaconda/lib/python3.6/site-packages/numpy/lib/financial.py'>,\n",
       " 'numpy.lib.arrayterator': <module 'numpy.lib.arrayterator' from '/Users/gram/anaconda/lib/python3.6/site-packages/numpy/lib/arrayterator.py'>,\n",
       " 'numpy.lib.arraypad': <module 'numpy.lib.arraypad' from '/Users/gram/anaconda/lib/python3.6/site-packages/numpy/lib/arraypad.py'>,\n",
       " 'numpy.lib._version': <module 'numpy.lib._version' from '/Users/gram/anaconda/lib/python3.6/site-packages/numpy/lib/_version.py'>,\n",
       " 'numpy._distributor_init': <module 'numpy._distributor_init' from '/Users/gram/anaconda/lib/python3.6/site-packages/numpy/_distributor_init.py'>,\n",
       " 'numpy.fft': <module 'numpy.fft' from '/Users/gram/anaconda/lib/python3.6/site-packages/numpy/fft/__init__.py'>,\n",
       " 'numpy.fft.info': <module 'numpy.fft.info' from '/Users/gram/anaconda/lib/python3.6/site-packages/numpy/fft/info.py'>,\n",
       " 'numpy.fft.fftpack': <module 'numpy.fft.fftpack' from '/Users/gram/anaconda/lib/python3.6/site-packages/numpy/fft/fftpack.py'>,\n",
       " 'numpy.fft.fftpack_lite': <module 'numpy.fft.fftpack_lite' from '/Users/gram/anaconda/lib/python3.6/site-packages/numpy/fft/fftpack_lite.cpython-36m-darwin.so'>,\n",
       " 'numpy.fft.helper': <module 'numpy.fft.helper' from '/Users/gram/anaconda/lib/python3.6/site-packages/numpy/fft/helper.py'>,\n",
       " 'numpy.polynomial': <module 'numpy.polynomial' from '/Users/gram/anaconda/lib/python3.6/site-packages/numpy/polynomial/__init__.py'>,\n",
       " 'numpy.polynomial.polynomial': <module 'numpy.polynomial.polynomial' from '/Users/gram/anaconda/lib/python3.6/site-packages/numpy/polynomial/polynomial.py'>,\n",
       " 'numpy.polynomial.polyutils': <module 'numpy.polynomial.polyutils' from '/Users/gram/anaconda/lib/python3.6/site-packages/numpy/polynomial/polyutils.py'>,\n",
       " 'numpy.polynomial._polybase': <module 'numpy.polynomial._polybase' from '/Users/gram/anaconda/lib/python3.6/site-packages/numpy/polynomial/_polybase.py'>,\n",
       " 'numpy.polynomial.chebyshev': <module 'numpy.polynomial.chebyshev' from '/Users/gram/anaconda/lib/python3.6/site-packages/numpy/polynomial/chebyshev.py'>,\n",
       " 'numpy.polynomial.legendre': <module 'numpy.polynomial.legendre' from '/Users/gram/anaconda/lib/python3.6/site-packages/numpy/polynomial/legendre.py'>,\n",
       " 'numpy.polynomial.hermite': <module 'numpy.polynomial.hermite' from '/Users/gram/anaconda/lib/python3.6/site-packages/numpy/polynomial/hermite.py'>,\n",
       " 'numpy.polynomial.hermite_e': <module 'numpy.polynomial.hermite_e' from '/Users/gram/anaconda/lib/python3.6/site-packages/numpy/polynomial/hermite_e.py'>,\n",
       " 'numpy.polynomial.laguerre': <module 'numpy.polynomial.laguerre' from '/Users/gram/anaconda/lib/python3.6/site-packages/numpy/polynomial/laguerre.py'>,\n",
       " 'numpy.random': <module 'numpy.random' from '/Users/gram/anaconda/lib/python3.6/site-packages/numpy/random/__init__.py'>,\n",
       " 'numpy.random.info': <module 'numpy.random.info' from '/Users/gram/anaconda/lib/python3.6/site-packages/numpy/random/info.py'>,\n",
       " 'mtrand': <module 'numpy.random.mtrand' from '/Users/gram/anaconda/lib/python3.6/site-packages/numpy/random/mtrand.cpython-36m-darwin.so'>,\n",
       " 'numpy.random.mtrand': <module 'numpy.random.mtrand' from '/Users/gram/anaconda/lib/python3.6/site-packages/numpy/random/mtrand.cpython-36m-darwin.so'>,\n",
       " 'numpy.ctypeslib': <module 'numpy.ctypeslib' from '/Users/gram/anaconda/lib/python3.6/site-packages/numpy/ctypeslib.py'>,\n",
       " 'numpy.ma': <module 'numpy.ma' from '/Users/gram/anaconda/lib/python3.6/site-packages/numpy/ma/__init__.py'>,\n",
       " 'numpy.ma.core': <module 'numpy.ma.core' from '/Users/gram/anaconda/lib/python3.6/site-packages/numpy/ma/core.py'>,\n",
       " 'numpy.ma.extras': <module 'numpy.ma.extras' from '/Users/gram/anaconda/lib/python3.6/site-packages/numpy/ma/extras.py'>,\n",
       " 'matplotlib.cbook._backports': <module 'matplotlib.cbook._backports' from '/Users/gram/anaconda/lib/python3.6/site-packages/matplotlib/cbook/_backports.py'>,\n",
       " 'matplotlib.compat': <module 'matplotlib.compat' from '/Users/gram/anaconda/lib/python3.6/site-packages/matplotlib/compat/__init__.py'>,\n",
       " 'matplotlib.compat.subprocess': <module 'matplotlib.compat.subprocess' from '/Users/gram/anaconda/lib/python3.6/site-packages/matplotlib/compat/subprocess.py'>,\n",
       " 'matplotlib.rcsetup': <module 'matplotlib.rcsetup' from '/Users/gram/anaconda/lib/python3.6/site-packages/matplotlib/rcsetup.py'>,\n",
       " 'matplotlib.fontconfig_pattern': <module 'matplotlib.fontconfig_pattern' from '/Users/gram/anaconda/lib/python3.6/site-packages/matplotlib/fontconfig_pattern.py'>,\n",
       " 'pyparsing': <module 'pyparsing' from '/Users/gram/anaconda/lib/python3.6/site-packages/pyparsing.py'>,\n",
       " 'matplotlib.colors': <module 'matplotlib.colors' from '/Users/gram/anaconda/lib/python3.6/site-packages/matplotlib/colors.py'>,\n",
       " 'matplotlib._color_data': <module 'matplotlib._color_data' from '/Users/gram/anaconda/lib/python3.6/site-packages/matplotlib/_color_data.py'>,\n",
       " 'cycler': <module 'cycler' from '/Users/gram/anaconda/lib/python3.6/site-packages/cycler.py'>,\n",
       " 'six.moves.urllib.request': <module 'six.moves.urllib.request' (<six._SixMetaPathImporter object at 0x10b8d1630>)>,\n",
       " 'matplotlib._version': <module 'matplotlib._version' from '/Users/gram/anaconda/lib/python3.6/site-packages/matplotlib/_version.py'>,\n",
       " 'matplotlib.pyplot': <module 'matplotlib.pyplot' from '/Users/gram/anaconda/lib/python3.6/site-packages/matplotlib/pyplot.py'>,\n",
       " 'matplotlib.colorbar': <module 'matplotlib.colorbar' from '/Users/gram/anaconda/lib/python3.6/site-packages/matplotlib/colorbar.py'>,\n",
       " 'matplotlib.artist': <module 'matplotlib.artist' from '/Users/gram/anaconda/lib/python3.6/site-packages/matplotlib/artist.py'>,\n",
       " 'matplotlib.docstring': <module 'matplotlib.docstring' from '/Users/gram/anaconda/lib/python3.6/site-packages/matplotlib/docstring.py'>,\n",
       " 'matplotlib.path': <module 'matplotlib.path' from '/Users/gram/anaconda/lib/python3.6/site-packages/matplotlib/path.py'>,\n",
       " 'matplotlib._path': <module 'matplotlib._path' from '/Users/gram/anaconda/lib/python3.6/site-packages/matplotlib/_path.cpython-36m-darwin.so'>,\n",
       " 'matplotlib.transforms': <module 'matplotlib.transforms' from '/Users/gram/anaconda/lib/python3.6/site-packages/matplotlib/transforms.py'>,\n",
       " 'matplotlib.collections': <module 'matplotlib.collections' from '/Users/gram/anaconda/lib/python3.6/site-packages/matplotlib/collections.py'>,\n",
       " 'matplotlib.cm': <module 'matplotlib.cm' from '/Users/gram/anaconda/lib/python3.6/site-packages/matplotlib/cm.py'>,\n",
       " 'matplotlib._cm': <module 'matplotlib._cm' from '/Users/gram/anaconda/lib/python3.6/site-packages/matplotlib/_cm.py'>,\n",
       " 'matplotlib._cm_listed': <module 'matplotlib._cm_listed' from '/Users/gram/anaconda/lib/python3.6/site-packages/matplotlib/_cm_listed.py'>,\n",
       " 'matplotlib.mlab': <module 'matplotlib.mlab' from '/Users/gram/anaconda/lib/python3.6/site-packages/matplotlib/mlab.py'>,\n",
       " 'matplotlib.lines': <module 'matplotlib.lines' from '/Users/gram/anaconda/lib/python3.6/site-packages/matplotlib/lines.py'>,\n",
       " 'matplotlib.markers': <module 'matplotlib.markers' from '/Users/gram/anaconda/lib/python3.6/site-packages/matplotlib/markers.py'>,\n",
       " 'matplotlib.contour': <module 'matplotlib.contour' from '/Users/gram/anaconda/lib/python3.6/site-packages/matplotlib/contour.py'>,\n",
       " 'matplotlib._cntr': <module 'matplotlib._cntr' from '/Users/gram/anaconda/lib/python3.6/site-packages/matplotlib/_cntr.cpython-36m-darwin.so'>,\n",
       " 'matplotlib._contour': <module 'matplotlib._contour' from '/Users/gram/anaconda/lib/python3.6/site-packages/matplotlib/_contour.cpython-36m-darwin.so'>,\n",
       " 'matplotlib.ticker': <module 'matplotlib.ticker' from '/Users/gram/anaconda/lib/python3.6/site-packages/matplotlib/ticker.py'>,\n",
       " 'matplotlib.font_manager': <module 'matplotlib.font_manager' from '/Users/gram/anaconda/lib/python3.6/site-packages/matplotlib/font_manager.py'>,\n",
       " 'matplotlib.afm': <module 'matplotlib.afm' from '/Users/gram/anaconda/lib/python3.6/site-packages/matplotlib/afm.py'>,\n",
       " 'matplotlib._mathtext_data': <module 'matplotlib._mathtext_data' from '/Users/gram/anaconda/lib/python3.6/site-packages/matplotlib/_mathtext_data.py'>,\n",
       " 'matplotlib.ft2font': <module 'matplotlib.ft2font' from '/Users/gram/anaconda/lib/python3.6/site-packages/matplotlib/ft2font.cpython-36m-darwin.so'>,\n",
       " 'matplotlib.text': <module 'matplotlib.text' from '/Users/gram/anaconda/lib/python3.6/site-packages/matplotlib/text.py'>,\n",
       " 'matplotlib.patches': <module 'matplotlib.patches' from '/Users/gram/anaconda/lib/python3.6/site-packages/matplotlib/patches.py'>,\n",
       " 'matplotlib.bezier': <module 'matplotlib.bezier' from '/Users/gram/anaconda/lib/python3.6/site-packages/matplotlib/bezier.py'>,\n",
       " 'matplotlib.textpath': <module 'matplotlib.textpath' from '/Users/gram/anaconda/lib/python3.6/site-packages/matplotlib/textpath.py'>,\n",
       " 'matplotlib.mathtext': <module 'matplotlib.mathtext' from '/Users/gram/anaconda/lib/python3.6/site-packages/matplotlib/mathtext.py'>,\n",
       " 'matplotlib._png': <module 'matplotlib._png' from '/Users/gram/anaconda/lib/python3.6/site-packages/matplotlib/_png.cpython-36m-darwin.so'>,\n",
       " 'matplotlib.dviread': <module 'matplotlib.dviread' from '/Users/gram/anaconda/lib/python3.6/site-packages/matplotlib/dviread.py'>,\n",
       " 'matplotlib.texmanager': <module 'matplotlib.texmanager' from '/Users/gram/anaconda/lib/python3.6/site-packages/matplotlib/texmanager.py'>,\n",
       " ...}"
      ]
     },
     "execution_count": 155,
     "metadata": {},
     "output_type": "execute_result"
    }
   ],
   "source": [
    "import sys\n",
    "\n",
    "sys.modules"
   ]
  },
  {
   "cell_type": "markdown",
   "metadata": {},
   "source": [
    "`sys.path` is the path to look for imports:"
   ]
  },
  {
   "cell_type": "code",
   "execution_count": 156,
   "metadata": {},
   "outputs": [
    {
     "data": {
      "text/plain": [
       "['',\n",
       " '/Users/gram/anaconda/lib/python36.zip',\n",
       " '/Users/gram/anaconda/lib/python3.6',\n",
       " '/Users/gram/anaconda/lib/python3.6/lib-dynload',\n",
       " '/Users/gram/.local/lib/python3.6/site-packages',\n",
       " '/Users/gram/anaconda/lib/python3.6/site-packages',\n",
       " '/Users/gram/anaconda/lib/python3.6/site-packages/aeosa',\n",
       " '/Users/gram/anaconda/lib/python3.6/site-packages/IPython/extensions',\n",
       " '/Users/gram/.ipython']"
      ]
     },
     "execution_count": 156,
     "metadata": {},
     "output_type": "execute_result"
    }
   ],
   "source": [
    "sys.path"
   ]
  },
  {
   "cell_type": "markdown",
   "metadata": {},
   "source": [
    "### Using Threads and Processes\n",
    "\n",
    "See https://medium.com/@bfortuner/python-multithreading-vs-multiprocessing-73072ce5600b\n",
    "\n",
    "### Extending Python with C code\n",
    "\n",
    "See https://dbader.org/blog/python-ctypes-tutorial#.\n",
    "\n",
    "### Functional Programming in Python\n",
    "\n",
    "See https://docs.python.org/dev/howto/functional.html#iterators and http://coconut-lang.org/\n",
    "\n",
    "### Making HTTP Requests and Parsing Responses\n",
    "\n",
    "There are numerous ways to do this in Python, but the most commonly used libraries for these are `requests` (http://docs.python-requests.org/en/master/) and Beautiful Soup (https://www.crummy.com/software/BeautifulSoup/); look at those first before considering anything else as they are powerful, stable, mature and easy to use. Kenneth Reitz, who wrote `requests`, has recently implemented a new library on top of both `requests` and Beautiful Soup: https://github.com/kennethreitz/requests-html\n",
    "\n"
   ]
  }
 ],
 "metadata": {
  "kernelspec": {
   "display_name": "Python 3",
   "language": "python",
   "name": "python3"
  },
  "language_info": {
   "codemirror_mode": {
    "name": "ipython",
    "version": 3
   },
   "file_extension": ".py",
   "mimetype": "text/x-python",
   "name": "python",
   "nbconvert_exporter": "python",
   "pygments_lexer": "ipython3",
   "version": "3.6.3"
  }
 },
 "nbformat": 4,
 "nbformat_minor": 2
}
