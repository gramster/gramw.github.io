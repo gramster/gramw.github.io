{
 "cells": [
  {
   "cell_type": "markdown",
   "metadata": {},
   "source": [
    "This one should cover:\n",
    "\n",
    "- introduction of Pathwise\n",
    "- Pathwise is experiential\n",
    "- introduction to personality types\n",
    "- relies on transference and counter-transference\n",
    "- while I need a strong theoretical framework to hang my knowledge off\n",
    "- so I turn to books\n",
    "- the Pathwise book\n",
    "- other parts in this series\n"
   ]
  },
  {
   "cell_type": "code",
   "execution_count": null,
   "metadata": {},
   "outputs": [],
   "source": []
  }
 ],
 "metadata": {
  "kernelspec": {
   "display_name": "Python 3",
   "language": "python",
   "name": "python3"
  },
  "language_info": {
   "codemirror_mode": {
    "name": "ipython",
    "version": 3
   },
   "file_extension": ".py",
   "mimetype": "text/x-python",
   "name": "python",
   "nbconvert_exporter": "python",
   "pygments_lexer": "ipython3",
   "version": "3.6.3"
  }
 },
 "nbformat": 4,
 "nbformat_minor": 2
}
