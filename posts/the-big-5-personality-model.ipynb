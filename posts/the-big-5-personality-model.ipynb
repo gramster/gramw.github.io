{
 "cells": [
  {
   "cell_type": "markdown",
   "metadata": {},
   "source": [
    "*(This is part 1 of a multi-part series on personality and relationships)*\n",
    "\n",
    "Shankar Vedantam has a great NPR show/podcast, [\"The Hidden Brain\"](https://www.npr.org/podcasts/510308/hidden-brain), and occasional appearances on NPR's All Things Considered.  In December he had a show on Evaluating Personality Tests. It was enjoyable, especially the Harry Potter Sorting Hat references, but I felt it was a missed opportunity because of the focus on Myers-Briggs, and the fact that he mentioned the Big-5 model only in passing. \n",
    "\n",
    "In fact, Myers-Briggs is not taken very seriously in the psychology world, and Vedantam surprised me with spending so much time on it, given his show's focus on research in psychology. On the other hand, the Big-5 model is taken quite seriously, with many studies and papers based on it and evaluating it in various contexts (take a look, for example, at the Oxford University Press book I link to at the end of this post).\n",
    "\n",
    "In the [short form NPR segment](https://www.npr.org/2017/12/11/569815338/evaluating-personality-tests), this was the section on Big-5 in its entirety:\n",
    "\n",
    "> VEDANTAM: Many personality researchers put greater stock in a test known as the Big Five [vs Myers-Briggs]. Grant says the Big Five has lots of peer reviewed data to back it up.\n",
    "\n",
    "> GRANT: We can predict your job performance, your effectiveness in a team with different collaborators, your likelihood of sticking around in a job versus leaving as well as your probability of your marriage surviving, depending on the personality fit between you and your spouse.\n",
    "\n",
    "So what is the Big-5 model? In the literature its actually referred to more as the 5-Factor model. It has its origins in work done in the 1930s by the Harvard psychology professor  Gordon Allport, who studied the words in the dictionary used to describe personality. Allport and his team identified about 4,500 different English terms used in literature to describe people. Many of these were similar, and in the 1980s, Lewis Goldberg grouped them into 5 \"factors\", which we can remember using the word OCEAN, for Openness, Conscientiousness, Extraversion, Agreeableness, and Neuroticism. The first two are general characteristics, while the last three are more about relationships with others. People can be ranked as low, average, or high, in each of these areas. The table below gives a rough idea of what that might mean:\n",
    "\n",
    "| Factor | Low | High |\n",
    "|--------|-----|------|\n",
    "| Openness | Prefer the familiar and conventional | Prefer novelty and variety |\n",
    "| Conscientiousness | Spontaneous | Controlled, Goal-Oriented |\n",
    "| Extraversion | Avoids social interaction | Enjoys social interaction | \n",
    "| Agreeableness | Competitive | Cooperative |\n",
    "| Neuroticism | Socially at ease | Socially anxious |\n",
    "\n",
    "Researchers at the NIH developed a proprietary test for 5-factor evaluation called NEO PI-R. This test breaks each factor down into 6 facets. For example, for openness:\n",
    "\n",
    "- fantasy - interest in other possible worlds\n",
    "- aesthetics - appreciation for beauty in art and nature\n",
    "- feelings - awareness of own feelings\n",
    "- actions - interest in trying  new activities\n",
    "- ideas - interest in exploring new ideas\n",
    "- values - willingness to challenge convention\n",
    "\n",
    "Test questions try to gauge the levels of these facets and then combine those to get overall factor scores.\n",
    "\n",
    "My factor score is low on extraversion, high on agreeableness, and average on the other factors. That doesn't sound all that interesting, but its a lot more interesting once you get down to the individual scores at the level of facets.\n",
    "\n",
    "If you're interested in finding your own scores, Penn State has a free test called IPIP, available here: http://www.personal.psu.edu/~j5j/IPIP/\n",
    "\n",
    "Another area where this gets interesting is in personality pathologies. The 5-factor model is highly predictive of adaptive and maladaptive personality patterns like narcissism, obsessive-compulsiveness, etc, which is really what I want to write about but this is necessary context. I'll save that for another day, though.\n",
    "\n",
    "If you're interested in reading more about this, there are some interesting books on the topic (disclosure: these are affiliate links and I may earn a small commission):\n",
    "\n",
    "<div>\n",
    "<a target=\"_blank\"  href=\"https://www.amazon.com/gp/product/0134215001/ref=as_li_tl?ie=UTF8&camp=1789&creative=9325&creativeASIN=0134215001&linkCode=as2&tag=grahamwheel0b-20&linkId=babf57c5bb1b173a7b9eb5f3a86a29de\" style=\"float:left;margin:50px\"><img border=\"0\" src=\"//ws-na.amazon-adsystem.com/widgets/q?_encoding=UTF8&MarketPlace=US&ASIN=0134215001&ServiceVersion=20070822&ID=AsinImage&WS=1&Format=_SL250_&tag=grahamwheel0b-20\" ></a><img src=\"//ir-na.amazon-adsystem.com/e/ir?t=grahamwheel0b-20&l=am2&o=1&a=0134215001\" width=\"1\" height=\"1\" border=\"0\" alt=\"\" style=\"border:none !important; margin:0px !important;\" />\n",
    "\n",
    "<a target=\"_blank\"  href=\"https://www.amazon.com/gp/product/0199352488/ref=as_li_tl?ie=UTF8&camp=1789&creative=9325&creativeASIN=0199352488&linkCode=as2&tag=grahamwheel0b-20&linkId=cfd553c7bbd2b626f79084600783542a\" style=\"float:left;margin:50px\"><img border=\"0\" src=\"//ws-na.amazon-adsystem.com/widgets/q?_encoding=UTF8&MarketPlace=US&ASIN=0199352488&ServiceVersion=20070822&ID=AsinImage&WS=1&Format=_SL250_&tag=grahamwheel0b-20\" ></a><img src=\"//ir-na.amazon-adsystem.com/e/ir?t=grahamwheel0b-20&l=am2&o=1&a=0199352488\" width=\"1\" height=\"1\" border=\"0\" alt=\"\" style=\"border:none !important; margin:0px !important;\" />\n",
    "</div>\n",
    "\n"
   ]
  },
  {
   "cell_type": "code",
   "execution_count": null,
   "metadata": {},
   "outputs": [],
   "source": []
  }
 ],
 "metadata": {
  "kernelspec": {
   "display_name": "Python 3",
   "language": "python",
   "name": "python3"
  },
  "language_info": {
   "codemirror_mode": {
    "name": "ipython",
    "version": 3
   },
   "file_extension": ".py",
   "mimetype": "text/x-python",
   "name": "python",
   "nbconvert_exporter": "python",
   "pygments_lexer": "ipython3",
   "version": "3.6.3"
  }
 },
 "nbformat": 4,
 "nbformat_minor": 2
}
