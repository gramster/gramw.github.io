{
 "cells": [
  {
   "cell_type": "markdown",
   "metadata": {},
   "source": [
    "\n",
    "\n",
    "It's been a while since the [last post](/posts/personality-and-relationships2.html) in this series where I discussed personality types. I started a new job in the summer and that has been keeping me busy. But I've long wanted to get back to this series so here goes.\n",
    "\n",
    "In this post I want to discuss two things: how the five factors relate to the personality types, and how psychologists can assess personality without doing personality tests, but by making use of an awareness of _counter-transference_ - how they _feel_ in the presence of the subject/client. If we try to assess the personality of others, knowing these can be useful; after all, we're not going to get them to take 200+ question personality assessment tests! :-)\n",
    "\n",
    "_I know I mentioned I'd visit the question of what Cambridge Analytica did in the 2016 election but I'll save that for the next post._\n",
    "\n",
    "Note that once again we should take all of this as being useful information but with plenty of rough edges and caveats; these are areas of research but there is lot of fuzziness as you will see.\n",
    "\n",
    "## Five Factors and Personality Types\n",
    "\n",
    "\n",
    "\n",
    "\n",
    "## Transference and Counter-Transference in Reaction to Personality\n",
    "\n",
    "Freud identified counter-transference around 1910 as \"the result of the patient's influence on \\[the therapist's\\] unconscious feelings\". He saw it as something that thereapists needed to be aware of and overcome. Over time this understanding was expanded, so it became clear that counter-transference reflected the personalities of both the therapist and the patient. If these could be teased apart, then it was the former that needed to be overcome (_personal counter-transference_), but the latter (_diagnostic counter-transference_) would actually be useful.\n",
    "\n",
    "So, if diagnostic counter-transference useful, what can it tell us about assessing the personality of others? I have seen limited research in this area despite it seeming to be very useful. The main study I have found is [Patient Personality and Therapist\n",
    "Response: An Empirical Investigation](https://pdfs.semanticscholar.org/3b6e/20332a61cb3c924dec135c1f0823781b57aa.pdf), and this doesn't seem to take personal counter-transference into consideration. It seems it would be more accurate for this to be a matrix combining the personality of the assessor and the assessed. Furthermore, the research is on counter-transference to personality _disorders_; that is, on maladaptive forms of the personality types.\n",
    "\n",
    "However, assuming a somewhat impartial assessor, these are some of the results that have been observed:\n",
    "\n",
    "| If the therapist feels... | Then the patient is often ... |\n",
    "|---|---|\n",
    "| Devalued, criticized, wary | Paranoid |\n",
    "| Bored, distracted, disengaged | Schizotypal or Obsessive |\n",
    "| Inadequate, pessimistic, frustrated | Schizoid |\n",
    "| Mistreated, manipulated, abused | Antisocial |\n",
    "| Frightened, confused, concerned | Borderline |\n",
    "| Engaged, excited, connected | Histrionic |\n",
    "| Invisible, annoyed, distracted | Narcissistic |\n",
    "| Sad, hopeful, over-involved | Avoidant |\n",
    "| Engaged, protective, nurturing | Dependent |\n",
    "\n",
    "\n",
    "\n"
   ]
  },
  {
   "cell_type": "code",
   "execution_count": null,
   "metadata": {},
   "outputs": [],
   "source": []
  }
 ],
 "metadata": {
  "kernelspec": {
   "display_name": "Python 3",
   "language": "python",
   "name": "python3"
  },
  "language_info": {
   "codemirror_mode": {
    "name": "ipython",
    "version": 3
   },
   "file_extension": ".py",
   "mimetype": "text/x-python",
   "name": "python",
   "nbconvert_exporter": "python",
   "pygments_lexer": "ipython3",
   "version": "3.7.1"
  }
 },
 "nbformat": 4,
 "nbformat_minor": 2
}
