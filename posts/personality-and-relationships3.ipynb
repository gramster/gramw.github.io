{
 "cells": [
  {
   "cell_type": "markdown",
   "metadata": {},
   "source": [
    "This should cover:\n",
    "\n",
    "- interactions between personality types\n",
    "- couner-transference\n"
   ]
  },
  {
   "cell_type": "markdown",
   "metadata": {},
   "source": [
    "Therapist Countertransference to Personality Disorders:\n",
    "https://pdfs.semanticscholar.org/3b6e/20332a61cb3c924dec135c1f0823781b57aa.pdf\n",
    "\n",
    "Paranoid: Clinicians tend to feel criticized, unappreciated, and devalued by these patients. They feel afraid to say the wrong thing, or have to stop themselves from doing something aggressive, lest these patients explode, fall apart, or walk out. Paranoid patients tend to stir up strong feelings and animosity in therapists, who can experience resentment and anger and endorse intense feelings of being mistreated and rejected when working with them. \n",
    "\n",
    "Schizoid: Clinicians tend to feel incompetent or inadequate working with these patients. They feel hopeless and frustrated and have more difficulties establishing a comfortable relationship with, being more attuned with, and developing a sense of intimate connections with a schizoid patient. They worry that they will not be able to help them, or feel they are failing them. In fact, they are pessimistic about any gains they may be making or are likely to make in treatment. They can sometimes think the patient might do better with another therapist or a different kind of therapy. \n",
    "\n",
    "Schizotypal: Clinicians tend to feel bored, distracted, and annoyed in sessions with patients. They do not feel engaged in sessions but experience a sense of detachment and withdrawal (for example, their minds can often wander to things other than what they are talking about). \n",
    "\n",
    "Antisocial: Clinicians tend to feel mistreated, criticized, or repulsed and can experience an intense anger and irritation working with antisocial patients. They often feel used or manipulated by them and pushed to set firm limits in the clinical setting. They can sometimes feel they are being cruel, mean, or aggressive when working with these patients and wish they had never taken them on in therapy. \n",
    "\n",
    "Borderline: Clinicians tend to feel overwhelmed by strong emotions and intense needs. In particular, more than with most patients, therapists feel like they have been pulled into things but do not realize it until after the session is over. Borderline patients can “frighten” clinicians, who experience high levels of anxiety, tension, and concern when working with them. Therapists can also feel incompetent or inadequate and often experience a sense of confusion and frustration in sessions. They are afraid they are failing to help these patients and can sometimes feel guilty when they see them distressed or deteriorating, as they feel they must be somehow responsible. Clinicians talk about them with significant others more than about other patients. They are “special” patients, and in sessions therapists can do things for them, or go the extra mile for them, in ways that they do not do for other patients (for example, they end sessions late with them more than with other patients). \n",
    "\n",
    "Histrionic: Clinicians tend not to feel bored or distracted with these patients. On the contrary, they feel fully engaged in sessions and engrossed by them. Histrionic patients tend to require a lot of attention from their therapists, who feel overinvolved and have more difficulties maintaining set boundaries. For example, more than with most patients, they refrain from stating opinions or views on topics the patient discusses, and they may disclose their feelings toward them and self-disclose about their personal life. \n",
    "\n",
    "Narcissistic: Clinicians tend to feel bored, distracted, and annoyed in sessions with these patients. They do not feel engaged when working with them and often feel frustrated. Therapists also sometimes feel interchangeable, as if they could be anyone to the patient. They can feel ineffectual, invisible, and deskilled. \n",
    "\n",
    "Avoidant: Clinicians tend to be more protective of and caring toward these patients and hold back their vulnerabilities and fears. They can experience a sort of overinvolvement and, for example, may feel a wish to repair some deficiencies or failures in patients’ relationships with their parents or significant others. In fact, when working with avoidant patients, therapists can often feel sad in sessions, or angry at people in their own lives who do not give them what they need. At the same time, therapists tend to feel pleased or satisfied and are hopeful about the results these patients are making or are likely to make in treatment. \n",
    "\n",
    "Dependent: Clinicians tend to feel nurturant toward these patients and have warm, almost parental feelings toward them. They wish they could give them what others never could and want to protect them. Therapists talk about these patients with their partners or significant others more than about their other patients. In sessions they disclose their feelings or self-disclose more about their personal life than with their other patients. They feel engaged in sessions with them and do not feel distracted or avoidant. However, they sometimes feel anxious or frustrated and can experience a sense of incompetence and inadequacy. They can feel like their hands have been tied or that they have been put into an impossible bind. \n",
    "\n",
    "Obsessive: Clinicians do not feel engaged or involved in sessions with these patients. In therapy they can experience feelings of annoyance, boredom, and withdrawal. They do not find it exciting working with these patients and do not talk about them with significant others more than about their other patients. a These narrative descriptions of therapists’ responses to patients with personality disorders are created by aggregating the items making"
   ]
  },
  {
   "cell_type": "code",
   "execution_count": null,
   "metadata": {},
   "outputs": [],
   "source": []
  }
 ],
 "metadata": {
  "kernelspec": {
   "display_name": "Python 3",
   "language": "python",
   "name": "python3"
  },
  "language_info": {
   "codemirror_mode": {
    "name": "ipython",
    "version": 3
   },
   "file_extension": ".py",
   "mimetype": "text/x-python",
   "name": "python",
   "nbconvert_exporter": "python",
   "pygments_lexer": "ipython3",
   "version": "3.6.5"
  }
 },
 "nbformat": 4,
 "nbformat_minor": 2
}
