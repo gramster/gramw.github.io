{
 "cells": [
  {
   "cell_type": "markdown",
   "metadata": {},
   "source": [
    "\n",
    "\n",
    "It's been a while since the [last post](/posts/personality-and-relationships2.html) in this series where I discussed personality types. I started a new job in the summer and that has been keeping me busy. But I've long wanted to get back to this series so here goes.\n",
    "\n",
    "In this post I want to discuss two things: how the five factors relate to the personality types, and how psychologists can assess personality without doing personality tests, but by making use of an awareness of _counter-transference_ - how they _feel_ in the presence of the subject/client.\n",
    "\n",
    "Note that once again we should take all of this as being useful information but with plenty of rough edges and caveats; these are areas of research but there is lot of fuzziness as you will see.\n",
    "\n",
    "\n",
    "...\n",
    "\n",
    "I should note that therapists are not objective assessors here, and any relationship between two people is going to be affected by both personalities. The research I have seen does not take this into account. It would be more accurate for this to be a matrix combining the personality of the assessor and the assessed. Furthermore, the research is mostly done on personality _disorders_; that is, on maladaptive forms of the personality types.\n",
    "\n",
    "However, assuming a somewhat impartial assessor, these are some of the results that have been observed:\n",
    "\n",
    "| If the therapist feels... | Then the patient is often ... |\n",
    "|---|---|\n",
    "| Devalued, criticized, wary | Paranoid |\n",
    "| Bored, distracted, disengaged | Schizotypal or Obsessive |\n",
    "| Inadequate, pessimistic, frustrated | Schizoid |\n",
    "| Mistreated, manipulated, abused | Antisocial |\n",
    "| Frightened, confused, concerned | Borderline |\n",
    "| Engaged, excited, connected | Histrionic |\n",
    "| Invisible, annoyed, distracted | Narcissistic |\n",
    "| Sad, hopeful, over-involved | Avoidant |\n",
    "| Engaged, protective, nurturing | Dependent |\n",
    "\n",
    "(Source: [Patient Personality and Therapist\n",
    "Response: An Empirical Investigation](https://pdfs.semanticscholar.org/3b6e/20332a61cb3c924dec135c1f0823781b57aa.pdf))\n",
    "\n",
    "\n"
   ]
  },
  {
   "cell_type": "markdown",
   "metadata": {},
   "source": [
    "This should cover:\n",
    "\n",
    "- interactions between personality types\n",
    "- couner-transference\n"
   ]
  },
  {
   "cell_type": "code",
   "execution_count": null,
   "metadata": {},
   "outputs": [],
   "source": []
  }
 ],
 "metadata": {
  "kernelspec": {
   "display_name": "Python 3",
   "language": "python",
   "name": "python3"
  },
  "language_info": {
   "codemirror_mode": {
    "name": "ipython",
    "version": 3
   },
   "file_extension": ".py",
   "mimetype": "text/x-python",
   "name": "python",
   "nbconvert_exporter": "python",
   "pygments_lexer": "ipython3",
   "version": "3.6.6"
  }
 },
 "nbformat": 4,
 "nbformat_minor": 2
}
