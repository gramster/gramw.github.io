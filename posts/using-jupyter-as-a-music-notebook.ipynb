{
 "cells": [
  {
   "cell_type": "markdown",
   "metadata": {},
   "source": [
    "I recently started playing guitar again after a long absence and wanted to start making some notes in a digital form. Unfortunately, I didn't find any good tools. There is TeX of course, which can do anything, but I was hoping for something a bit more WYSIWYGy. There are some very good tools available for musical scores (MuseScore, Frescobaldi), but I want something that is more like a traditional notebook with lots of notes interspersed with occasional musical notation (in both traditional and tablature forms).\n",
    "\n",
    "So an obvious potential candidate is Jupyter (nee IPython), but it has no support for musical notation out of the box. But it is doable and in this post I'll walk through how I got it to work on my Mac. This is also my first attempt at using a Jupyter notebook as my blog post in Nikola so I'm kiling two birds with one stone.\n",
    "<!-- TEASER_END -->\n",
    "\n",
    "I want something that is fairly easy to write the music in. MusicXML isn't too bad, except XML. What little I've seen of Liyponds markup looked pretty unfriendly for the simple use cases I have. A few days ago I stumbled across a Python library called abjad which looked just the ticket. As I write this I have it working for music on the staff but not tablature (I'm not sure it supports that) but I hope by the end of this post I'll have that figured out too!\n",
    "\n",
    "Abjad relies on Lilypond, so first that has to be installed. It can be downloaded from http://lilypond.org/macos-x.html, and then the tarball needs to be uncompressed and the Lilypond.app folder dragged to /Applications. You need to follow the instructions at that link to set up a command line version too. I created a file /usr/local/bin/lilypond for that; my Homebrew install uses that folder so it is already in my path.\n",
    "\n",
    "Next we need to install Abjad. You should ideally do this in a virtual environment. I use Anaconda and already have one set up, so can do the installation as follows; you may need to prefix this with `sudo` depending on your setup.\n"
   ]
  },
  {
   "cell_type": "code",
   "execution_count": 1,
   "metadata": {},
   "outputs": [
    {
     "name": "stdout",
     "output_type": "stream",
     "text": [
      "Collecting abjad[development,ipython]\n",
      "  Downloading Abjad-2.16.tar.gz (27.2MB)\n",
      "Collecting Sphinx>=1.0.7 (from abjad[development,ipython])\n",
      "  Downloading Sphinx-1.3.5-py2.py3-none-any.whl (1.5MB)\n",
      "Collecting configobj>=4.7.2 (from abjad[development,ipython])\n",
      "  Downloading configobj-5.0.6.tar.gz\n",
      "Collecting ply>=3.4 (from abjad[development,ipython])\n",
      "  Downloading ply-3.8.tar.gz (157kB)\n",
      "Collecting pytest>=2.1 (from abjad[development,ipython])\n",
      "  Downloading pytest-2.8.7-py2.py3-none-any.whl (151kB)\n",
      "Requirement already satisfied (use --upgrade to upgrade): Pygments>=2.0 in /Users/gram/anaconda/envs/nikola/lib/python3.5/site-packages (from Sphinx>=1.0.7->abjad[development,ipython])\n",
      "Requirement already satisfied (use --upgrade to upgrade): six>=1.4 in /Users/gram/anaconda/envs/nikola/lib/python3.5/site-packages (from Sphinx>=1.0.7->abjad[development,ipython])\n",
      "Collecting alabaster<0.8,>=0.7 (from Sphinx>=1.0.7->abjad[development,ipython])\n",
      "  Downloading alabaster-0.7.7-py2.py3-none-any.whl\n",
      "Collecting babel!=2.0,>=1.3 (from Sphinx>=1.0.7->abjad[development,ipython])\n",
      "  Downloading Babel-2.2.0-py2.py3-none-any.whl (6.5MB)\n",
      "Collecting snowballstemmer>=1.1 (from Sphinx>=1.0.7->abjad[development,ipython])\n",
      "  Downloading snowballstemmer-1.2.1-py2.py3-none-any.whl (64kB)\n",
      "Collecting sphinx-rtd-theme<2.0,>=0.1 (from Sphinx>=1.0.7->abjad[development,ipython])\n",
      "  Downloading sphinx_rtd_theme-0.1.9-py3-none-any.whl (693kB)\n",
      "Requirement already satisfied (use --upgrade to upgrade): Jinja2>=2.3 in /Users/gram/anaconda/envs/nikola/lib/python3.5/site-packages (from Sphinx>=1.0.7->abjad[development,ipython])\n",
      "Requirement already satisfied (use --upgrade to upgrade): docutils>=0.11 in /Users/gram/anaconda/envs/nikola/lib/python3.5/site-packages (from Sphinx>=1.0.7->abjad[development,ipython])\n",
      "Collecting py>=1.4.29 (from pytest>=2.1->abjad[development,ipython])\n",
      "  Downloading py-1.4.31-py2.py3-none-any.whl (81kB)\n",
      "Collecting pytz>=0a (from babel!=2.0,>=1.3->Sphinx>=1.0.7->abjad[development,ipython])\n",
      "  Downloading pytz-2015.7-py2.py3-none-any.whl (476kB)\n",
      "Requirement already satisfied (use --upgrade to upgrade): MarkupSafe in /Users/gram/anaconda/envs/nikola/lib/python3.5/site-packages (from Jinja2>=2.3->Sphinx>=1.0.7->abjad[development,ipython])\n",
      "Building wheels for collected packages: abjad, configobj, ply\n",
      "  Running setup.py bdist_wheel for abjad: started\n",
      "  Running setup.py bdist_wheel for abjad: finished with status 'done'\n",
      "  Stored in directory: /Users/gram/Library/Caches/pip/wheels/9c/61/2d/e0a56fe03a96b4603c07e7135aa8f125f277582d32f93f3607\n",
      "  Running setup.py bdist_wheel for configobj: started\n",
      "  Running setup.py bdist_wheel for configobj: finished with status 'done'\n",
      "  Stored in directory: /Users/gram/Library/Caches/pip/wheels/d0/18/3a/88a9e8e07940560496c247872870978bf9b6cd5d914c0eac3e\n",
      "  Running setup.py bdist_wheel for ply: started\n",
      "  Running setup.py bdist_wheel for ply: finished with status 'done'\n",
      "  Stored in directory: /Users/gram/Library/Caches/pip/wheels/d9/34/fe/b9f5d00d8690911944b0c24811ed7f5fb2c5d89f9c4d6053c7\n",
      "Successfully built abjad configobj ply\n",
      "Installing collected packages: alabaster, pytz, babel, snowballstemmer, sphinx-rtd-theme, Sphinx, configobj, ply, py, pytest, abjad\n",
      "Successfully installed Sphinx-1.3.5 abjad-2.16 alabaster-0.7.7 babel-2.2.0 configobj-5.0.6 ply-3.8 py-1.4.31 pytest-2.8.7 pytz-2015.7 snowballstemmer-1.2.1 sphinx-rtd-theme-0.1.9\n"
     ]
    },
    {
     "name": "stderr",
     "output_type": "stream",
     "text": [
      "  Abjad 2.16 does not provide the extra 'development'\n",
      "  Abjad 2.16 does not provide the extra 'ipython'\n"
     ]
    }
   ],
   "source": [
    "%%bash\n",
    "pip install abjad[development,ipython]"
   ]
  },
  {
   "cell_type": "markdown",
   "metadata": {},
   "source": [
    "Note how there are no spaces in the argument to `pip install`. The Abjad documentation shows spaces at the time I write this but that is incorrect; I have reported the issue and it should be corrected.\n",
    "\n",
    "It's also possible that the `development` and `ipython` extensions are irrelevant. The error message above suggests they may be. However, I'm including them as that is what the documentation states.\n",
    "\n",
    "To have MIDI output recorded in the notebook, fluidsynth is needed. This requires Homebrew or MacPorts on a Mac. I have Homebrew so I do the installation with:"
   ]
  },
  {
   "cell_type": "code",
   "execution_count": 2,
   "metadata": {},
   "outputs": [
    {
     "name": "stdout",
     "output_type": "stream",
     "text": [
      "==> Installing dependencies for fluid-synth: flac, libogg, libvorbis, libsndfile\n",
      "==> Installing fluid-synth dependency: flac\n",
      "==> Downloading https://homebrew.bintray.com/bottles/flac-1.3.1.el_capitan.bottle.tar.gz\n",
      "==> Pouring flac-1.3.1.el_capitan.bottle.tar.gz\n",
      "🍺  /usr/local/Cellar/flac/1.3.1: 50 files, 2.3M\n",
      "==> Installing fluid-synth dependency: libogg\n",
      "==> Downloading https://homebrew.bintray.com/bottles/libogg-1.3.2.el_capitan.bottle.tar.gz\n",
      "==> Pouring libogg-1.3.2.el_capitan.bottle.tar.gz\n",
      "🍺  /usr/local/Cellar/libogg/1.3.2: 95 files, 668K\n",
      "==> Installing fluid-synth dependency: libvorbis\n",
      "==> Downloading https://homebrew.bintray.com/bottles/libvorbis-1.3.5.el_capitan.bottle.tar.gz\n",
      "==> Pouring libvorbis-1.3.5.el_capitan.bottle.tar.gz\n",
      "🍺  /usr/local/Cellar/libvorbis/1.3.5: 155 files, 2.6M\n",
      "==> Installing fluid-synth dependency: libsndfile\n",
      "==> Downloading https://homebrew.bintray.com/bottles/libsndfile-1.0.25.el_capitan.bottle.1.tar.gz\n",
      "==> Pouring libsndfile-1.0.25.el_capitan.bottle.1.tar.gz\n",
      "🍺  /usr/local/Cellar/libsndfile/1.0.25: 47 files, 1.8M\n",
      "==> Installing fluid-synth\n",
      "==> Downloading https://downloads.sourceforge.net/project/fluidsynth/fluidsynth-1.1.6/fluidsynth-1.1.6.tar.gz\n",
      "==> Downloading from http://iweb.dl.sourceforge.net/project/fluidsynth/fluidsynth-1.1.6/fluidsynth-1.1.6.tar.gz\n",
      "==> cmake .. -DCMAKE_C_FLAGS_RELEASE= -DCMAKE_CXX_FLAGS_RELEASE= -DCMAKE_INSTALL_PREFIX=/usr/local/Cellar/fluid-synth/1.1.6 -DCMAKE_BUILD_TYPE=Release -DCMAKE_FIND_FRAMEWORK=LAST -DCMAKE_VERBOSE_MAKEFILE=ON -Wno-dev -Denable-framework=OFF -DLIB_SUFFIX=\n",
      "==> make install\n",
      "🍺  /usr/local/Cellar/fluid-synth/1.1.6: 29 files, 556K, built in 24 seconds\n"
     ]
    }
   ],
   "source": [
    "%%bash\n",
    "\n",
    "brew install fluidsynth --with-libsndfile\n"
   ]
  },
  {
   "cell_type": "markdown",
   "metadata": {},
   "source": [
    "Now we should be able to load Abjad, as follows:"
   ]
  },
  {
   "cell_type": "code",
   "execution_count": 1,
   "metadata": {
    "collapsed": true
   },
   "outputs": [],
   "source": [
    "%load_ext abjad.ext.ipython"
   ]
  },
  {
   "cell_type": "markdown",
   "metadata": {},
   "source": [
    "and test it:"
   ]
  },
  {
   "cell_type": "code",
   "execution_count": 2,
   "metadata": {
    "collapsed": true
   },
   "outputs": [],
   "source": [
    "from abjad import *"
   ]
  },
  {
   "cell_type": "code",
   "execution_count": 3,
   "metadata": {},
   "outputs": [
    {
     "ename": "AttributeError",
     "evalue": "module 'subprocess' has no attribute 'mswindows'",
     "output_type": "error",
     "traceback": [
      "\u001b[0;31m---------------------------------------------------------------------------\u001b[0m",
      "\u001b[0;31mAttributeError\u001b[0m                            Traceback (most recent call last)",
      "\u001b[0;32m<ipython-input-3-b2e3fd3821b2>\u001b[0m in \u001b[0;36m<module>\u001b[0;34m()\u001b[0m\n\u001b[1;32m      2\u001b[0m \u001b[0mnotes\u001b[0m \u001b[0;34m=\u001b[0m \u001b[0;34m[\u001b[0m\u001b[0mNote\u001b[0m\u001b[0;34m(\u001b[0m\u001b[0mpitch\u001b[0m\u001b[0;34m,\u001b[0m \u001b[0mduration\u001b[0m\u001b[0;34m)\u001b[0m \u001b[0;32mfor\u001b[0m \u001b[0mpitch\u001b[0m \u001b[0;32min\u001b[0m \u001b[0mrange\u001b[0m\u001b[0;34m(\u001b[0m\u001b[0;36m8\u001b[0m\u001b[0;34m)\u001b[0m\u001b[0;34m]\u001b[0m\u001b[0;34m\u001b[0m\u001b[0m\n\u001b[1;32m      3\u001b[0m \u001b[0mstaff\u001b[0m \u001b[0;34m=\u001b[0m \u001b[0mStaff\u001b[0m\u001b[0;34m(\u001b[0m\u001b[0mnotes\u001b[0m\u001b[0;34m)\u001b[0m\u001b[0;34m\u001b[0m\u001b[0m\n\u001b[0;32m----> 4\u001b[0;31m \u001b[0mshow\u001b[0m\u001b[0;34m(\u001b[0m\u001b[0mstaff\u001b[0m\u001b[0;34m)\u001b[0m\u001b[0;34m\u001b[0m\u001b[0m\n\u001b[0m",
      "\u001b[0;32m/Users/gram/anaconda/envs/nikola/lib/python3.5/site-packages/abjad/tools/ipythontools/Show.py\u001b[0m in \u001b[0;36m__call__\u001b[0;34m(self, expr)\u001b[0m\n\u001b[1;32m     23\u001b[0m             \u001b[0;34m'output.png'\u001b[0m\u001b[0;34m,\u001b[0m\u001b[0;34m\u001b[0m\u001b[0m\n\u001b[1;32m     24\u001b[0m             )\n\u001b[0;32m---> 25\u001b[0;31m         \u001b[0mresult\u001b[0m \u001b[0;34m=\u001b[0m \u001b[0mtopleveltools\u001b[0m\u001b[0;34m.\u001b[0m\u001b[0mpersist\u001b[0m\u001b[0;34m(\u001b[0m\u001b[0mexpr\u001b[0m\u001b[0;34m)\u001b[0m\u001b[0;34m.\u001b[0m\u001b[0mas_png\u001b[0m\u001b[0;34m(\u001b[0m\u001b[0mtemporary_file_path\u001b[0m\u001b[0;34m)\u001b[0m\u001b[0;34m\u001b[0m\u001b[0m\n\u001b[0m\u001b[1;32m     26\u001b[0m         \u001b[0mpngs\u001b[0m \u001b[0;34m=\u001b[0m \u001b[0;34m[\u001b[0m\u001b[0;34m]\u001b[0m\u001b[0;34m\u001b[0m\u001b[0m\n\u001b[1;32m     27\u001b[0m         \u001b[0;32mfor\u001b[0m \u001b[0mfile_path\u001b[0m \u001b[0;32min\u001b[0m \u001b[0mresult\u001b[0m\u001b[0;34m[\u001b[0m\u001b[0;36m0\u001b[0m\u001b[0;34m]\u001b[0m\u001b[0;34m:\u001b[0m\u001b[0;34m\u001b[0m\u001b[0m\n",
      "\u001b[0;32m/Users/gram/anaconda/envs/nikola/lib/python3.5/site-packages/abjad/tools/agenttools/PersistenceAgent.py\u001b[0m in \u001b[0;36mas_png\u001b[0;34m(self, png_file_path, remove_ly, illustrate_function, **kwargs)\u001b[0m\n\u001b[1;32m    340\u001b[0m             \u001b[0mly_file_path\u001b[0m\u001b[0;34m,\u001b[0m\u001b[0;34m\u001b[0m\u001b[0m\n\u001b[1;32m    341\u001b[0m             \u001b[0millustrate_function\u001b[0m\u001b[0;34m=\u001b[0m\u001b[0millustrate_function\u001b[0m\u001b[0;34m,\u001b[0m\u001b[0;34m\u001b[0m\u001b[0m\n\u001b[0;32m--> 342\u001b[0;31m             \u001b[0;34m**\u001b[0m\u001b[0mkwargs\u001b[0m\u001b[0;34m\u001b[0m\u001b[0m\n\u001b[0m\u001b[1;32m    343\u001b[0m             )\n\u001b[1;32m    344\u001b[0m \u001b[0;34m\u001b[0m\u001b[0m\n",
      "\u001b[0;32m/Users/gram/anaconda/envs/nikola/lib/python3.5/site-packages/abjad/tools/agenttools/PersistenceAgent.py\u001b[0m in \u001b[0;36mas_ly\u001b[0;34m(self, ly_file_path, candidacy, illustrate_function, **kwargs)\u001b[0m\n\u001b[1;32m     86\u001b[0m             \u001b[0;32massert\u001b[0m \u001b[0;34m'__illustrate__'\u001b[0m \u001b[0;32min\u001b[0m \u001b[0mdir\u001b[0m\u001b[0;34m(\u001b[0m\u001b[0mself\u001b[0m\u001b[0;34m.\u001b[0m\u001b[0m_client\u001b[0m\u001b[0;34m)\u001b[0m\u001b[0;34m\u001b[0m\u001b[0m\n\u001b[1;32m     87\u001b[0m             \u001b[0millustrate_function\u001b[0m \u001b[0;34m=\u001b[0m \u001b[0mself\u001b[0m\u001b[0;34m.\u001b[0m\u001b[0m_client\u001b[0m\u001b[0;34m.\u001b[0m\u001b[0m__illustrate__\u001b[0m\u001b[0;34m\u001b[0m\u001b[0m\n\u001b[0;32m---> 88\u001b[0;31m         \u001b[0millustration\u001b[0m \u001b[0;34m=\u001b[0m \u001b[0millustrate_function\u001b[0m\u001b[0;34m(\u001b[0m\u001b[0;34m**\u001b[0m\u001b[0mkwargs\u001b[0m\u001b[0;34m)\u001b[0m\u001b[0;34m\u001b[0m\u001b[0m\n\u001b[0m\u001b[1;32m     89\u001b[0m         \u001b[0;32mif\u001b[0m \u001b[0mly_file_path\u001b[0m \u001b[0;32mis\u001b[0m \u001b[0;32mNone\u001b[0m\u001b[0;34m:\u001b[0m\u001b[0;34m\u001b[0m\u001b[0m\n\u001b[1;32m     90\u001b[0m             \u001b[0mly_file_name\u001b[0m \u001b[0;34m=\u001b[0m \u001b[0msystemtools\u001b[0m\u001b[0;34m.\u001b[0m\u001b[0mIOManager\u001b[0m\u001b[0;34m.\u001b[0m\u001b[0mget_next_output_file_name\u001b[0m\u001b[0;34m(\u001b[0m\u001b[0;34m)\u001b[0m\u001b[0;34m\u001b[0m\u001b[0m\n",
      "\u001b[0;32m/Users/gram/anaconda/envs/nikola/lib/python3.5/site-packages/abjad/tools/scoretools/Component.py\u001b[0m in \u001b[0;36m__illustrate__\u001b[0;34m(self)\u001b[0m\n\u001b[1;32m    115\u001b[0m         \u001b[0;32mfrom\u001b[0m \u001b[0mabjad\u001b[0m\u001b[0;34m.\u001b[0m\u001b[0mtools\u001b[0m \u001b[0;32mimport\u001b[0m \u001b[0mlilypondfiletools\u001b[0m\u001b[0;34m\u001b[0m\u001b[0m\n\u001b[1;32m    116\u001b[0m         \u001b[0;32mfrom\u001b[0m \u001b[0mabjad\u001b[0m\u001b[0;34m.\u001b[0m\u001b[0mtools\u001b[0m \u001b[0;32mimport\u001b[0m \u001b[0mmarkuptools\u001b[0m\u001b[0;34m\u001b[0m\u001b[0m\n\u001b[0;32m--> 117\u001b[0;31m         \u001b[0mlilypond_file\u001b[0m \u001b[0;34m=\u001b[0m \u001b[0mlilypondfiletools\u001b[0m\u001b[0;34m.\u001b[0m\u001b[0mmake_basic_lilypond_file\u001b[0m\u001b[0;34m(\u001b[0m\u001b[0mself\u001b[0m\u001b[0;34m)\u001b[0m\u001b[0;34m\u001b[0m\u001b[0m\n\u001b[0m\u001b[1;32m    118\u001b[0m         \u001b[0mlilypond_file\u001b[0m\u001b[0;34m.\u001b[0m\u001b[0mheader_block\u001b[0m\u001b[0;34m.\u001b[0m\u001b[0mtagline\u001b[0m \u001b[0;34m=\u001b[0m \u001b[0mmarkuptools\u001b[0m\u001b[0;34m.\u001b[0m\u001b[0mMarkup\u001b[0m\u001b[0;34m(\u001b[0m\u001b[0;34m'\"\"'\u001b[0m\u001b[0;34m)\u001b[0m\u001b[0;34m\u001b[0m\u001b[0m\n\u001b[1;32m    119\u001b[0m         \u001b[0;32mreturn\u001b[0m \u001b[0mlilypond_file\u001b[0m\u001b[0;34m\u001b[0m\u001b[0m\n",
      "\u001b[0;32m/Users/gram/anaconda/envs/nikola/lib/python3.5/site-packages/abjad/tools/lilypondfiletools/make_basic_lilypond_file.py\u001b[0m in \u001b[0;36mmake_basic_lilypond_file\u001b[0;34m(music)\u001b[0m\n\u001b[1;32m     61\u001b[0m     \u001b[0;32mif\u001b[0m \u001b[0misinstance\u001b[0m\u001b[0;34m(\u001b[0m\u001b[0mmusic\u001b[0m\u001b[0;34m,\u001b[0m \u001b[0mlilypondfiletools\u001b[0m\u001b[0;34m.\u001b[0m\u001b[0mLilyPondFile\u001b[0m\u001b[0;34m)\u001b[0m\u001b[0;34m:\u001b[0m\u001b[0;34m\u001b[0m\u001b[0m\n\u001b[1;32m     62\u001b[0m         \u001b[0;32mreturn\u001b[0m \u001b[0mmusic\u001b[0m\u001b[0;34m\u001b[0m\u001b[0m\n\u001b[0;32m---> 63\u001b[0;31m     \u001b[0mlilypond_file\u001b[0m \u001b[0;34m=\u001b[0m \u001b[0mlilypondfiletools\u001b[0m\u001b[0;34m.\u001b[0m\u001b[0mLilyPondFile\u001b[0m\u001b[0;34m(\u001b[0m\u001b[0;34m)\u001b[0m\u001b[0;34m\u001b[0m\u001b[0m\n\u001b[0m\u001b[1;32m     64\u001b[0m     \u001b[0mheader_block\u001b[0m \u001b[0;34m=\u001b[0m \u001b[0mlilypondfiletools\u001b[0m\u001b[0;34m.\u001b[0m\u001b[0mBlock\u001b[0m\u001b[0;34m(\u001b[0m\u001b[0mname\u001b[0m\u001b[0;34m=\u001b[0m\u001b[0;34m'header'\u001b[0m\u001b[0;34m)\u001b[0m\u001b[0;34m\u001b[0m\u001b[0m\n\u001b[1;32m     65\u001b[0m     \u001b[0mlayout_block\u001b[0m \u001b[0;34m=\u001b[0m \u001b[0mlilypondfiletools\u001b[0m\u001b[0;34m.\u001b[0m\u001b[0mBlock\u001b[0m\u001b[0;34m(\u001b[0m\u001b[0mname\u001b[0m\u001b[0;34m=\u001b[0m\u001b[0;34m'layout'\u001b[0m\u001b[0;34m)\u001b[0m\u001b[0;34m\u001b[0m\u001b[0m\n",
      "\u001b[0;32m/Users/gram/anaconda/envs/nikola/lib/python3.5/site-packages/abjad/tools/lilypondfiletools/LilyPondFile.py\u001b[0m in \u001b[0;36m__init__\u001b[0;34m(self)\u001b[0m\n\u001b[1;32m     80\u001b[0m         \u001b[0mself\u001b[0m\u001b[0;34m.\u001b[0m\u001b[0m_file_initial_user_comments\u001b[0m \u001b[0;34m=\u001b[0m \u001b[0;34m[\u001b[0m\u001b[0;34m]\u001b[0m\u001b[0;34m\u001b[0m\u001b[0m\n\u001b[1;32m     81\u001b[0m         \u001b[0mself\u001b[0m\u001b[0;34m.\u001b[0m\u001b[0m_file_initial_system_includes\u001b[0m \u001b[0;34m=\u001b[0m \u001b[0;34m[\u001b[0m\u001b[0;34m]\u001b[0m\u001b[0;34m\u001b[0m\u001b[0m\n\u001b[0;32m---> 82\u001b[0;31m         \u001b[0mtoken\u001b[0m \u001b[0;34m=\u001b[0m \u001b[0mlilypondfiletools\u001b[0m\u001b[0;34m.\u001b[0m\u001b[0mLilyPondVersionToken\u001b[0m\u001b[0;34m(\u001b[0m\u001b[0;34m)\u001b[0m\u001b[0;34m\u001b[0m\u001b[0m\n\u001b[0m\u001b[1;32m     83\u001b[0m         \u001b[0mself\u001b[0m\u001b[0;34m.\u001b[0m\u001b[0m_file_initial_system_includes\u001b[0m\u001b[0;34m.\u001b[0m\u001b[0mappend\u001b[0m\u001b[0;34m(\u001b[0m\u001b[0mtoken\u001b[0m\u001b[0;34m)\u001b[0m\u001b[0;34m\u001b[0m\u001b[0m\n\u001b[1;32m     84\u001b[0m         \u001b[0mtoken\u001b[0m \u001b[0;34m=\u001b[0m \u001b[0mlilypondfiletools\u001b[0m\u001b[0;34m.\u001b[0m\u001b[0mLilyPondLanguageToken\u001b[0m\u001b[0;34m(\u001b[0m\u001b[0;34m)\u001b[0m\u001b[0;34m\u001b[0m\u001b[0m\n",
      "\u001b[0;32m/Users/gram/anaconda/envs/nikola/lib/python3.5/site-packages/abjad/tools/lilypondfiletools/LilyPondVersionToken.py\u001b[0m in \u001b[0;36m__init__\u001b[0;34m(self, version_string)\u001b[0m\n\u001b[1;32m     27\u001b[0m         \u001b[0;32massert\u001b[0m \u001b[0misinstance\u001b[0m\u001b[0;34m(\u001b[0m\u001b[0mversion_string\u001b[0m\u001b[0;34m,\u001b[0m \u001b[0;34m(\u001b[0m\u001b[0mstr\u001b[0m\u001b[0;34m,\u001b[0m \u001b[0mtype\u001b[0m\u001b[0;34m(\u001b[0m\u001b[0;32mNone\u001b[0m\u001b[0;34m)\u001b[0m\u001b[0;34m)\u001b[0m\u001b[0;34m)\u001b[0m\u001b[0;34m\u001b[0m\u001b[0m\n\u001b[1;32m     28\u001b[0m         \u001b[0;32mif\u001b[0m \u001b[0mversion_string\u001b[0m \u001b[0;32mis\u001b[0m \u001b[0;32mNone\u001b[0m\u001b[0;34m:\u001b[0m\u001b[0;34m\u001b[0m\u001b[0m\n\u001b[0;32m---> 29\u001b[0;31m             \u001b[0mversion_string\u001b[0m \u001b[0;34m=\u001b[0m \u001b[0mabjad_configuration\u001b[0m\u001b[0;34m.\u001b[0m\u001b[0mget_lilypond_version_string\u001b[0m\u001b[0;34m(\u001b[0m\u001b[0;34m)\u001b[0m\u001b[0;34m\u001b[0m\u001b[0m\n\u001b[0m\u001b[1;32m     30\u001b[0m         \u001b[0mself\u001b[0m\u001b[0;34m.\u001b[0m\u001b[0m_version_string\u001b[0m \u001b[0;34m=\u001b[0m \u001b[0mversion_string\u001b[0m\u001b[0;34m\u001b[0m\u001b[0m\n\u001b[1;32m     31\u001b[0m \u001b[0;34m\u001b[0m\u001b[0m\n",
      "\u001b[0;32m/Users/gram/anaconda/envs/nikola/lib/python3.5/site-packages/abjad/tools/systemtools/AbjadConfiguration.py\u001b[0m in \u001b[0;36mget_lilypond_version_string\u001b[0;34m()\u001b[0m\n\u001b[1;32m    211\u001b[0m         '''\n\u001b[1;32m    212\u001b[0m         \u001b[0;32mfrom\u001b[0m \u001b[0mabjad\u001b[0m \u001b[0;32mimport\u001b[0m \u001b[0mabjad_configuration\u001b[0m\u001b[0;34m\u001b[0m\u001b[0m\n\u001b[0;32m--> 213\u001b[0;31m         \u001b[0;32mif\u001b[0m \u001b[0msubprocess\u001b[0m\u001b[0;34m.\u001b[0m\u001b[0mmswindows\u001b[0m \u001b[0;32mand\u001b[0m \u001b[0;32mnot\u001b[0m \u001b[0;34m'LilyPond'\u001b[0m \u001b[0;32min\u001b[0m \u001b[0mos\u001b[0m\u001b[0;34m.\u001b[0m\u001b[0menviron\u001b[0m\u001b[0;34m.\u001b[0m\u001b[0mget\u001b[0m\u001b[0;34m(\u001b[0m\u001b[0;34m'PATH'\u001b[0m\u001b[0;34m)\u001b[0m\u001b[0;34m:\u001b[0m\u001b[0;34m\u001b[0m\u001b[0m\n\u001b[0m\u001b[1;32m    214\u001b[0m             \u001b[0mcommand\u001b[0m \u001b[0;34m=\u001b[0m \u001b[0;34mr'dir \"C:\\Program Files\\*.exe\" /s /b | find \"lilypond.exe\"'\u001b[0m\u001b[0;34m\u001b[0m\u001b[0m\n\u001b[1;32m    215\u001b[0m             \u001b[0mproc\u001b[0m \u001b[0;34m=\u001b[0m \u001b[0msubprocess\u001b[0m\u001b[0;34m.\u001b[0m\u001b[0mPopen\u001b[0m\u001b[0;34m(\u001b[0m\u001b[0mcommand\u001b[0m\u001b[0;34m,\u001b[0m \u001b[0mshell\u001b[0m\u001b[0;34m=\u001b[0m\u001b[0;32mTrue\u001b[0m\u001b[0;34m,\u001b[0m \u001b[0mstdout\u001b[0m\u001b[0;34m=\u001b[0m\u001b[0msubprocess\u001b[0m\u001b[0;34m.\u001b[0m\u001b[0mPIPE\u001b[0m\u001b[0;34m)\u001b[0m\u001b[0;34m\u001b[0m\u001b[0m\n",
      "\u001b[0;31mAttributeError\u001b[0m: module 'subprocess' has no attribute 'mswindows'"
     ]
    }
   ],
   "source": [
    "duration = Duration(1, 4)\n",
    "notes = [Note(pitch, duration) for pitch in range(8)]\n",
    "staff = Staff(notes)\n",
    "show(staff)"
   ]
  },
  {
   "cell_type": "markdown",
   "metadata": {},
   "source": [
    "Well, that didn't go so well. It turns out Abjad releases aren't that frequent, and while this issue was fixed over six months ago (https://github.com/Abjad/abjad/issues/526) it hasn't made it into an official release yet (Abjad 2.16 as I write this). If you are using Python 3.4 or earlier this isn't a problem; its a Python 3.5 change.\n",
    "\n",
    "So let's try get the bleeding edge version:"
   ]
  },
  {
   "cell_type": "code",
   "execution_count": 1,
   "metadata": {},
   "outputs": [
    {
     "name": "stdout",
     "output_type": "stream",
     "text": [
      "Processing /Users/gram/abjad\n",
      "Requirement already up-to-date: ply in /Users/gram/anaconda/envs/nikola/lib/python3.5/site-packages (from Abjad==2.16)\n",
      "Requirement already up-to-date: six in /Users/gram/anaconda/envs/nikola/lib/python3.5/site-packages (from Abjad==2.16)\n",
      "Installing collected packages: Abjad\n",
      "  Found existing installation: Abjad 2.16\n",
      "    Uninstalling Abjad-2.16:\n",
      "      Successfully uninstalled Abjad-2.16\n",
      "  Running setup.py install for Abjad: started\n",
      "    Running setup.py install for Abjad: finished with status 'done'\n",
      "Successfully installed Abjad-2.16\n"
     ]
    },
    {
     "name": "stderr",
     "output_type": "stream",
     "text": [
      "Cloning into 'abjad'...\n",
      "Checking out files:  20% (553/2651)   \r",
      "Checking out files:  21% (557/2651)   \r",
      "Checking out files:  22% (584/2651)   \r",
      "Checking out files:  23% (610/2651)   \r",
      "Checking out files:  24% (637/2651)   \r",
      "Checking out files:  25% (663/2651)   \r",
      "Checking out files:  26% (690/2651)   \r",
      "Checking out files:  27% (716/2651)   \r",
      "Checking out files:  28% (743/2651)   \r",
      "Checking out files:  29% (769/2651)   \r",
      "Checking out files:  30% (796/2651)   \r",
      "Checking out files:  31% (822/2651)   \r",
      "Checking out files:  32% (849/2651)   \r",
      "Checking out files:  33% (875/2651)   \r",
      "Checking out files:  34% (902/2651)   \r",
      "Checking out files:  35% (928/2651)   \r",
      "Checking out files:  36% (955/2651)   \r",
      "Checking out files:  37% (981/2651)   \r",
      "Checking out files:  38% (1008/2651)   \r",
      "Checking out files:  39% (1034/2651)   \r",
      "Checking out files:  40% (1061/2651)   \r",
      "Checking out files:  41% (1087/2651)   \r",
      "Checking out files:  42% (1114/2651)   \r",
      "Checking out files:  43% (1140/2651)   \r",
      "Checking out files:  44% (1167/2651)   \r",
      "Checking out files:  45% (1193/2651)   \r",
      "Checking out files:  46% (1220/2651)   \r",
      "Checking out files:  47% (1246/2651)   \r",
      "Checking out files:  48% (1273/2651)   \r",
      "Checking out files:  49% (1299/2651)   \r",
      "Checking out files:  50% (1326/2651)   \r",
      "Checking out files:  51% (1353/2651)   \r",
      "Checking out files:  52% (1379/2651)   \r",
      "Checking out files:  53% (1406/2651)   \r",
      "Checking out files:  54% (1432/2651)   \r",
      "Checking out files:  55% (1459/2651)   \r",
      "Checking out files:  56% (1485/2651)   \r",
      "Checking out files:  57% (1512/2651)   \r",
      "Checking out files:  58% (1538/2651)   \r",
      "Checking out files:  59% (1565/2651)   \r",
      "Checking out files:  60% (1591/2651)   \r",
      "Checking out files:  61% (1618/2651)   \r",
      "Checking out files:  62% (1644/2651)   \r",
      "Checking out files:  63% (1671/2651)   \r",
      "Checking out files:  64% (1697/2651)   \r",
      "Checking out files:  65% (1724/2651)   \r",
      "Checking out files:  66% (1750/2651)   \r",
      "Checking out files:  67% (1777/2651)   \r",
      "Checking out files:  68% (1803/2651)   \r",
      "Checking out files:  69% (1830/2651)   \r",
      "Checking out files:  70% (1856/2651)   \r",
      "Checking out files:  71% (1883/2651)   \r",
      "Checking out files:  72% (1909/2651)   \r",
      "Checking out files:  73% (1936/2651)   \r",
      "Checking out files:  74% (1962/2651)   \r",
      "Checking out files:  75% (1989/2651)   \r",
      "Checking out files:  76% (2015/2651)   \r",
      "Checking out files:  77% (2042/2651)   \r",
      "Checking out files:  78% (2068/2651)   \r",
      "Checking out files:  79% (2095/2651)   \r",
      "Checking out files:  80% (2121/2651)   \r",
      "Checking out files:  81% (2148/2651)   \r",
      "Checking out files:  82% (2174/2651)   \r",
      "Checking out files:  83% (2201/2651)   \r",
      "Checking out files:  84% (2227/2651)   \r",
      "Checking out files:  85% (2254/2651)   \r",
      "Checking out files:  86% (2280/2651)   \r",
      "Checking out files:  87% (2307/2651)   \r",
      "Checking out files:  88% (2333/2651)   \r",
      "Checking out files:  89% (2360/2651)   \r",
      "Checking out files:  90% (2386/2651)   \r",
      "Checking out files:  91% (2413/2651)   \r",
      "Checking out files:  92% (2439/2651)   \r",
      "Checking out files:  93% (2466/2651)   \r",
      "Checking out files:  94% (2492/2651)   \r",
      "Checking out files:  95% (2519/2651)   \r",
      "Checking out files:  96% (2545/2651)   \r",
      "Checking out files:  97% (2572/2651)   \r",
      "Checking out files:  98% (2598/2651)   \r",
      "Checking out files:  99% (2625/2651)   \r",
      "Checking out files: 100% (2651/2651)   \r",
      "Checking out files: 100% (2651/2651), done.\n"
     ]
    }
   ],
   "source": [
    "%%bash\n",
    "\n",
    "cd ~\n",
    "git clone https://github.com/Abjad/abjad.git\n",
    "cd abjad \n",
    "pip install --upgrade .\n"
   ]
  },
  {
   "cell_type": "markdown",
   "metadata": {},
   "source": [
    "Once that is done, after a kernel reset in Jupyter we can try again:\n"
   ]
  },
  {
   "cell_type": "code",
   "execution_count": 1,
   "metadata": {
    "collapsed": true
   },
   "outputs": [],
   "source": [
    "%load_ext abjad.ext.ipython"
   ]
  },
  {
   "cell_type": "code",
   "execution_count": 2,
   "metadata": {
    "collapsed": true
   },
   "outputs": [],
   "source": [
    "from abjad import *"
   ]
  },
  {
   "cell_type": "code",
   "execution_count": 5,
   "metadata": {},
   "outputs": [],
   "source": [
    "duration = Duration(1, 4)\n",
    "notes = [Note(pitch, duration) for pitch in range(8)]\n",
    "staff = Staff(notes)\n",
    "show(staff)"
   ]
  },
  {
   "cell_type": "markdown",
   "metadata": {},
   "source": [
    "Unfortunately, no output was produced. We can look at the source of the `show()` method by executing `show??` in a cell. I've done that and am going to execute the same code in more detail below. First the part that should generate a PNG in a temporary file:"
   ]
  },
  {
   "cell_type": "code",
   "execution_count": 13,
   "metadata": {},
   "outputs": [
    {
     "name": "stdout",
     "output_type": "stream",
     "text": [
      "/var/folders/rf/zdnznzn15_l5q5x64pyd7b7m0000gq/T/tmp4vq93m6l/output.png\n",
      "((), 0.006474018096923828, 0.5328137874603271, False)\n"
     ]
    }
   ],
   "source": [
    "from abjad.tools import systemtools\n",
    "from abjad.tools import topleveltools\n",
    "from IPython.core.display import display_png\n",
    "import os\n",
    "import tempfile\n",
    "\n",
    "expr = staff\n",
    "\n",
    "temporary_directory = tempfile.mkdtemp()\n",
    "temporary_file_path = os.path.join(\n",
    "    temporary_directory,\n",
    "    'output.png',\n",
    ")\n",
    "result = topleveltools.persist(expr).as_png(temporary_file_path)\n",
    "print(temporary_file_path)\n",
    "print(result)"
   ]
  },
  {
   "cell_type": "markdown",
   "metadata": {},
   "source": [
    "Looking at that temporary folder, I see a '.ly' file but no .png. So it seems that this line:\n",
    "\n",
    "    result = topleveltools.persist(expr).as_png(temporary_file_path)\n",
    "    \n",
    "is not working. Let's break that down:"
   ]
  },
  {
   "cell_type": "code",
   "execution_count": 17,
   "metadata": {},
   "outputs": [
    {
     "name": "stdout",
     "output_type": "stream",
     "text": [
      "PersistenceAgent(client=Staff(\"c'4 cs'4 d'4 ef'4 e'4 f'4 fs'4 g'4\"))\n"
     ]
    }
   ],
   "source": [
    "x = topleveltools.persist(expr)\n",
    "print (x)"
   ]
  },
  {
   "cell_type": "markdown",
   "metadata": {},
   "source": [
    "That looks okay. What about the next step? If we look at that `as_png` function we see it returns the path, the lapsed formatting and rendering times, and a flag for success. We saw ((), 0.006474018096923828, 0.5328137874603271, False) as the output so success was False. I still have the .ly file around and it looks like what is failing is:"
   ]
  },
  {
   "cell_type": "code",
   "execution_count": 20,
   "metadata": {},
   "outputs": [
    {
     "data": {
      "text/plain": [
       "False"
      ]
     },
     "execution_count": 20,
     "metadata": {},
     "output_type": "execute_result"
    }
   ],
   "source": [
    "systemtools.IOManager.run_lilypond('/var/folders/rf/zdnznzn15_l5q5x64pyd7b7m0000gq/T/tmp4vq93m6l/output.ly', flags='--png')"
   ]
  },
  {
   "cell_type": "markdown",
   "metadata": {},
   "source": [
    "So indeed that is the failure. If we look at its source with `systemtools.IOManager.run_lilypond??`:\n",
    "\n",
    "\n",
    "    @staticmethod\n",
    "    def run_lilypond(ly_path, flags=None, lilypond_path=None):\n",
    "        r'''Runs LilyPond on `ly_path`.\n",
    "\n",
    "        Writes redirected output of Unix ``date`` to top line of LilyPond log\n",
    "        file.\n",
    "\n",
    "        Then appends redirected output of LilyPond output to the LilyPond log\n",
    "        file.\n",
    "\n",
    "        Returns none.\n",
    "        '''\n",
    "        from abjad import abjad_configuration\n",
    "        from abjad.tools import stringtools\n",
    "        from abjad.tools import systemtools\n",
    "        if not lilypond_path:\n",
    "            lilypond_path = abjad_configuration['lilypond_path']\n",
    "            if not lilypond_path:\n",
    "                lilypond_path = 'lilypond'\n",
    "        lilypond_base, extension = os.path.splitext(ly_path)\n",
    "        pdf_path = ly_path.replace('.ly', '.pdf')\n",
    "        if flags:\n",
    "            command = 'date > {};'\n",
    "            command += ' {} {} -dno-point-and-click -o {} {} >> {} 2>&1'\n",
    "            command = command.format(\n",
    "                abjad_configuration.lilypond_log_file_path,\n",
    "                lilypond_path,\n",
    "                flags,\n",
    "                lilypond_base,\n",
    "                ly_path,\n",
    "                abjad_configuration.lilypond_log_file_path,\n",
    "                )\n",
    "        else:\n",
    "            command = 'date > {}; {} -dno-point-and-click -o {} {} >> {} 2>&1'\n",
    "            command = command.format(\n",
    "                abjad_configuration.lilypond_log_file_path,\n",
    "                lilypond_path,\n",
    "                lilypond_base,\n",
    "                ly_path,\n",
    "                abjad_configuration.lilypond_log_file_path,\n",
    "                )\n",
    "        if not os.path.exists(pdf_path):\n",
    "            exit_code = IOManager.spawn_subprocess(command)\n",
    "            postscript_path = ly_path.replace('.ly', '.ps')\n",
    "            try:\n",
    "                os.remove(postscript_path)\n",
    "            except OSError:\n",
    "                pass\n",
    "            if exit_code:\n",
    "                return False\n",
    "            return True\n",
    "\n",
    "\n",
    "we can see that it writes to a log file, with a path given by abjad_configuration.lilypond_log_file_path. Let's look at that:"
   ]
  },
  {
   "cell_type": "code",
   "execution_count": 22,
   "metadata": {},
   "outputs": [
    {
     "data": {
      "text/plain": [
       "'/Users/gram/.abjad/output/lily.log'"
      ]
     },
     "execution_count": 22,
     "metadata": {},
     "output_type": "execute_result"
    }
   ],
   "source": [
    "abjad_configuration.lilypond_log_file_path"
   ]
  },
  {
   "cell_type": "code",
   "execution_count": 23,
   "metadata": {},
   "outputs": [
    {
     "name": "stdout",
     "output_type": "stream",
     "text": [
      "Preprocessing graphical objects...\n",
      "Finding the ideal number of pages...\n",
      "Fitting music on 1 page...\n",
      "Drawing systems...\n",
      "Layout output to `output.ps'...\n",
      "Converting to PNG...dyld: Library not loaded: ./bin/../sobin/libgs.8.70.dylib\n",
      "  Referenced from: /Applications/LilyPond.app/Contents/Resources/bin/../bin/gs\n",
      "  Reason: image not found\n",
      "\n",
      "fatal error: GS exited with status: 5\n"
     ]
    }
   ],
   "source": [
    "%%bash\n",
    "tail '/Users/gram/.abjad/output/lily.log'"
   ]
  },
  {
   "cell_type": "markdown",
   "metadata": {},
   "source": [
    "If you do a Google search for that error, you will find its been reported, and there is a workaround, which is:"
   ]
  },
  {
   "cell_type": "code",
   "execution_count": 25,
   "metadata": {},
   "outputs": [],
   "source": [
    "%%bash\n",
    "cd /Applications/LilyPond.app/Contents/Resources/bin\n",
    "install_name_tool -change ./bin/../sobin/libgs.8.70.dylib @executable_path/../lib/libgs.8.70.dylib gs"
   ]
  },
  {
   "cell_type": "markdown",
   "metadata": {},
   "source": [
    "Let's try again:"
   ]
  },
  {
   "cell_type": "code",
   "execution_count": 28,
   "metadata": {},
   "outputs": [
    {
     "data": {
      "image/png": "[encoded data removed]"
     },
     "metadata": {},
     "output_type": "display_data"
    }
   ],
   "source": [
    "show(staff)"
   ]
  },
  {
   "cell_type": "markdown",
   "metadata": {},
   "source": [
    "Success! But what about tablature? It turns out that Lilypond uses a variant of Staff called TabStaff for tablature. Abjad does not have a TabStaff class but does allow you to override the tag used for a staff with a `context_name` argument:"
   ]
  },
  {
   "cell_type": "code",
   "execution_count": 29,
   "metadata": {},
   "outputs": [
    {
     "data": {
      "image/png": "[encoded data removed]"
     },
     "metadata": {},
     "output_type": "display_data"
    }
   ],
   "source": [
    "staff = Staff(notes, context_name='TabStaff')\n",
    "show(staff)"
   ]
  },
  {
   "cell_type": "markdown",
   "metadata": {},
   "source": [
    "There are a few things left I'd like to do, and I will update this post if I figure them out. First there is a lot of blank space around the output it would be nice to be rid of. Secondly I want to do guitar chord diagrams. My understanding is that these can be done in Lilypond with a tag `\\fret-diagram-terse` but Abjad doesn't seem to support this so I will need to figure out how to extend it to support that. Watch this space.\n"
   ]
  },
  {
   "cell_type": "code",
   "execution_count": null,
   "metadata": {},
   "outputs": [],
   "source": []
  }
 ],
 "metadata": {
  "kernelspec": {
   "display_name": "Python 3",
   "language": "python",
   "name": "python3"
  },
  "language_info": {
   "codemirror_mode": {
    "name": "ipython",
    "version": 3
   },
   "file_extension": ".py",
   "mimetype": "text/x-python",
   "name": "python",
   "nbconvert_exporter": "python",
   "pygments_lexer": "ipython3",
   "version": "3.6.3"
  }
 },
 "nbformat": 4,
 "nbformat_minor": 1
}
